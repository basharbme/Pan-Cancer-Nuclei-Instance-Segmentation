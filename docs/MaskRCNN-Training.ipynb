{
 "cells": [
  {
   "cell_type": "markdown",
   "metadata": {
    "papermill": {
     "duration": 0.014977,
     "end_time": "2022-05-08T16:15:24.403790",
     "exception": false,
     "start_time": "2022-05-08T16:15:24.388813",
     "status": "completed"
    },
    "tags": []
   },
   "source": [
    "# Import libraries"
   ]
  },
  {
   "cell_type": "code",
   "execution_count": 1,
   "metadata": {
    "execution": {
     "iopub.execute_input": "2022-05-08T16:15:24.438191Z",
     "iopub.status.busy": "2022-05-08T16:15:24.437258Z",
     "iopub.status.idle": "2022-05-08T16:15:24.737045Z",
     "shell.execute_reply": "2022-05-08T16:15:24.736177Z",
     "shell.execute_reply.started": "2022-05-08T13:41:35.176998Z"
    },
    "papermill": {
     "duration": 0.319952,
     "end_time": "2022-05-08T16:15:24.737181",
     "exception": false,
     "start_time": "2022-05-08T16:15:24.417229",
     "status": "completed"
    },
    "tags": []
   },
   "outputs": [],
   "source": [
    "import os\n",
    "import sys\n",
    "import random\n",
    "import math\n",
    "import re\n",
    "import time\n",
    "import numpy as np\n",
    "import json\n",
    "import cv2\n",
    "import matplotlib\n",
    "import matplotlib.pyplot as plt\n",
    "import scipy\n",
    "import warnings\n",
    "import shutil\n",
    "import random\n",
    "\n",
    "from PIL import Image\n",
    "from tqdm import tqdm"
   ]
  },
  {
   "cell_type": "markdown",
   "metadata": {
    "papermill": {
     "duration": 0.013449,
     "end_time": "2022-05-08T16:15:24.766417",
     "exception": false,
     "start_time": "2022-05-08T16:15:24.752968",
     "status": "completed"
    },
    "tags": []
   },
   "source": [
    "# Install MMDetection"
   ]
  },
  {
   "cell_type": "code",
   "execution_count": 2,
   "metadata": {
    "execution": {
     "iopub.execute_input": "2022-05-08T16:15:24.803342Z",
     "iopub.status.busy": "2022-05-08T16:15:24.802433Z",
     "iopub.status.idle": "2022-05-08T16:15:27.933030Z",
     "shell.execute_reply": "2022-05-08T16:15:27.933910Z",
     "shell.execute_reply.started": "2022-05-08T13:41:36.156470Z"
    },
    "papermill": {
     "duration": 3.154048,
     "end_time": "2022-05-08T16:15:27.934145",
     "exception": false,
     "start_time": "2022-05-08T16:15:24.780097",
     "status": "completed"
    },
    "tags": []
   },
   "outputs": [
    {
     "name": "stdout",
     "output_type": "stream",
     "text": [
      "nvcc: NVIDIA (R) Cuda compiler driver\r\n",
      "Copyright (c) 2005-2019 NVIDIA Corporation\r\n",
      "Built on Sun_Jul_28_19:07:16_PDT_2019\r\n",
      "Cuda compilation tools, release 10.1, V10.1.243\r\n",
      "gcc (Ubuntu 7.5.0-3ubuntu1~18.04) 7.5.0\r\n",
      "Copyright (C) 2017 Free Software Foundation, Inc.\r\n",
      "This is free software; see the source for copying conditions.  There is NO\r\n",
      "warranty; not even for MERCHANTABILITY or FITNESS FOR A PARTICULAR PURPOSE.\r\n",
      "\r\n",
      "1.6.0\n"
     ]
    }
   ],
   "source": [
    "# Check nvcc version\n",
    "!nvcc -V\n",
    "# Check GCC version\n",
    "!gcc --version\n",
    "\n",
    "# Check Pytorch installation\n",
    "import torch\n",
    "print(torch.__version__)"
   ]
  },
  {
   "cell_type": "code",
   "execution_count": 3,
   "metadata": {
    "execution": {
     "iopub.execute_input": "2022-05-08T16:15:27.972429Z",
     "iopub.status.busy": "2022-05-08T16:15:27.971489Z",
     "iopub.status.idle": "2022-05-08T16:15:41.962007Z",
     "shell.execute_reply": "2022-05-08T16:15:41.962929Z",
     "shell.execute_reply.started": "2022-05-08T13:41:41.906643Z"
    },
    "papermill": {
     "duration": 14.011983,
     "end_time": "2022-05-08T16:15:41.963098",
     "exception": false,
     "start_time": "2022-05-08T16:15:27.951115",
     "status": "completed"
    },
    "tags": []
   },
   "outputs": [
    {
     "name": "stdout",
     "output_type": "stream",
     "text": [
      "Collecting pip\r\n",
      "  Downloading pip-22.0.4-py3-none-any.whl (2.1 MB)\r\n",
      "\u001b[K     |████████████████████████████████| 2.1 MB 624 kB/s \r\n",
      "\u001b[?25hInstalling collected packages: pip\r\n",
      "  Attempting uninstall: pip\r\n",
      "    Found existing installation: pip 20.2.3\r\n",
      "    Uninstalling pip-20.2.3:\r\n",
      "      Successfully uninstalled pip-20.2.3\r\n",
      "Successfully installed pip-22.0.4\r\n"
     ]
    }
   ],
   "source": [
    "!python -m pip install --upgrade pip"
   ]
  },
  {
   "cell_type": "code",
   "execution_count": 4,
   "metadata": {
    "_kg_hide-output": true,
    "execution": {
     "iopub.execute_input": "2022-05-08T16:15:42.035554Z",
     "iopub.status.busy": "2022-05-08T16:15:42.025760Z",
     "iopub.status.idle": "2022-05-08T16:17:52.523487Z",
     "shell.execute_reply": "2022-05-08T16:17:52.522046Z"
    },
    "papermill": {
     "duration": 130.536136,
     "end_time": "2022-05-08T16:17:52.523745",
     "exception": false,
     "start_time": "2022-05-08T16:15:41.987609",
     "status": "completed"
    },
    "tags": []
   },
   "outputs": [
    {
     "name": "stdout",
     "output_type": "stream",
     "text": [
      "\u001b[33mWARNING: --use-feature=2020-resolver no longer has any effect, since it is now the default dependency resolver in pip. This will become an error in pip 21.0.\u001b[0m\u001b[33m\r\n",
      "\u001b[0mCollecting openmim\r\n",
      "  Downloading openmim-0.1.5.tar.gz (35 kB)\r\n",
      "  Preparing metadata (setup.py) ... \u001b[?25l-\b \bdone\r\n",
      "\u001b[?25hCollecting Click==7.1.2\r\n",
      "  Downloading click-7.1.2-py2.py3-none-any.whl (82 kB)\r\n",
      "\u001b[2K     \u001b[90m━━━━━━━━━━━━━━━━━━━━━━━━━━━━━━━━━━━━━━━\u001b[0m \u001b[32m82.8/82.8 KB\u001b[0m \u001b[31m710.1 kB/s\u001b[0m eta \u001b[36m0:00:00\u001b[0m\r\n",
      "\u001b[?25hRequirement already satisfied: colorama in /opt/conda/lib/python3.7/site-packages (from openmim) (0.4.3)\r\n",
      "Requirement already satisfied: requests in /opt/conda/lib/python3.7/site-packages (from openmim) (2.23.0)\r\n",
      "Collecting model-index\r\n",
      "  Downloading model_index-0.1.11-py3-none-any.whl (34 kB)\r\n",
      "Requirement already satisfied: pandas in /opt/conda/lib/python3.7/site-packages (from openmim) (1.1.3)\r\n",
      "Requirement already satisfied: tabulate in /opt/conda/lib/python3.7/site-packages (from openmim) (0.8.7)\r\n",
      "Collecting ordered-set\r\n",
      "  Downloading ordered_set-4.1.0-py3-none-any.whl (7.6 kB)\r\n",
      "Requirement already satisfied: markdown in /opt/conda/lib/python3.7/site-packages (from model-index->openmim) (3.2.1)\r\n",
      "Requirement already satisfied: pyyaml in /opt/conda/lib/python3.7/site-packages (from model-index->openmim) (5.3.1)\r\n",
      "Requirement already satisfied: numpy>=1.15.4 in /opt/conda/lib/python3.7/site-packages (from pandas->openmim) (1.18.5)\r\n",
      "Requirement already satisfied: python-dateutil>=2.7.3 in /opt/conda/lib/python3.7/site-packages (from pandas->openmim) (2.8.1)\r\n",
      "Requirement already satisfied: pytz>=2017.2 in /opt/conda/lib/python3.7/site-packages (from pandas->openmim) (2019.3)\r\n",
      "Requirement already satisfied: certifi>=2017.4.17 in /opt/conda/lib/python3.7/site-packages (from requests->openmim) (2020.6.20)\r\n",
      "Requirement already satisfied: chardet<4,>=3.0.2 in /opt/conda/lib/python3.7/site-packages (from requests->openmim) (3.0.4)\r\n",
      "Requirement already satisfied: idna<3,>=2.5 in /opt/conda/lib/python3.7/site-packages (from requests->openmim) (2.9)\r\n",
      "Requirement already satisfied: urllib3!=1.25.0,!=1.25.1,<1.26,>=1.21.1 in /opt/conda/lib/python3.7/site-packages (from requests->openmim) (1.24.3)\r\n",
      "Requirement already satisfied: six>=1.5 in /opt/conda/lib/python3.7/site-packages (from python-dateutil>=2.7.3->pandas->openmim) (1.14.0)\r\n",
      "Requirement already satisfied: setuptools>=36 in /opt/conda/lib/python3.7/site-packages (from markdown->model-index->openmim) (46.1.3.post20200325)\r\n",
      "Building wheels for collected packages: openmim\r\n",
      "  Building wheel for openmim (setup.py) ... \u001b[?25l-\b \b\\\b \bdone\r\n",
      "\u001b[?25h  Created wheel for openmim: filename=openmim-0.1.5-py2.py3-none-any.whl size=42502 sha256=285b707296ae5a9cff727d4cc76ebf18ae223475b379ddc466f3967b4a08509b\r\n",
      "  Stored in directory: /root/.cache/pip/wheels/16/8b/e1/bdebbbc687aa50224a5ce46fe97a040a0c59f92b34bfc750b6\r\n",
      "Successfully built openmim\r\n",
      "Installing collected packages: ordered-set, Click, model-index, openmim\r\n",
      "  Attempting uninstall: Click\r\n",
      "    Found existing installation: click 7.1.1\r\n",
      "    Uninstalling click-7.1.1:\r\n",
      "      Successfully uninstalled click-7.1.1\r\n",
      "\u001b[31mERROR: pip's dependency resolver does not currently take into account all the packages that are installed. This behaviour is the source of the following dependency conflicts.\r\n",
      "dask-xgboost 0.1.11 requires xgboost<=0.90, but you have xgboost 1.2.0 which is incompatible.\u001b[0m\u001b[31m\r\n",
      "\u001b[0mSuccessfully installed Click-7.1.2 model-index-0.1.11 openmim-0.1.5 ordered-set-4.1.0\r\n",
      "\u001b[33mWARNING: Running pip as the 'root' user can result in broken permissions and conflicting behaviour with the system package manager. It is recommended to use a virtual environment instead: https://pip.pypa.io/warnings/venv\u001b[0m\u001b[33m\r\n",
      "\u001b[0minstalling mmdet from https://github.com/open-mmlab/mmdetection.git.\r\n",
      "Cloning into '/tmp/tmpiac5yfug/mmdetection'...\r\n",
      "remote: Enumerating objects: 24362, done.\u001b[K\r\n",
      "remote: Counting objects: 100% (14/14), done.\u001b[K\r\n",
      "remote: Compressing objects: 100% (14/14), done.\u001b[K\r\n",
      "remote: Total 24362 (delta 3), reused 0 (delta 0), pack-reused 24348\u001b[K\r\n",
      "Receiving objects: 100% (24362/24362), 37.51 MiB | 21.28 MiB/s, done.\r\n",
      "Resolving deltas: 100% (17047/17047), done.\r\n",
      "Note: checking out '73b4e65a6a30435ef6a35f405e3474a4d9cfb234'.\r\n",
      "\r\n",
      "You are in 'detached HEAD' state. You can look around, make experimental\r\n",
      "changes and commit them, and you can discard any commits you make in this\r\n",
      "state without impacting any branches by performing another checkout.\r\n",
      "\r\n",
      "If you want to create a new branch to retain commits you create, you may\r\n",
      "do so (now or later) by using -b with the checkout command again. Example:\r\n",
      "\r\n",
      "  git checkout -b <new-branch-name>\r\n",
      "\r\n",
      "\u001b[32minstalling dependency: mmcv-full\u001b[0m\r\n",
      "installing mmcv-full from wheel.\r\n",
      "Looking in links: https://download.openmmlab.com/mmcv/dist/cu101/torch1.6.0/index.html\r\n",
      "Collecting mmcv-full==1.5.0\r\n",
      "  Downloading https://download.openmmlab.com/mmcv/dist/cu101/torch1.6.0/mmcv_full-1.5.0-cp37-cp37m-manylinux1_x86_64.whl (39.3 MB)\r\n",
      "\u001b[2K     \u001b[90m━━━━━━━━━━━━━━━━━━━━━━━━━━━━━━━━━━━━━━━━\u001b[0m \u001b[32m39.3/39.3 MB\u001b[0m \u001b[31m6.8 MB/s\u001b[0m eta \u001b[36m0:00:00\u001b[0m\r\n",
      "\u001b[?25hRequirement already satisfied: Pillow in /opt/conda/lib/python3.7/site-packages (from mmcv-full==1.5.0) (7.2.0)\r\n",
      "Requirement already satisfied: opencv-python>=3 in /opt/conda/lib/python3.7/site-packages (from mmcv-full==1.5.0) (4.4.0.44)\r\n",
      "Requirement already satisfied: packaging in /opt/conda/lib/python3.7/site-packages (from mmcv-full==1.5.0) (20.1)\r\n",
      "Requirement already satisfied: pyyaml in /opt/conda/lib/python3.7/site-packages (from mmcv-full==1.5.0) (5.3.1)\r\n",
      "Requirement already satisfied: yapf in /opt/conda/lib/python3.7/site-packages (from mmcv-full==1.5.0) (0.29.0)\r\n",
      "Collecting addict\r\n",
      "  Downloading addict-2.4.0-py3-none-any.whl (3.8 kB)\r\n",
      "Requirement already satisfied: numpy in /opt/conda/lib/python3.7/site-packages (from mmcv-full==1.5.0) (1.18.5)\r\n",
      "Requirement already satisfied: pyparsing>=2.0.2 in /opt/conda/lib/python3.7/site-packages (from packaging->mmcv-full==1.5.0) (2.4.7)\r\n",
      "Requirement already satisfied: six in /opt/conda/lib/python3.7/site-packages (from packaging->mmcv-full==1.5.0) (1.14.0)\r\n",
      "Installing collected packages: addict, mmcv-full\r\n",
      "Successfully installed addict-2.4.0 mmcv-full-1.5.0\r\n",
      "\u001b[33mWARNING: Running pip as the 'root' user can result in broken permissions and conflicting behaviour with the system package manager. It is recommended to use a virtual environment instead: https://pip.pypa.io/warnings/venv\u001b[0m\u001b[33m\r\n",
      "\u001b[0m\u001b[32mSuccessfully installed mmcv-full.\u001b[0m\r\n",
      "\u001b[32mSuccessfully installed dependencies.\u001b[0m\r\n",
      "Requirement already satisfied: cython in /opt/conda/lib/python3.7/site-packages (from -r /tmp/tmpiac5yfug/mmdetection/requirements/build.txt (line 2)) (0.29.21)\r\n",
      "Requirement already satisfied: numpy in /opt/conda/lib/python3.7/site-packages (from -r /tmp/tmpiac5yfug/mmdetection/requirements/build.txt (line 3)) (1.18.5)\r\n",
      "\u001b[33mWARNING: Running pip as the 'root' user can result in broken permissions and conflicting behaviour with the system package manager. It is recommended to use a virtual environment instead: https://pip.pypa.io/warnings/venv\u001b[0m\u001b[33m\r\n",
      "\u001b[0m\u001b[33mDEPRECATION: In-tree builds are now the default. pip 22.1 will enforce this behaviour change. A possible replacement is to remove the --use-feature=in-tree-build flag.\u001b[0m\u001b[33m\r\n",
      "\u001b[0mProcessing /tmp/tmpiac5yfug/mmdetection\r\n",
      "  Preparing metadata (setup.py) ... \u001b[?25l-\b \b\\\b \bdone\r\n",
      "\u001b[?25hRequirement already satisfied: matplotlib in /opt/conda/lib/python3.7/site-packages (from mmdet==2.24.1) (3.2.1)\r\n",
      "Requirement already satisfied: numpy in /opt/conda/lib/python3.7/site-packages (from mmdet==2.24.1) (1.18.5)\r\n",
      "Collecting pycocotools\r\n",
      "  Downloading pycocotools-2.0.4.tar.gz (106 kB)\r\n",
      "\u001b[2K     \u001b[90m━━━━━━━━━━━━━━━━━━━━━━━━━━━━━━━━━━━━━\u001b[0m \u001b[32m106.6/106.6 KB\u001b[0m \u001b[31m568.4 kB/s\u001b[0m eta \u001b[36m0:00:00\u001b[0m\r\n",
      "\u001b[?25h  Installing build dependencies ... \u001b[?25l-\b \b\\\b \b|\b \b/\b \b-\b \b\\\b \b|\b \b/\b \b-\b \b\\\b \b|\b \bdone\r\n",
      "\u001b[?25h  Getting requirements to build wheel ... \u001b[?25l-\b \b\\\b \b|\b \b/\b \bdone\r\n",
      "\u001b[?25h  Preparing metadata (pyproject.toml) ... \u001b[?25l-\b \b\\\b \b|\b \b/\b \bdone\r\n",
      "\u001b[?25hRequirement already satisfied: six in /opt/conda/lib/python3.7/site-packages (from mmdet==2.24.1) (1.14.0)\r\n",
      "Requirement already satisfied: terminaltables in /opt/conda/lib/python3.7/site-packages (from mmdet==2.24.1) (3.1.0)\r\n",
      "Requirement already satisfied: kiwisolver>=1.0.1 in /opt/conda/lib/python3.7/site-packages (from matplotlib->mmdet==2.24.1) (1.2.0)\r\n",
      "Requirement already satisfied: cycler>=0.10 in /opt/conda/lib/python3.7/site-packages (from matplotlib->mmdet==2.24.1) (0.10.0)\r\n",
      "Requirement already satisfied: pyparsing!=2.0.4,!=2.1.2,!=2.1.6,>=2.0.1 in /opt/conda/lib/python3.7/site-packages (from matplotlib->mmdet==2.24.1) (2.4.7)\r\n",
      "Requirement already satisfied: python-dateutil>=2.1 in /opt/conda/lib/python3.7/site-packages (from matplotlib->mmdet==2.24.1) (2.8.1)\r\n",
      "Building wheels for collected packages: mmdet, pycocotools\r\n",
      "  Building wheel for mmdet (setup.py) ... \u001b[?25l-\b \b\\\b \b|\b \b/\b \b-\b \b\\\b \b|\b \b/\b \b-\b \b\\\b \b|\b \b/\b \b-\b \bdone\r\n",
      "\u001b[?25h  Created wheel for mmdet: filename=mmdet-2.24.1-py3-none-any.whl size=1388694 sha256=d74e6261ee902df94e420cb07b242878322d57f4fa3135129ed9c2ba7c575529\r\n",
      "  Stored in directory: /tmp/pip-ephem-wheel-cache-ptog2s8n/wheels/a7/94/2d/43536784992a1be81fcad0aff3369799f75855b41f8468bc3e\r\n",
      "  Building wheel for pycocotools (pyproject.toml) ... \u001b[?25l-\b \b\\\b \b|\b \b/\b \b-\b \b\\\b \b|\b \b/\b \b-\b \b\\\b \b|\b \b/\b \bdone\r\n",
      "\u001b[?25h  Created wheel for pycocotools: filename=pycocotools-2.0.4-cp37-cp37m-linux_x86_64.whl size=273803 sha256=fc029b48b27aa4daa1a53f3157b665a3f5e88629e73c23b22b6142ef67b13541\r\n",
      "  Stored in directory: /root/.cache/pip/wheels/a3/5f/fa/f011e578cc76e1fc5be8dce30b3eb9fd00f337e744b3bba59b\r\n",
      "Successfully built mmdet pycocotools\r\n",
      "Installing collected packages: pycocotools, mmdet\r\n",
      "Successfully installed mmdet-2.24.1 pycocotools-2.0.4\r\n",
      "\u001b[33mWARNING: Running pip as the 'root' user can result in broken permissions and conflicting behaviour with the system package manager. It is recommended to use a virtual environment instead: https://pip.pypa.io/warnings/venv\u001b[0m\u001b[33m\r\n",
      "\u001b[0m\u001b[32mSuccessfully installed mmdet.\u001b[0m\r\n",
      "Cloning into 'mmdetection'...\r\n",
      "remote: Enumerating objects: 24362, done.\u001b[K\r\n",
      "remote: Counting objects: 100% (14/14), done.\u001b[K\r\n",
      "remote: Compressing objects: 100% (14/14), done.\u001b[K\r\n",
      "remote: Total 24362 (delta 3), reused 0 (delta 0), pack-reused 24348\u001b[K\r\n",
      "Receiving objects: 100% (24362/24362), 37.51 MiB | 20.82 MiB/s, done.\r\n",
      "Resolving deltas: 100% (17047/17047), done.\r\n",
      "/kaggle/working/mmdetection\n",
      "Requirement already satisfied: cython in /opt/conda/lib/python3.7/site-packages (from -r requirements/build.txt (line 2)) (0.29.21)\r\n",
      "Requirement already satisfied: numpy in /opt/conda/lib/python3.7/site-packages (from -r requirements/build.txt (line 3)) (1.18.5)\r\n",
      "\u001b[33mWARNING: Running pip as the 'root' user can result in broken permissions and conflicting behaviour with the system package manager. It is recommended to use a virtual environment instead: https://pip.pypa.io/warnings/venv\u001b[0m\u001b[33m\r\n",
      "\u001b[0mUsing pip 22.0.4 from /opt/conda/lib/python3.7/site-packages/pip (python 3.7)\r\n",
      "Obtaining file:///kaggle/working/mmdetection\r\n",
      "  Running command python setup.py egg_info\r\n",
      "  running egg_info\r\n",
      "  creating /tmp/pip-pip-egg-info-agg_2jbu/mmdet.egg-info\r\n",
      "  writing /tmp/pip-pip-egg-info-agg_2jbu/mmdet.egg-info/PKG-INFO\r\n",
      "  writing dependency_links to /tmp/pip-pip-egg-info-agg_2jbu/mmdet.egg-info/dependency_links.txt\r\n",
      "  writing requirements to /tmp/pip-pip-egg-info-agg_2jbu/mmdet.egg-info/requires.txt\r\n",
      "  writing top-level names to /tmp/pip-pip-egg-info-agg_2jbu/mmdet.egg-info/top_level.txt\r\n",
      "  writing manifest file '/tmp/pip-pip-egg-info-agg_2jbu/mmdet.egg-info/SOURCES.txt'\r\n",
      "  reading manifest template 'MANIFEST.in'\r\n",
      "  warning: no files found matching 'mmdet/VERSION'\r\n",
      "  warning: no files found matching 'mmdet/.mim/model-index.yml'\r\n",
      "  warning: no files found matching 'mmdet/.mim/demo/*/*'\r\n",
      "  warning: no files found matching '*.py' under directory 'mmdet/.mim/configs'\r\n",
      "  warning: no files found matching '*.yml' under directory 'mmdet/.mim/configs'\r\n",
      "  warning: no files found matching '*.sh' under directory 'mmdet/.mim/tools'\r\n",
      "  warning: no files found matching '*.py' under directory 'mmdet/.mim/tools'\r\n",
      "  writing manifest file '/tmp/pip-pip-egg-info-agg_2jbu/mmdet.egg-info/SOURCES.txt'\r\n",
      "  Preparing metadata (setup.py) ... \u001b[?25l\u001b[?25hdone\r\n",
      "Requirement already satisfied: matplotlib in /opt/conda/lib/python3.7/site-packages (from mmdet==2.24.1) (3.2.1)\r\n",
      "Requirement already satisfied: numpy in /opt/conda/lib/python3.7/site-packages (from mmdet==2.24.1) (1.18.5)\r\n",
      "Requirement already satisfied: pycocotools in /opt/conda/lib/python3.7/site-packages (from mmdet==2.24.1) (2.0.4)\r\n",
      "Requirement already satisfied: six in /opt/conda/lib/python3.7/site-packages (from mmdet==2.24.1) (1.14.0)\r\n",
      "Requirement already satisfied: terminaltables in /opt/conda/lib/python3.7/site-packages (from mmdet==2.24.1) (3.1.0)\r\n",
      "Requirement already satisfied: kiwisolver>=1.0.1 in /opt/conda/lib/python3.7/site-packages (from matplotlib->mmdet==2.24.1) (1.2.0)\r\n",
      "Requirement already satisfied: pyparsing!=2.0.4,!=2.1.2,!=2.1.6,>=2.0.1 in /opt/conda/lib/python3.7/site-packages (from matplotlib->mmdet==2.24.1) (2.4.7)\r\n",
      "Requirement already satisfied: cycler>=0.10 in /opt/conda/lib/python3.7/site-packages (from matplotlib->mmdet==2.24.1) (0.10.0)\r\n",
      "Requirement already satisfied: python-dateutil>=2.1 in /opt/conda/lib/python3.7/site-packages (from matplotlib->mmdet==2.24.1) (2.8.1)\r\n",
      "Installing collected packages: mmdet\r\n",
      "  Attempting uninstall: mmdet\r\n",
      "    Found existing installation: mmdet 2.24.1\r\n",
      "    Uninstalling mmdet-2.24.1:\r\n",
      "      Removing file or directory /opt/conda/lib/python3.7/site-packages/mmdet-2.24.1.dist-info/\r\n",
      "      Removing file or directory /opt/conda/lib/python3.7/site-packages/mmdet/.mim/configs/_base_/\r\n",
      "      Removing file or directory /opt/conda/lib/python3.7/site-packages/mmdet/.mim/configs/albu_example/mask_rcnn_r50_fpn_albu_1x_coco.py\r\n",
      "      Removing file or directory /opt/conda/lib/python3.7/site-packages/mmdet/.mim/configs/atss/atss_r101_fpn_1x_coco.py\r\n",
      "      Removing file or directory /opt/conda/lib/python3.7/site-packages/mmdet/.mim/configs/atss/atss_r50_fpn_1x_coco.py\r\n",
      "      Removing file or directory /opt/conda/lib/python3.7/site-packages/mmdet/.mim/configs/atss/metafile.yml\r\n",
      "      Removing file or directory /opt/conda/lib/python3.7/site-packages/mmdet/.mim/configs/autoassign/autoassign_r50_fpn_8x2_1x_coco.py\r\n",
      "      Removing file or directory /opt/conda/lib/python3.7/site-packages/mmdet/.mim/configs/autoassign/metafile.yml\r\n",
      "      Removing file or directory /opt/conda/lib/python3.7/site-packages/mmdet/.mim/configs/carafe/faster_rcnn_r50_fpn_carafe_1x_coco.py\r\n",
      "      Removing file or directory /opt/conda/lib/python3.7/site-packages/mmdet/.mim/configs/carafe/mask_rcnn_r50_fpn_carafe_1x_coco.py\r\n",
      "      Removing file or directory /opt/conda/lib/python3.7/site-packages/mmdet/.mim/configs/carafe/metafile.yml\r\n",
      "      Removing file or directory /opt/conda/lib/python3.7/site-packages/mmdet/.mim/configs/cascade_rcnn/cascade_mask_rcnn_r101_caffe_fpn_1x_coco.py\r\n",
      "      Removing file or directory /opt/conda/lib/python3.7/site-packages/mmdet/.mim/configs/cascade_rcnn/cascade_mask_rcnn_r101_caffe_fpn_mstrain_3x_coco.py\r\n",
      "      Removing file or directory /opt/conda/lib/python3.7/site-packages/mmdet/.mim/configs/cascade_rcnn/cascade_mask_rcnn_r101_fpn_1x_coco.py\r\n",
      "      Removing file or directory /opt/conda/lib/python3.7/site-packages/mmdet/.mim/configs/cascade_rcnn/cascade_mask_rcnn_r101_fpn_20e_coco.py\r\n",
      "      Removing file or directory /opt/conda/lib/python3.7/site-packages/mmdet/.mim/configs/cascade_rcnn/cascade_mask_rcnn_r101_fpn_mstrain_3x_coco.py\r\n",
      "      Removing file or directory /opt/conda/lib/python3.7/site-packages/mmdet/.mim/configs/cascade_rcnn/cascade_mask_rcnn_r50_caffe_fpn_1x_coco.py\r\n",
      "      Removing file or directory /opt/conda/lib/python3.7/site-packages/mmdet/.mim/configs/cascade_rcnn/cascade_mask_rcnn_r50_caffe_fpn_mstrain_3x_coco.py\r\n",
      "      Removing file or directory /opt/conda/lib/python3.7/site-packages/mmdet/.mim/configs/cascade_rcnn/cascade_mask_rcnn_r50_fpn_1x_coco.py\r\n",
      "      Removing file or directory /opt/conda/lib/python3.7/site-packages/mmdet/.mim/configs/cascade_rcnn/cascade_mask_rcnn_r50_fpn_20e_coco.py\r\n",
      "      Removing file or directory /opt/conda/lib/python3.7/site-packages/mmdet/.mim/configs/cascade_rcnn/cascade_mask_rcnn_r50_fpn_mstrain_3x_coco.py\r\n",
      "      Removing file or directory /opt/conda/lib/python3.7/site-packages/mmdet/.mim/configs/cascade_rcnn/cascade_mask_rcnn_x101_32x4d_fpn_1x_coco.py\r\n",
      "      Removing file or directory /opt/conda/lib/python3.7/site-packages/mmdet/.mim/configs/cascade_rcnn/cascade_mask_rcnn_x101_32x4d_fpn_20e_coco.py\r\n",
      "      Removing file or directory /opt/conda/lib/python3.7/site-packages/mmdet/.mim/configs/cascade_rcnn/cascade_mask_rcnn_x101_32x4d_fpn_mstrain_3x_coco.py\r\n",
      "      Removing file or directory /opt/conda/lib/python3.7/site-packages/mmdet/.mim/configs/cascade_rcnn/cascade_mask_rcnn_x101_32x8d_fpn_mstrain_3x_coco.py\r\n",
      "      Removing file or directory /opt/conda/lib/python3.7/site-packages/mmdet/.mim/configs/cascade_rcnn/cascade_mask_rcnn_x101_64x4d_fpn_1x_coco.py\r\n",
      "      Removing file or directory /opt/conda/lib/python3.7/site-packages/mmdet/.mim/configs/cascade_rcnn/cascade_mask_rcnn_x101_64x4d_fpn_20e_coco.py\r\n",
      "      Removing file or directory /opt/conda/lib/python3.7/site-packages/mmdet/.mim/configs/cascade_rcnn/cascade_mask_rcnn_x101_64x4d_fpn_mstrain_3x_coco.py\r\n",
      "      Removing file or directory /opt/conda/lib/python3.7/site-packages/mmdet/.mim/configs/cascade_rcnn/cascade_rcnn_r101_caffe_fpn_1x_coco.py\r\n",
      "      Removing file or directory /opt/conda/lib/python3.7/site-packages/mmdet/.mim/configs/cascade_rcnn/cascade_rcnn_r101_fpn_1x_coco.py\r\n",
      "      Removing file or directory /opt/conda/lib/python3.7/site-packages/mmdet/.mim/configs/cascade_rcnn/cascade_rcnn_r101_fpn_20e_coco.py\r\n",
      "      Removing file or directory /opt/conda/lib/python3.7/site-packages/mmdet/.mim/configs/cascade_rcnn/cascade_rcnn_r50_caffe_fpn_1x_coco.py\r\n",
      "      Removing file or directory /opt/conda/lib/python3.7/site-packages/mmdet/.mim/configs/cascade_rcnn/cascade_rcnn_r50_fpn_1x_coco.py\r\n",
      "      Removing file or directory /opt/conda/lib/python3.7/site-packages/mmdet/.mim/configs/cascade_rcnn/cascade_rcnn_r50_fpn_20e_coco.py\r\n",
      "      Removing file or directory /opt/conda/lib/python3.7/site-packages/mmdet/.mim/configs/cascade_rcnn/cascade_rcnn_x101_32x4d_fpn_1x_coco.py\r\n",
      "      Removing file or directory /opt/conda/lib/python3.7/site-packages/mmdet/.mim/configs/cascade_rcnn/cascade_rcnn_x101_32x4d_fpn_20e_coco.py\r\n",
      "      Removing file or directory /opt/conda/lib/python3.7/site-packages/mmdet/.mim/configs/cascade_rcnn/cascade_rcnn_x101_64x4d_fpn_1x_coco.py\r\n",
      "      Removing file or directory /opt/conda/lib/python3.7/site-packages/mmdet/.mim/configs/cascade_rcnn/cascade_rcnn_x101_64x4d_fpn_20e_coco.py\r\n",
      "      Removing file or directory /opt/conda/lib/python3.7/site-packages/mmdet/.mim/configs/cascade_rcnn/metafile.yml\r\n",
      "      Removing file or directory /opt/conda/lib/python3.7/site-packages/mmdet/.mim/configs/cascade_rpn/crpn_fast_rcnn_r50_caffe_fpn_1x_coco.py\r\n",
      "      Removing file or directory /opt/conda/lib/python3.7/site-packages/mmdet/.mim/configs/cascade_rpn/crpn_faster_rcnn_r50_caffe_fpn_1x_coco.py\r\n",
      "      Removing file or directory /opt/conda/lib/python3.7/site-packages/mmdet/.mim/configs/cascade_rpn/crpn_r50_caffe_fpn_1x_coco.py\r\n",
      "      Removing file or directory /opt/conda/lib/python3.7/site-packages/mmdet/.mim/configs/cascade_rpn/metafile.yml\r\n",
      "      Removing file or directory /opt/conda/lib/python3.7/site-packages/mmdet/.mim/configs/centernet/centernet_resnet18_140e_coco.py\r\n",
      "      Removing file or directory /opt/conda/lib/python3.7/site-packages/mmdet/.mim/configs/centernet/centernet_resnet18_dcnv2_140e_coco.py\r\n",
      "      Removing file or directory /opt/conda/lib/python3.7/site-packages/mmdet/.mim/configs/centernet/metafile.yml\r\n",
      "      Removing file or directory /opt/conda/lib/python3.7/site-packages/mmdet/.mim/configs/centripetalnet/centripetalnet_hourglass104_mstest_16x6_210e_coco.py\r\n",
      "      Removing file or directory /opt/conda/lib/python3.7/site-packages/mmdet/.mim/configs/centripetalnet/metafile.yml\r\n",
      "      Removing file or directory /opt/conda/lib/python3.7/site-packages/mmdet/.mim/configs/cityscapes/faster_rcnn_r50_fpn_1x_cityscapes.py\r\n",
      "      Removing file or directory /opt/conda/lib/python3.7/site-packages/mmdet/.mim/configs/cityscapes/mask_rcnn_r50_fpn_1x_cityscapes.py\r\n",
      "      Removing file or directory /opt/conda/lib/python3.7/site-packages/mmdet/.mim/configs/common/\r\n",
      "      Removing file or directory /opt/conda/lib/python3.7/site-packages/mmdet/.mim/configs/cornernet/cornernet_hourglass104_mstest_10x5_210e_coco.py\r\n",
      "      Removing file or directory /opt/conda/lib/python3.7/site-packages/mmdet/.mim/configs/cornernet/cornernet_hourglass104_mstest_32x3_210e_coco.py\r\n",
      "      Removing file or directory /opt/conda/lib/python3.7/site-packages/mmdet/.mim/configs/cornernet/cornernet_hourglass104_mstest_8x6_210e_coco.py\r\n",
      "      Removing file or directory /opt/conda/lib/python3.7/site-packages/mmdet/.mim/configs/cornernet/metafile.yml\r\n",
      "      Removing file or directory /opt/conda/lib/python3.7/site-packages/mmdet/.mim/configs/dcn/cascade_mask_rcnn_r101_fpn_dconv_c3-c5_1x_coco.py\r\n",
      "      Removing file or directory /opt/conda/lib/python3.7/site-packages/mmdet/.mim/configs/dcn/cascade_mask_rcnn_r50_fpn_dconv_c3-c5_1x_coco.py\r\n",
      "      Removing file or directory /opt/conda/lib/python3.7/site-packages/mmdet/.mim/configs/dcn/cascade_mask_rcnn_x101_32x4d_fpn_dconv_c3-c5_1x_coco.py\r\n",
      "      Removing file or directory /opt/conda/lib/python3.7/site-packages/mmdet/.mim/configs/dcn/cascade_rcnn_r101_fpn_dconv_c3-c5_1x_coco.py\r\n",
      "      Removing file or directory /opt/conda/lib/python3.7/site-packages/mmdet/.mim/configs/dcn/cascade_rcnn_r50_fpn_dconv_c3-c5_1x_coco.py\r\n",
      "      Removing file or directory /opt/conda/lib/python3.7/site-packages/mmdet/.mim/configs/dcn/faster_rcnn_r101_fpn_dconv_c3-c5_1x_coco.py\r\n",
      "      Removing file or directory /opt/conda/lib/python3.7/site-packages/mmdet/.mim/configs/dcn/faster_rcnn_r50_fpn_dconv_c3-c5_1x_coco.py\r\n",
      "      Removing file or directory /opt/conda/lib/python3.7/site-packages/mmdet/.mim/configs/dcn/faster_rcnn_r50_fpn_dpool_1x_coco.py\r\n",
      "      Removing file or directory /opt/conda/lib/python3.7/site-packages/mmdet/.mim/configs/dcn/faster_rcnn_x101_32x4d_fpn_dconv_c3-c5_1x_coco.py\r\n",
      "      Removing file or directory /opt/conda/lib/python3.7/site-packages/mmdet/.mim/configs/dcn/mask_rcnn_r101_fpn_dconv_c3-c5_1x_coco.py\r\n",
      "      Removing file or directory /opt/conda/lib/python3.7/site-packages/mmdet/.mim/configs/dcn/mask_rcnn_r50_fpn_dconv_c3-c5_1x_coco.py\r\n",
      "      Removing file or directory /opt/conda/lib/python3.7/site-packages/mmdet/.mim/configs/dcn/mask_rcnn_r50_fpn_fp16_dconv_c3-c5_1x_coco.py\r\n",
      "      Removing file or directory /opt/conda/lib/python3.7/site-packages/mmdet/.mim/configs/dcn/metafile.yml\r\n",
      "      Removing file or directory /opt/conda/lib/python3.7/site-packages/mmdet/.mim/configs/dcnv2/faster_rcnn_r50_fpn_mdconv_c3-c5_1x_coco.py\r\n",
      "      Removing file or directory /opt/conda/lib/python3.7/site-packages/mmdet/.mim/configs/dcnv2/faster_rcnn_r50_fpn_mdconv_c3-c5_group4_1x_coco.py\r\n",
      "      Removing file or directory /opt/conda/lib/python3.7/site-packages/mmdet/.mim/configs/dcnv2/faster_rcnn_r50_fpn_mdpool_1x_coco.py\r\n",
      "      Removing file or directory /opt/conda/lib/python3.7/site-packages/mmdet/.mim/configs/dcnv2/mask_rcnn_r50_fpn_fp16_mdconv_c3-c5_1x_coco.py\r\n",
      "      Removing file or directory /opt/conda/lib/python3.7/site-packages/mmdet/.mim/configs/dcnv2/mask_rcnn_r50_fpn_mdconv_c3-c5_1x_coco.py\r\n",
      "      Removing file or directory /opt/conda/lib/python3.7/site-packages/mmdet/.mim/configs/dcnv2/metafile.yml\r\n",
      "      Removing file or directory /opt/conda/lib/python3.7/site-packages/mmdet/.mim/configs/deepfashion/mask_rcnn_r50_fpn_15e_deepfashion.py\r\n",
      "      Removing file or directory /opt/conda/lib/python3.7/site-packages/mmdet/.mim/configs/deformable_detr/deformable_detr_r50_16x2_50e_coco.py\r\n",
      "      Removing file or directory /opt/conda/lib/python3.7/site-packages/mmdet/.mim/configs/deformable_detr/deformable_detr_refine_r50_16x2_50e_coco.py\r\n",
      "      Removing file or directory /opt/conda/lib/python3.7/site-packages/mmdet/.mim/configs/deformable_detr/deformable_detr_twostage_refine_r50_16x2_50e_coco.py\r\n",
      "      Removing file or directory /opt/conda/lib/python3.7/site-packages/mmdet/.mim/configs/deformable_detr/metafile.yml\r\n",
      "      Removing file or directory /opt/conda/lib/python3.7/site-packages/mmdet/.mim/configs/detectors/cascade_rcnn_r50_rfp_1x_coco.py\r\n",
      "      Removing file or directory /opt/conda/lib/python3.7/site-packages/mmdet/.mim/configs/detectors/cascade_rcnn_r50_sac_1x_coco.py\r\n",
      "      Removing file or directory /opt/conda/lib/python3.7/site-packages/mmdet/.mim/configs/detectors/detectors_cascade_rcnn_r50_1x_coco.py\r\n",
      "      Removing file or directory /opt/conda/lib/python3.7/site-packages/mmdet/.mim/configs/detectors/detectors_htc_r101_20e_coco.py\r\n",
      "      Removing file or directory /opt/conda/lib/python3.7/site-packages/mmdet/.mim/configs/detectors/detectors_htc_r50_1x_coco.py\r\n",
      "      Removing file or directory /opt/conda/lib/python3.7/site-packages/mmdet/.mim/configs/detectors/htc_r50_rfp_1x_coco.py\r\n",
      "      Removing file or directory /opt/conda/lib/python3.7/site-packages/mmdet/.mim/configs/detectors/htc_r50_sac_1x_coco.py\r\n",
      "      Removing file or directory /opt/conda/lib/python3.7/site-packages/mmdet/.mim/configs/detectors/metafile.yml\r\n",
      "      Removing file or directory /opt/conda/lib/python3.7/site-packages/mmdet/.mim/configs/detr/detr_r50_8x2_150e_coco.py\r\n",
      "      Removing file or directory /opt/conda/lib/python3.7/site-packages/mmdet/.mim/configs/detr/metafile.yml\r\n",
      "      Removing file or directory /opt/conda/lib/python3.7/site-packages/mmdet/.mim/configs/double_heads/dh_faster_rcnn_r50_fpn_1x_coco.py\r\n",
      "      Removing file or directory /opt/conda/lib/python3.7/site-packages/mmdet/.mim/configs/double_heads/metafile.yml\r\n",
      "      Removing file or directory /opt/conda/lib/python3.7/site-packages/mmdet/.mim/configs/dyhead/atss_r50_caffe_fpn_dyhead_1x_coco.py\r\n",
      "      Removing file or directory /opt/conda/lib/python3.7/site-packages/mmdet/.mim/configs/dyhead/atss_r50_fpn_dyhead_1x_coco.py\r\n",
      "      Removing file or directory /opt/conda/lib/python3.7/site-packages/mmdet/.mim/configs/dyhead/metafile.yml\r\n",
      "      Removing file or directory /opt/conda/lib/python3.7/site-packages/mmdet/.mim/configs/dynamic_rcnn/dynamic_rcnn_r50_fpn_1x_coco.py\r\n",
      "      Removing file or directory /opt/conda/lib/python3.7/site-packages/mmdet/.mim/configs/dynamic_rcnn/metafile.yml\r\n",
      "      Removing file or directory /opt/conda/lib/python3.7/site-packages/mmdet/.mim/configs/efficientnet/metafile.yml\r\n",
      "      Removing file or directory /opt/conda/lib/python3.7/site-packages/mmdet/.mim/configs/efficientnet/retinanet_effb3_fpn_crop896_8x4_1x_coco.py\r\n",
      "      Removing file or directory /opt/conda/lib/python3.7/site-packages/mmdet/.mim/configs/empirical_attention/faster_rcnn_r50_fpn_attention_0010_1x_coco.py\r\n",
      "      Removing file or directory /opt/conda/lib/python3.7/site-packages/mmdet/.mim/configs/empirical_attention/faster_rcnn_r50_fpn_attention_0010_dcn_1x_coco.py\r\n",
      "      Removing file or directory /opt/conda/lib/python3.7/site-packages/mmdet/.mim/configs/empirical_attention/faster_rcnn_r50_fpn_attention_1111_1x_coco.py\r\n",
      "      Removing file or directory /opt/conda/lib/python3.7/site-packages/mmdet/.mim/configs/empirical_attention/faster_rcnn_r50_fpn_attention_1111_dcn_1x_coco.py\r\n",
      "      Removing file or directory /opt/conda/lib/python3.7/site-packages/mmdet/.mim/configs/empirical_attention/metafile.yml\r\n",
      "      Removing file or directory /opt/conda/lib/python3.7/site-packages/mmdet/.mim/configs/fast_rcnn/fast_rcnn_r101_caffe_fpn_1x_coco.py\r\n",
      "      Removing file or directory /opt/conda/lib/python3.7/site-packages/mmdet/.mim/configs/fast_rcnn/fast_rcnn_r101_fpn_1x_coco.py\r\n",
      "      Removing file or directory /opt/conda/lib/python3.7/site-packages/mmdet/.mim/configs/fast_rcnn/fast_rcnn_r101_fpn_2x_coco.py\r\n",
      "      Removing file or directory /opt/conda/lib/python3.7/site-packages/mmdet/.mim/configs/fast_rcnn/fast_rcnn_r50_caffe_fpn_1x_coco.py\r\n",
      "      Removing file or directory /opt/conda/lib/python3.7/site-packages/mmdet/.mim/configs/fast_rcnn/fast_rcnn_r50_fpn_1x_coco.py\r\n",
      "      Removing file or directory /opt/conda/lib/python3.7/site-packages/mmdet/.mim/configs/fast_rcnn/fast_rcnn_r50_fpn_2x_coco.py\r\n",
      "      Removing file or directory /opt/conda/lib/python3.7/site-packages/mmdet/.mim/configs/faster_rcnn/faster_rcnn_r101_caffe_fpn_1x_coco.py\r\n",
      "      Removing file or directory /opt/conda/lib/python3.7/site-packages/mmdet/.mim/configs/faster_rcnn/faster_rcnn_r101_caffe_fpn_mstrain_3x_coco.py\r\n",
      "      Removing file or directory /opt/conda/lib/python3.7/site-packages/mmdet/.mim/configs/faster_rcnn/faster_rcnn_r101_fpn_1x_coco.py\r\n",
      "      Removing file or directory /opt/conda/lib/python3.7/site-packages/mmdet/.mim/configs/faster_rcnn/faster_rcnn_r101_fpn_2x_coco.py\r\n",
      "      Removing file or directory /opt/conda/lib/python3.7/site-packages/mmdet/.mim/configs/faster_rcnn/faster_rcnn_r101_fpn_mstrain_3x_coco.py\r\n",
      "      Removing file or directory /opt/conda/lib/python3.7/site-packages/mmdet/.mim/configs/faster_rcnn/faster_rcnn_r50_caffe_c4_1x_coco.py\r\n",
      "      Removing file or directory /opt/conda/lib/python3.7/site-packages/mmdet/.mim/configs/faster_rcnn/faster_rcnn_r50_caffe_c4_mstrain_1x_coco.py\r\n",
      "      Removing file or directory /opt/conda/lib/python3.7/site-packages/mmdet/.mim/configs/faster_rcnn/faster_rcnn_r50_caffe_dc5_1x_coco.py\r\n",
      "      Removing file or directory /opt/conda/lib/python3.7/site-packages/mmdet/.mim/configs/faster_rcnn/faster_rcnn_r50_caffe_dc5_mstrain_1x_coco.py\r\n",
      "      Removing file or directory /opt/conda/lib/python3.7/site-packages/mmdet/.mim/configs/faster_rcnn/faster_rcnn_r50_caffe_dc5_mstrain_3x_coco.py\r\n",
      "      Removing file or directory /opt/conda/lib/python3.7/site-packages/mmdet/.mim/configs/faster_rcnn/faster_rcnn_r50_caffe_fpn_1x_coco.py\r\n",
      "      Removing file or directory /opt/conda/lib/python3.7/site-packages/mmdet/.mim/configs/faster_rcnn/faster_rcnn_r50_caffe_fpn_90k_coco.py\r\n",
      "      Removing file or directory /opt/conda/lib/python3.7/site-packages/mmdet/.mim/configs/faster_rcnn/faster_rcnn_r50_caffe_fpn_mstrain_1x_coco-person-bicycle-car.py\r\n",
      "      Removing file or directory /opt/conda/lib/python3.7/site-packages/mmdet/.mim/configs/faster_rcnn/faster_rcnn_r50_caffe_fpn_mstrain_1x_coco-person.py\r\n",
      "      Removing file or directory /opt/conda/lib/python3.7/site-packages/mmdet/.mim/configs/faster_rcnn/faster_rcnn_r50_caffe_fpn_mstrain_1x_coco.py\r\n",
      "      Removing file or directory /opt/conda/lib/python3.7/site-packages/mmdet/.mim/configs/faster_rcnn/faster_rcnn_r50_caffe_fpn_mstrain_2x_coco.py\r\n",
      "      Removing file or directory /opt/conda/lib/python3.7/site-packages/mmdet/.mim/configs/faster_rcnn/faster_rcnn_r50_caffe_fpn_mstrain_3x_coco.py\r\n",
      "      Removing file or directory /opt/conda/lib/python3.7/site-packages/mmdet/.mim/configs/faster_rcnn/faster_rcnn_r50_caffe_fpn_mstrain_90k_coco.py\r\n",
      "      Removing file or directory /opt/conda/lib/python3.7/site-packages/mmdet/.mim/configs/faster_rcnn/faster_rcnn_r50_fpn_1x_coco.py\r\n",
      "      Removing file or directory /opt/conda/lib/python3.7/site-packages/mmdet/.mim/configs/faster_rcnn/faster_rcnn_r50_fpn_2x_coco.py\r\n",
      "      Removing file or directory /opt/conda/lib/python3.7/site-packages/mmdet/.mim/configs/faster_rcnn/faster_rcnn_r50_fpn_bounded_iou_1x_coco.py\r\n",
      "      Removing file or directory /opt/conda/lib/python3.7/site-packages/mmdet/.mim/configs/faster_rcnn/faster_rcnn_r50_fpn_ciou_1x_coco.py\r\n",
      "      Removing file or directory /opt/conda/lib/python3.7/site-packages/mmdet/.mim/configs/faster_rcnn/faster_rcnn_r50_fpn_fp16_1x_coco.py\r\n",
      "      Removing file or directory /opt/conda/lib/python3.7/site-packages/mmdet/.mim/configs/faster_rcnn/faster_rcnn_r50_fpn_giou_1x_coco.py\r\n",
      "      Removing file or directory /opt/conda/lib/python3.7/site-packages/mmdet/.mim/configs/faster_rcnn/faster_rcnn_r50_fpn_iou_1x_coco.py\r\n",
      "      Removing file or directory /opt/conda/lib/python3.7/site-packages/mmdet/.mim/configs/faster_rcnn/faster_rcnn_r50_fpn_mstrain_3x_coco.py\r\n",
      "      Removing file or directory /opt/conda/lib/python3.7/site-packages/mmdet/.mim/configs/faster_rcnn/faster_rcnn_r50_fpn_ohem_1x_coco.py\r\n",
      "      Removing file or directory /opt/conda/lib/python3.7/site-packages/mmdet/.mim/configs/faster_rcnn/faster_rcnn_r50_fpn_soft_nms_1x_coco.py\r\n",
      "      Removing file or directory /opt/conda/lib/python3.7/site-packages/mmdet/.mim/configs/faster_rcnn/faster_rcnn_r50_fpn_tnr-pretrain_1x_coco.py\r\n",
      "      Removing file or directory /opt/conda/lib/python3.7/site-packages/mmdet/.mim/configs/faster_rcnn/faster_rcnn_x101_32x4d_fpn_1x_coco.py\r\n",
      "      Removing file or directory /opt/conda/lib/python3.7/site-packages/mmdet/.mim/configs/faster_rcnn/faster_rcnn_x101_32x4d_fpn_2x_coco.py\r\n",
      "      Removing file or directory /opt/conda/lib/python3.7/site-packages/mmdet/.mim/configs/faster_rcnn/faster_rcnn_x101_32x4d_fpn_mstrain_3x_coco.py\r\n",
      "      Removing file or directory /opt/conda/lib/python3.7/site-packages/mmdet/.mim/configs/faster_rcnn/faster_rcnn_x101_32x8d_fpn_mstrain_3x_coco.py\r\n",
      "      Removing file or directory /opt/conda/lib/python3.7/site-packages/mmdet/.mim/configs/faster_rcnn/faster_rcnn_x101_64x4d_fpn_1x_coco.py\r\n",
      "      Removing file or directory /opt/conda/lib/python3.7/site-packages/mmdet/.mim/configs/faster_rcnn/faster_rcnn_x101_64x4d_fpn_2x_coco.py\r\n",
      "      Removing file or directory /opt/conda/lib/python3.7/site-packages/mmdet/.mim/configs/faster_rcnn/faster_rcnn_x101_64x4d_fpn_mstrain_3x_coco.py\r\n",
      "      Removing file or directory /opt/conda/lib/python3.7/site-packages/mmdet/.mim/configs/faster_rcnn/metafile.yml\r\n",
      "      Removing file or directory /opt/conda/lib/python3.7/site-packages/mmdet/.mim/configs/fcos/fcos_center-normbbox-centeronreg-giou_r50_caffe_fpn_gn-head_1x_coco.py\r\n",
      "      Removing file or directory /opt/conda/lib/python3.7/site-packages/mmdet/.mim/configs/fcos/fcos_center-normbbox-centeronreg-giou_r50_caffe_fpn_gn-head_dcn_1x_coco.py\r\n",
      "      Removing file or directory /opt/conda/lib/python3.7/site-packages/mmdet/.mim/configs/fcos/fcos_center_r50_caffe_fpn_gn-head_1x_coco.py\r\n",
      "      Removing file or directory /opt/conda/lib/python3.7/site-packages/mmdet/.mim/configs/fcos/fcos_r101_caffe_fpn_gn-head_1x_coco.py\r\n",
      "      Removing file or directory /opt/conda/lib/python3.7/site-packages/mmdet/.mim/configs/fcos/fcos_r101_caffe_fpn_gn-head_mstrain_640-800_2x_coco.py\r\n",
      "      Removing file or directory /opt/conda/lib/python3.7/site-packages/mmdet/.mim/configs/fcos/fcos_r50_caffe_fpn_gn-head_1x_coco.py\r\n",
      "      Removing file or directory /opt/conda/lib/python3.7/site-packages/mmdet/.mim/configs/fcos/fcos_r50_caffe_fpn_gn-head_4x4_1x_coco.py\r\n",
      "      Removing file or directory /opt/conda/lib/python3.7/site-packages/mmdet/.mim/configs/fcos/fcos_r50_caffe_fpn_gn-head_mstrain_640-800_2x_coco.py\r\n",
      "      Removing file or directory /opt/conda/lib/python3.7/site-packages/mmdet/.mim/configs/fcos/fcos_x101_64x4d_fpn_gn-head_mstrain_640-800_2x_coco.py\r\n",
      "      Removing file or directory /opt/conda/lib/python3.7/site-packages/mmdet/.mim/configs/fcos/metafile.yml\r\n",
      "      Removing file or directory /opt/conda/lib/python3.7/site-packages/mmdet/.mim/configs/foveabox/fovea_align_r101_fpn_gn-head_4x4_2x_coco.py\r\n",
      "      Removing file or directory /opt/conda/lib/python3.7/site-packages/mmdet/.mim/configs/foveabox/fovea_align_r101_fpn_gn-head_mstrain_640-800_4x4_2x_coco.py\r\n",
      "      Removing file or directory /opt/conda/lib/python3.7/site-packages/mmdet/.mim/configs/foveabox/fovea_align_r50_fpn_gn-head_4x4_2x_coco.py\r\n",
      "      Removing file or directory /opt/conda/lib/python3.7/site-packages/mmdet/.mim/configs/foveabox/fovea_align_r50_fpn_gn-head_mstrain_640-800_4x4_2x_coco.py\r\n",
      "      Removing file or directory /opt/conda/lib/python3.7/site-packages/mmdet/.mim/configs/foveabox/fovea_r101_fpn_4x4_1x_coco.py\r\n",
      "      Removing file or directory /opt/conda/lib/python3.7/site-packages/mmdet/.mim/configs/foveabox/fovea_r101_fpn_4x4_2x_coco.py\r\n",
      "      Removing file or directory /opt/conda/lib/python3.7/site-packages/mmdet/.mim/configs/foveabox/fovea_r50_fpn_4x4_1x_coco.py\r\n",
      "      Removing file or directory /opt/conda/lib/python3.7/site-packages/mmdet/.mim/configs/foveabox/fovea_r50_fpn_4x4_2x_coco.py\r\n",
      "      Removing file or directory /opt/conda/lib/python3.7/site-packages/mmdet/.mim/configs/foveabox/metafile.yml\r\n",
      "      Removing file or directory /opt/conda/lib/python3.7/site-packages/mmdet/.mim/configs/fpg/faster_rcnn_r50_fpg-chn128_crop640_50e_coco.py\r\n",
      "      Removing file or directory /opt/conda/lib/python3.7/site-packages/mmdet/.mim/configs/fpg/faster_rcnn_r50_fpg_crop640_50e_coco.py\r\n",
      "      Removing file or directory /opt/conda/lib/python3.7/site-packages/mmdet/.mim/configs/fpg/faster_rcnn_r50_fpn_crop640_50e_coco.py\r\n",
      "      Removing file or directory /opt/conda/lib/python3.7/site-packages/mmdet/.mim/configs/fpg/mask_rcnn_r50_fpg-chn128_crop640_50e_coco.py\r\n",
      "      Removing file or directory /opt/conda/lib/python3.7/site-packages/mmdet/.mim/configs/fpg/mask_rcnn_r50_fpg_crop640_50e_coco.py\r\n",
      "      Removing file or directory /opt/conda/lib/python3.7/site-packages/mmdet/.mim/configs/fpg/mask_rcnn_r50_fpn_crop640_50e_coco.py\r\n",
      "      Removing file or directory /opt/conda/lib/python3.7/site-packages/mmdet/.mim/configs/fpg/metafile.yml\r\n",
      "      Removing file or directory /opt/conda/lib/python3.7/site-packages/mmdet/.mim/configs/fpg/retinanet_r50_fpg-chn128_crop640_50e_coco.py\r\n",
      "      Removing file or directory /opt/conda/lib/python3.7/site-packages/mmdet/.mim/configs/fpg/retinanet_r50_fpg_crop640_50e_coco.py\r\n",
      "      Removing file or directory /opt/conda/lib/python3.7/site-packages/mmdet/.mim/configs/free_anchor/metafile.yml\r\n",
      "      Removing file or directory /opt/conda/lib/python3.7/site-packages/mmdet/.mim/configs/free_anchor/retinanet_free_anchor_r101_fpn_1x_coco.py\r\n",
      "      Removing file or directory /opt/conda/lib/python3.7/site-packages/mmdet/.mim/configs/free_anchor/retinanet_free_anchor_r50_fpn_1x_coco.py\r\n",
      "      Removing file or directory /opt/conda/lib/python3.7/site-packages/mmdet/.mim/configs/free_anchor/retinanet_free_anchor_x101_32x4d_fpn_1x_coco.py\r\n",
      "      Removing file or directory /opt/conda/lib/python3.7/site-packages/mmdet/.mim/configs/fsaf/fsaf_r101_fpn_1x_coco.py\r\n",
      "      Removing file or directory /opt/conda/lib/python3.7/site-packages/mmdet/.mim/configs/fsaf/fsaf_r50_fpn_1x_coco.py\r\n",
      "      Removing file or directory /opt/conda/lib/python3.7/site-packages/mmdet/.mim/configs/fsaf/fsaf_x101_64x4d_fpn_1x_coco.py\r\n",
      "      Removing file or directory /opt/conda/lib/python3.7/site-packages/mmdet/.mim/configs/fsaf/metafile.yml\r\n",
      "      Removing file or directory /opt/conda/lib/python3.7/site-packages/mmdet/.mim/configs/gcnet/cascade_mask_rcnn_x101_32x4d_fpn_syncbn-backbone_1x_coco.py\r\n",
      "      Removing file or directory /opt/conda/lib/python3.7/site-packages/mmdet/.mim/configs/gcnet/cascade_mask_rcnn_x101_32x4d_fpn_syncbn-backbone_dconv_c3-c5_1x_coco.py\r\n",
      "      Removing file or directory /opt/conda/lib/python3.7/site-packages/mmdet/.mim/configs/gcnet/cascade_mask_rcnn_x101_32x4d_fpn_syncbn-backbone_dconv_c3-c5_r16_gcb_c3-c5_1x_coco.py\r\n",
      "      Removing file or directory /opt/conda/lib/python3.7/site-packages/mmdet/.mim/configs/gcnet/cascade_mask_rcnn_x101_32x4d_fpn_syncbn-backbone_dconv_c3-c5_r4_gcb_c3-c5_1x_coco.py\r\n",
      "      Removing file or directory /opt/conda/lib/python3.7/site-packages/mmdet/.mim/configs/gcnet/cascade_mask_rcnn_x101_32x4d_fpn_syncbn-backbone_r16_gcb_c3-c5_1x_coco.py\r\n",
      "      Removing file or directory /opt/conda/lib/python3.7/site-packages/mmdet/.mim/configs/gcnet/cascade_mask_rcnn_x101_32x4d_fpn_syncbn-backbone_r4_gcb_c3-c5_1x_coco.py\r\n",
      "      Removing file or directory /opt/conda/lib/python3.7/site-packages/mmdet/.mim/configs/gcnet/mask_rcnn_r101_fpn_r16_gcb_c3-c5_1x_coco.py\r\n",
      "      Removing file or directory /opt/conda/lib/python3.7/site-packages/mmdet/.mim/configs/gcnet/mask_rcnn_r101_fpn_r4_gcb_c3-c5_1x_coco.py\r\n",
      "      Removing file or directory /opt/conda/lib/python3.7/site-packages/mmdet/.mim/configs/gcnet/mask_rcnn_r101_fpn_syncbn-backbone_1x_coco.py\r\n",
      "      Removing file or directory /opt/conda/lib/python3.7/site-packages/mmdet/.mim/configs/gcnet/mask_rcnn_r101_fpn_syncbn-backbone_r16_gcb_c3-c5_1x_coco.py\r\n",
      "      Removing file or directory /opt/conda/lib/python3.7/site-packages/mmdet/.mim/configs/gcnet/mask_rcnn_r101_fpn_syncbn-backbone_r4_gcb_c3-c5_1x_coco.py\r\n",
      "      Removing file or directory /opt/conda/lib/python3.7/site-packages/mmdet/.mim/configs/gcnet/mask_rcnn_r50_fpn_r16_gcb_c3-c5_1x_coco.py\r\n",
      "      Removing file or directory /opt/conda/lib/python3.7/site-packages/mmdet/.mim/configs/gcnet/mask_rcnn_r50_fpn_r4_gcb_c3-c5_1x_coco.py\r\n",
      "      Removing file or directory /opt/conda/lib/python3.7/site-packages/mmdet/.mim/configs/gcnet/mask_rcnn_r50_fpn_syncbn-backbone_1x_coco.py\r\n",
      "      Removing file or directory /opt/conda/lib/python3.7/site-packages/mmdet/.mim/configs/gcnet/mask_rcnn_r50_fpn_syncbn-backbone_r16_gcb_c3-c5_1x_coco.py\r\n",
      "      Removing file or directory /opt/conda/lib/python3.7/site-packages/mmdet/.mim/configs/gcnet/mask_rcnn_r50_fpn_syncbn-backbone_r4_gcb_c3-c5_1x_coco.py\r\n",
      "      Removing file or directory /opt/conda/lib/python3.7/site-packages/mmdet/.mim/configs/gcnet/mask_rcnn_x101_32x4d_fpn_syncbn-backbone_1x_coco.py\r\n",
      "      Removing file or directory /opt/conda/lib/python3.7/site-packages/mmdet/.mim/configs/gcnet/mask_rcnn_x101_32x4d_fpn_syncbn-backbone_r16_gcb_c3-c5_1x_coco.py\r\n",
      "      Removing file or directory /opt/conda/lib/python3.7/site-packages/mmdet/.mim/configs/gcnet/mask_rcnn_x101_32x4d_fpn_syncbn-backbone_r4_gcb_c3-c5_1x_coco.py\r\n",
      "      Removing file or directory /opt/conda/lib/python3.7/site-packages/mmdet/.mim/configs/gcnet/metafile.yml\r\n",
      "      Removing file or directory /opt/conda/lib/python3.7/site-packages/mmdet/.mim/configs/gfl/gfl_r101_fpn_dconv_c3-c5_mstrain_2x_coco.py\r\n",
      "      Removing file or directory /opt/conda/lib/python3.7/site-packages/mmdet/.mim/configs/gfl/gfl_r101_fpn_mstrain_2x_coco.py\r\n",
      "      Removing file or directory /opt/conda/lib/python3.7/site-packages/mmdet/.mim/configs/gfl/gfl_r50_fpn_1x_coco.py\r\n",
      "      Removing file or directory /opt/conda/lib/python3.7/site-packages/mmdet/.mim/configs/gfl/gfl_r50_fpn_mstrain_2x_coco.py\r\n",
      "      Removing file or directory /opt/conda/lib/python3.7/site-packages/mmdet/.mim/configs/gfl/gfl_x101_32x4d_fpn_dconv_c4-c5_mstrain_2x_coco.py\r\n",
      "      Removing file or directory /opt/conda/lib/python3.7/site-packages/mmdet/.mim/configs/gfl/gfl_x101_32x4d_fpn_mstrain_2x_coco.py\r\n",
      "      Removing file or directory /opt/conda/lib/python3.7/site-packages/mmdet/.mim/configs/gfl/metafile.yml\r\n",
      "      Removing file or directory /opt/conda/lib/python3.7/site-packages/mmdet/.mim/configs/ghm/metafile.yml\r\n",
      "      Removing file or directory /opt/conda/lib/python3.7/site-packages/mmdet/.mim/configs/ghm/retinanet_ghm_r101_fpn_1x_coco.py\r\n",
      "      Removing file or directory /opt/conda/lib/python3.7/site-packages/mmdet/.mim/configs/ghm/retinanet_ghm_r50_fpn_1x_coco.py\r\n",
      "      Removing file or directory /opt/conda/lib/python3.7/site-packages/mmdet/.mim/configs/ghm/retinanet_ghm_x101_32x4d_fpn_1x_coco.py\r\n",
      "      Removing file or directory /opt/conda/lib/python3.7/site-packages/mmdet/.mim/configs/ghm/retinanet_ghm_x101_64x4d_fpn_1x_coco.py\r\n",
      "      Removing file or directory /opt/conda/lib/python3.7/site-packages/mmdet/.mim/configs/gn+ws/faster_rcnn_r101_fpn_gn_ws-all_1x_coco.py\r\n",
      "      Removing file or directory /opt/conda/lib/python3.7/site-packages/mmdet/.mim/configs/gn+ws/faster_rcnn_r50_fpn_gn_ws-all_1x_coco.py\r\n",
      "      Removing file or directory /opt/conda/lib/python3.7/site-packages/mmdet/.mim/configs/gn+ws/faster_rcnn_x101_32x4d_fpn_gn_ws-all_1x_coco.py\r\n",
      "      Removing file or directory /opt/conda/lib/python3.7/site-packages/mmdet/.mim/configs/gn+ws/faster_rcnn_x50_32x4d_fpn_gn_ws-all_1x_coco.py\r\n",
      "      Removing file or directory /opt/conda/lib/python3.7/site-packages/mmdet/.mim/configs/gn+ws/mask_rcnn_r101_fpn_gn_ws-all_20_23_24e_coco.py\r\n",
      "      Removing file or directory /opt/conda/lib/python3.7/site-packages/mmdet/.mim/configs/gn+ws/mask_rcnn_r101_fpn_gn_ws-all_2x_coco.py\r\n",
      "      Removing file or directory /opt/conda/lib/python3.7/site-packages/mmdet/.mim/configs/gn+ws/mask_rcnn_r50_fpn_gn_ws-all_20_23_24e_coco.py\r\n",
      "      Removing file or directory /opt/conda/lib/python3.7/site-packages/mmdet/.mim/configs/gn+ws/mask_rcnn_r50_fpn_gn_ws-all_2x_coco.py\r\n",
      "      Removing file or directory /opt/conda/lib/python3.7/site-packages/mmdet/.mim/configs/gn+ws/mask_rcnn_x101_32x4d_fpn_gn_ws-all_20_23_24e_coco.py\r\n",
      "      Removing file or directory /opt/conda/lib/python3.7/site-packages/mmdet/.mim/configs/gn+ws/mask_rcnn_x101_32x4d_fpn_gn_ws-all_2x_coco.py\r\n",
      "      Removing file or directory /opt/conda/lib/python3.7/site-packages/mmdet/.mim/configs/gn+ws/mask_rcnn_x50_32x4d_fpn_gn_ws-all_20_23_24e_coco.py\r\n",
      "      Removing file or directory /opt/conda/lib/python3.7/site-packages/mmdet/.mim/configs/gn+ws/mask_rcnn_x50_32x4d_fpn_gn_ws-all_2x_coco.py\r\n",
      "      Removing file or directory /opt/conda/lib/python3.7/site-packages/mmdet/.mim/configs/gn+ws/metafile.yml\r\n",
      "      Removing file or directory /opt/conda/lib/python3.7/site-packages/mmdet/.mim/configs/gn/mask_rcnn_r101_fpn_gn-all_2x_coco.py\r\n",
      "      Removing file or directory /opt/conda/lib/python3.7/site-packages/mmdet/.mim/configs/gn/mask_rcnn_r101_fpn_gn-all_3x_coco.py\r\n",
      "      Removing file or directory /opt/conda/lib/python3.7/site-packages/mmdet/.mim/configs/gn/mask_rcnn_r50_fpn_gn-all_2x_coco.py\r\n",
      "      Removing file or directory /opt/conda/lib/python3.7/site-packages/mmdet/.mim/configs/gn/mask_rcnn_r50_fpn_gn-all_3x_coco.py\r\n",
      "      Removing file or directory /opt/conda/lib/python3.7/site-packages/mmdet/.mim/configs/gn/mask_rcnn_r50_fpn_gn-all_contrib_2x_coco.py\r\n",
      "      Removing file or directory /opt/conda/lib/python3.7/site-packages/mmdet/.mim/configs/gn/mask_rcnn_r50_fpn_gn-all_contrib_3x_coco.py\r\n",
      "      Removing file or directory /opt/conda/lib/python3.7/site-packages/mmdet/.mim/configs/gn/metafile.yml\r\n",
      "      Removing file or directory /opt/conda/lib/python3.7/site-packages/mmdet/.mim/configs/grid_rcnn/grid_rcnn_r101_fpn_gn-head_2x_coco.py\r\n",
      "      Removing file or directory /opt/conda/lib/python3.7/site-packages/mmdet/.mim/configs/grid_rcnn/grid_rcnn_r50_fpn_gn-head_1x_coco.py\r\n",
      "      Removing file or directory /opt/conda/lib/python3.7/site-packages/mmdet/.mim/configs/grid_rcnn/grid_rcnn_r50_fpn_gn-head_2x_coco.py\r\n",
      "      Removing file or directory /opt/conda/lib/python3.7/site-packages/mmdet/.mim/configs/grid_rcnn/grid_rcnn_x101_32x4d_fpn_gn-head_2x_coco.py\r\n",
      "      Removing file or directory /opt/conda/lib/python3.7/site-packages/mmdet/.mim/configs/grid_rcnn/grid_rcnn_x101_64x4d_fpn_gn-head_2x_coco.py\r\n",
      "      Removing file or directory /opt/conda/lib/python3.7/site-packages/mmdet/.mim/configs/grid_rcnn/metafile.yml\r\n",
      "      Removing file or directory /opt/conda/lib/python3.7/site-packages/mmdet/.mim/configs/groie/faster_rcnn_r50_fpn_groie_1x_coco.py\r\n",
      "      Removing file or directory /opt/conda/lib/python3.7/site-packages/mmdet/.mim/configs/groie/grid_rcnn_r50_fpn_gn-head_groie_1x_coco.py\r\n",
      "      Removing file or directory /opt/conda/lib/python3.7/site-packages/mmdet/.mim/configs/groie/mask_rcnn_r101_fpn_syncbn-backbone_r4_gcb_c3-c5_groie_1x_coco.py\r\n",
      "      Removing file or directory /opt/conda/lib/python3.7/site-packages/mmdet/.mim/configs/groie/mask_rcnn_r50_fpn_groie_1x_coco.py\r\n",
      "      Removing file or directory /opt/conda/lib/python3.7/site-packages/mmdet/.mim/configs/groie/mask_rcnn_r50_fpn_syncbn-backbone_r4_gcb_c3-c5_groie_1x_coco.py\r\n",
      "      Removing file or directory /opt/conda/lib/python3.7/site-packages/mmdet/.mim/configs/groie/metafile.yml\r\n",
      "      Removing file or directory /opt/conda/lib/python3.7/site-packages/mmdet/.mim/configs/guided_anchoring/ga_fast_r50_caffe_fpn_1x_coco.py\r\n",
      "      Removing file or directory /opt/conda/lib/python3.7/site-packages/mmdet/.mim/configs/guided_anchoring/ga_faster_r101_caffe_fpn_1x_coco.py\r\n",
      "      Removing file or directory /opt/conda/lib/python3.7/site-packages/mmdet/.mim/configs/guided_anchoring/ga_faster_r50_caffe_fpn_1x_coco.py\r\n",
      "      Removing file or directory /opt/conda/lib/python3.7/site-packages/mmdet/.mim/configs/guided_anchoring/ga_faster_r50_fpn_1x_coco.py\r\n",
      "      Removing file or directory /opt/conda/lib/python3.7/site-packages/mmdet/.mim/configs/guided_anchoring/ga_faster_x101_32x4d_fpn_1x_coco.py\r\n",
      "      Removing file or directory /opt/conda/lib/python3.7/site-packages/mmdet/.mim/configs/guided_anchoring/ga_faster_x101_64x4d_fpn_1x_coco.py\r\n",
      "      Removing file or directory /opt/conda/lib/python3.7/site-packages/mmdet/.mim/configs/guided_anchoring/ga_retinanet_r101_caffe_fpn_1x_coco.py\r\n",
      "      Removing file or directory /opt/conda/lib/python3.7/site-packages/mmdet/.mim/configs/guided_anchoring/ga_retinanet_r101_caffe_fpn_mstrain_2x.py\r\n",
      "      Removing file or directory /opt/conda/lib/python3.7/site-packages/mmdet/.mim/configs/guided_anchoring/ga_retinanet_r50_caffe_fpn_1x_coco.py\r\n",
      "      Removing file or directory /opt/conda/lib/python3.7/site-packages/mmdet/.mim/configs/guided_anchoring/ga_retinanet_r50_fpn_1x_coco.py\r\n",
      "      Removing file or directory /opt/conda/lib/python3.7/site-packages/mmdet/.mim/configs/guided_anchoring/ga_retinanet_x101_32x4d_fpn_1x_coco.py\r\n",
      "      Removing file or directory /opt/conda/lib/python3.7/site-packages/mmdet/.mim/configs/guided_anchoring/ga_retinanet_x101_64x4d_fpn_1x_coco.py\r\n",
      "      Removing file or directory /opt/conda/lib/python3.7/site-packages/mmdet/.mim/configs/guided_anchoring/ga_rpn_r101_caffe_fpn_1x_coco.py\r\n",
      "      Removing file or directory /opt/conda/lib/python3.7/site-packages/mmdet/.mim/configs/guided_anchoring/ga_rpn_r50_caffe_fpn_1x_coco.py\r\n",
      "      Removing file or directory /opt/conda/lib/python3.7/site-packages/mmdet/.mim/configs/guided_anchoring/ga_rpn_r50_fpn_1x_coco.py\r\n",
      "      Removing file or directory /opt/conda/lib/python3.7/site-packages/mmdet/.mim/configs/guided_anchoring/ga_rpn_x101_32x4d_fpn_1x_coco.py\r\n",
      "      Removing file or directory /opt/conda/lib/python3.7/site-packages/mmdet/.mim/configs/guided_anchoring/ga_rpn_x101_64x4d_fpn_1x_coco.py\r\n",
      "      Removing file or directory /opt/conda/lib/python3.7/site-packages/mmdet/.mim/configs/guided_anchoring/metafile.yml\r\n",
      "      Removing file or directory /opt/conda/lib/python3.7/site-packages/mmdet/.mim/configs/hrnet/cascade_mask_rcnn_hrnetv2p_w18_20e_coco.py\r\n",
      "      Removing file or directory /opt/conda/lib/python3.7/site-packages/mmdet/.mim/configs/hrnet/cascade_mask_rcnn_hrnetv2p_w32_20e_coco.py\r\n",
      "      Removing file or directory /opt/conda/lib/python3.7/site-packages/mmdet/.mim/configs/hrnet/cascade_mask_rcnn_hrnetv2p_w40_20e_coco.py\r\n",
      "      Removing file or directory /opt/conda/lib/python3.7/site-packages/mmdet/.mim/configs/hrnet/cascade_rcnn_hrnetv2p_w18_20e_coco.py\r\n",
      "      Removing file or directory /opt/conda/lib/python3.7/site-packages/mmdet/.mim/configs/hrnet/cascade_rcnn_hrnetv2p_w32_20e_coco.py\r\n",
      "      Removing file or directory /opt/conda/lib/python3.7/site-packages/mmdet/.mim/configs/hrnet/cascade_rcnn_hrnetv2p_w40_20e_coco.py\r\n",
      "      Removing file or directory /opt/conda/lib/python3.7/site-packages/mmdet/.mim/configs/hrnet/faster_rcnn_hrnetv2p_w18_1x_coco.py\r\n",
      "      Removing file or directory /opt/conda/lib/python3.7/site-packages/mmdet/.mim/configs/hrnet/faster_rcnn_hrnetv2p_w18_2x_coco.py\r\n",
      "      Removing file or directory /opt/conda/lib/python3.7/site-packages/mmdet/.mim/configs/hrnet/faster_rcnn_hrnetv2p_w32_1x_coco.py\r\n",
      "      Removing file or directory /opt/conda/lib/python3.7/site-packages/mmdet/.mim/configs/hrnet/faster_rcnn_hrnetv2p_w32_2x_coco.py\r\n",
      "      Removing file or directory /opt/conda/lib/python3.7/site-packages/mmdet/.mim/configs/hrnet/faster_rcnn_hrnetv2p_w40_1x_coco.py\r\n",
      "      Removing file or directory /opt/conda/lib/python3.7/site-packages/mmdet/.mim/configs/hrnet/faster_rcnn_hrnetv2p_w40_2x_coco.py\r\n",
      "      Removing file or directory /opt/conda/lib/python3.7/site-packages/mmdet/.mim/configs/hrnet/fcos_hrnetv2p_w18_gn-head_4x4_1x_coco.py\r\n",
      "      Removing file or directory /opt/conda/lib/python3.7/site-packages/mmdet/.mim/configs/hrnet/fcos_hrnetv2p_w18_gn-head_4x4_2x_coco.py\r\n",
      "      Removing file or directory /opt/conda/lib/python3.7/site-packages/mmdet/.mim/configs/hrnet/fcos_hrnetv2p_w18_gn-head_mstrain_640-800_4x4_2x_coco.py\r\n",
      "      Removing file or directory /opt/conda/lib/python3.7/site-packages/mmdet/.mim/configs/hrnet/fcos_hrnetv2p_w32_gn-head_4x4_1x_coco.py\r\n",
      "      Removing file or directory /opt/conda/lib/python3.7/site-packages/mmdet/.mim/configs/hrnet/fcos_hrnetv2p_w32_gn-head_4x4_2x_coco.py\r\n",
      "      Removing file or directory /opt/conda/lib/python3.7/site-packages/mmdet/.mim/configs/hrnet/fcos_hrnetv2p_w32_gn-head_mstrain_640-800_4x4_2x_coco.py\r\n",
      "      Removing file or directory /opt/conda/lib/python3.7/site-packages/mmdet/.mim/configs/hrnet/fcos_hrnetv2p_w40_gn-head_mstrain_640-800_4x4_2x_coco.py\r\n",
      "      Removing file or directory /opt/conda/lib/python3.7/site-packages/mmdet/.mim/configs/hrnet/htc_hrnetv2p_w18_20e_coco.py\r\n",
      "      Removing file or directory /opt/conda/lib/python3.7/site-packages/mmdet/.mim/configs/hrnet/htc_hrnetv2p_w32_20e_coco.py\r\n",
      "      Removing file or directory /opt/conda/lib/python3.7/site-packages/mmdet/.mim/configs/hrnet/htc_hrnetv2p_w40_20e_coco.py\r\n",
      "      Removing file or directory /opt/conda/lib/python3.7/site-packages/mmdet/.mim/configs/hrnet/htc_hrnetv2p_w40_28e_coco.py\r\n",
      "      Removing file or directory /opt/conda/lib/python3.7/site-packages/mmdet/.mim/configs/hrnet/htc_x101_64x4d_fpn_16x1_28e_coco.py\r\n",
      "      Removing file or directory /opt/conda/lib/python3.7/site-packages/mmdet/.mim/configs/hrnet/mask_rcnn_hrnetv2p_w18_1x_coco.py\r\n",
      "      Removing file or directory /opt/conda/lib/python3.7/site-packages/mmdet/.mim/configs/hrnet/mask_rcnn_hrnetv2p_w18_2x_coco.py\r\n",
      "      Removing file or directory /opt/conda/lib/python3.7/site-packages/mmdet/.mim/configs/hrnet/mask_rcnn_hrnetv2p_w32_1x_coco.py\r\n",
      "      Removing file or directory /opt/conda/lib/python3.7/site-packages/mmdet/.mim/configs/hrnet/mask_rcnn_hrnetv2p_w32_2x_coco.py\r\n",
      "      Removing file or directory /opt/conda/lib/python3.7/site-packages/mmdet/.mim/configs/hrnet/mask_rcnn_hrnetv2p_w40_1x_coco.py\r\n",
      "      Removing file or directory /opt/conda/lib/python3.7/site-packages/mmdet/.mim/configs/hrnet/mask_rcnn_hrnetv2p_w40_2x_coco.py\r\n",
      "      Removing file or directory /opt/conda/lib/python3.7/site-packages/mmdet/.mim/configs/hrnet/metafile.yml\r\n",
      "      Removing file or directory /opt/conda/lib/python3.7/site-packages/mmdet/.mim/configs/htc/htc_r101_fpn_20e_coco.py\r\n",
      "      Removing file or directory /opt/conda/lib/python3.7/site-packages/mmdet/.mim/configs/htc/htc_r50_fpn_1x_coco.py\r\n",
      "      Removing file or directory /opt/conda/lib/python3.7/site-packages/mmdet/.mim/configs/htc/htc_r50_fpn_20e_coco.py\r\n",
      "      Removing file or directory /opt/conda/lib/python3.7/site-packages/mmdet/.mim/configs/htc/htc_without_semantic_r50_fpn_1x_coco.py\r\n",
      "      Removing file or directory /opt/conda/lib/python3.7/site-packages/mmdet/.mim/configs/htc/htc_x101_32x4d_fpn_16x1_20e_coco.py\r\n",
      "      Removing file or directory /opt/conda/lib/python3.7/site-packages/mmdet/.mim/configs/htc/htc_x101_64x4d_fpn_16x1_20e_coco.py\r\n",
      "      Removing file or directory /opt/conda/lib/python3.7/site-packages/mmdet/.mim/configs/htc/htc_x101_64x4d_fpn_dconv_c3-c5_mstrain_400_1400_16x1_20e_coco.py\r\n",
      "      Removing file or directory /opt/conda/lib/python3.7/site-packages/mmdet/.mim/configs/htc/metafile.yml\r\n",
      "      Removing file or directory /opt/conda/lib/python3.7/site-packages/mmdet/.mim/configs/instaboost/cascade_mask_rcnn_r101_fpn_instaboost_4x_coco.py\r\n",
      "      Removing file or directory /opt/conda/lib/python3.7/site-packages/mmdet/.mim/configs/instaboost/cascade_mask_rcnn_r50_fpn_instaboost_4x_coco.py\r\n",
      "      Removing file or directory /opt/conda/lib/python3.7/site-packages/mmdet/.mim/configs/instaboost/cascade_mask_rcnn_x101_64x4d_fpn_instaboost_4x_coco.py\r\n",
      "      Removing file or directory /opt/conda/lib/python3.7/site-packages/mmdet/.mim/configs/instaboost/mask_rcnn_r101_fpn_instaboost_4x_coco.py\r\n",
      "      Removing file or directory /opt/conda/lib/python3.7/site-packages/mmdet/.mim/configs/instaboost/mask_rcnn_r50_fpn_instaboost_4x_coco.py\r\n",
      "      Removing file or directory /opt/conda/lib/python3.7/site-packages/mmdet/.mim/configs/instaboost/mask_rcnn_x101_64x4d_fpn_instaboost_4x_coco.py\r\n",
      "      Removing file or directory /opt/conda/lib/python3.7/site-packages/mmdet/.mim/configs/instaboost/metafile.yml\r\n",
      "      Removing file or directory /opt/conda/lib/python3.7/site-packages/mmdet/.mim/configs/lad/lad_r101_paa_r50_fpn_coco_1x.py\r\n",
      "      Removing file or directory /opt/conda/lib/python3.7/site-packages/mmdet/.mim/configs/lad/lad_r50_paa_r101_fpn_coco_1x.py\r\n",
      "      Removing file or directory /opt/conda/lib/python3.7/site-packages/mmdet/.mim/configs/lad/metafile.yml\r\n",
      "      Removing file or directory /opt/conda/lib/python3.7/site-packages/mmdet/.mim/configs/ld/ld_r101_gflv1_r101dcn_fpn_coco_2x.py\r\n",
      "      Removing file or directory /opt/conda/lib/python3.7/site-packages/mmdet/.mim/configs/ld/ld_r18_gflv1_r101_fpn_coco_1x.py\r\n",
      "      Removing file or directory /opt/conda/lib/python3.7/site-packages/mmdet/.mim/configs/ld/ld_r34_gflv1_r101_fpn_coco_1x.py\r\n",
      "      Removing file or directory /opt/conda/lib/python3.7/site-packages/mmdet/.mim/configs/ld/ld_r50_gflv1_r101_fpn_coco_1x.py\r\n",
      "      Removing file or directory /opt/conda/lib/python3.7/site-packages/mmdet/.mim/configs/ld/metafile.yml\r\n",
      "      Removing file or directory /opt/conda/lib/python3.7/site-packages/mmdet/.mim/configs/legacy_1.x/cascade_mask_rcnn_r50_fpn_1x_coco_v1.py\r\n",
      "      Removing file or directory /opt/conda/lib/python3.7/site-packages/mmdet/.mim/configs/legacy_1.x/faster_rcnn_r50_fpn_1x_coco_v1.py\r\n",
      "      Removing file or directory /opt/conda/lib/python3.7/site-packages/mmdet/.mim/configs/legacy_1.x/mask_rcnn_r50_fpn_1x_coco_v1.py\r\n",
      "      Removing file or directory /opt/conda/lib/python3.7/site-packages/mmdet/.mim/configs/legacy_1.x/retinanet_r50_caffe_fpn_1x_coco_v1.py\r\n",
      "      Removing file or directory /opt/conda/lib/python3.7/site-packages/mmdet/.mim/configs/legacy_1.x/retinanet_r50_fpn_1x_coco_v1.py\r\n",
      "      Removing file or directory /opt/conda/lib/python3.7/site-packages/mmdet/.mim/configs/legacy_1.x/ssd300_coco_v1.py\r\n",
      "      Removing file or directory /opt/conda/lib/python3.7/site-packages/mmdet/.mim/configs/libra_rcnn/libra_fast_rcnn_r50_fpn_1x_coco.py\r\n",
      "      Removing file or directory /opt/conda/lib/python3.7/site-packages/mmdet/.mim/configs/libra_rcnn/libra_faster_rcnn_r101_fpn_1x_coco.py\r\n",
      "      Removing file or directory /opt/conda/lib/python3.7/site-packages/mmdet/.mim/configs/libra_rcnn/libra_faster_rcnn_r50_fpn_1x_coco.py\r\n",
      "      Removing file or directory /opt/conda/lib/python3.7/site-packages/mmdet/.mim/configs/libra_rcnn/libra_faster_rcnn_x101_64x4d_fpn_1x_coco.py\r\n",
      "      Removing file or directory /opt/conda/lib/python3.7/site-packages/mmdet/.mim/configs/libra_rcnn/libra_retinanet_r50_fpn_1x_coco.py\r\n",
      "      Removing file or directory /opt/conda/lib/python3.7/site-packages/mmdet/.mim/configs/libra_rcnn/metafile.yml\r\n",
      "      Removing file or directory /opt/conda/lib/python3.7/site-packages/mmdet/.mim/configs/lvis/mask_rcnn_r101_fpn_sample1e-3_mstrain_1x_lvis_v1.py\r\n",
      "      Removing file or directory /opt/conda/lib/python3.7/site-packages/mmdet/.mim/configs/lvis/mask_rcnn_r101_fpn_sample1e-3_mstrain_2x_lvis_v0.5.py\r\n",
      "      Removing file or directory /opt/conda/lib/python3.7/site-packages/mmdet/.mim/configs/lvis/mask_rcnn_r50_fpn_sample1e-3_mstrain_1x_lvis_v1.py\r\n",
      "      Removing file or directory /opt/conda/lib/python3.7/site-packages/mmdet/.mim/configs/lvis/mask_rcnn_r50_fpn_sample1e-3_mstrain_2x_lvis_v0.5.py\r\n",
      "      Removing file or directory /opt/conda/lib/python3.7/site-packages/mmdet/.mim/configs/lvis/mask_rcnn_x101_32x4d_fpn_sample1e-3_mstrain_1x_lvis_v1.py\r\n",
      "      Removing file or directory /opt/conda/lib/python3.7/site-packages/mmdet/.mim/configs/lvis/mask_rcnn_x101_32x4d_fpn_sample1e-3_mstrain_2x_lvis_v0.5.py\r\n",
      "      Removing file or directory /opt/conda/lib/python3.7/site-packages/mmdet/.mim/configs/lvis/mask_rcnn_x101_64x4d_fpn_sample1e-3_mstrain_1x_lvis_v1.py\r\n",
      "      Removing file or directory /opt/conda/lib/python3.7/site-packages/mmdet/.mim/configs/lvis/mask_rcnn_x101_64x4d_fpn_sample1e-3_mstrain_2x_lvis_v0.5.py\r\n",
      "      Removing file or directory /opt/conda/lib/python3.7/site-packages/mmdet/.mim/configs/mask2former/mask2former_r101_lsj_8x2_50e_coco.py\r\n",
      "      Removing file or directory /opt/conda/lib/python3.7/site-packages/mmdet/.mim/configs/mask2former/mask2former_r50_lsj_8x2_50e_coco.py\r\n",
      "      Removing file or directory /opt/conda/lib/python3.7/site-packages/mmdet/.mim/configs/mask2former/mask2former_swin-b-p4-w12-384-in21k_lsj_8x2_50e_coco.py\r\n",
      "      Removing file or directory /opt/conda/lib/python3.7/site-packages/mmdet/.mim/configs/mask2former/mask2former_swin-b-p4-w12-384_lsj_8x2_50e_coco.py\r\n",
      "      Removing file or directory /opt/conda/lib/python3.7/site-packages/mmdet/.mim/configs/mask2former/mask2former_swin-l-p4-w12-384-in21k_lsj_16x1_100e_coco.py\r\n",
      "      Removing file or directory /opt/conda/lib/python3.7/site-packages/mmdet/.mim/configs/mask2former/mask2former_swin-s-p4-w7-224_lsj_8x2_50e_coco.py\r\n",
      "      Removing file or directory /opt/conda/lib/python3.7/site-packages/mmdet/.mim/configs/mask2former/mask2former_swin-t-p4-w7-224_lsj_8x2_50e_coco.py\r\n",
      "      Removing file or directory /opt/conda/lib/python3.7/site-packages/mmdet/.mim/configs/mask2former/metafile.yml\r\n",
      "      Removing file or directory /opt/conda/lib/python3.7/site-packages/mmdet/.mim/configs/mask_rcnn/mask_rcnn_r101_caffe_fpn_1x_coco.py\r\n",
      "      Removing file or directory /opt/conda/lib/python3.7/site-packages/mmdet/.mim/configs/mask_rcnn/mask_rcnn_r101_caffe_fpn_mstrain-poly_3x_coco.py\r\n",
      "      Removing file or directory /opt/conda/lib/python3.7/site-packages/mmdet/.mim/configs/mask_rcnn/mask_rcnn_r101_fpn_1x_coco.py\r\n",
      "      Removing file or directory /opt/conda/lib/python3.7/site-packages/mmdet/.mim/configs/mask_rcnn/mask_rcnn_r101_fpn_2x_coco.py\r\n",
      "      Removing file or directory /opt/conda/lib/python3.7/site-packages/mmdet/.mim/configs/mask_rcnn/mask_rcnn_r101_fpn_mstrain-poly_3x_coco.py\r\n",
      "      Removing file or directory /opt/conda/lib/python3.7/site-packages/mmdet/.mim/configs/mask_rcnn/mask_rcnn_r50_caffe_c4_1x_coco.py\r\n",
      "      Removing file or directory /opt/conda/lib/python3.7/site-packages/mmdet/.mim/configs/mask_rcnn/mask_rcnn_r50_caffe_fpn_1x_coco.py\r\n",
      "      Removing file or directory /opt/conda/lib/python3.7/site-packages/mmdet/.mim/configs/mask_rcnn/mask_rcnn_r50_caffe_fpn_mstrain-poly_1x_coco.py\r\n",
      "      Removing file or directory /opt/conda/lib/python3.7/site-packages/mmdet/.mim/configs/mask_rcnn/mask_rcnn_r50_caffe_fpn_mstrain-poly_2x_coco.py\r\n",
      "      Removing file or directory /opt/conda/lib/python3.7/site-packages/mmdet/.mim/configs/mask_rcnn/mask_rcnn_r50_caffe_fpn_mstrain-poly_3x_coco.py\r\n",
      "      Removing file or directory /opt/conda/lib/python3.7/site-packages/mmdet/.mim/configs/mask_rcnn/mask_rcnn_r50_caffe_fpn_mstrain_1x_coco.py\r\n",
      "      Removing file or directory /opt/conda/lib/python3.7/site-packages/mmdet/.mim/configs/mask_rcnn/mask_rcnn_r50_caffe_fpn_poly_1x_coco_v1.py\r\n",
      "      Removing file or directory /opt/conda/lib/python3.7/site-packages/mmdet/.mim/configs/mask_rcnn/mask_rcnn_r50_fpn_1x_coco.py\r\n",
      "      Removing file or directory /opt/conda/lib/python3.7/site-packages/mmdet/.mim/configs/mask_rcnn/mask_rcnn_r50_fpn_2x_coco.py\r\n",
      "      Removing file or directory /opt/conda/lib/python3.7/site-packages/mmdet/.mim/configs/mask_rcnn/mask_rcnn_r50_fpn_fp16_1x_coco.py\r\n",
      "      Removing file or directory /opt/conda/lib/python3.7/site-packages/mmdet/.mim/configs/mask_rcnn/mask_rcnn_r50_fpn_mstrain-poly_3x_coco.py\r\n",
      "      Removing file or directory /opt/conda/lib/python3.7/site-packages/mmdet/.mim/configs/mask_rcnn/mask_rcnn_r50_fpn_poly_1x_coco.py\r\n",
      "      Removing file or directory /opt/conda/lib/python3.7/site-packages/mmdet/.mim/configs/mask_rcnn/mask_rcnn_x101_32x4d_fpn_1x_coco.py\r\n",
      "      Removing file or directory /opt/conda/lib/python3.7/site-packages/mmdet/.mim/configs/mask_rcnn/mask_rcnn_x101_32x4d_fpn_2x_coco.py\r\n",
      "      Removing file or directory /opt/conda/lib/python3.7/site-packages/mmdet/.mim/configs/mask_rcnn/mask_rcnn_x101_32x4d_fpn_mstrain-poly_3x_coco.py\r\n",
      "      Removing file or directory /opt/conda/lib/python3.7/site-packages/mmdet/.mim/configs/mask_rcnn/mask_rcnn_x101_32x8d_fpn_1x_coco.py\r\n",
      "      Removing file or directory /opt/conda/lib/python3.7/site-packages/mmdet/.mim/configs/mask_rcnn/mask_rcnn_x101_32x8d_fpn_mstrain-poly_1x_coco.py\r\n",
      "      Removing file or directory /opt/conda/lib/python3.7/site-packages/mmdet/.mim/configs/mask_rcnn/mask_rcnn_x101_32x8d_fpn_mstrain-poly_3x_coco.py\r\n",
      "      Removing file or directory /opt/conda/lib/python3.7/site-packages/mmdet/.mim/configs/mask_rcnn/mask_rcnn_x101_64x4d_fpn_1x_coco.py\r\n",
      "      Removing file or directory /opt/conda/lib/python3.7/site-packages/mmdet/.mim/configs/mask_rcnn/mask_rcnn_x101_64x4d_fpn_2x_coco.py\r\n",
      "      Removing file or directory /opt/conda/lib/python3.7/site-packages/mmdet/.mim/configs/mask_rcnn/mask_rcnn_x101_64x4d_fpn_mstrain-poly_3x_coco.py\r\n",
      "      Removing file or directory /opt/conda/lib/python3.7/site-packages/mmdet/.mim/configs/mask_rcnn/metafile.yml\r\n",
      "      Removing file or directory /opt/conda/lib/python3.7/site-packages/mmdet/.mim/configs/maskformer/maskformer_r50_mstrain_16x1_75e_coco.py\r\n",
      "      Removing file or directory /opt/conda/lib/python3.7/site-packages/mmdet/.mim/configs/maskformer/maskformer_swin-l-p4-w12_mstrain_64x1_300e_coco.py\r\n",
      "      Removing file or directory /opt/conda/lib/python3.7/site-packages/mmdet/.mim/configs/maskformer/metafile.yml\r\n",
      "      Removing file or directory /opt/conda/lib/python3.7/site-packages/mmdet/.mim/configs/ms_rcnn/metafile.yml\r\n",
      "      Removing file or directory /opt/conda/lib/python3.7/site-packages/mmdet/.mim/configs/ms_rcnn/ms_rcnn_r101_caffe_fpn_1x_coco.py\r\n",
      "      Removing file or directory /opt/conda/lib/python3.7/site-packages/mmdet/.mim/configs/ms_rcnn/ms_rcnn_r101_caffe_fpn_2x_coco.py\r\n",
      "      Removing file or directory /opt/conda/lib/python3.7/site-packages/mmdet/.mim/configs/ms_rcnn/ms_rcnn_r50_caffe_fpn_1x_coco.py\r\n",
      "      Removing file or directory /opt/conda/lib/python3.7/site-packages/mmdet/.mim/configs/ms_rcnn/ms_rcnn_r50_caffe_fpn_2x_coco.py\r\n",
      "      Removing file or directory /opt/conda/lib/python3.7/site-packages/mmdet/.mim/configs/ms_rcnn/ms_rcnn_r50_fpn_1x_coco.py\r\n",
      "      Removing file or directory /opt/conda/lib/python3.7/site-packages/mmdet/.mim/configs/ms_rcnn/ms_rcnn_x101_32x4d_fpn_1x_coco.py\r\n",
      "      Removing file or directory /opt/conda/lib/python3.7/site-packages/mmdet/.mim/configs/ms_rcnn/ms_rcnn_x101_64x4d_fpn_1x_coco.py\r\n",
      "      Removing file or directory /opt/conda/lib/python3.7/site-packages/mmdet/.mim/configs/ms_rcnn/ms_rcnn_x101_64x4d_fpn_2x_coco.py\r\n",
      "      Removing file or directory /opt/conda/lib/python3.7/site-packages/mmdet/.mim/configs/nas_fcos/metafile.yml\r\n",
      "      Removing file or directory /opt/conda/lib/python3.7/site-packages/mmdet/.mim/configs/nas_fcos/nas_fcos_fcoshead_r50_caffe_fpn_gn-head_4x4_1x_coco.py\r\n",
      "      Removing file or directory /opt/conda/lib/python3.7/site-packages/mmdet/.mim/configs/nas_fcos/nas_fcos_nashead_r50_caffe_fpn_gn-head_4x4_1x_coco.py\r\n",
      "      Removing file or directory /opt/conda/lib/python3.7/site-packages/mmdet/.mim/configs/nas_fpn/metafile.yml\r\n",
      "      Removing file or directory /opt/conda/lib/python3.7/site-packages/mmdet/.mim/configs/nas_fpn/retinanet_r50_fpn_crop640_50e_coco.py\r\n",
      "      Removing file or directory /opt/conda/lib/python3.7/site-packages/mmdet/.mim/configs/nas_fpn/retinanet_r50_nasfpn_crop640_50e_coco.py\r\n",
      "      Removing file or directory /opt/conda/lib/python3.7/site-packages/mmdet/.mim/configs/openimages/faster_rcnn_r50_fpn_32x2_1x_openimages.py\r\n",
      "      Removing file or directory /opt/conda/lib/python3.7/site-packages/mmdet/.mim/configs/openimages/faster_rcnn_r50_fpn_32x2_1x_openimages_challenge.py\r\n",
      "      Removing file or directory /opt/conda/lib/python3.7/site-packages/mmdet/.mim/configs/openimages/faster_rcnn_r50_fpn_32x2_cas_1x_openimages.py\r\n",
      "      Removing file or directory /opt/conda/lib/python3.7/site-packages/mmdet/.mim/configs/openimages/faster_rcnn_r50_fpn_32x2_cas_1x_openimages_challenge.py\r\n",
      "      Removing file or directory /opt/conda/lib/python3.7/site-packages/mmdet/.mim/configs/openimages/metafile.yml\r\n",
      "      Removing file or directory /opt/conda/lib/python3.7/site-packages/mmdet/.mim/configs/openimages/retinanet_r50_fpn_32x2_1x_openimages.py\r\n",
      "      Removing file or directory /opt/conda/lib/python3.7/site-packages/mmdet/.mim/configs/openimages/ssd300_32x8_36e_openimages.py\r\n",
      "      Removing file or directory /opt/conda/lib/python3.7/site-packages/mmdet/.mim/configs/paa/metafile.yml\r\n",
      "      Removing file or directory /opt/conda/lib/python3.7/site-packages/mmdet/.mim/configs/paa/paa_r101_fpn_1x_coco.py\r\n",
      "      Removing file or directory /opt/conda/lib/python3.7/site-packages/mmdet/.mim/configs/paa/paa_r101_fpn_2x_coco.py\r\n",
      "      Removing file or directory /opt/conda/lib/python3.7/site-packages/mmdet/.mim/configs/paa/paa_r101_fpn_mstrain_3x_coco.py\r\n",
      "      Removing file or directory /opt/conda/lib/python3.7/site-packages/mmdet/.mim/configs/paa/paa_r50_fpn_1.5x_coco.py\r\n",
      "      Removing file or directory /opt/conda/lib/python3.7/site-packages/mmdet/.mim/configs/paa/paa_r50_fpn_1x_coco.py\r\n",
      "      Removing file or directory /opt/conda/lib/python3.7/site-packages/mmdet/.mim/configs/paa/paa_r50_fpn_2x_coco.py\r\n",
      "      Removing file or directory /opt/conda/lib/python3.7/site-packages/mmdet/.mim/configs/paa/paa_r50_fpn_mstrain_3x_coco.py\r\n",
      "      Removing file or directory /opt/conda/lib/python3.7/site-packages/mmdet/.mim/configs/pafpn/faster_rcnn_r50_pafpn_1x_coco.py\r\n",
      "      Removing file or directory /opt/conda/lib/python3.7/site-packages/mmdet/.mim/configs/pafpn/metafile.yml\r\n",
      "      Removing file or directory /opt/conda/lib/python3.7/site-packages/mmdet/.mim/configs/panoptic_fpn/metafile.yml\r\n",
      "      Removing file or directory /opt/conda/lib/python3.7/site-packages/mmdet/.mim/configs/panoptic_fpn/panoptic_fpn_r101_fpn_1x_coco.py\r\n",
      "      Removing file or directory /opt/conda/lib/python3.7/site-packages/mmdet/.mim/configs/panoptic_fpn/panoptic_fpn_r101_fpn_mstrain_3x_coco.py\r\n",
      "      Removing file or directory /opt/conda/lib/python3.7/site-packages/mmdet/.mim/configs/panoptic_fpn/panoptic_fpn_r50_fpn_1x_coco.py\r\n",
      "      Removing file or directory /opt/conda/lib/python3.7/site-packages/mmdet/.mim/configs/panoptic_fpn/panoptic_fpn_r50_fpn_mstrain_3x_coco.py\r\n",
      "      Removing file or directory /opt/conda/lib/python3.7/site-packages/mmdet/.mim/configs/pascal_voc/faster_rcnn_r50_caffe_c4_mstrain_18k_voc0712.py\r\n",
      "      Removing file or directory /opt/conda/lib/python3.7/site-packages/mmdet/.mim/configs/pascal_voc/faster_rcnn_r50_fpn_1x_voc0712.py\r\n",
      "      Removing file or directory /opt/conda/lib/python3.7/site-packages/mmdet/.mim/configs/pascal_voc/faster_rcnn_r50_fpn_1x_voc0712_cocofmt.py\r\n",
      "      Removing file or directory /opt/conda/lib/python3.7/site-packages/mmdet/.mim/configs/pascal_voc/retinanet_r50_fpn_1x_voc0712.py\r\n",
      "      Removing file or directory /opt/conda/lib/python3.7/site-packages/mmdet/.mim/configs/pascal_voc/ssd300_voc0712.py\r\n",
      "      Removing file or directory /opt/conda/lib/python3.7/site-packages/mmdet/.mim/configs/pascal_voc/ssd512_voc0712.py\r\n",
      "      Removing file or directory /opt/conda/lib/python3.7/site-packages/mmdet/.mim/configs/pisa/metafile.yml\r\n",
      "      Removing file or directory /opt/conda/lib/python3.7/site-packages/mmdet/.mim/configs/pisa/pisa_faster_rcnn_r50_fpn_1x_coco.py\r\n",
      "      Removing file or directory /opt/conda/lib/python3.7/site-packages/mmdet/.mim/configs/pisa/pisa_faster_rcnn_x101_32x4d_fpn_1x_coco.py\r\n",
      "      Removing file or directory /opt/conda/lib/python3.7/site-packages/mmdet/.mim/configs/pisa/pisa_mask_rcnn_r50_fpn_1x_coco.py\r\n",
      "      Removing file or directory /opt/conda/lib/python3.7/site-packages/mmdet/.mim/configs/pisa/pisa_mask_rcnn_x101_32x4d_fpn_1x_coco.py\r\n",
      "      Removing file or directory /opt/conda/lib/python3.7/site-packages/mmdet/.mim/configs/pisa/pisa_retinanet_r50_fpn_1x_coco.py\r\n",
      "      Removing file or directory /opt/conda/lib/python3.7/site-packages/mmdet/.mim/configs/pisa/pisa_retinanet_x101_32x4d_fpn_1x_coco.py\r\n",
      "      Removing file or directory /opt/conda/lib/python3.7/site-packages/mmdet/.mim/configs/pisa/pisa_ssd300_coco.py\r\n",
      "      Removing file or directory /opt/conda/lib/python3.7/site-packages/mmdet/.mim/configs/pisa/pisa_ssd512_coco.py\r\n",
      "      Removing file or directory /opt/conda/lib/python3.7/site-packages/mmdet/.mim/configs/point_rend/metafile.yml\r\n",
      "      Removing file or directory /opt/conda/lib/python3.7/site-packages/mmdet/.mim/configs/point_rend/point_rend_r50_caffe_fpn_mstrain_1x_coco.py\r\n",
      "      Removing file or directory /opt/conda/lib/python3.7/site-packages/mmdet/.mim/configs/point_rend/point_rend_r50_caffe_fpn_mstrain_3x_coco.py\r\n",
      "      Removing file or directory /opt/conda/lib/python3.7/site-packages/mmdet/.mim/configs/pvt/metafile.yml\r\n",
      "      Removing file or directory /opt/conda/lib/python3.7/site-packages/mmdet/.mim/configs/pvt/retinanet_pvt-l_fpn_1x_coco.py\r\n",
      "      Removing file or directory /opt/conda/lib/python3.7/site-packages/mmdet/.mim/configs/pvt/retinanet_pvt-m_fpn_1x_coco.py\r\n",
      "      Removing file or directory /opt/conda/lib/python3.7/site-packages/mmdet/.mim/configs/pvt/retinanet_pvt-s_fpn_1x_coco.py\r\n",
      "      Removing file or directory /opt/conda/lib/python3.7/site-packages/mmdet/.mim/configs/pvt/retinanet_pvt-t_fpn_1x_coco.py\r\n",
      "      Removing file or directory /opt/conda/lib/python3.7/site-packages/mmdet/.mim/configs/pvt/retinanet_pvtv2-b0_fpn_1x_coco.py\r\n",
      "      Removing file or directory /opt/conda/lib/python3.7/site-packages/mmdet/.mim/configs/pvt/retinanet_pvtv2-b1_fpn_1x_coco.py\r\n",
      "      Removing file or directory /opt/conda/lib/python3.7/site-packages/mmdet/.mim/configs/pvt/retinanet_pvtv2-b2_fpn_1x_coco.py\r\n",
      "      Removing file or directory /opt/conda/lib/python3.7/site-packages/mmdet/.mim/configs/pvt/retinanet_pvtv2-b3_fpn_1x_coco.py\r\n",
      "      Removing file or directory /opt/conda/lib/python3.7/site-packages/mmdet/.mim/configs/pvt/retinanet_pvtv2-b4_fpn_1x_coco.py\r\n",
      "      Removing file or directory /opt/conda/lib/python3.7/site-packages/mmdet/.mim/configs/pvt/retinanet_pvtv2-b5_fpn_1x_coco.py\r\n",
      "      Removing file or directory /opt/conda/lib/python3.7/site-packages/mmdet/.mim/configs/queryinst/metafile.yml\r\n",
      "      Removing file or directory /opt/conda/lib/python3.7/site-packages/mmdet/.mim/configs/queryinst/queryinst_r101_fpn_300_proposals_crop_mstrain_480-800_3x_coco.py\r\n",
      "      Removing file or directory /opt/conda/lib/python3.7/site-packages/mmdet/.mim/configs/queryinst/queryinst_r101_fpn_mstrain_480-800_3x_coco.py\r\n",
      "      Removing file or directory /opt/conda/lib/python3.7/site-packages/mmdet/.mim/configs/queryinst/queryinst_r50_fpn_1x_coco.py\r\n",
      "      Removing file or directory /opt/conda/lib/python3.7/site-packages/mmdet/.mim/configs/queryinst/queryinst_r50_fpn_300_proposals_crop_mstrain_480-800_3x_coco.py\r\n",
      "      Removing file or directory /opt/conda/lib/python3.7/site-packages/mmdet/.mim/configs/queryinst/queryinst_r50_fpn_mstrain_480-800_3x_coco.py\r\n",
      "      Removing file or directory /opt/conda/lib/python3.7/site-packages/mmdet/.mim/configs/regnet/cascade_mask_rcnn_regnetx-1.6GF_fpn_mstrain_3x_coco.py\r\n",
      "      Removing file or directory /opt/conda/lib/python3.7/site-packages/mmdet/.mim/configs/regnet/cascade_mask_rcnn_regnetx-3.2GF_fpn_mstrain_3x_coco.py\r\n",
      "      Removing file or directory /opt/conda/lib/python3.7/site-packages/mmdet/.mim/configs/regnet/cascade_mask_rcnn_regnetx-400MF_fpn_mstrain_3x_coco.py\r\n",
      "      Removing file or directory /opt/conda/lib/python3.7/site-packages/mmdet/.mim/configs/regnet/cascade_mask_rcnn_regnetx-4GF_fpn_mstrain_3x_coco.py\r\n",
      "      Removing file or directory /opt/conda/lib/python3.7/site-packages/mmdet/.mim/configs/regnet/cascade_mask_rcnn_regnetx-800MF_fpn_mstrain_3x_coco.py\r\n",
      "      Removing file or directory /opt/conda/lib/python3.7/site-packages/mmdet/.mim/configs/regnet/faster_rcnn_regnetx-1.6GF_fpn_mstrain_3x_coco.py\r\n",
      "      Removing file or directory /opt/conda/lib/python3.7/site-packages/mmdet/.mim/configs/regnet/faster_rcnn_regnetx-3.2GF_fpn_1x_coco.py\r\n",
      "      Removing file or directory /opt/conda/lib/python3.7/site-packages/mmdet/.mim/configs/regnet/faster_rcnn_regnetx-3.2GF_fpn_2x_coco.py\r\n",
      "      Removing file or directory /opt/conda/lib/python3.7/site-packages/mmdet/.mim/configs/regnet/faster_rcnn_regnetx-3.2GF_fpn_mstrain_3x_coco.py\r\n",
      "      Removing file or directory /opt/conda/lib/python3.7/site-packages/mmdet/.mim/configs/regnet/faster_rcnn_regnetx-400MF_fpn_mstrain_3x_coco.py\r\n",
      "      Removing file or directory /opt/conda/lib/python3.7/site-packages/mmdet/.mim/configs/regnet/faster_rcnn_regnetx-4GF_fpn_mstrain_3x_coco.py\r\n",
      "      Removing file or directory /opt/conda/lib/python3.7/site-packages/mmdet/.mim/configs/regnet/faster_rcnn_regnetx-800MF_fpn_mstrain_3x_coco.py\r\n",
      "      Removing file or directory /opt/conda/lib/python3.7/site-packages/mmdet/.mim/configs/regnet/mask_rcnn_regnetx-1.6GF_fpn_mstrain-poly_3x_coco.py\r\n",
      "      Removing file or directory /opt/conda/lib/python3.7/site-packages/mmdet/.mim/configs/regnet/mask_rcnn_regnetx-12GF_fpn_1x_coco.py\r\n",
      "      Removing file or directory /opt/conda/lib/python3.7/site-packages/mmdet/.mim/configs/regnet/mask_rcnn_regnetx-3.2GF_fpn_1x_coco.py\r\n",
      "      Removing file or directory /opt/conda/lib/python3.7/site-packages/mmdet/.mim/configs/regnet/mask_rcnn_regnetx-3.2GF_fpn_mdconv_c3-c5_1x_coco.py\r\n",
      "      Removing file or directory /opt/conda/lib/python3.7/site-packages/mmdet/.mim/configs/regnet/mask_rcnn_regnetx-3.2GF_fpn_mstrain_3x_coco.py\r\n",
      "      Removing file or directory /opt/conda/lib/python3.7/site-packages/mmdet/.mim/configs/regnet/mask_rcnn_regnetx-400MF_fpn_mstrain-poly_3x_coco.py\r\n",
      "      Removing file or directory /opt/conda/lib/python3.7/site-packages/mmdet/.mim/configs/regnet/mask_rcnn_regnetx-4GF_fpn_1x_coco.py\r\n",
      "      Removing file or directory /opt/conda/lib/python3.7/site-packages/mmdet/.mim/configs/regnet/mask_rcnn_regnetx-4GF_fpn_mstrain-poly_3x_coco.py\r\n",
      "      Removing file or directory /opt/conda/lib/python3.7/site-packages/mmdet/.mim/configs/regnet/mask_rcnn_regnetx-6.4GF_fpn_1x_coco.py\r\n",
      "      Removing file or directory /opt/conda/lib/python3.7/site-packages/mmdet/.mim/configs/regnet/mask_rcnn_regnetx-800MF_fpn_mstrain-poly_3x_coco.py\r\n",
      "      Removing file or directory /opt/conda/lib/python3.7/site-packages/mmdet/.mim/configs/regnet/mask_rcnn_regnetx-8GF_fpn_1x_coco.py\r\n",
      "      Removing file or directory /opt/conda/lib/python3.7/site-packages/mmdet/.mim/configs/regnet/metafile.yml\r\n",
      "      Removing file or directory /opt/conda/lib/python3.7/site-packages/mmdet/.mim/configs/regnet/retinanet_regnetx-1.6GF_fpn_1x_coco.py\r\n",
      "      Removing file or directory /opt/conda/lib/python3.7/site-packages/mmdet/.mim/configs/regnet/retinanet_regnetx-3.2GF_fpn_1x_coco.py\r\n",
      "      Removing file or directory /opt/conda/lib/python3.7/site-packages/mmdet/.mim/configs/regnet/retinanet_regnetx-800MF_fpn_1x_coco.py\r\n",
      "      Removing file or directory /opt/conda/lib/python3.7/site-packages/mmdet/.mim/configs/reppoints/bbox_r50_grid_center_fpn_gn-neck+head_1x_coco.py\r\n",
      "      Removing file or directory /opt/conda/lib/python3.7/site-packages/mmdet/.mim/configs/reppoints/bbox_r50_grid_fpn_gn-neck+head_1x_coco.py\r\n",
      "      Removing file or directory /opt/conda/lib/python3.7/site-packages/mmdet/.mim/configs/reppoints/metafile.yml\r\n",
      "      Removing file or directory /opt/conda/lib/python3.7/site-packages/mmdet/.mim/configs/reppoints/reppoints_minmax_r50_fpn_gn-neck+head_1x_coco.py\r\n",
      "      Removing file or directory /opt/conda/lib/python3.7/site-packages/mmdet/.mim/configs/reppoints/reppoints_moment_r101_fpn_dconv_c3-c5_gn-neck+head_2x_coco.py\r\n",
      "      Removing file or directory /opt/conda/lib/python3.7/site-packages/mmdet/.mim/configs/reppoints/reppoints_moment_r101_fpn_gn-neck+head_2x_coco.py\r\n",
      "      Removing file or directory /opt/conda/lib/python3.7/site-packages/mmdet/.mim/configs/reppoints/reppoints_moment_r50_fpn_1x_coco.py\r\n",
      "      Removing file or directory /opt/conda/lib/python3.7/site-packages/mmdet/.mim/configs/reppoints/reppoints_moment_r50_fpn_gn-neck+head_1x_coco.py\r\n",
      "      Removing file or directory /opt/conda/lib/python3.7/site-packages/mmdet/.mim/configs/reppoints/reppoints_moment_r50_fpn_gn-neck+head_2x_coco.py\r\n",
      "      Removing file or directory /opt/conda/lib/python3.7/site-packages/mmdet/.mim/configs/reppoints/reppoints_moment_x101_fpn_dconv_c3-c5_gn-neck+head_2x_coco.py\r\n",
      "      Removing file or directory /opt/conda/lib/python3.7/site-packages/mmdet/.mim/configs/reppoints/reppoints_partial_minmax_r50_fpn_gn-neck+head_1x_coco.py\r\n",
      "      Removing file or directory /opt/conda/lib/python3.7/site-packages/mmdet/.mim/configs/res2net/cascade_mask_rcnn_r2_101_fpn_20e_coco.py\r\n",
      "      Removing file or directory /opt/conda/lib/python3.7/site-packages/mmdet/.mim/configs/res2net/cascade_rcnn_r2_101_fpn_20e_coco.py\r\n",
      "      Removing file or directory /opt/conda/lib/python3.7/site-packages/mmdet/.mim/configs/res2net/faster_rcnn_r2_101_fpn_2x_coco.py\r\n",
      "      Removing file or directory /opt/conda/lib/python3.7/site-packages/mmdet/.mim/configs/res2net/htc_r2_101_fpn_20e_coco.py\r\n",
      "      Removing file or directory /opt/conda/lib/python3.7/site-packages/mmdet/.mim/configs/res2net/mask_rcnn_r2_101_fpn_2x_coco.py\r\n",
      "      Removing file or directory /opt/conda/lib/python3.7/site-packages/mmdet/.mim/configs/res2net/metafile.yml\r\n",
      "      Removing file or directory /opt/conda/lib/python3.7/site-packages/mmdet/.mim/configs/resnest/cascade_mask_rcnn_s101_fpn_syncbn-backbone+head_mstrain_1x_coco.py\r\n",
      "      Removing file or directory /opt/conda/lib/python3.7/site-packages/mmdet/.mim/configs/resnest/cascade_mask_rcnn_s50_fpn_syncbn-backbone+head_mstrain_1x_coco.py\r\n",
      "      Removing file or directory /opt/conda/lib/python3.7/site-packages/mmdet/.mim/configs/resnest/cascade_rcnn_s101_fpn_syncbn-backbone+head_mstrain-range_1x_coco.py\r\n",
      "      Removing file or directory /opt/conda/lib/python3.7/site-packages/mmdet/.mim/configs/resnest/cascade_rcnn_s50_fpn_syncbn-backbone+head_mstrain-range_1x_coco.py\r\n",
      "      Removing file or directory /opt/conda/lib/python3.7/site-packages/mmdet/.mim/configs/resnest/faster_rcnn_s101_fpn_syncbn-backbone+head_mstrain-range_1x_coco.py\r\n",
      "      Removing file or directory /opt/conda/lib/python3.7/site-packages/mmdet/.mim/configs/resnest/faster_rcnn_s50_fpn_syncbn-backbone+head_mstrain-range_1x_coco.py\r\n",
      "      Removing file or directory /opt/conda/lib/python3.7/site-packages/mmdet/.mim/configs/resnest/mask_rcnn_s101_fpn_syncbn-backbone+head_mstrain_1x_coco.py\r\n",
      "      Removing file or directory /opt/conda/lib/python3.7/site-packages/mmdet/.mim/configs/resnest/mask_rcnn_s50_fpn_syncbn-backbone+head_mstrain_1x_coco.py\r\n",
      "      Removing file or directory /opt/conda/lib/python3.7/site-packages/mmdet/.mim/configs/resnest/metafile.yml\r\n",
      "      Removing file or directory /opt/conda/lib/python3.7/site-packages/mmdet/.mim/configs/resnet_strikes_back/cascade_mask_rcnn_r50_fpn_rsb-pretrain_1x_coco.py\r\n",
      "      Removing file or directory /opt/conda/lib/python3.7/site-packages/mmdet/.mim/configs/resnet_strikes_back/faster_rcnn_r50_fpn_rsb-pretrain_1x_coco.py\r\n",
      "      Removing file or directory /opt/conda/lib/python3.7/site-packages/mmdet/.mim/configs/resnet_strikes_back/mask_rcnn_r50_fpn_rsb-pretrain_1x_coco.py\r\n",
      "      Removing file or directory /opt/conda/lib/python3.7/site-packages/mmdet/.mim/configs/resnet_strikes_back/metafile.yml\r\n",
      "      Removing file or directory /opt/conda/lib/python3.7/site-packages/mmdet/.mim/configs/resnet_strikes_back/retinanet_r50_fpn_rsb-pretrain_1x_coco.py\r\n",
      "      Removing file or directory /opt/conda/lib/python3.7/site-packages/mmdet/.mim/configs/retinanet/metafile.yml\r\n",
      "      Removing file or directory /opt/conda/lib/python3.7/site-packages/mmdet/.mim/configs/retinanet/retinanet_r101_caffe_fpn_1x_coco.py\r\n",
      "      Removing file or directory /opt/conda/lib/python3.7/site-packages/mmdet/.mim/configs/retinanet/retinanet_r101_caffe_fpn_mstrain_3x_coco.py\r\n",
      "      Removing file or directory /opt/conda/lib/python3.7/site-packages/mmdet/.mim/configs/retinanet/retinanet_r101_fpn_1x_coco.py\r\n",
      "      Removing file or directory /opt/conda/lib/python3.7/site-packages/mmdet/.mim/configs/retinanet/retinanet_r101_fpn_2x_coco.py\r\n",
      "      Removing file or directory /opt/conda/lib/python3.7/site-packages/mmdet/.mim/configs/retinanet/retinanet_r101_fpn_mstrain_640-800_3x_coco.py\r\n",
      "      Removing file or directory /opt/conda/lib/python3.7/site-packages/mmdet/.mim/configs/retinanet/retinanet_r18_fpn_1x8_1x_coco.py\r\n",
      "      Removing file or directory /opt/conda/lib/python3.7/site-packages/mmdet/.mim/configs/retinanet/retinanet_r18_fpn_1x_coco.py\r\n",
      "      Removing file or directory /opt/conda/lib/python3.7/site-packages/mmdet/.mim/configs/retinanet/retinanet_r50_caffe_fpn_1x_coco.py\r\n",
      "      Removing file or directory /opt/conda/lib/python3.7/site-packages/mmdet/.mim/configs/retinanet/retinanet_r50_caffe_fpn_mstrain_1x_coco.py\r\n",
      "      Removing file or directory /opt/conda/lib/python3.7/site-packages/mmdet/.mim/configs/retinanet/retinanet_r50_caffe_fpn_mstrain_2x_coco.py\r\n",
      "      Removing file or directory /opt/conda/lib/python3.7/site-packages/mmdet/.mim/configs/retinanet/retinanet_r50_caffe_fpn_mstrain_3x_coco.py\r\n",
      "      Removing file or directory /opt/conda/lib/python3.7/site-packages/mmdet/.mim/configs/retinanet/retinanet_r50_fpn_1x_coco.py\r\n",
      "      Removing file or directory /opt/conda/lib/python3.7/site-packages/mmdet/.mim/configs/retinanet/retinanet_r50_fpn_2x_coco.py\r\n",
      "      Removing file or directory /opt/conda/lib/python3.7/site-packages/mmdet/.mim/configs/retinanet/retinanet_r50_fpn_90k_coco.py\r\n",
      "      Removing file or directory /opt/conda/lib/python3.7/site-packages/mmdet/.mim/configs/retinanet/retinanet_r50_fpn_fp16_1x_coco.py\r\n",
      "      Removing file or directory /opt/conda/lib/python3.7/site-packages/mmdet/.mim/configs/retinanet/retinanet_r50_fpn_mstrain_640-800_3x_coco.py\r\n",
      "      Removing file or directory /opt/conda/lib/python3.7/site-packages/mmdet/.mim/configs/retinanet/retinanet_x101_32x4d_fpn_1x_coco.py\r\n",
      "      Removing file or directory /opt/conda/lib/python3.7/site-packages/mmdet/.mim/configs/retinanet/retinanet_x101_32x4d_fpn_2x_coco.py\r\n",
      "      Removing file or directory /opt/conda/lib/python3.7/site-packages/mmdet/.mim/configs/retinanet/retinanet_x101_64x4d_fpn_1x_coco.py\r\n",
      "      Removing file or directory /opt/conda/lib/python3.7/site-packages/mmdet/.mim/configs/retinanet/retinanet_x101_64x4d_fpn_2x_coco.py\r\n",
      "      Removing file or directory /opt/conda/lib/python3.7/site-packages/mmdet/.mim/configs/retinanet/retinanet_x101_64x4d_fpn_mstrain_640-800_3x_coco.py\r\n",
      "      Removing file or directory /opt/conda/lib/python3.7/site-packages/mmdet/.mim/configs/rpn/rpn_r101_caffe_fpn_1x_coco.py\r\n",
      "      Removing file or directory /opt/conda/lib/python3.7/site-packages/mmdet/.mim/configs/rpn/rpn_r101_fpn_1x_coco.py\r\n",
      "      Removing file or directory /opt/conda/lib/python3.7/site-packages/mmdet/.mim/configs/rpn/rpn_r101_fpn_2x_coco.py\r\n",
      "      Removing file or directory /opt/conda/lib/python3.7/site-packages/mmdet/.mim/configs/rpn/rpn_r50_caffe_c4_1x_coco.py\r\n",
      "      Removing file or directory /opt/conda/lib/python3.7/site-packages/mmdet/.mim/configs/rpn/rpn_r50_caffe_fpn_1x_coco.py\r\n",
      "      Removing file or directory /opt/conda/lib/python3.7/site-packages/mmdet/.mim/configs/rpn/rpn_r50_fpn_1x_coco.py\r\n",
      "      Removing file or directory /opt/conda/lib/python3.7/site-packages/mmdet/.mim/configs/rpn/rpn_r50_fpn_2x_coco.py\r\n",
      "      Removing file or directory /opt/conda/lib/python3.7/site-packages/mmdet/.mim/configs/rpn/rpn_x101_32x4d_fpn_1x_coco.py\r\n",
      "      Removing file or directory /opt/conda/lib/python3.7/site-packages/mmdet/.mim/configs/rpn/rpn_x101_32x4d_fpn_2x_coco.py\r\n",
      "      Removing file or directory /opt/conda/lib/python3.7/site-packages/mmdet/.mim/configs/rpn/rpn_x101_64x4d_fpn_1x_coco.py\r\n",
      "      Removing file or directory /opt/conda/lib/python3.7/site-packages/mmdet/.mim/configs/rpn/rpn_x101_64x4d_fpn_2x_coco.py\r\n",
      "      Removing file or directory /opt/conda/lib/python3.7/site-packages/mmdet/.mim/configs/sabl/metafile.yml\r\n",
      "      Removing file or directory /opt/conda/lib/python3.7/site-packages/mmdet/.mim/configs/sabl/sabl_cascade_rcnn_r101_fpn_1x_coco.py\r\n",
      "      Removing file or directory /opt/conda/lib/python3.7/site-packages/mmdet/.mim/configs/sabl/sabl_cascade_rcnn_r50_fpn_1x_coco.py\r\n",
      "      Removing file or directory /opt/conda/lib/python3.7/site-packages/mmdet/.mim/configs/sabl/sabl_faster_rcnn_r101_fpn_1x_coco.py\r\n",
      "      Removing file or directory /opt/conda/lib/python3.7/site-packages/mmdet/.mim/configs/sabl/sabl_faster_rcnn_r50_fpn_1x_coco.py\r\n",
      "      Removing file or directory /opt/conda/lib/python3.7/site-packages/mmdet/.mim/configs/sabl/sabl_retinanet_r101_fpn_1x_coco.py\r\n",
      "      Removing file or directory /opt/conda/lib/python3.7/site-packages/mmdet/.mim/configs/sabl/sabl_retinanet_r101_fpn_gn_1x_coco.py\r\n",
      "      Removing file or directory /opt/conda/lib/python3.7/site-packages/mmdet/.mim/configs/sabl/sabl_retinanet_r101_fpn_gn_2x_ms_480_960_coco.py\r\n",
      "      Removing file or directory /opt/conda/lib/python3.7/site-packages/mmdet/.mim/configs/sabl/sabl_retinanet_r101_fpn_gn_2x_ms_640_800_coco.py\r\n",
      "      Removing file or directory /opt/conda/lib/python3.7/site-packages/mmdet/.mim/configs/sabl/sabl_retinanet_r50_fpn_1x_coco.py\r\n",
      "      Removing file or directory /opt/conda/lib/python3.7/site-packages/mmdet/.mim/configs/sabl/sabl_retinanet_r50_fpn_gn_1x_coco.py\r\n",
      "      Removing file or directory /opt/conda/lib/python3.7/site-packages/mmdet/.mim/configs/scnet/metafile.yml\r\n",
      "      Removing file or directory /opt/conda/lib/python3.7/site-packages/mmdet/.mim/configs/scnet/scnet_r101_fpn_20e_coco.py\r\n",
      "      Removing file or directory /opt/conda/lib/python3.7/site-packages/mmdet/.mim/configs/scnet/scnet_r50_fpn_1x_coco.py\r\n",
      "      Removing file or directory /opt/conda/lib/python3.7/site-packages/mmdet/.mim/configs/scnet/scnet_r50_fpn_20e_coco.py\r\n",
      "      Removing file or directory /opt/conda/lib/python3.7/site-packages/mmdet/.mim/configs/scnet/scnet_x101_64x4d_fpn_20e_coco.py\r\n",
      "      Removing file or directory /opt/conda/lib/python3.7/site-packages/mmdet/.mim/configs/scnet/scnet_x101_64x4d_fpn_8x1_20e_coco.py\r\n",
      "      Removing file or directory /opt/conda/lib/python3.7/site-packages/mmdet/.mim/configs/scratch/faster_rcnn_r50_fpn_gn-all_scratch_6x_coco.py\r\n",
      "      Removing file or directory /opt/conda/lib/python3.7/site-packages/mmdet/.mim/configs/scratch/mask_rcnn_r50_fpn_gn-all_scratch_6x_coco.py\r\n",
      "      Removing file or directory /opt/conda/lib/python3.7/site-packages/mmdet/.mim/configs/scratch/metafile.yml\r\n",
      "      Removing file or directory /opt/conda/lib/python3.7/site-packages/mmdet/.mim/configs/seesaw_loss/cascade_mask_rcnn_r101_fpn_random_seesaw_loss_mstrain_2x_lvis_v1.py\r\n",
      "      Removing file or directory /opt/conda/lib/python3.7/site-packages/mmdet/.mim/configs/seesaw_loss/cascade_mask_rcnn_r101_fpn_random_seesaw_loss_normed_mask_mstrain_2x_lvis_v1.py\r\n",
      "      Removing file or directory /opt/conda/lib/python3.7/site-packages/mmdet/.mim/configs/seesaw_loss/cascade_mask_rcnn_r101_fpn_sample1e-3_seesaw_loss_mstrain_2x_lvis_v1.py\r\n",
      "      Removing file or directory /opt/conda/lib/python3.7/site-packages/mmdet/.mim/configs/seesaw_loss/cascade_mask_rcnn_r101_fpn_sample1e-3_seesaw_loss_normed_mask_mstrain_2x_lvis_v1.py\r\n",
      "      Removing file or directory /opt/conda/lib/python3.7/site-packages/mmdet/.mim/configs/seesaw_loss/mask_rcnn_r101_fpn_random_seesaw_loss_mstrain_2x_lvis_v1.py\r\n",
      "      Removing file or directory /opt/conda/lib/python3.7/site-packages/mmdet/.mim/configs/seesaw_loss/mask_rcnn_r101_fpn_random_seesaw_loss_normed_mask_mstrain_2x_lvis_v1.py\r\n",
      "      Removing file or directory /opt/conda/lib/python3.7/site-packages/mmdet/.mim/configs/seesaw_loss/mask_rcnn_r101_fpn_sample1e-3_seesaw_loss_mstrain_2x_lvis_v1.py\r\n",
      "      Removing file or directory /opt/conda/lib/python3.7/site-packages/mmdet/.mim/configs/seesaw_loss/mask_rcnn_r101_fpn_sample1e-3_seesaw_loss_normed_mask_mstrain_2x_lvis_v1.py\r\n",
      "      Removing file or directory /opt/conda/lib/python3.7/site-packages/mmdet/.mim/configs/seesaw_loss/mask_rcnn_r50_fpn_random_seesaw_loss_mstrain_2x_lvis_v1.py\r\n",
      "      Removing file or directory /opt/conda/lib/python3.7/site-packages/mmdet/.mim/configs/seesaw_loss/mask_rcnn_r50_fpn_random_seesaw_loss_normed_mask_mstrain_2x_lvis_v1.py\r\n",
      "      Removing file or directory /opt/conda/lib/python3.7/site-packages/mmdet/.mim/configs/seesaw_loss/mask_rcnn_r50_fpn_sample1e-3_seesaw_loss_mstrain_2x_lvis_v1.py\r\n",
      "      Removing file or directory /opt/conda/lib/python3.7/site-packages/mmdet/.mim/configs/seesaw_loss/mask_rcnn_r50_fpn_sample1e-3_seesaw_loss_normed_mask_mstrain_2x_lvis_v1.py\r\n",
      "      Removing file or directory /opt/conda/lib/python3.7/site-packages/mmdet/.mim/configs/seesaw_loss/metafile.yml\r\n",
      "      Removing file or directory /opt/conda/lib/python3.7/site-packages/mmdet/.mim/configs/selfsup_pretrain/mask_rcnn_r50_fpn_mocov2-pretrain_1x_coco.py\r\n",
      "      Removing file or directory /opt/conda/lib/python3.7/site-packages/mmdet/.mim/configs/selfsup_pretrain/mask_rcnn_r50_fpn_mocov2-pretrain_ms-2x_coco.py\r\n",
      "      Removing file or directory /opt/conda/lib/python3.7/site-packages/mmdet/.mim/configs/selfsup_pretrain/mask_rcnn_r50_fpn_swav-pretrain_1x_coco.py\r\n",
      "      Removing file or directory /opt/conda/lib/python3.7/site-packages/mmdet/.mim/configs/selfsup_pretrain/mask_rcnn_r50_fpn_swav-pretrain_ms-2x_coco.py\r\n",
      "      Removing file or directory /opt/conda/lib/python3.7/site-packages/mmdet/.mim/configs/simple_copy_paste/mask_rcnn_r50_fpn_syncbn-all_rpn-2conv_ssj_32x2_270k_coco.py\r\n",
      "      Removing file or directory /opt/conda/lib/python3.7/site-packages/mmdet/.mim/configs/simple_copy_paste/mask_rcnn_r50_fpn_syncbn-all_rpn-2conv_ssj_32x2_90k_coco.py\r\n",
      "      Removing file or directory /opt/conda/lib/python3.7/site-packages/mmdet/.mim/configs/simple_copy_paste/mask_rcnn_r50_fpn_syncbn-all_rpn-2conv_ssj_scp_32x2_270k_coco.py\r\n",
      "      Removing file or directory /opt/conda/lib/python3.7/site-packages/mmdet/.mim/configs/simple_copy_paste/mask_rcnn_r50_fpn_syncbn-all_rpn-2conv_ssj_scp_32x2_90k_coco.py\r\n",
      "      Removing file or directory /opt/conda/lib/python3.7/site-packages/mmdet/.mim/configs/solo/decoupled_solo_light_r50_fpn_3x_coco.py\r\n",
      "      Removing file or directory /opt/conda/lib/python3.7/site-packages/mmdet/.mim/configs/solo/decoupled_solo_r50_fpn_1x_coco.py\r\n",
      "      Removing file or directory /opt/conda/lib/python3.7/site-packages/mmdet/.mim/configs/solo/decoupled_solo_r50_fpn_3x_coco.py\r\n",
      "      Removing file or directory /opt/conda/lib/python3.7/site-packages/mmdet/.mim/configs/solo/metafile.yml\r\n",
      "      Removing file or directory /opt/conda/lib/python3.7/site-packages/mmdet/.mim/configs/solo/solo_r50_fpn_1x_coco.py\r\n",
      "      Removing file or directory /opt/conda/lib/python3.7/site-packages/mmdet/.mim/configs/solo/solo_r50_fpn_3x_coco.py\r\n",
      "      Removing file or directory /opt/conda/lib/python3.7/site-packages/mmdet/.mim/configs/sparse_rcnn/metafile.yml\r\n",
      "      Removing file or directory /opt/conda/lib/python3.7/site-packages/mmdet/.mim/configs/sparse_rcnn/sparse_rcnn_r101_fpn_300_proposals_crop_mstrain_480-800_3x_coco.py\r\n",
      "      Removing file or directory /opt/conda/lib/python3.7/site-packages/mmdet/.mim/configs/sparse_rcnn/sparse_rcnn_r101_fpn_mstrain_480-800_3x_coco.py\r\n",
      "      Removing file or directory /opt/conda/lib/python3.7/site-packages/mmdet/.mim/configs/sparse_rcnn/sparse_rcnn_r50_fpn_1x_coco.py\r\n",
      "      Removing file or directory /opt/conda/lib/python3.7/site-packages/mmdet/.mim/configs/sparse_rcnn/sparse_rcnn_r50_fpn_300_proposals_crop_mstrain_480-800_3x_coco.py\r\n",
      "      Removing file or directory /opt/conda/lib/python3.7/site-packages/mmdet/.mim/configs/sparse_rcnn/sparse_rcnn_r50_fpn_mstrain_480-800_3x_coco.py\r\n",
      "      Removing file or directory /opt/conda/lib/python3.7/site-packages/mmdet/.mim/configs/ssd/metafile.yml\r\n",
      "      Removing file or directory /opt/conda/lib/python3.7/site-packages/mmdet/.mim/configs/ssd/ssd300_coco.py\r\n",
      "      Removing file or directory /opt/conda/lib/python3.7/site-packages/mmdet/.mim/configs/ssd/ssd512_coco.py\r\n",
      "      Removing file or directory /opt/conda/lib/python3.7/site-packages/mmdet/.mim/configs/ssd/ssdlite_mobilenetv2_scratch_600e_coco.py\r\n",
      "      Removing file or directory /opt/conda/lib/python3.7/site-packages/mmdet/.mim/configs/strong_baselines/mask_rcnn_r50_caffe_fpn_syncbn-all_rpn-2conv_lsj_100e_coco.py\r\n",
      "      Removing file or directory /opt/conda/lib/python3.7/site-packages/mmdet/.mim/configs/strong_baselines/mask_rcnn_r50_caffe_fpn_syncbn-all_rpn-2conv_lsj_100e_fp16_coco.py\r\n",
      "      Removing file or directory /opt/conda/lib/python3.7/site-packages/mmdet/.mim/configs/strong_baselines/mask_rcnn_r50_caffe_fpn_syncbn-all_rpn-2conv_lsj_400e_coco.py\r\n",
      "      Removing file or directory /opt/conda/lib/python3.7/site-packages/mmdet/.mim/configs/strong_baselines/mask_rcnn_r50_fpn_syncbn-all_rpn-2conv_lsj_100e_coco.py\r\n",
      "      Removing file or directory /opt/conda/lib/python3.7/site-packages/mmdet/.mim/configs/strong_baselines/mask_rcnn_r50_fpn_syncbn-all_rpn-2conv_lsj_100e_fp16_coco.py\r\n",
      "      Removing file or directory /opt/conda/lib/python3.7/site-packages/mmdet/.mim/configs/strong_baselines/mask_rcnn_r50_fpn_syncbn-all_rpn-2conv_lsj_50e_coco.py\r\n",
      "      Removing file or directory /opt/conda/lib/python3.7/site-packages/mmdet/.mim/configs/swin/mask_rcnn_swin-s-p4-w7_fpn_fp16_ms-crop-3x_coco.py\r\n",
      "      Removing file or directory /opt/conda/lib/python3.7/site-packages/mmdet/.mim/configs/swin/mask_rcnn_swin-t-p4-w7_fpn_1x_coco.py\r\n",
      "      Removing file or directory /opt/conda/lib/python3.7/site-packages/mmdet/.mim/configs/swin/mask_rcnn_swin-t-p4-w7_fpn_fp16_ms-crop-3x_coco.py\r\n",
      "      Removing file or directory /opt/conda/lib/python3.7/site-packages/mmdet/.mim/configs/swin/mask_rcnn_swin-t-p4-w7_fpn_ms-crop-3x_coco.py\r\n",
      "      Removing file or directory /opt/conda/lib/python3.7/site-packages/mmdet/.mim/configs/swin/metafile.yml\r\n",
      "      Removing file or directory /opt/conda/lib/python3.7/site-packages/mmdet/.mim/configs/swin/retinanet_swin-t-p4-w7_fpn_1x_coco.py\r\n",
      "      Removing file or directory /opt/conda/lib/python3.7/site-packages/mmdet/.mim/configs/timm_example/retinanet_timm_efficientnet_b1_fpn_1x_coco.py\r\n",
      "      Removing file or directory /opt/conda/lib/python3.7/site-packages/mmdet/.mim/configs/timm_example/retinanet_timm_tv_resnet50_fpn_1x_coco.py\r\n",
      "      Removing file or directory /opt/conda/lib/python3.7/site-packages/mmdet/.mim/configs/tood/metafile.yml\r\n",
      "      Removing file or directory /opt/conda/lib/python3.7/site-packages/mmdet/.mim/configs/tood/tood_r101_fpn_dconv_c3-c5_mstrain_2x_coco.py\r\n",
      "      Removing file or directory /opt/conda/lib/python3.7/site-packages/mmdet/.mim/configs/tood/tood_r101_fpn_mstrain_2x_coco.py\r\n",
      "      Removing file or directory /opt/conda/lib/python3.7/site-packages/mmdet/.mim/configs/tood/tood_r50_fpn_1x_coco.py\r\n",
      "      Removing file or directory /opt/conda/lib/python3.7/site-packages/mmdet/.mim/configs/tood/tood_r50_fpn_anchor_based_1x_coco.py\r\n",
      "      Removing file or directory /opt/conda/lib/python3.7/site-packages/mmdet/.mim/configs/tood/tood_r50_fpn_mstrain_2x_coco.py\r\n",
      "      Removing file or directory /opt/conda/lib/python3.7/site-packages/mmdet/.mim/configs/tood/tood_x101_64x4d_fpn_dconv_c4-c5_mstrain_2x_coco.py\r\n",
      "      Removing file or directory /opt/conda/lib/python3.7/site-packages/mmdet/.mim/configs/tood/tood_x101_64x4d_fpn_mstrain_2x_coco.py\r\n",
      "      Removing file or directory /opt/conda/lib/python3.7/site-packages/mmdet/.mim/configs/tridentnet/metafile.yml\r\n",
      "      Removing file or directory /opt/conda/lib/python3.7/site-packages/mmdet/.mim/configs/tridentnet/tridentnet_r50_caffe_1x_coco.py\r\n",
      "      Removing file or directory /opt/conda/lib/python3.7/site-packages/mmdet/.mim/configs/tridentnet/tridentnet_r50_caffe_mstrain_1x_coco.py\r\n",
      "      Removing file or directory /opt/conda/lib/python3.7/site-packages/mmdet/.mim/configs/tridentnet/tridentnet_r50_caffe_mstrain_3x_coco.py\r\n",
      "      Removing file or directory /opt/conda/lib/python3.7/site-packages/mmdet/.mim/configs/vfnet/metafile.yml\r\n",
      "      Removing file or directory /opt/conda/lib/python3.7/site-packages/mmdet/.mim/configs/vfnet/vfnet_r101_fpn_1x_coco.py\r\n",
      "      Removing file or directory /opt/conda/lib/python3.7/site-packages/mmdet/.mim/configs/vfnet/vfnet_r101_fpn_2x_coco.py\r\n",
      "      Removing file or directory /opt/conda/lib/python3.7/site-packages/mmdet/.mim/configs/vfnet/vfnet_r101_fpn_mdconv_c3-c5_mstrain_2x_coco.py\r\n",
      "      Removing file or directory /opt/conda/lib/python3.7/site-packages/mmdet/.mim/configs/vfnet/vfnet_r101_fpn_mstrain_2x_coco.py\r\n",
      "      Removing file or directory /opt/conda/lib/python3.7/site-packages/mmdet/.mim/configs/vfnet/vfnet_r2_101_fpn_mdconv_c3-c5_mstrain_2x_coco.py\r\n",
      "      Removing file or directory /opt/conda/lib/python3.7/site-packages/mmdet/.mim/configs/vfnet/vfnet_r2_101_fpn_mstrain_2x_coco.py\r\n",
      "      Removing file or directory /opt/conda/lib/python3.7/site-packages/mmdet/.mim/configs/vfnet/vfnet_r50_fpn_1x_coco.py\r\n",
      "      Removing file or directory /opt/conda/lib/python3.7/site-packages/mmdet/.mim/configs/vfnet/vfnet_r50_fpn_mdconv_c3-c5_mstrain_2x_coco.py\r\n",
      "      Removing file or directory /opt/conda/lib/python3.7/site-packages/mmdet/.mim/configs/vfnet/vfnet_r50_fpn_mstrain_2x_coco.py\r\n",
      "      Removing file or directory /opt/conda/lib/python3.7/site-packages/mmdet/.mim/configs/vfnet/vfnet_x101_32x4d_fpn_mdconv_c3-c5_mstrain_2x_coco.py\r\n",
      "      Removing file or directory /opt/conda/lib/python3.7/site-packages/mmdet/.mim/configs/vfnet/vfnet_x101_32x4d_fpn_mstrain_2x_coco.py\r\n",
      "      Removing file or directory /opt/conda/lib/python3.7/site-packages/mmdet/.mim/configs/vfnet/vfnet_x101_64x4d_fpn_mdconv_c3-c5_mstrain_2x_coco.py\r\n",
      "      Removing file or directory /opt/conda/lib/python3.7/site-packages/mmdet/.mim/configs/vfnet/vfnet_x101_64x4d_fpn_mstrain_2x_coco.py\r\n",
      "      Removing file or directory /opt/conda/lib/python3.7/site-packages/mmdet/.mim/configs/wider_face/ssd300_wider_face.py\r\n",
      "      Removing file or directory /opt/conda/lib/python3.7/site-packages/mmdet/.mim/configs/yolact/metafile.yml\r\n",
      "      Removing file or directory /opt/conda/lib/python3.7/site-packages/mmdet/.mim/configs/yolact/yolact_r101_1x8_coco.py\r\n",
      "      Removing file or directory /opt/conda/lib/python3.7/site-packages/mmdet/.mim/configs/yolact/yolact_r50_1x8_coco.py\r\n",
      "      Removing file or directory /opt/conda/lib/python3.7/site-packages/mmdet/.mim/configs/yolact/yolact_r50_8x8_coco.py\r\n",
      "      Removing file or directory /opt/conda/lib/python3.7/site-packages/mmdet/.mim/configs/yolo/metafile.yml\r\n",
      "      Removing file or directory /opt/conda/lib/python3.7/site-packages/mmdet/.mim/configs/yolo/yolov3_d53_320_273e_coco.py\r\n",
      "      Removing file or directory /opt/conda/lib/python3.7/site-packages/mmdet/.mim/configs/yolo/yolov3_d53_fp16_mstrain-608_273e_coco.py\r\n",
      "      Removing file or directory /opt/conda/lib/python3.7/site-packages/mmdet/.mim/configs/yolo/yolov3_d53_mstrain-416_273e_coco.py\r\n",
      "      Removing file or directory /opt/conda/lib/python3.7/site-packages/mmdet/.mim/configs/yolo/yolov3_d53_mstrain-608_273e_coco.py\r\n",
      "      Removing file or directory /opt/conda/lib/python3.7/site-packages/mmdet/.mim/configs/yolo/yolov3_mobilenetv2_320_300e_coco.py\r\n",
      "      Removing file or directory /opt/conda/lib/python3.7/site-packages/mmdet/.mim/configs/yolo/yolov3_mobilenetv2_mstrain-416_300e_coco.py\r\n",
      "      Removing file or directory /opt/conda/lib/python3.7/site-packages/mmdet/.mim/configs/yolof/metafile.yml\r\n",
      "      Removing file or directory /opt/conda/lib/python3.7/site-packages/mmdet/.mim/configs/yolof/yolof_r50_c5_8x8_1x_coco.py\r\n",
      "      Removing file or directory /opt/conda/lib/python3.7/site-packages/mmdet/.mim/configs/yolof/yolof_r50_c5_8x8_iter-1x_coco.py\r\n",
      "      Removing file or directory /opt/conda/lib/python3.7/site-packages/mmdet/.mim/configs/yolox/metafile.yml\r\n",
      "      Removing file or directory /opt/conda/lib/python3.7/site-packages/mmdet/.mim/configs/yolox/yolox_l_8x8_300e_coco.py\r\n",
      "      Removing file or directory /opt/conda/lib/python3.7/site-packages/mmdet/.mim/configs/yolox/yolox_m_8x8_300e_coco.py\r\n",
      "      Removing file or directory /opt/conda/lib/python3.7/site-packages/mmdet/.mim/configs/yolox/yolox_nano_8x8_300e_coco.py\r\n",
      "      Removing file or directory /opt/conda/lib/python3.7/site-packages/mmdet/.mim/configs/yolox/yolox_s_8x8_300e_coco.py\r\n",
      "      Removing file or directory /opt/conda/lib/python3.7/site-packages/mmdet/.mim/configs/yolox/yolox_tiny_8x8_300e_coco.py\r\n",
      "      Removing file or directory /opt/conda/lib/python3.7/site-packages/mmdet/.mim/configs/yolox/yolox_x_8x8_300e_coco.py\r\n",
      "      Removing file or directory /opt/conda/lib/python3.7/site-packages/mmdet/.mim/model-index.yml\r\n",
      "      Removing file or directory /opt/conda/lib/python3.7/site-packages/mmdet/.mim/tools/\r\n",
      "      Removing file or directory /opt/conda/lib/python3.7/site-packages/mmdet/__init__.py\r\n",
      "      Removing file or directory /opt/conda/lib/python3.7/site-packages/mmdet/__pycache__/\r\n",
      "      Removing file or directory /opt/conda/lib/python3.7/site-packages/mmdet/apis/\r\n",
      "      Removing file or directory /opt/conda/lib/python3.7/site-packages/mmdet/core/\r\n",
      "      Removing file or directory /opt/conda/lib/python3.7/site-packages/mmdet/datasets/\r\n",
      "      Removing file or directory /opt/conda/lib/python3.7/site-packages/mmdet/models/\r\n",
      "      Removing file or directory /opt/conda/lib/python3.7/site-packages/mmdet/utils/\r\n",
      "      Removing file or directory /opt/conda/lib/python3.7/site-packages/mmdet/version.py\r\n",
      "      Successfully uninstalled mmdet-2.24.1\r\n",
      "  Running setup.py develop for mmdet\r\n",
      "    Running command python setup.py develop\r\n",
      "    running develop\r\n",
      "    running egg_info\r\n",
      "    creating mmdet.egg-info\r\n",
      "    writing mmdet.egg-info/PKG-INFO\r\n",
      "    writing dependency_links to mmdet.egg-info/dependency_links.txt\r\n",
      "    writing requirements to mmdet.egg-info/requires.txt\r\n",
      "    writing top-level names to mmdet.egg-info/top_level.txt\r\n",
      "    writing manifest file 'mmdet.egg-info/SOURCES.txt'\r\n",
      "    reading manifest template 'MANIFEST.in'\r\n",
      "    warning: no files found matching 'mmdet/VERSION'\r\n",
      "    warning: no files found matching 'mmdet/.mim/demo/*/*'\r\n",
      "    writing manifest file 'mmdet.egg-info/SOURCES.txt'\r\n",
      "    running build_ext\r\n",
      "    Creating /opt/conda/lib/python3.7/site-packages/mmdet.egg-link (link to .)\r\n",
      "    Adding mmdet 2.24.1 to easy-install.pth file\r\n",
      "\r\n",
      "    Installed /kaggle/working/mmdetection\r\n",
      "Successfully installed mmdet-2.24.1\r\n",
      "\u001b[33mWARNING: Running pip as the 'root' user can result in broken permissions and conflicting behaviour with the system package manager. It is recommended to use a virtual environment instead: https://pip.pypa.io/warnings/venv\u001b[0m\u001b[33m\r\n",
      "\u001b[0m"
     ]
    }
   ],
   "source": [
    "!pip install openmim --use-feature=2020-resolver\n",
    "!mim install mmdet\n",
    "\n",
    "# Install mmdetection\n",
    "!rm -rf mmdetection\n",
    "!git clone https://github.com/open-mmlab/mmdetection.git\n",
    "%cd mmdetection\n",
    "\n",
    "!pip install -r requirements/build.txt \n",
    "!pip install -v -e . "
   ]
  },
  {
   "cell_type": "code",
   "execution_count": 5,
   "metadata": {
    "execution": {
     "iopub.execute_input": "2022-05-08T16:17:52.886578Z",
     "iopub.status.busy": "2022-05-08T16:17:52.885492Z",
     "iopub.status.idle": "2022-05-08T16:17:54.301317Z",
     "shell.execute_reply": "2022-05-08T16:17:54.300746Z",
     "shell.execute_reply.started": "2022-05-08T13:44:01.607641Z"
    },
    "papermill": {
     "duration": 1.557059,
     "end_time": "2022-05-08T16:17:54.301483",
     "exception": false,
     "start_time": "2022-05-08T16:17:52.744424",
     "status": "completed"
    },
    "tags": []
   },
   "outputs": [
    {
     "data": {
      "text/plain": [
       "{'sys.platform': 'linux',\n",
       " 'Python': '3.7.6 | packaged by conda-forge | (default, Mar 23 2020, 23:03:20) [GCC 7.3.0]',\n",
       " 'CUDA available': True,\n",
       " 'GPU 0': 'Tesla P100-PCIE-16GB',\n",
       " 'CUDA_HOME': '/usr/local/cuda',\n",
       " 'NVCC': 'Cuda compilation tools, release 10.1, V10.1.24',\n",
       " 'GCC': 'gcc (Ubuntu 7.5.0-3ubuntu1~18.04) 7.5.0',\n",
       " 'PyTorch': '1.6.0',\n",
       " 'PyTorch compiling details': 'PyTorch built with:\\n  - GCC 7.3\\n  - C++ Version: 201402\\n  - Intel(R) Math Kernel Library Version 2019.0.5 Product Build 20190808 for Intel(R) 64 architecture applications\\n  - Intel(R) MKL-DNN v1.5.0 (Git Hash e2ac1fac44c5078ca927cb9b90e1b3066a0b2ed0)\\n  - OpenMP 201511 (a.k.a. OpenMP 4.5)\\n  - NNPACK is enabled\\n  - CPU capability usage: AVX2\\n  - CUDA Runtime 10.1\\n  - NVCC architecture flags: -gencode;arch=compute_37,code=sm_37;-gencode;arch=compute_50,code=sm_50;-gencode;arch=compute_60,code=sm_60;-gencode;arch=compute_61,code=sm_61;-gencode;arch=compute_70,code=sm_70;-gencode;arch=compute_75,code=sm_75;-gencode;arch=compute_37,code=compute_37\\n  - CuDNN 7.6.3\\n  - Magma 2.5.2\\n  - Build settings: BLAS=MKL, BUILD_TYPE=Release, CXX_FLAGS= -Wno-deprecated -fvisibility-inlines-hidden -DUSE_PTHREADPOOL -fopenmp -DNDEBUG -DUSE_FBGEMM -DUSE_QNNPACK -DUSE_PYTORCH_QNNPACK -DUSE_XNNPACK -DUSE_VULKAN_WRAPPER -O2 -fPIC -Wno-narrowing -Wall -Wextra -Werror=return-type -Wno-missing-field-initializers -Wno-type-limits -Wno-array-bounds -Wno-unknown-pragmas -Wno-sign-compare -Wno-unused-parameter -Wno-unused-variable -Wno-unused-function -Wno-unused-result -Wno-unused-local-typedefs -Wno-strict-overflow -Wno-strict-aliasing -Wno-error=deprecated-declarations -Wno-stringop-overflow -Wno-error=pedantic -Wno-error=redundant-decls -Wno-error=old-style-cast -fdiagnostics-color=always -faligned-new -Wno-unused-but-set-variable -Wno-maybe-uninitialized -fno-math-errno -fno-trapping-math -Werror=format -Wno-stringop-overflow, PERF_WITH_AVX=1, PERF_WITH_AVX2=1, PERF_WITH_AVX512=1, USE_CUDA=ON, USE_EXCEPTION_PTR=1, USE_GFLAGS=OFF, USE_GLOG=OFF, USE_MKL=ON, USE_MKLDNN=ON, USE_MPI=OFF, USE_NCCL=ON, USE_NNPACK=ON, USE_OPENMP=ON, USE_STATIC_DISPATCH=OFF, \\n',\n",
       " 'TorchVision': '0.7.0',\n",
       " 'OpenCV': '4.4.0',\n",
       " 'MMCV': '1.5.0',\n",
       " 'MMCV Compiler': 'GCC 7.3',\n",
       " 'MMCV CUDA Compiler': '10.1'}"
      ]
     },
     "execution_count": 5,
     "metadata": {},
     "output_type": "execute_result"
    }
   ],
   "source": [
    "from mmcv import collect_env\n",
    "collect_env()"
   ]
  },
  {
   "cell_type": "code",
   "execution_count": 6,
   "metadata": {
    "execution": {
     "iopub.execute_input": "2022-05-08T16:17:54.573174Z",
     "iopub.status.busy": "2022-05-08T16:17:54.571943Z",
     "iopub.status.idle": "2022-05-08T16:17:54.580808Z",
     "shell.execute_reply": "2022-05-08T16:17:54.580169Z",
     "shell.execute_reply.started": "2022-05-08T13:44:14.377377Z"
    },
    "papermill": {
     "duration": 0.145771,
     "end_time": "2022-05-08T16:17:54.580924",
     "exception": false,
     "start_time": "2022-05-08T16:17:54.435153",
     "status": "completed"
    },
    "tags": []
   },
   "outputs": [
    {
     "name": "stdout",
     "output_type": "stream",
     "text": [
      "2.24.1\n",
      "10.1\n",
      "GCC 7.3\n"
     ]
    }
   ],
   "source": [
    "# Check MMDetection installation\n",
    "import mmdet\n",
    "print(mmdet.__version__)\n",
    "\n",
    "# Check mmcv installation\n",
    "from mmcv.ops import get_compiling_cuda_version, get_compiler_version\n",
    "print(get_compiling_cuda_version())\n",
    "print(get_compiler_version())"
   ]
  },
  {
   "cell_type": "markdown",
   "metadata": {
    "papermill": {
     "duration": 0.129267,
     "end_time": "2022-05-08T16:17:54.840460",
     "exception": false,
     "start_time": "2022-05-08T16:17:54.711193",
     "status": "completed"
    },
    "tags": []
   },
   "source": [
    "# Register PanNuke as new dataset"
   ]
  },
  {
   "cell_type": "code",
   "execution_count": 7,
   "metadata": {
    "execution": {
     "iopub.execute_input": "2022-05-08T16:17:55.108299Z",
     "iopub.status.busy": "2022-05-08T16:17:55.107672Z",
     "iopub.status.idle": "2022-05-08T16:17:55.850563Z",
     "shell.execute_reply": "2022-05-08T16:17:55.849751Z",
     "shell.execute_reply.started": "2022-05-08T16:14:26.998209Z"
    },
    "papermill": {
     "duration": 0.878895,
     "end_time": "2022-05-08T16:17:55.850718",
     "exception": false,
     "start_time": "2022-05-08T16:17:54.971823",
     "status": "completed"
    },
    "tags": []
   },
   "outputs": [
    {
     "name": "stdout",
     "output_type": "stream",
     "text": [
      "['neoplastic', 'inflammatory', 'softtissue', 'dead', 'epithelial']\n"
     ]
    }
   ],
   "source": [
    "#parse the order of categories in the json file\n",
    "import json\n",
    "\n",
    "with open('../../input/pannuke-coco/train.json', 'r') as json_file:\n",
    "    json_load = json.load(json_file)\n",
    "\n",
    "CLASSES = []\n",
    "for i in range(5):\n",
    "    #print(json_load['categories'][i]['name'])\n",
    "    CLASSES.append(json_load['categories'][i]['name'])\n",
    "\n",
    "print(CLASSES)"
   ]
  },
  {
   "cell_type": "code",
   "execution_count": 8,
   "metadata": {
    "execution": {
     "iopub.execute_input": "2022-05-08T16:17:56.125169Z",
     "iopub.status.busy": "2022-05-08T16:17:56.124315Z",
     "iopub.status.idle": "2022-05-08T16:17:56.128293Z",
     "shell.execute_reply": "2022-05-08T16:17:56.127671Z",
     "shell.execute_reply.started": "2022-05-08T13:46:52.322133Z"
    },
    "papermill": {
     "duration": 0.141612,
     "end_time": "2022-05-08T16:17:56.128424",
     "exception": false,
     "start_time": "2022-05-08T16:17:55.986812",
     "status": "completed"
    },
    "tags": []
   },
   "outputs": [],
   "source": [
    "# where the checkpoints will be saved\n",
    "if not os.path.isdir('./work_dirs'):\n",
    "    os.makedirs('./work_dirs')"
   ]
  },
  {
   "cell_type": "markdown",
   "metadata": {
    "papermill": {
     "duration": 0.132192,
     "end_time": "2022-05-08T16:17:56.398201",
     "exception": false,
     "start_time": "2022-05-08T16:17:56.266009",
     "status": "completed"
    },
    "tags": []
   },
   "source": [
    "# Make the config file"
   ]
  },
  {
   "cell_type": "code",
   "execution_count": 9,
   "metadata": {
    "execution": {
     "iopub.execute_input": "2022-05-08T16:17:56.673142Z",
     "iopub.status.busy": "2022-05-08T16:17:56.672069Z",
     "iopub.status.idle": "2022-05-08T16:17:56.695512Z",
     "shell.execute_reply": "2022-05-08T16:17:56.694961Z",
     "shell.execute_reply.started": "2022-05-08T16:14:31.741436Z"
    },
    "papermill": {
     "duration": 0.162432,
     "end_time": "2022-05-08T16:17:56.695628",
     "exception": false,
     "start_time": "2022-05-08T16:17:56.533196",
     "status": "completed"
    },
    "tags": []
   },
   "outputs": [],
   "source": [
    "from mmcv import Config\n",
    "cfg = Config.fromfile('./configs/mask_rcnn/mask_rcnn_r50_fpn_1x_coco.py')"
   ]
  },
  {
   "cell_type": "code",
   "execution_count": 10,
   "metadata": {
    "execution": {
     "iopub.execute_input": "2022-05-08T16:17:56.973797Z",
     "iopub.status.busy": "2022-05-08T16:17:56.972634Z",
     "iopub.status.idle": "2022-05-08T16:17:59.941769Z",
     "shell.execute_reply": "2022-05-08T16:17:59.942258Z",
     "shell.execute_reply.started": "2022-05-08T16:14:32.896714Z"
    },
    "papermill": {
     "duration": 3.115917,
     "end_time": "2022-05-08T16:17:59.942464",
     "exception": false,
     "start_time": "2022-05-08T16:17:56.826547",
     "status": "completed"
    },
    "tags": []
   },
   "outputs": [
    {
     "name": "stdout",
     "output_type": "stream",
     "text": [
      "Config:\n",
      "model = dict(\n",
      "    type='MaskRCNN',\n",
      "    backbone=dict(\n",
      "        type='ResNet',\n",
      "        depth=50,\n",
      "        num_stages=4,\n",
      "        out_indices=(0, 1, 2, 3),\n",
      "        frozen_stages=1,\n",
      "        norm_cfg=dict(type='BN', requires_grad=True),\n",
      "        norm_eval=True,\n",
      "        style='pytorch',\n",
      "        init_cfg=dict(type='Pretrained', checkpoint='torchvision://resnet50')),\n",
      "    neck=dict(\n",
      "        type='FPN',\n",
      "        in_channels=[256, 512, 1024, 2048],\n",
      "        out_channels=256,\n",
      "        num_outs=5),\n",
      "    rpn_head=dict(\n",
      "        type='RPNHead',\n",
      "        in_channels=256,\n",
      "        feat_channels=256,\n",
      "        anchor_generator=dict(\n",
      "            type='AnchorGenerator',\n",
      "            scales=[8],\n",
      "            ratios=[0.5, 1.0, 2.0],\n",
      "            strides=[4, 8, 16, 32, 64]),\n",
      "        bbox_coder=dict(\n",
      "            type='DeltaXYWHBBoxCoder',\n",
      "            target_means=[0.0, 0.0, 0.0, 0.0],\n",
      "            target_stds=[1.0, 1.0, 1.0, 1.0]),\n",
      "        loss_cls=dict(\n",
      "            type='CrossEntropyLoss', use_sigmoid=True, loss_weight=1.0),\n",
      "        loss_bbox=dict(type='L1Loss', loss_weight=1.0)),\n",
      "    roi_head=dict(\n",
      "        type='StandardRoIHead',\n",
      "        bbox_roi_extractor=dict(\n",
      "            type='SingleRoIExtractor',\n",
      "            roi_layer=dict(type='RoIAlign', output_size=7, sampling_ratio=0),\n",
      "            out_channels=256,\n",
      "            featmap_strides=[4, 8, 16, 32]),\n",
      "        bbox_head=dict(\n",
      "            type='Shared2FCBBoxHead',\n",
      "            in_channels=256,\n",
      "            fc_out_channels=1024,\n",
      "            roi_feat_size=7,\n",
      "            num_classes=5,\n",
      "            bbox_coder=dict(\n",
      "                type='DeltaXYWHBBoxCoder',\n",
      "                target_means=[0.0, 0.0, 0.0, 0.0],\n",
      "                target_stds=[0.1, 0.1, 0.2, 0.2]),\n",
      "            reg_class_agnostic=False,\n",
      "            loss_cls=dict(\n",
      "                type='CrossEntropyLoss', use_sigmoid=False, loss_weight=1.0),\n",
      "            loss_bbox=dict(type='L1Loss', loss_weight=1.0)),\n",
      "        mask_roi_extractor=dict(\n",
      "            type='SingleRoIExtractor',\n",
      "            roi_layer=dict(type='RoIAlign', output_size=14, sampling_ratio=0),\n",
      "            out_channels=256,\n",
      "            featmap_strides=[4, 8, 16, 32]),\n",
      "        mask_head=dict(\n",
      "            type='FCNMaskHead',\n",
      "            num_convs=4,\n",
      "            in_channels=256,\n",
      "            conv_out_channels=256,\n",
      "            num_classes=5,\n",
      "            loss_mask=dict(\n",
      "                type='CrossEntropyLoss', use_mask=True, loss_weight=1.0))),\n",
      "    train_cfg=dict(\n",
      "        rpn=dict(\n",
      "            assigner=dict(\n",
      "                type='MaxIoUAssigner',\n",
      "                pos_iou_thr=0.7,\n",
      "                neg_iou_thr=0.3,\n",
      "                min_pos_iou=0.3,\n",
      "                match_low_quality=True,\n",
      "                ignore_iof_thr=-1),\n",
      "            sampler=dict(\n",
      "                type='RandomSampler',\n",
      "                num=256,\n",
      "                pos_fraction=0.5,\n",
      "                neg_pos_ub=-1,\n",
      "                add_gt_as_proposals=False),\n",
      "            allowed_border=-1,\n",
      "            pos_weight=-1,\n",
      "            debug=False),\n",
      "        rpn_proposal=dict(\n",
      "            nms_pre=2000,\n",
      "            max_per_img=1000,\n",
      "            nms=dict(type='nms', iou_threshold=0.7),\n",
      "            min_bbox_size=0),\n",
      "        rcnn=dict(\n",
      "            assigner=dict(\n",
      "                type='MaxIoUAssigner',\n",
      "                pos_iou_thr=0.5,\n",
      "                neg_iou_thr=0.5,\n",
      "                min_pos_iou=0.5,\n",
      "                match_low_quality=True,\n",
      "                ignore_iof_thr=-1),\n",
      "            sampler=dict(\n",
      "                type='RandomSampler',\n",
      "                num=512,\n",
      "                pos_fraction=0.25,\n",
      "                neg_pos_ub=-1,\n",
      "                add_gt_as_proposals=True),\n",
      "            mask_size=28,\n",
      "            pos_weight=-1,\n",
      "            debug=False)),\n",
      "    test_cfg=dict(\n",
      "        rpn=dict(\n",
      "            nms_pre=1000,\n",
      "            max_per_img=1000,\n",
      "            nms=dict(type='nms', iou_threshold=0.7),\n",
      "            min_bbox_size=0),\n",
      "        rcnn=dict(\n",
      "            score_thr=0.05,\n",
      "            nms=dict(type='nms', iou_threshold=0.5),\n",
      "            max_per_img=100,\n",
      "            mask_thr_binary=0.5)))\n",
      "dataset_type = 'COCODataset'\n",
      "data_root = '../../input/pannuke-coco'\n",
      "img_norm_cfg = dict(\n",
      "    mean=[123.675, 116.28, 103.53], std=[58.395, 57.12, 57.375], to_rgb=True)\n",
      "train_pipeline = [\n",
      "    dict(type='LoadImageFromFile'),\n",
      "    dict(type='LoadAnnotations', with_bbox=True, with_mask=True),\n",
      "    dict(type='Resize', img_scale=(1333, 800), keep_ratio=True),\n",
      "    dict(type='RandomFlip', flip_ratio=0.5),\n",
      "    dict(\n",
      "        type='Normalize',\n",
      "        mean=[123.675, 116.28, 103.53],\n",
      "        std=[58.395, 57.12, 57.375],\n",
      "        to_rgb=True),\n",
      "    dict(type='Pad', size_divisor=32),\n",
      "    dict(type='DefaultFormatBundle'),\n",
      "    dict(type='Collect', keys=['img', 'gt_bboxes', 'gt_labels', 'gt_masks'])\n",
      "]\n",
      "test_pipeline = [\n",
      "    dict(type='LoadImageFromFile'),\n",
      "    dict(\n",
      "        type='MultiScaleFlipAug',\n",
      "        img_scale=(1333, 800),\n",
      "        flip=False,\n",
      "        transforms=[\n",
      "            dict(type='Resize', keep_ratio=True),\n",
      "            dict(type='RandomFlip'),\n",
      "            dict(\n",
      "                type='Normalize',\n",
      "                mean=[123.675, 116.28, 103.53],\n",
      "                std=[58.395, 57.12, 57.375],\n",
      "                to_rgb=True),\n",
      "            dict(type='Pad', size_divisor=32),\n",
      "            dict(type='ImageToTensor', keys=['img']),\n",
      "            dict(type='Collect', keys=['img'])\n",
      "        ])\n",
      "]\n",
      "data = dict(\n",
      "    samples_per_gpu=2,\n",
      "    workers_per_gpu=2,\n",
      "    train=dict(\n",
      "        type='CocoDataset',\n",
      "        ann_file='../../input/pannuke-coco/train.json',\n",
      "        img_prefix='../../input/pannuke-coco/train/',\n",
      "        pipeline=[\n",
      "            dict(type='LoadImageFromFile'),\n",
      "            dict(type='LoadAnnotations', with_bbox=True, with_mask=True),\n",
      "            dict(type='Resize', img_scale=(1333, 800), keep_ratio=True),\n",
      "            dict(type='RandomFlip', flip_ratio=0.5),\n",
      "            dict(\n",
      "                type='Normalize',\n",
      "                mean=[123.675, 116.28, 103.53],\n",
      "                std=[58.395, 57.12, 57.375],\n",
      "                to_rgb=True),\n",
      "            dict(type='Pad', size_divisor=32),\n",
      "            dict(type='DefaultFormatBundle'),\n",
      "            dict(\n",
      "                type='Collect',\n",
      "                keys=['img', 'gt_bboxes', 'gt_labels', 'gt_masks'])\n",
      "        ],\n",
      "        classes=('neoplastic', 'inflammatory', 'softtissue', 'dead',\n",
      "                 'epithelial')),\n",
      "    val=dict(\n",
      "        type='CocoDataset',\n",
      "        ann_file='../../input/pannuke-coco/val.json',\n",
      "        img_prefix='../../input/pannuke-coco/val/',\n",
      "        pipeline=[\n",
      "            dict(type='LoadImageFromFile'),\n",
      "            dict(\n",
      "                type='MultiScaleFlipAug',\n",
      "                img_scale=(1333, 800),\n",
      "                flip=False,\n",
      "                transforms=[\n",
      "                    dict(type='Resize', keep_ratio=True),\n",
      "                    dict(type='RandomFlip'),\n",
      "                    dict(\n",
      "                        type='Normalize',\n",
      "                        mean=[123.675, 116.28, 103.53],\n",
      "                        std=[58.395, 57.12, 57.375],\n",
      "                        to_rgb=True),\n",
      "                    dict(type='Pad', size_divisor=32),\n",
      "                    dict(type='ImageToTensor', keys=['img']),\n",
      "                    dict(type='Collect', keys=['img'])\n",
      "                ])\n",
      "        ],\n",
      "        classes=('neoplastic', 'inflammatory', 'softtissue', 'dead',\n",
      "                 'epithelial')),\n",
      "    test=dict(\n",
      "        type='CocoDataset',\n",
      "        ann_file='../../input/pannuke-coco/val.json',\n",
      "        img_prefix='../../input/pannuke-coco/val/',\n",
      "        pipeline=[\n",
      "            dict(type='LoadImageFromFile'),\n",
      "            dict(\n",
      "                type='MultiScaleFlipAug',\n",
      "                img_scale=(1333, 800),\n",
      "                flip=False,\n",
      "                transforms=[\n",
      "                    dict(type='Resize', keep_ratio=True),\n",
      "                    dict(type='RandomFlip'),\n",
      "                    dict(\n",
      "                        type='Normalize',\n",
      "                        mean=[123.675, 116.28, 103.53],\n",
      "                        std=[58.395, 57.12, 57.375],\n",
      "                        to_rgb=True),\n",
      "                    dict(type='Pad', size_divisor=32),\n",
      "                    dict(type='ImageToTensor', keys=['img']),\n",
      "                    dict(type='Collect', keys=['img'])\n",
      "                ])\n",
      "        ],\n",
      "        classes=('neoplastic', 'inflammatory', 'softtissue', 'dead',\n",
      "                 'epithelial')))\n",
      "evaluation = dict(metric=['bbox', 'segm'], interval=1)\n",
      "optimizer = dict(type='SGD', lr=0.0025, momentum=0.9, weight_decay=0.0001)\n",
      "optimizer_config = dict(grad_clip=None)\n",
      "lr_config = dict(\n",
      "    policy='step',\n",
      "    warmup='linear',\n",
      "    warmup_iters=500,\n",
      "    warmup_ratio=0.001,\n",
      "    step=[8, 11, 20, 23, 32, 35])\n",
      "runner = dict(type='EpochBasedRunner', max_epochs=36)\n",
      "checkpoint_config = dict(interval=12)\n",
      "log_config = dict(interval=50, hooks=[dict(type='TextLoggerHook')])\n",
      "custom_hooks = [dict(type='NumClassCheckHook')]\n",
      "dist_params = dict(backend='nccl')\n",
      "log_level = 'INFO'\n",
      "load_from = None\n",
      "resume_from = None\n",
      "workflow = [('train', 1)]\n",
      "opencv_num_threads = 0\n",
      "mp_start_method = 'fork'\n",
      "auto_scale_lr = dict(enable=False, base_batch_size=16)\n",
      "work_dir = './work_dirs'\n",
      "seed = 0\n",
      "gpu_ids = range(0, 1)\n",
      "device = 'cuda'\n",
      "\n"
     ]
    }
   ],
   "source": [
    "from mmdet.apis import set_random_seed\n",
    "\n",
    "# Modify dataset type and path\n",
    "cfg.dataset_type = 'COCODataset'\n",
    "\n",
    "# Modify dataset type and path\n",
    "cfg.data_root = '../../input/pannuke-coco'\n",
    "\n",
    "cfg.data.train.classes = (CLASSES[0], CLASSES[1], CLASSES[2], CLASSES[3], CLASSES[4])\n",
    "cfg.data.train.ann_file = cfg.data_root + '/train.json'\n",
    "cfg.data.train.img_prefix = cfg.data_root + '/train/'\n",
    "\n",
    "cfg.data.val.classes = (CLASSES[0], CLASSES[1], CLASSES[2], CLASSES[3], CLASSES[4])\n",
    "cfg.data.val.ann_file = cfg.data_root + '/val.json'\n",
    "cfg.data.val.img_prefix = cfg.data_root + '/val/'\n",
    "\n",
    "cfg.data.test.classes = (CLASSES[0], CLASSES[1], CLASSES[2], CLASSES[3], CLASSES[4])\n",
    "cfg.data.test.ann_file = cfg.data_root + '/val.json'\n",
    "cfg.data.test.img_prefix = cfg.data_root + '/val/'\n",
    "\n",
    "# modify num classes of the model in box head and mask head\n",
    "cfg.model.roi_head.bbox_head.num_classes = 5\n",
    "cfg.model.roi_head.mask_head.num_classes = 5\n",
    "\n",
    "# If we need to finetune a model based on a pre-trained detector\n",
    "cfg.load_from = None\n",
    "\n",
    "#set the working directory\n",
    "cfg.work_dir = './work_dirs'\n",
    "\n",
    "# The original learning rate (LR) is set for 8-GPU training.\n",
    "# We divide it by 8 since we only use one GPU.\n",
    "cfg.optimizer.lr = 0.02 / 8\n",
    "cfg.lr_config.warmup = None\n",
    "cfg.log_config.interval = 50\n",
    "\n",
    "# We can set the evaluation interval to reduce the evaluation times\n",
    "cfg.evaluation.interval = 1\n",
    "# We can set the checkpoint saving interval to reduce the storage cost\n",
    "cfg.checkpoint_config.interval = 12\n",
    "\n",
    "cfg.lr_config = dict(\n",
    "    policy='step',\n",
    "    warmup='linear',\n",
    "    warmup_iters=500,\n",
    "    warmup_ratio=0.001,\n",
    "    step=[8, 11, 20, 23, 32, 35])\n",
    "\n",
    "cfg.runner = dict(type='EpochBasedRunner', max_epochs=36)\n",
    "\n",
    "# Set seed thus the results are more reproducible\n",
    "cfg.seed = 0\n",
    "set_random_seed(0, deterministic=False)\n",
    "cfg.gpu_ids = range(1)\n",
    "cfg.device = 'cuda'\n",
    "\n",
    "# set different configs for every data\n",
    "cfg_train = cfg\n",
    "cfg_test = cfg\n",
    "cfg_inference = cfg\n",
    "\n",
    "# We can initialize the logger for training and have a look\n",
    "# at the final config used for training\n",
    "print(f'Config:\\n{cfg.pretty_text}')"
   ]
  },
  {
   "cell_type": "markdown",
   "metadata": {
    "papermill": {
     "duration": 0.134493,
     "end_time": "2022-05-08T16:18:00.212237",
     "exception": false,
     "start_time": "2022-05-08T16:18:00.077744",
     "status": "completed"
    },
    "tags": []
   },
   "source": [
    "# Start training"
   ]
  },
  {
   "cell_type": "code",
   "execution_count": 11,
   "metadata": {
    "_kg_hide-output": true,
    "execution": {
     "iopub.execute_input": "2022-05-08T16:18:00.491176Z",
     "iopub.status.busy": "2022-05-08T16:18:00.490007Z",
     "iopub.status.idle": "2022-05-08T22:54:53.621096Z",
     "shell.execute_reply": "2022-05-08T22:54:53.620219Z"
    },
    "papermill": {
     "duration": 23813.275214,
     "end_time": "2022-05-08T22:54:53.621258",
     "exception": false,
     "start_time": "2022-05-08T16:18:00.346044",
     "status": "completed"
    },
    "tags": []
   },
   "outputs": [
    {
     "name": "stdout",
     "output_type": "stream",
     "text": [
      "loading annotations into memory...\n",
      "Done (t=0.61s)\n",
      "creating index...\n",
      "index created!\n"
     ]
    },
    {
     "name": "stderr",
     "output_type": "stream",
     "text": [
      "2022-05-08 16:18:06,198 - mmdet - INFO - Automatic scaling of learning rate (LR) has been disabled.\n"
     ]
    },
    {
     "name": "stdout",
     "output_type": "stream",
     "text": [
      "loading annotations into memory...\n"
     ]
    },
    {
     "name": "stderr",
     "output_type": "stream",
     "text": [
      "2022-05-08 16:18:06,599 - mmdet - INFO - Start running, host: root@f301c00abf3a, work_dir: /kaggle/working/mmdetection/work_dirs\n",
      "2022-05-08 16:18:06,601 - mmdet - INFO - Hooks will be executed in the following order:\n",
      "before_run:\n",
      "(VERY_HIGH   ) StepLrUpdaterHook                  \n",
      "(NORMAL      ) CheckpointHook                     \n",
      "(LOW         ) EvalHook                           \n",
      "(VERY_LOW    ) TextLoggerHook                     \n",
      " -------------------- \n",
      "before_train_epoch:\n",
      "(VERY_HIGH   ) StepLrUpdaterHook                  \n",
      "(NORMAL      ) NumClassCheckHook                  \n",
      "(LOW         ) IterTimerHook                      \n",
      "(LOW         ) EvalHook                           \n",
      "(VERY_LOW    ) TextLoggerHook                     \n",
      " -------------------- \n",
      "before_train_iter:\n",
      "(VERY_HIGH   ) StepLrUpdaterHook                  \n",
      "(LOW         ) IterTimerHook                      \n",
      "(LOW         ) EvalHook                           \n",
      " -------------------- \n",
      "after_train_iter:\n",
      "(ABOVE_NORMAL) OptimizerHook                      \n",
      "(NORMAL      ) CheckpointHook                     \n",
      "(LOW         ) IterTimerHook                      \n",
      "(LOW         ) EvalHook                           \n",
      "(VERY_LOW    ) TextLoggerHook                     \n",
      " -------------------- \n",
      "after_train_epoch:\n",
      "(NORMAL      ) CheckpointHook                     \n",
      "(LOW         ) EvalHook                           \n",
      "(VERY_LOW    ) TextLoggerHook                     \n",
      " -------------------- \n",
      "before_val_epoch:\n",
      "(NORMAL      ) NumClassCheckHook                  \n",
      "(LOW         ) IterTimerHook                      \n",
      "(VERY_LOW    ) TextLoggerHook                     \n",
      " -------------------- \n",
      "before_val_iter:\n",
      "(LOW         ) IterTimerHook                      \n",
      " -------------------- \n",
      "after_val_iter:\n",
      "(LOW         ) IterTimerHook                      \n",
      " -------------------- \n",
      "after_val_epoch:\n",
      "(VERY_LOW    ) TextLoggerHook                     \n",
      " -------------------- \n",
      "after_run:\n",
      "(VERY_LOW    ) TextLoggerHook                     \n",
      " -------------------- \n",
      "2022-05-08 16:18:06,606 - mmdet - INFO - workflow: [('train', 1)], max: 36 epochs\n",
      "2022-05-08 16:18:06,608 - mmdet - INFO - Checkpoints will be saved to /kaggle/working/mmdetection/work_dirs by HardDiskBackend.\n"
     ]
    },
    {
     "name": "stdout",
     "output_type": "stream",
     "text": [
      "Done (t=0.38s)\n",
      "creating index...\n",
      "index created!\n"
     ]
    },
    {
     "name": "stderr",
     "output_type": "stream",
     "text": [
      "2022-05-08 16:18:32,017 - mmdet - INFO - Epoch [1][50/1016]\tlr: 2.473e-04, eta: 5:08:40, time: 0.507, data_time: 0.158, memory: 2711, loss_rpn_cls: 0.6628, loss_rpn_bbox: 0.1940, loss_cls: 1.0687, acc: 76.3145, loss_bbox: 0.0424, loss_mask: 0.6979, loss: 2.6657\n",
      "2022-05-08 16:18:55,956 - mmdet - INFO - Epoch [1][100/1016]\tlr: 4.970e-04, eta: 4:59:39, time: 0.479, data_time: 0.118, memory: 3074, loss_rpn_cls: 0.4835, loss_rpn_bbox: 0.1795, loss_cls: 0.5194, acc: 88.8184, loss_bbox: 0.2900, loss_mask: 0.6938, loss: 2.1662\n",
      "2022-05-08 16:19:20,099 - mmdet - INFO - Epoch [1][150/1016]\tlr: 7.468e-04, eta: 4:57:12, time: 0.483, data_time: 0.107, memory: 3074, loss_rpn_cls: 0.4148, loss_rpn_bbox: 0.1793, loss_cls: 0.6312, acc: 83.4609, loss_bbox: 0.5247, loss_mask: 0.6824, loss: 2.4324\n",
      "2022-05-08 16:19:44,748 - mmdet - INFO - Epoch [1][200/1016]\tlr: 9.965e-04, eta: 4:57:19, time: 0.493, data_time: 0.106, memory: 3074, loss_rpn_cls: 0.3930, loss_rpn_bbox: 0.1691, loss_cls: 0.5883, acc: 84.4883, loss_bbox: 0.4850, loss_mask: 0.6579, loss: 2.2932\n",
      "2022-05-08 16:20:09,597 - mmdet - INFO - Epoch [1][250/1016]\tlr: 1.246e-03, eta: 4:57:42, time: 0.497, data_time: 0.113, memory: 3074, loss_rpn_cls: 0.3659, loss_rpn_bbox: 0.1706, loss_cls: 0.5577, acc: 84.7949, loss_bbox: 0.4538, loss_mask: 0.6309, loss: 2.1790\n",
      "2022-05-08 16:20:36,048 - mmdet - INFO - Epoch [1][300/1016]\tlr: 1.496e-03, eta: 5:01:03, time: 0.529, data_time: 0.139, memory: 3074, loss_rpn_cls: 0.3377, loss_rpn_bbox: 0.1707, loss_cls: 0.5847, acc: 83.1504, loss_bbox: 0.5103, loss_mask: 0.6034, loss: 2.2068\n",
      "2022-05-08 16:20:59,528 - mmdet - INFO - Epoch [1][350/1016]\tlr: 1.746e-03, eta: 4:58:11, time: 0.470, data_time: 0.090, memory: 3074, loss_rpn_cls: 0.2719, loss_rpn_bbox: 0.1524, loss_cls: 0.6161, acc: 81.4512, loss_bbox: 0.6089, loss_mask: 0.5727, loss: 2.2220\n",
      "2022-05-08 16:21:24,547 - mmdet - INFO - Epoch [1][400/1016]\tlr: 1.996e-03, eta: 4:58:16, time: 0.500, data_time: 0.105, memory: 3106, loss_rpn_cls: 0.2853, loss_rpn_bbox: 0.1561, loss_cls: 0.6799, acc: 80.0957, loss_bbox: 0.6646, loss_mask: 0.5419, loss: 2.3278\n",
      "2022-05-08 16:21:50,031 - mmdet - INFO - Epoch [1][450/1016]\tlr: 2.245e-03, eta: 4:58:51, time: 0.510, data_time: 0.112, memory: 3106, loss_rpn_cls: 0.3130, loss_rpn_bbox: 0.1803, loss_cls: 0.7356, acc: 78.5645, loss_bbox: 0.7035, loss_mask: 0.5167, loss: 2.4490\n",
      "2022-05-08 16:22:16,025 - mmdet - INFO - Epoch [1][500/1016]\tlr: 2.495e-03, eta: 4:59:51, time: 0.520, data_time: 0.120, memory: 3106, loss_rpn_cls: 0.2565, loss_rpn_bbox: 0.1706, loss_cls: 0.7456, acc: 78.0215, loss_bbox: 0.7043, loss_mask: 0.4976, loss: 2.3746\n",
      "2022-05-08 16:22:40,499 - mmdet - INFO - Epoch [1][550/1016]\tlr: 2.500e-03, eta: 4:58:56, time: 0.489, data_time: 0.103, memory: 3106, loss_rpn_cls: 0.2483, loss_rpn_bbox: 0.1564, loss_cls: 0.7088, acc: 78.3652, loss_bbox: 0.6975, loss_mask: 0.4957, loss: 2.3068\n",
      "2022-05-08 16:23:04,667 - mmdet - INFO - Epoch [1][600/1016]\tlr: 2.500e-03, eta: 4:57:47, time: 0.483, data_time: 0.094, memory: 3106, loss_rpn_cls: 0.2328, loss_rpn_bbox: 0.1531, loss_cls: 0.7318, acc: 78.1797, loss_bbox: 0.6991, loss_mask: 0.4560, loss: 2.2727\n",
      "2022-05-08 16:23:29,817 - mmdet - INFO - Epoch [1][650/1016]\tlr: 2.500e-03, eta: 4:57:40, time: 0.503, data_time: 0.112, memory: 3106, loss_rpn_cls: 0.2757, loss_rpn_bbox: 0.1694, loss_cls: 0.7166, acc: 78.0273, loss_bbox: 0.6884, loss_mask: 0.4541, loss: 2.3041\n",
      "2022-05-08 16:23:55,765 - mmdet - INFO - Epoch [1][700/1016]\tlr: 2.500e-03, eta: 4:58:11, time: 0.519, data_time: 0.120, memory: 3106, loss_rpn_cls: 0.2281, loss_rpn_bbox: 0.1571, loss_cls: 0.7425, acc: 77.4316, loss_bbox: 0.6962, loss_mask: 0.4340, loss: 2.2579\n",
      "2022-05-08 16:24:20,268 - mmdet - INFO - Epoch [1][750/1016]\tlr: 2.500e-03, eta: 4:57:25, time: 0.490, data_time: 0.093, memory: 3106, loss_rpn_cls: 0.2297, loss_rpn_bbox: 0.1609, loss_cls: 0.7313, acc: 76.8340, loss_bbox: 0.7055, loss_mask: 0.4336, loss: 2.2610\n",
      "2022-05-08 16:24:43,667 - mmdet - INFO - Epoch [1][800/1016]\tlr: 2.500e-03, eta: 4:55:53, time: 0.468, data_time: 0.081, memory: 3106, loss_rpn_cls: 0.2168, loss_rpn_bbox: 0.1425, loss_cls: 0.7054, acc: 78.0605, loss_bbox: 0.6707, loss_mask: 0.4212, loss: 2.1566\n",
      "2022-05-08 16:25:09,880 - mmdet - INFO - Epoch [1][850/1016]\tlr: 2.500e-03, eta: 4:56:27, time: 0.524, data_time: 0.126, memory: 3106, loss_rpn_cls: 0.1968, loss_rpn_bbox: 0.1536, loss_cls: 0.7164, acc: 76.9609, loss_bbox: 0.6925, loss_mask: 0.4092, loss: 2.1685\n",
      "2022-05-08 16:25:33,762 - mmdet - INFO - Epoch [1][900/1016]\tlr: 2.500e-03, eta: 4:55:22, time: 0.478, data_time: 0.087, memory: 3106, loss_rpn_cls: 0.2014, loss_rpn_bbox: 0.1450, loss_cls: 0.7090, acc: 77.7715, loss_bbox: 0.6764, loss_mask: 0.4060, loss: 2.1379\n",
      "2022-05-08 16:25:59,249 - mmdet - INFO - Epoch [1][950/1016]\tlr: 2.500e-03, eta: 4:55:22, time: 0.510, data_time: 0.104, memory: 3106, loss_rpn_cls: 0.1859, loss_rpn_bbox: 0.1498, loss_cls: 0.7156, acc: 77.6250, loss_bbox: 0.6713, loss_mask: 0.4023, loss: 2.1248\n",
      "2022-05-08 16:26:24,315 - mmdet - INFO - Epoch [1][1000/1016]\tlr: 2.500e-03, eta: 4:55:04, time: 0.501, data_time: 0.100, memory: 3106, loss_rpn_cls: 0.2161, loss_rpn_bbox: 0.1503, loss_cls: 0.6873, acc: 77.9395, loss_bbox: 0.6596, loss_mask: 0.4044, loss: 2.1177\n"
     ]
    },
    {
     "name": "stdout",
     "output_type": "stream",
     "text": [
      "[>>>>>>>>>>>>>>>>>>>>>>>>>>>>>>] 508/508, 9.0 task/s, elapsed: 57s, ETA:     0s"
     ]
    },
    {
     "name": "stderr",
     "output_type": "stream",
     "text": [
      "2022-05-08 16:27:32,374 - mmdet - INFO - Evaluating bbox...\n"
     ]
    },
    {
     "name": "stdout",
     "output_type": "stream",
     "text": [
      "Loading and preparing results...\n",
      "DONE (t=0.08s)\n",
      "creating index...\n",
      "index created!\n",
      "Running per image evaluation...\n",
      "Evaluate annotation type *bbox*\n",
      "DONE (t=38.75s).\n",
      "Accumulating evaluation results...\n"
     ]
    },
    {
     "name": "stderr",
     "output_type": "stream",
     "text": [
      "2022-05-08 16:28:14,301 - mmdet - INFO - \n",
      " Average Precision  (AP) @[ IoU=0.50:0.95 | area=   all | maxDets=100 ] = 0.048\n",
      " Average Precision  (AP) @[ IoU=0.50      | area=   all | maxDets=1000 ] = 0.124\n",
      " Average Precision  (AP) @[ IoU=0.75      | area=   all | maxDets=1000 ] = 0.027\n",
      " Average Precision  (AP) @[ IoU=0.50:0.95 | area= small | maxDets=1000 ] = 0.058\n",
      " Average Precision  (AP) @[ IoU=0.50:0.95 | area=medium | maxDets=1000 ] = 0.017\n",
      " Average Precision  (AP) @[ IoU=0.50:0.95 | area= large | maxDets=1000 ] = -1.000\n",
      " Average Recall     (AR) @[ IoU=0.50:0.95 | area=   all | maxDets=100 ] = 0.153\n",
      " Average Recall     (AR) @[ IoU=0.50:0.95 | area=   all | maxDets=300 ] = 0.153\n",
      " Average Recall     (AR) @[ IoU=0.50:0.95 | area=   all | maxDets=1000 ] = 0.153\n",
      " Average Recall     (AR) @[ IoU=0.50:0.95 | area= small | maxDets=1000 ] = 0.153\n",
      " Average Recall     (AR) @[ IoU=0.50:0.95 | area=medium | maxDets=1000 ] = 0.143\n",
      " Average Recall     (AR) @[ IoU=0.50:0.95 | area= large | maxDets=1000 ] = -1.000\n",
      "\n",
      "2022-05-08 16:28:14,302 - mmdet - INFO - Evaluating segm...\n"
     ]
    },
    {
     "name": "stdout",
     "output_type": "stream",
     "text": [
      "DONE (t=2.55s).\n"
     ]
    },
    {
     "name": "stderr",
     "output_type": "stream",
     "text": [
      "/kaggle/working/mmdetection/mmdet/datasets/coco.py:474: UserWarning: The key \"bbox\" is deleted for more accurate mask AP of small/medium/large instances since v2.12.0. This does not change the overall mAP calculation.\n",
      "  UserWarning)\n"
     ]
    },
    {
     "name": "stdout",
     "output_type": "stream",
     "text": [
      "Loading and preparing results...\n",
      "DONE (t=0.81s)\n",
      "creating index...\n",
      "index created!\n",
      "Running per image evaluation...\n",
      "Evaluate annotation type *segm*\n",
      "DONE (t=39.85s).\n",
      "Accumulating evaluation results...\n"
     ]
    },
    {
     "name": "stderr",
     "output_type": "stream",
     "text": [
      "2022-05-08 16:28:57,654 - mmdet - INFO - \n",
      " Average Precision  (AP) @[ IoU=0.50:0.95 | area=   all | maxDets=100 ] = 0.045\n",
      " Average Precision  (AP) @[ IoU=0.50      | area=   all | maxDets=1000 ] = 0.119\n",
      " Average Precision  (AP) @[ IoU=0.75      | area=   all | maxDets=1000 ] = 0.023\n",
      " Average Precision  (AP) @[ IoU=0.50:0.95 | area= small | maxDets=1000 ] = 0.042\n",
      " Average Precision  (AP) @[ IoU=0.50:0.95 | area=medium | maxDets=1000 ] = 0.094\n",
      " Average Precision  (AP) @[ IoU=0.50:0.95 | area= large | maxDets=1000 ] = -1.000\n",
      " Average Recall     (AR) @[ IoU=0.50:0.95 | area=   all | maxDets=100 ] = 0.146\n",
      " Average Recall     (AR) @[ IoU=0.50:0.95 | area=   all | maxDets=300 ] = 0.146\n",
      " Average Recall     (AR) @[ IoU=0.50:0.95 | area=   all | maxDets=1000 ] = 0.146\n",
      " Average Recall     (AR) @[ IoU=0.50:0.95 | area= small | maxDets=1000 ] = 0.143\n",
      " Average Recall     (AR) @[ IoU=0.50:0.95 | area=medium | maxDets=1000 ] = 0.178\n",
      " Average Recall     (AR) @[ IoU=0.50:0.95 | area= large | maxDets=1000 ] = -1.000\n",
      "\n",
      "2022-05-08 16:28:57,785 - mmdet - INFO - Epoch(val) [1][508]\tbbox_mAP: 0.0480, bbox_mAP_50: 0.1240, bbox_mAP_75: 0.0270, bbox_mAP_s: 0.0580, bbox_mAP_m: 0.0170, bbox_mAP_l: -1.0000, bbox_mAP_copypaste: 0.048 0.124 0.027 0.058 0.017 -1.000, segm_mAP: 0.0450, segm_mAP_50: 0.1190, segm_mAP_75: 0.0230, segm_mAP_s: 0.0420, segm_mAP_m: 0.0940, segm_mAP_l: -1.0000, segm_mAP_copypaste: 0.045 0.119 0.023 0.042 0.094 -1.000\n"
     ]
    },
    {
     "name": "stdout",
     "output_type": "stream",
     "text": [
      "DONE (t=1.88s).\n"
     ]
    },
    {
     "name": "stderr",
     "output_type": "stream",
     "text": [
      "2022-05-08 16:29:26,169 - mmdet - INFO - Epoch [2][50/1016]\tlr: 2.500e-03, eta: 4:52:00, time: 0.566, data_time: 0.164, memory: 3106, loss_rpn_cls: 0.1885, loss_rpn_bbox: 0.1532, loss_cls: 0.7091, acc: 77.6621, loss_bbox: 0.6609, loss_mask: 0.4102, loss: 2.1219\n",
      "2022-05-08 16:29:51,513 - mmdet - INFO - Epoch [2][100/1016]\tlr: 2.500e-03, eta: 4:51:57, time: 0.507, data_time: 0.115, memory: 3106, loss_rpn_cls: 0.1925, loss_rpn_bbox: 0.1548, loss_cls: 0.7307, acc: 76.9609, loss_bbox: 0.6714, loss_mask: 0.3958, loss: 2.1451\n",
      "2022-05-08 16:30:17,154 - mmdet - INFO - Epoch [2][150/1016]\tlr: 2.500e-03, eta: 4:52:01, time: 0.513, data_time: 0.117, memory: 3106, loss_rpn_cls: 0.2098, loss_rpn_bbox: 0.1539, loss_cls: 0.7038, acc: 78.3477, loss_bbox: 0.6431, loss_mask: 0.4042, loss: 2.1149\n",
      "2022-05-08 16:30:41,428 - mmdet - INFO - Epoch [2][200/1016]\tlr: 2.500e-03, eta: 4:51:22, time: 0.485, data_time: 0.101, memory: 3106, loss_rpn_cls: 0.1577, loss_rpn_bbox: 0.1332, loss_cls: 0.6844, acc: 77.9531, loss_bbox: 0.6458, loss_mask: 0.3723, loss: 1.9933\n",
      "2022-05-08 16:31:08,065 - mmdet - INFO - Epoch [2][250/1016]\tlr: 2.500e-03, eta: 4:51:51, time: 0.533, data_time: 0.131, memory: 3106, loss_rpn_cls: 0.1790, loss_rpn_bbox: 0.1512, loss_cls: 0.7073, acc: 77.3457, loss_bbox: 0.6577, loss_mask: 0.3948, loss: 2.0901\n",
      "2022-05-08 16:31:33,478 - mmdet - INFO - Epoch [2][300/1016]\tlr: 2.500e-03, eta: 4:51:43, time: 0.508, data_time: 0.116, memory: 3106, loss_rpn_cls: 0.1580, loss_rpn_bbox: 0.1413, loss_cls: 0.7053, acc: 77.8398, loss_bbox: 0.6423, loss_mask: 0.3739, loss: 2.0207\n",
      "2022-05-08 16:31:58,073 - mmdet - INFO - Epoch [2][350/1016]\tlr: 2.500e-03, eta: 4:51:12, time: 0.492, data_time: 0.111, memory: 3106, loss_rpn_cls: 0.1684, loss_rpn_bbox: 0.1387, loss_cls: 0.6826, acc: 78.3008, loss_bbox: 0.6385, loss_mask: 0.3786, loss: 2.0068\n",
      "2022-05-08 16:32:23,600 - mmdet - INFO - Epoch [2][400/1016]\tlr: 2.500e-03, eta: 4:51:05, time: 0.511, data_time: 0.118, memory: 3106, loss_rpn_cls: 0.1871, loss_rpn_bbox: 0.1516, loss_cls: 0.6793, acc: 77.8320, loss_bbox: 0.6436, loss_mask: 0.3944, loss: 2.0559\n",
      "2022-05-08 16:32:49,635 - mmdet - INFO - Epoch [2][450/1016]\tlr: 2.500e-03, eta: 4:51:09, time: 0.521, data_time: 0.124, memory: 3106, loss_rpn_cls: 0.1441, loss_rpn_bbox: 0.1376, loss_cls: 0.7076, acc: 77.5234, loss_bbox: 0.6463, loss_mask: 0.3812, loss: 2.0168\n",
      "2022-05-08 16:33:14,183 - mmdet - INFO - Epoch [2][500/1016]\tlr: 2.500e-03, eta: 4:50:36, time: 0.491, data_time: 0.103, memory: 3106, loss_rpn_cls: 0.1556, loss_rpn_bbox: 0.1419, loss_cls: 0.6854, acc: 77.4746, loss_bbox: 0.6537, loss_mask: 0.3719, loss: 2.0085\n",
      "2022-05-08 16:33:41,547 - mmdet - INFO - Epoch [2][550/1016]\tlr: 2.500e-03, eta: 4:51:07, time: 0.547, data_time: 0.144, memory: 3106, loss_rpn_cls: 0.1767, loss_rpn_bbox: 0.1528, loss_cls: 0.6829, acc: 77.6934, loss_bbox: 0.6426, loss_mask: 0.3935, loss: 2.0485\n",
      "2022-05-08 16:34:07,145 - mmdet - INFO - Epoch [2][600/1016]\tlr: 2.500e-03, eta: 4:50:56, time: 0.512, data_time: 0.114, memory: 3106, loss_rpn_cls: 0.1525, loss_rpn_bbox: 0.1444, loss_cls: 0.6819, acc: 77.4590, loss_bbox: 0.6698, loss_mask: 0.3872, loss: 2.0359\n",
      "2022-05-08 16:34:32,376 - mmdet - INFO - Epoch [2][650/1016]\tlr: 2.500e-03, eta: 4:50:37, time: 0.505, data_time: 0.112, memory: 3106, loss_rpn_cls: 0.1583, loss_rpn_bbox: 0.1442, loss_cls: 0.7021, acc: 77.4141, loss_bbox: 0.6566, loss_mask: 0.3754, loss: 2.0366\n",
      "2022-05-08 16:34:56,739 - mmdet - INFO - Epoch [2][700/1016]\tlr: 2.500e-03, eta: 4:50:00, time: 0.487, data_time: 0.095, memory: 3106, loss_rpn_cls: 0.1473, loss_rpn_bbox: 0.1376, loss_cls: 0.6926, acc: 77.6797, loss_bbox: 0.6503, loss_mask: 0.3778, loss: 2.0054\n",
      "2022-05-08 16:35:21,850 - mmdet - INFO - Epoch [2][750/1016]\tlr: 2.500e-03, eta: 4:49:38, time: 0.502, data_time: 0.108, memory: 3106, loss_rpn_cls: 0.1450, loss_rpn_bbox: 0.1429, loss_cls: 0.7084, acc: 76.7852, loss_bbox: 0.6591, loss_mask: 0.3680, loss: 2.0234\n",
      "2022-05-08 16:35:47,159 - mmdet - INFO - Epoch [2][800/1016]\tlr: 2.500e-03, eta: 4:49:19, time: 0.506, data_time: 0.114, memory: 3106, loss_rpn_cls: 0.1641, loss_rpn_bbox: 0.1470, loss_cls: 0.6885, acc: 78.2227, loss_bbox: 0.6281, loss_mask: 0.3856, loss: 2.0133\n",
      "2022-05-08 16:36:12,152 - mmdet - INFO - Epoch [2][850/1016]\tlr: 2.500e-03, eta: 4:48:55, time: 0.500, data_time: 0.108, memory: 3106, loss_rpn_cls: 0.1522, loss_rpn_bbox: 0.1395, loss_cls: 0.6669, acc: 78.4141, loss_bbox: 0.6201, loss_mask: 0.3745, loss: 1.9531\n",
      "2022-05-08 16:36:37,694 - mmdet - INFO - Epoch [2][900/1016]\tlr: 2.500e-03, eta: 4:48:40, time: 0.511, data_time: 0.117, memory: 3106, loss_rpn_cls: 0.1546, loss_rpn_bbox: 0.1398, loss_cls: 0.6633, acc: 78.3184, loss_bbox: 0.6273, loss_mask: 0.3834, loss: 1.9684\n",
      "2022-05-08 16:37:02,710 - mmdet - INFO - Epoch [2][950/1016]\tlr: 2.500e-03, eta: 4:48:16, time: 0.500, data_time: 0.108, memory: 3106, loss_rpn_cls: 0.1629, loss_rpn_bbox: 0.1369, loss_cls: 0.6668, acc: 78.2227, loss_bbox: 0.6077, loss_mask: 0.3790, loss: 1.9533\n",
      "2022-05-08 16:37:28,806 - mmdet - INFO - Epoch [2][1000/1016]\tlr: 2.500e-03, eta: 4:48:10, time: 0.522, data_time: 0.125, memory: 3114, loss_rpn_cls: 0.1683, loss_rpn_bbox: 0.1418, loss_cls: 0.6721, acc: 77.8750, loss_bbox: 0.6303, loss_mask: 0.3784, loss: 1.9909\n"
     ]
    },
    {
     "name": "stdout",
     "output_type": "stream",
     "text": [
      "[>>>>>>>>>>>>>>>>>>>>>>>>>>>>>>] 508/508, 8.8 task/s, elapsed: 57s, ETA:     0s"
     ]
    },
    {
     "name": "stderr",
     "output_type": "stream",
     "text": [
      "2022-05-08 16:38:38,202 - mmdet - INFO - Evaluating bbox...\n"
     ]
    },
    {
     "name": "stdout",
     "output_type": "stream",
     "text": [
      "Loading and preparing results...\n",
      "DONE (t=0.10s)\n",
      "creating index...\n",
      "index created!\n",
      "Running per image evaluation...\n",
      "Evaluate annotation type *bbox*\n",
      "DONE (t=37.99s).\n",
      "Accumulating evaluation results...\n"
     ]
    },
    {
     "name": "stderr",
     "output_type": "stream",
     "text": [
      "2022-05-08 16:39:18,868 - mmdet - INFO - \n",
      " Average Precision  (AP) @[ IoU=0.50:0.95 | area=   all | maxDets=100 ] = 0.065\n",
      " Average Precision  (AP) @[ IoU=0.50      | area=   all | maxDets=1000 ] = 0.155\n",
      " Average Precision  (AP) @[ IoU=0.75      | area=   all | maxDets=1000 ] = 0.040\n",
      " Average Precision  (AP) @[ IoU=0.50:0.95 | area= small | maxDets=1000 ] = 0.076\n",
      " Average Precision  (AP) @[ IoU=0.50:0.95 | area=medium | maxDets=1000 ] = 0.040\n",
      " Average Precision  (AP) @[ IoU=0.50:0.95 | area= large | maxDets=1000 ] = -1.000\n",
      " Average Recall     (AR) @[ IoU=0.50:0.95 | area=   all | maxDets=100 ] = 0.166\n",
      " Average Recall     (AR) @[ IoU=0.50:0.95 | area=   all | maxDets=300 ] = 0.166\n",
      " Average Recall     (AR) @[ IoU=0.50:0.95 | area=   all | maxDets=1000 ] = 0.166\n",
      " Average Recall     (AR) @[ IoU=0.50:0.95 | area= small | maxDets=1000 ] = 0.164\n",
      " Average Recall     (AR) @[ IoU=0.50:0.95 | area=medium | maxDets=1000 ] = 0.177\n",
      " Average Recall     (AR) @[ IoU=0.50:0.95 | area= large | maxDets=1000 ] = -1.000\n",
      "\n",
      "2022-05-08 16:39:18,869 - mmdet - INFO - Evaluating segm...\n"
     ]
    },
    {
     "name": "stdout",
     "output_type": "stream",
     "text": [
      "DONE (t=1.97s).\n"
     ]
    },
    {
     "name": "stderr",
     "output_type": "stream",
     "text": [
      "/kaggle/working/mmdetection/mmdet/datasets/coco.py:474: UserWarning: The key \"bbox\" is deleted for more accurate mask AP of small/medium/large instances since v2.12.0. This does not change the overall mAP calculation.\n",
      "  UserWarning)\n"
     ]
    },
    {
     "name": "stdout",
     "output_type": "stream",
     "text": [
      "Loading and preparing results...\n",
      "DONE (t=0.83s)\n",
      "creating index...\n",
      "index created!\n",
      "Running per image evaluation...\n",
      "Evaluate annotation type *segm*\n",
      "DONE (t=38.03s).\n",
      "Accumulating evaluation results...\n"
     ]
    },
    {
     "name": "stderr",
     "output_type": "stream",
     "text": [
      "2022-05-08 16:40:00,732 - mmdet - INFO - \n",
      " Average Precision  (AP) @[ IoU=0.50:0.95 | area=   all | maxDets=100 ] = 0.064\n",
      " Average Precision  (AP) @[ IoU=0.50      | area=   all | maxDets=1000 ] = 0.154\n",
      " Average Precision  (AP) @[ IoU=0.75      | area=   all | maxDets=1000 ] = 0.040\n",
      " Average Precision  (AP) @[ IoU=0.50:0.95 | area= small | maxDets=1000 ] = 0.063\n",
      " Average Precision  (AP) @[ IoU=0.50:0.95 | area=medium | maxDets=1000 ] = 0.078\n",
      " Average Precision  (AP) @[ IoU=0.50:0.95 | area= large | maxDets=1000 ] = -1.000\n",
      " Average Recall     (AR) @[ IoU=0.50:0.95 | area=   all | maxDets=100 ] = 0.159\n",
      " Average Recall     (AR) @[ IoU=0.50:0.95 | area=   all | maxDets=300 ] = 0.159\n",
      " Average Recall     (AR) @[ IoU=0.50:0.95 | area=   all | maxDets=1000 ] = 0.159\n",
      " Average Recall     (AR) @[ IoU=0.50:0.95 | area= small | maxDets=1000 ] = 0.156\n",
      " Average Recall     (AR) @[ IoU=0.50:0.95 | area=medium | maxDets=1000 ] = 0.188\n",
      " Average Recall     (AR) @[ IoU=0.50:0.95 | area= large | maxDets=1000 ] = -1.000\n",
      "\n",
      "2022-05-08 16:40:00,859 - mmdet - INFO - Epoch(val) [2][508]\tbbox_mAP: 0.0650, bbox_mAP_50: 0.1550, bbox_mAP_75: 0.0400, bbox_mAP_s: 0.0760, bbox_mAP_m: 0.0400, bbox_mAP_l: -1.0000, bbox_mAP_copypaste: 0.065 0.155 0.040 0.076 0.040 -1.000, segm_mAP: 0.0640, segm_mAP_50: 0.1540, segm_mAP_75: 0.0400, segm_mAP_s: 0.0630, segm_mAP_m: 0.0780, segm_mAP_l: -1.0000, segm_mAP_copypaste: 0.064 0.154 0.040 0.063 0.078 -1.000\n"
     ]
    },
    {
     "name": "stdout",
     "output_type": "stream",
     "text": [
      "DONE (t=1.92s).\n"
     ]
    },
    {
     "name": "stderr",
     "output_type": "stream",
     "text": [
      "2022-05-08 16:40:30,934 - mmdet - INFO - Epoch [3][50/1016]\tlr: 2.500e-03, eta: 4:46:47, time: 0.600, data_time: 0.187, memory: 3114, loss_rpn_cls: 0.1592, loss_rpn_bbox: 0.1402, loss_cls: 0.6743, acc: 78.2070, loss_bbox: 0.6169, loss_mask: 0.3687, loss: 1.9593\n",
      "2022-05-08 16:40:56,492 - mmdet - INFO - Epoch [3][100/1016]\tlr: 2.500e-03, eta: 4:46:32, time: 0.511, data_time: 0.105, memory: 3114, loss_rpn_cls: 0.1471, loss_rpn_bbox: 0.1446, loss_cls: 0.6755, acc: 77.6113, loss_bbox: 0.6412, loss_mask: 0.3719, loss: 1.9804\n",
      "2022-05-08 16:41:22,540 - mmdet - INFO - Epoch [3][150/1016]\tlr: 2.500e-03, eta: 4:46:24, time: 0.521, data_time: 0.117, memory: 3114, loss_rpn_cls: 0.1404, loss_rpn_bbox: 0.1313, loss_cls: 0.6835, acc: 77.9023, loss_bbox: 0.6207, loss_mask: 0.3839, loss: 1.9598\n",
      "2022-05-08 16:41:47,844 - mmdet - INFO - Epoch [3][200/1016]\tlr: 2.500e-03, eta: 4:46:04, time: 0.506, data_time: 0.102, memory: 3114, loss_rpn_cls: 0.1394, loss_rpn_bbox: 0.1266, loss_cls: 0.6719, acc: 77.8047, loss_bbox: 0.6176, loss_mask: 0.3602, loss: 1.9156\n",
      "2022-05-08 16:42:14,049 - mmdet - INFO - Epoch [3][250/1016]\tlr: 2.500e-03, eta: 4:45:57, time: 0.524, data_time: 0.122, memory: 3114, loss_rpn_cls: 0.1453, loss_rpn_bbox: 0.1345, loss_cls: 0.6895, acc: 78.0781, loss_bbox: 0.6365, loss_mask: 0.3742, loss: 1.9801\n",
      "2022-05-08 16:42:39,003 - mmdet - INFO - Epoch [3][300/1016]\tlr: 2.500e-03, eta: 4:45:31, time: 0.499, data_time: 0.106, memory: 3114, loss_rpn_cls: 0.1382, loss_rpn_bbox: 0.1320, loss_cls: 0.6811, acc: 77.8809, loss_bbox: 0.6280, loss_mask: 0.3720, loss: 1.9514\n",
      "2022-05-08 16:43:03,566 - mmdet - INFO - Epoch [3][350/1016]\tlr: 2.500e-03, eta: 4:45:00, time: 0.491, data_time: 0.109, memory: 3114, loss_rpn_cls: 0.1309, loss_rpn_bbox: 0.1304, loss_cls: 0.6766, acc: 77.8340, loss_bbox: 0.6114, loss_mask: 0.3608, loss: 1.9101\n",
      "2022-05-08 16:43:28,634 - mmdet - INFO - Epoch [3][400/1016]\tlr: 2.500e-03, eta: 4:44:36, time: 0.501, data_time: 0.105, memory: 3114, loss_rpn_cls: 0.1371, loss_rpn_bbox: 0.1341, loss_cls: 0.6768, acc: 77.7715, loss_bbox: 0.6361, loss_mask: 0.3642, loss: 1.9482\n",
      "2022-05-08 16:43:54,609 - mmdet - INFO - Epoch [3][450/1016]\tlr: 2.500e-03, eta: 4:44:24, time: 0.519, data_time: 0.120, memory: 3114, loss_rpn_cls: 0.1427, loss_rpn_bbox: 0.1358, loss_cls: 0.6747, acc: 78.0957, loss_bbox: 0.6112, loss_mask: 0.3583, loss: 1.9227\n",
      "2022-05-08 16:44:21,138 - mmdet - INFO - Epoch [3][500/1016]\tlr: 2.500e-03, eta: 4:44:19, time: 0.531, data_time: 0.131, memory: 3114, loss_rpn_cls: 0.1512, loss_rpn_bbox: 0.1341, loss_cls: 0.6537, acc: 78.2461, loss_bbox: 0.6088, loss_mask: 0.3651, loss: 1.9128\n",
      "2022-05-08 16:44:46,056 - mmdet - INFO - Epoch [3][550/1016]\tlr: 2.500e-03, eta: 4:43:52, time: 0.498, data_time: 0.108, memory: 3114, loss_rpn_cls: 0.1253, loss_rpn_bbox: 0.1274, loss_cls: 0.6558, acc: 78.6484, loss_bbox: 0.5990, loss_mask: 0.3632, loss: 1.8707\n",
      "2022-05-08 16:45:12,479 - mmdet - INFO - Epoch [3][600/1016]\tlr: 2.500e-03, eta: 4:43:45, time: 0.528, data_time: 0.135, memory: 3114, loss_rpn_cls: 0.1321, loss_rpn_bbox: 0.1306, loss_cls: 0.6456, acc: 78.8613, loss_bbox: 0.5992, loss_mask: 0.3683, loss: 1.8758\n",
      "2022-05-08 16:45:37,762 - mmdet - INFO - Epoch [3][650/1016]\tlr: 2.500e-03, eta: 4:43:22, time: 0.506, data_time: 0.108, memory: 3114, loss_rpn_cls: 0.1352, loss_rpn_bbox: 0.1358, loss_cls: 0.6938, acc: 77.3496, loss_bbox: 0.6361, loss_mask: 0.3638, loss: 1.9646\n",
      "2022-05-08 16:46:02,109 - mmdet - INFO - Epoch [3][700/1016]\tlr: 2.500e-03, eta: 4:42:48, time: 0.487, data_time: 0.098, memory: 3114, loss_rpn_cls: 0.1141, loss_rpn_bbox: 0.1237, loss_cls: 0.6398, acc: 78.5430, loss_bbox: 0.5931, loss_mask: 0.3707, loss: 1.8413\n",
      "2022-05-08 16:46:25,750 - mmdet - INFO - Epoch [3][750/1016]\tlr: 2.500e-03, eta: 4:42:06, time: 0.473, data_time: 0.092, memory: 3114, loss_rpn_cls: 0.1163, loss_rpn_bbox: 0.1217, loss_cls: 0.6414, acc: 78.5293, loss_bbox: 0.5944, loss_mask: 0.3495, loss: 1.8234\n",
      "2022-05-08 16:46:53,954 - mmdet - INFO - Epoch [3][800/1016]\tlr: 2.500e-03, eta: 4:42:18, time: 0.564, data_time: 0.158, memory: 3114, loss_rpn_cls: 0.1504, loss_rpn_bbox: 0.1369, loss_cls: 0.6415, acc: 78.3496, loss_bbox: 0.6203, loss_mask: 0.3719, loss: 1.9211\n",
      "2022-05-08 16:47:19,052 - mmdet - INFO - Epoch [3][850/1016]\tlr: 2.500e-03, eta: 4:41:53, time: 0.502, data_time: 0.110, memory: 3114, loss_rpn_cls: 0.1287, loss_rpn_bbox: 0.1376, loss_cls: 0.6425, acc: 78.3906, loss_bbox: 0.6181, loss_mask: 0.3682, loss: 1.8951\n",
      "2022-05-08 16:47:43,661 - mmdet - INFO - Epoch [3][900/1016]\tlr: 2.500e-03, eta: 4:41:23, time: 0.492, data_time: 0.099, memory: 3114, loss_rpn_cls: 0.1278, loss_rpn_bbox: 0.1245, loss_cls: 0.6559, acc: 78.1621, loss_bbox: 0.6201, loss_mask: 0.3654, loss: 1.8937\n",
      "2022-05-08 16:48:07,827 - mmdet - INFO - Epoch [3][950/1016]\tlr: 2.500e-03, eta: 4:40:47, time: 0.483, data_time: 0.094, memory: 3114, loss_rpn_cls: 0.1333, loss_rpn_bbox: 0.1266, loss_cls: 0.6699, acc: 77.6016, loss_bbox: 0.6132, loss_mask: 0.3567, loss: 1.8998\n",
      "2022-05-08 16:48:33,842 - mmdet - INFO - Epoch [3][1000/1016]\tlr: 2.500e-03, eta: 4:40:32, time: 0.520, data_time: 0.120, memory: 3114, loss_rpn_cls: 0.1427, loss_rpn_bbox: 0.1277, loss_cls: 0.6709, acc: 77.6172, loss_bbox: 0.6227, loss_mask: 0.3688, loss: 1.9329\n"
     ]
    },
    {
     "name": "stdout",
     "output_type": "stream",
     "text": [
      "[>>>>>>>>>>>>>>>>>>>>>>>>>>>>>>] 508/508, 8.9 task/s, elapsed: 57s, ETA:     0s"
     ]
    },
    {
     "name": "stderr",
     "output_type": "stream",
     "text": [
      "2022-05-08 16:49:42,574 - mmdet - INFO - Evaluating bbox...\n"
     ]
    },
    {
     "name": "stdout",
     "output_type": "stream",
     "text": [
      "Loading and preparing results...\n",
      "DONE (t=0.09s)\n",
      "creating index...\n",
      "index created!\n",
      "Running per image evaluation...\n",
      "Evaluate annotation type *bbox*\n",
      "DONE (t=33.41s).\n",
      "Accumulating evaluation results...\n"
     ]
    },
    {
     "name": "stderr",
     "output_type": "stream",
     "text": [
      "2022-05-08 16:50:18,410 - mmdet - INFO - \n",
      " Average Precision  (AP) @[ IoU=0.50:0.95 | area=   all | maxDets=100 ] = 0.089\n",
      " Average Precision  (AP) @[ IoU=0.50      | area=   all | maxDets=1000 ] = 0.197\n",
      " Average Precision  (AP) @[ IoU=0.75      | area=   all | maxDets=1000 ] = 0.066\n",
      " Average Precision  (AP) @[ IoU=0.50:0.95 | area= small | maxDets=1000 ] = 0.101\n",
      " Average Precision  (AP) @[ IoU=0.50:0.95 | area=medium | maxDets=1000 ] = 0.067\n",
      " Average Precision  (AP) @[ IoU=0.50:0.95 | area= large | maxDets=1000 ] = -1.000\n",
      " Average Recall     (AR) @[ IoU=0.50:0.95 | area=   all | maxDets=100 ] = 0.235\n",
      " Average Recall     (AR) @[ IoU=0.50:0.95 | area=   all | maxDets=300 ] = 0.235\n",
      " Average Recall     (AR) @[ IoU=0.50:0.95 | area=   all | maxDets=1000 ] = 0.235\n",
      " Average Recall     (AR) @[ IoU=0.50:0.95 | area= small | maxDets=1000 ] = 0.228\n",
      " Average Recall     (AR) @[ IoU=0.50:0.95 | area=medium | maxDets=1000 ] = 0.328\n",
      " Average Recall     (AR) @[ IoU=0.50:0.95 | area= large | maxDets=1000 ] = -1.000\n",
      "\n",
      "2022-05-08 16:50:18,411 - mmdet - INFO - Evaluating segm...\n"
     ]
    },
    {
     "name": "stdout",
     "output_type": "stream",
     "text": [
      "DONE (t=2.07s).\n"
     ]
    },
    {
     "name": "stderr",
     "output_type": "stream",
     "text": [
      "/kaggle/working/mmdetection/mmdet/datasets/coco.py:474: UserWarning: The key \"bbox\" is deleted for more accurate mask AP of small/medium/large instances since v2.12.0. This does not change the overall mAP calculation.\n",
      "  UserWarning)\n"
     ]
    },
    {
     "name": "stdout",
     "output_type": "stream",
     "text": [
      "Loading and preparing results...\n",
      "DONE (t=1.07s)\n",
      "creating index...\n",
      "index created!\n",
      "Running per image evaluation...\n",
      "Evaluate annotation type *segm*\n",
      "DONE (t=34.03s).\n",
      "Accumulating evaluation results...\n"
     ]
    },
    {
     "name": "stderr",
     "output_type": "stream",
     "text": [
      "2022-05-08 16:50:56,343 - mmdet - INFO - \n",
      " Average Precision  (AP) @[ IoU=0.50:0.95 | area=   all | maxDets=100 ] = 0.082\n",
      " Average Precision  (AP) @[ IoU=0.50      | area=   all | maxDets=1000 ] = 0.191\n",
      " Average Precision  (AP) @[ IoU=0.75      | area=   all | maxDets=1000 ] = 0.055\n",
      " Average Precision  (AP) @[ IoU=0.50:0.95 | area= small | maxDets=1000 ] = 0.079\n",
      " Average Precision  (AP) @[ IoU=0.50:0.95 | area=medium | maxDets=1000 ] = 0.140\n",
      " Average Precision  (AP) @[ IoU=0.50:0.95 | area= large | maxDets=1000 ] = -1.000\n",
      " Average Recall     (AR) @[ IoU=0.50:0.95 | area=   all | maxDets=100 ] = 0.221\n",
      " Average Recall     (AR) @[ IoU=0.50:0.95 | area=   all | maxDets=300 ] = 0.221\n",
      " Average Recall     (AR) @[ IoU=0.50:0.95 | area=   all | maxDets=1000 ] = 0.221\n",
      " Average Recall     (AR) @[ IoU=0.50:0.95 | area= small | maxDets=1000 ] = 0.213\n",
      " Average Recall     (AR) @[ IoU=0.50:0.95 | area=medium | maxDets=1000 ] = 0.326\n",
      " Average Recall     (AR) @[ IoU=0.50:0.95 | area= large | maxDets=1000 ] = -1.000\n",
      "\n",
      "2022-05-08 16:50:56,477 - mmdet - INFO - Epoch(val) [3][508]\tbbox_mAP: 0.0890, bbox_mAP_50: 0.1970, bbox_mAP_75: 0.0660, bbox_mAP_s: 0.1010, bbox_mAP_m: 0.0670, bbox_mAP_l: -1.0000, bbox_mAP_copypaste: 0.089 0.197 0.066 0.101 0.067 -1.000, segm_mAP: 0.0820, segm_mAP_50: 0.1910, segm_mAP_75: 0.0550, segm_mAP_s: 0.0790, segm_mAP_m: 0.1400, segm_mAP_l: -1.0000, segm_mAP_copypaste: 0.082 0.191 0.055 0.079 0.140 -1.000\n"
     ]
    },
    {
     "name": "stdout",
     "output_type": "stream",
     "text": [
      "DONE (t=2.00s).\n"
     ]
    },
    {
     "name": "stderr",
     "output_type": "stream",
     "text": [
      "2022-05-08 16:51:23,887 - mmdet - INFO - Epoch [4][50/1016]\tlr: 2.500e-03, eta: 4:38:57, time: 0.547, data_time: 0.159, memory: 3114, loss_rpn_cls: 0.1141, loss_rpn_bbox: 0.1223, loss_cls: 0.6386, acc: 78.3301, loss_bbox: 0.5976, loss_mask: 0.3488, loss: 1.8213\n",
      "2022-05-08 16:51:47,378 - mmdet - INFO - Epoch [4][100/1016]\tlr: 2.500e-03, eta: 4:38:16, time: 0.470, data_time: 0.089, memory: 3114, loss_rpn_cls: 0.1188, loss_rpn_bbox: 0.1146, loss_cls: 0.6284, acc: 79.0234, loss_bbox: 0.5807, loss_mask: 0.3531, loss: 1.7957\n",
      "2022-05-08 16:52:13,322 - mmdet - INFO - Epoch [4][150/1016]\tlr: 2.500e-03, eta: 4:38:01, time: 0.519, data_time: 0.120, memory: 3114, loss_rpn_cls: 0.1274, loss_rpn_bbox: 0.1203, loss_cls: 0.6382, acc: 78.7793, loss_bbox: 0.6049, loss_mask: 0.3580, loss: 1.8489\n",
      "2022-05-08 16:52:38,759 - mmdet - INFO - Epoch [4][200/1016]\tlr: 2.500e-03, eta: 4:37:41, time: 0.509, data_time: 0.117, memory: 3114, loss_rpn_cls: 0.1111, loss_rpn_bbox: 0.1247, loss_cls: 0.6501, acc: 78.1074, loss_bbox: 0.6191, loss_mask: 0.3539, loss: 1.8589\n",
      "2022-05-08 16:53:03,417 - mmdet - INFO - Epoch [4][250/1016]\tlr: 2.500e-03, eta: 4:37:12, time: 0.493, data_time: 0.098, memory: 3114, loss_rpn_cls: 0.1473, loss_rpn_bbox: 0.1291, loss_cls: 0.6539, acc: 78.4160, loss_bbox: 0.6096, loss_mask: 0.3757, loss: 1.9155\n",
      "2022-05-08 16:53:27,789 - mmdet - INFO - Epoch [4][300/1016]\tlr: 2.500e-03, eta: 4:36:41, time: 0.487, data_time: 0.101, memory: 3114, loss_rpn_cls: 0.1256, loss_rpn_bbox: 0.1205, loss_cls: 0.6275, acc: 78.9590, loss_bbox: 0.5813, loss_mask: 0.3537, loss: 1.8086\n",
      "2022-05-08 16:53:52,666 - mmdet - INFO - Epoch [4][350/1016]\tlr: 2.500e-03, eta: 4:36:15, time: 0.498, data_time: 0.103, memory: 3114, loss_rpn_cls: 0.1188, loss_rpn_bbox: 0.1276, loss_cls: 0.6242, acc: 78.6953, loss_bbox: 0.6015, loss_mask: 0.3554, loss: 1.8274\n",
      "2022-05-08 16:54:18,922 - mmdet - INFO - Epoch [4][400/1016]\tlr: 2.500e-03, eta: 4:36:02, time: 0.525, data_time: 0.129, memory: 3114, loss_rpn_cls: 0.1230, loss_rpn_bbox: 0.1361, loss_cls: 0.6852, acc: 77.6699, loss_bbox: 0.5974, loss_mask: 0.3525, loss: 1.8942\n",
      "2022-05-08 16:54:45,194 - mmdet - INFO - Epoch [4][450/1016]\tlr: 2.500e-03, eta: 4:35:49, time: 0.525, data_time: 0.128, memory: 3114, loss_rpn_cls: 0.1312, loss_rpn_bbox: 0.1271, loss_cls: 0.6268, acc: 78.9395, loss_bbox: 0.5883, loss_mask: 0.3681, loss: 1.8415\n",
      "2022-05-08 16:55:10,964 - mmdet - INFO - Epoch [4][500/1016]\tlr: 2.500e-03, eta: 4:35:31, time: 0.515, data_time: 0.112, memory: 3114, loss_rpn_cls: 0.1313, loss_rpn_bbox: 0.1372, loss_cls: 0.6604, acc: 78.2695, loss_bbox: 0.6292, loss_mask: 0.3669, loss: 1.9250\n",
      "2022-05-08 16:55:35,880 - mmdet - INFO - Epoch [4][550/1016]\tlr: 2.500e-03, eta: 4:35:05, time: 0.498, data_time: 0.104, memory: 3114, loss_rpn_cls: 0.1013, loss_rpn_bbox: 0.1207, loss_cls: 0.6304, acc: 79.1699, loss_bbox: 0.5743, loss_mask: 0.3556, loss: 1.7824\n",
      "2022-05-08 16:55:59,987 - mmdet - INFO - Epoch [4][600/1016]\tlr: 2.500e-03, eta: 4:34:32, time: 0.482, data_time: 0.098, memory: 3114, loss_rpn_cls: 0.1095, loss_rpn_bbox: 0.1191, loss_cls: 0.6203, acc: 78.7188, loss_bbox: 0.6027, loss_mask: 0.3588, loss: 1.8105\n",
      "2022-05-08 16:56:25,462 - mmdet - INFO - Epoch [4][650/1016]\tlr: 2.500e-03, eta: 4:34:11, time: 0.509, data_time: 0.105, memory: 3114, loss_rpn_cls: 0.1128, loss_rpn_bbox: 0.1248, loss_cls: 0.6265, acc: 78.7461, loss_bbox: 0.5940, loss_mask: 0.3520, loss: 1.8101\n",
      "2022-05-08 16:56:49,658 - mmdet - INFO - Epoch [4][700/1016]\tlr: 2.500e-03, eta: 4:33:39, time: 0.484, data_time: 0.102, memory: 3114, loss_rpn_cls: 0.1040, loss_rpn_bbox: 0.1216, loss_cls: 0.6134, acc: 79.0898, loss_bbox: 0.5839, loss_mask: 0.3422, loss: 1.7651\n",
      "2022-05-08 16:57:14,184 - mmdet - INFO - Epoch [4][750/1016]\tlr: 2.500e-03, eta: 4:33:10, time: 0.491, data_time: 0.098, memory: 3114, loss_rpn_cls: 0.1098, loss_rpn_bbox: 0.1234, loss_cls: 0.6397, acc: 78.6211, loss_bbox: 0.5810, loss_mask: 0.3546, loss: 1.8085\n",
      "2022-05-08 16:57:38,774 - mmdet - INFO - Epoch [4][800/1016]\tlr: 2.500e-03, eta: 4:32:41, time: 0.492, data_time: 0.105, memory: 3114, loss_rpn_cls: 0.1238, loss_rpn_bbox: 0.1302, loss_cls: 0.6468, acc: 78.6523, loss_bbox: 0.6122, loss_mask: 0.3653, loss: 1.8782\n",
      "2022-05-08 16:58:04,606 - mmdet - INFO - Epoch [4][850/1016]\tlr: 2.500e-03, eta: 4:32:23, time: 0.517, data_time: 0.111, memory: 3114, loss_rpn_cls: 0.1186, loss_rpn_bbox: 0.1174, loss_cls: 0.6106, acc: 78.8633, loss_bbox: 0.5997, loss_mask: 0.3481, loss: 1.7945\n",
      "2022-05-08 16:58:30,846 - mmdet - INFO - Epoch [4][900/1016]\tlr: 2.500e-03, eta: 4:32:08, time: 0.525, data_time: 0.127, memory: 3114, loss_rpn_cls: 0.1319, loss_rpn_bbox: 0.1302, loss_cls: 0.6318, acc: 78.9160, loss_bbox: 0.5883, loss_mask: 0.3620, loss: 1.8443\n",
      "2022-05-08 16:58:56,923 - mmdet - INFO - Epoch [4][950/1016]\tlr: 2.500e-03, eta: 4:31:52, time: 0.522, data_time: 0.119, memory: 3114, loss_rpn_cls: 0.1248, loss_rpn_bbox: 0.1288, loss_cls: 0.6293, acc: 78.7441, loss_bbox: 0.5913, loss_mask: 0.3568, loss: 1.8310\n",
      "2022-05-08 16:59:21,633 - mmdet - INFO - Epoch [4][1000/1016]\tlr: 2.500e-03, eta: 4:31:24, time: 0.494, data_time: 0.104, memory: 3114, loss_rpn_cls: 0.1161, loss_rpn_bbox: 0.1295, loss_cls: 0.6512, acc: 78.3867, loss_bbox: 0.5927, loss_mask: 0.3505, loss: 1.8400\n"
     ]
    },
    {
     "name": "stdout",
     "output_type": "stream",
     "text": [
      "[>>>>>>>>>>>>>>>>>>>>>>>>>>>>>>] 508/508, 9.2 task/s, elapsed: 55s, ETA:     0s"
     ]
    },
    {
     "name": "stderr",
     "output_type": "stream",
     "text": [
      "2022-05-08 17:00:28,564 - mmdet - INFO - Evaluating bbox...\n"
     ]
    },
    {
     "name": "stdout",
     "output_type": "stream",
     "text": [
      "Loading and preparing results...\n",
      "DONE (t=0.25s)\n",
      "creating index...\n",
      "index created!\n",
      "Running per image evaluation...\n",
      "Evaluate annotation type *bbox*\n",
      "DONE (t=36.14s).\n",
      "Accumulating evaluation results...\n"
     ]
    },
    {
     "name": "stderr",
     "output_type": "stream",
     "text": [
      "2022-05-08 17:01:07,972 - mmdet - INFO - \n",
      " Average Precision  (AP) @[ IoU=0.50:0.95 | area=   all | maxDets=100 ] = 0.106\n",
      " Average Precision  (AP) @[ IoU=0.50      | area=   all | maxDets=1000 ] = 0.220\n",
      " Average Precision  (AP) @[ IoU=0.75      | area=   all | maxDets=1000 ] = 0.087\n",
      " Average Precision  (AP) @[ IoU=0.50:0.95 | area= small | maxDets=1000 ] = 0.117\n",
      " Average Precision  (AP) @[ IoU=0.50:0.95 | area=medium | maxDets=1000 ] = 0.117\n",
      " Average Precision  (AP) @[ IoU=0.50:0.95 | area= large | maxDets=1000 ] = -1.000\n",
      " Average Recall     (AR) @[ IoU=0.50:0.95 | area=   all | maxDets=100 ] = 0.247\n",
      " Average Recall     (AR) @[ IoU=0.50:0.95 | area=   all | maxDets=300 ] = 0.247\n",
      " Average Recall     (AR) @[ IoU=0.50:0.95 | area=   all | maxDets=1000 ] = 0.247\n",
      " Average Recall     (AR) @[ IoU=0.50:0.95 | area= small | maxDets=1000 ] = 0.239\n",
      " Average Recall     (AR) @[ IoU=0.50:0.95 | area=medium | maxDets=1000 ] = 0.405\n",
      " Average Recall     (AR) @[ IoU=0.50:0.95 | area= large | maxDets=1000 ] = -1.000\n",
      "\n",
      "2022-05-08 17:01:07,973 - mmdet - INFO - Evaluating segm...\n"
     ]
    },
    {
     "name": "stdout",
     "output_type": "stream",
     "text": [
      "DONE (t=2.07s).\n"
     ]
    },
    {
     "name": "stderr",
     "output_type": "stream",
     "text": [
      "/kaggle/working/mmdetection/mmdet/datasets/coco.py:474: UserWarning: The key \"bbox\" is deleted for more accurate mask AP of small/medium/large instances since v2.12.0. This does not change the overall mAP calculation.\n",
      "  UserWarning)\n"
     ]
    },
    {
     "name": "stdout",
     "output_type": "stream",
     "text": [
      "Loading and preparing results...\n",
      "DONE (t=0.72s)\n",
      "creating index...\n",
      "index created!\n",
      "Running per image evaluation...\n",
      "Evaluate annotation type *segm*\n",
      "DONE (t=36.12s).\n",
      "Accumulating evaluation results...\n"
     ]
    },
    {
     "name": "stderr",
     "output_type": "stream",
     "text": [
      "2022-05-08 17:01:47,860 - mmdet - INFO - \n",
      " Average Precision  (AP) @[ IoU=0.50:0.95 | area=   all | maxDets=100 ] = 0.100\n",
      " Average Precision  (AP) @[ IoU=0.50      | area=   all | maxDets=1000 ] = 0.216\n",
      " Average Precision  (AP) @[ IoU=0.75      | area=   all | maxDets=1000 ] = 0.078\n",
      " Average Precision  (AP) @[ IoU=0.50:0.95 | area= small | maxDets=1000 ] = 0.098\n",
      " Average Precision  (AP) @[ IoU=0.50:0.95 | area=medium | maxDets=1000 ] = 0.204\n",
      " Average Precision  (AP) @[ IoU=0.50:0.95 | area= large | maxDets=1000 ] = -1.000\n",
      " Average Recall     (AR) @[ IoU=0.50:0.95 | area=   all | maxDets=100 ] = 0.233\n",
      " Average Recall     (AR) @[ IoU=0.50:0.95 | area=   all | maxDets=300 ] = 0.233\n",
      " Average Recall     (AR) @[ IoU=0.50:0.95 | area=   all | maxDets=1000 ] = 0.233\n",
      " Average Recall     (AR) @[ IoU=0.50:0.95 | area= small | maxDets=1000 ] = 0.224\n",
      " Average Recall     (AR) @[ IoU=0.50:0.95 | area=medium | maxDets=1000 ] = 0.405\n",
      " Average Recall     (AR) @[ IoU=0.50:0.95 | area= large | maxDets=1000 ] = -1.000\n",
      "\n",
      "2022-05-08 17:01:47,981 - mmdet - INFO - Epoch(val) [4][508]\tbbox_mAP: 0.1060, bbox_mAP_50: 0.2200, bbox_mAP_75: 0.0870, bbox_mAP_s: 0.1170, bbox_mAP_m: 0.1170, bbox_mAP_l: -1.0000, bbox_mAP_copypaste: 0.106 0.220 0.087 0.117 0.117 -1.000, segm_mAP: 0.1000, segm_mAP_50: 0.2160, segm_mAP_75: 0.0780, segm_mAP_s: 0.0980, segm_mAP_m: 0.2040, segm_mAP_l: -1.0000, segm_mAP_copypaste: 0.100 0.216 0.078 0.098 0.204 -1.000\n"
     ]
    },
    {
     "name": "stdout",
     "output_type": "stream",
     "text": [
      "DONE (t=2.05s).\n"
     ]
    },
    {
     "name": "stderr",
     "output_type": "stream",
     "text": [
      "2022-05-08 17:02:15,979 - mmdet - INFO - Epoch [5][50/1016]\tlr: 2.500e-03, eta: 4:30:11, time: 0.559, data_time: 0.160, memory: 3114, loss_rpn_cls: 0.0964, loss_rpn_bbox: 0.1182, loss_cls: 0.6295, acc: 78.2500, loss_bbox: 0.6024, loss_mask: 0.3434, loss: 1.7898\n",
      "2022-05-08 17:02:43,086 - mmdet - INFO - Epoch [5][100/1016]\tlr: 2.500e-03, eta: 4:30:03, time: 0.542, data_time: 0.138, memory: 3114, loss_rpn_cls: 0.1146, loss_rpn_bbox: 0.1295, loss_cls: 0.6501, acc: 78.2402, loss_bbox: 0.5901, loss_mask: 0.3457, loss: 1.8301\n",
      "2022-05-08 17:03:08,364 - mmdet - INFO - Epoch [5][150/1016]\tlr: 2.500e-03, eta: 4:29:40, time: 0.506, data_time: 0.111, memory: 3114, loss_rpn_cls: 0.1161, loss_rpn_bbox: 0.1259, loss_cls: 0.6166, acc: 79.4414, loss_bbox: 0.5824, loss_mask: 0.3553, loss: 1.7964\n",
      "2022-05-08 17:03:33,741 - mmdet - INFO - Epoch [5][200/1016]\tlr: 2.500e-03, eta: 4:29:18, time: 0.508, data_time: 0.115, memory: 3114, loss_rpn_cls: 0.1118, loss_rpn_bbox: 0.1251, loss_cls: 0.6296, acc: 78.7148, loss_bbox: 0.5921, loss_mask: 0.3611, loss: 1.8197\n",
      "2022-05-08 17:03:59,317 - mmdet - INFO - Epoch [5][250/1016]\tlr: 2.500e-03, eta: 4:28:57, time: 0.512, data_time: 0.109, memory: 3114, loss_rpn_cls: 0.1068, loss_rpn_bbox: 0.1263, loss_cls: 0.6476, acc: 77.7070, loss_bbox: 0.5827, loss_mask: 0.3357, loss: 1.7991\n",
      "2022-05-08 17:04:24,898 - mmdet - INFO - Epoch [5][300/1016]\tlr: 2.500e-03, eta: 4:28:36, time: 0.512, data_time: 0.118, memory: 3114, loss_rpn_cls: 0.1010, loss_rpn_bbox: 0.1188, loss_cls: 0.6057, acc: 79.6074, loss_bbox: 0.5564, loss_mask: 0.3392, loss: 1.7211\n",
      "2022-05-08 17:04:50,129 - mmdet - INFO - Epoch [5][350/1016]\tlr: 2.500e-03, eta: 4:28:13, time: 0.505, data_time: 0.104, memory: 3114, loss_rpn_cls: 0.1056, loss_rpn_bbox: 0.1216, loss_cls: 0.5983, acc: 79.6621, loss_bbox: 0.5647, loss_mask: 0.3421, loss: 1.7324\n",
      "2022-05-08 17:05:13,925 - mmdet - INFO - Epoch [5][400/1016]\tlr: 2.500e-03, eta: 4:27:39, time: 0.476, data_time: 0.092, memory: 3114, loss_rpn_cls: 0.0996, loss_rpn_bbox: 0.1111, loss_cls: 0.6011, acc: 79.8438, loss_bbox: 0.5715, loss_mask: 0.3553, loss: 1.7385\n",
      "2022-05-08 17:05:38,705 - mmdet - INFO - Epoch [5][450/1016]\tlr: 2.500e-03, eta: 4:27:12, time: 0.496, data_time: 0.100, memory: 3114, loss_rpn_cls: 0.0997, loss_rpn_bbox: 0.1150, loss_cls: 0.5943, acc: 79.6973, loss_bbox: 0.5587, loss_mask: 0.3536, loss: 1.7213\n",
      "2022-05-08 17:06:05,025 - mmdet - INFO - Epoch [5][500/1016]\tlr: 2.500e-03, eta: 4:26:56, time: 0.526, data_time: 0.123, memory: 3114, loss_rpn_cls: 0.1221, loss_rpn_bbox: 0.1338, loss_cls: 0.6140, acc: 79.2207, loss_bbox: 0.5768, loss_mask: 0.3552, loss: 1.8018\n",
      "2022-05-08 17:06:30,985 - mmdet - INFO - Epoch [5][550/1016]\tlr: 2.500e-03, eta: 4:26:38, time: 0.519, data_time: 0.121, memory: 3114, loss_rpn_cls: 0.1170, loss_rpn_bbox: 0.1221, loss_cls: 0.6295, acc: 79.2363, loss_bbox: 0.5691, loss_mask: 0.3429, loss: 1.7807\n",
      "2022-05-08 17:06:56,404 - mmdet - INFO - Epoch [5][600/1016]\tlr: 2.500e-03, eta: 4:26:16, time: 0.508, data_time: 0.112, memory: 3114, loss_rpn_cls: 0.1079, loss_rpn_bbox: 0.1185, loss_cls: 0.6063, acc: 79.0684, loss_bbox: 0.5867, loss_mask: 0.3521, loss: 1.7714\n",
      "2022-05-08 17:07:22,770 - mmdet - INFO - Epoch [5][650/1016]\tlr: 2.500e-03, eta: 4:26:00, time: 0.527, data_time: 0.125, memory: 3114, loss_rpn_cls: 0.1154, loss_rpn_bbox: 0.1234, loss_cls: 0.6205, acc: 79.0879, loss_bbox: 0.5776, loss_mask: 0.3566, loss: 1.7935\n",
      "2022-05-08 17:07:45,646 - mmdet - INFO - Epoch [5][700/1016]\tlr: 2.500e-03, eta: 4:25:20, time: 0.457, data_time: 0.076, memory: 3114, loss_rpn_cls: 0.0998, loss_rpn_bbox: 0.1069, loss_cls: 0.6033, acc: 79.6855, loss_bbox: 0.5582, loss_mask: 0.3419, loss: 1.7100\n",
      "2022-05-08 17:08:13,726 - mmdet - INFO - Epoch [5][750/1016]\tlr: 2.500e-03, eta: 4:25:15, time: 0.562, data_time: 0.144, memory: 3114, loss_rpn_cls: 0.1091, loss_rpn_bbox: 0.1256, loss_cls: 0.6420, acc: 78.7090, loss_bbox: 0.5945, loss_mask: 0.3504, loss: 1.8216\n",
      "2022-05-08 17:08:37,870 - mmdet - INFO - Epoch [5][800/1016]\tlr: 2.500e-03, eta: 4:24:44, time: 0.483, data_time: 0.097, memory: 3114, loss_rpn_cls: 0.1114, loss_rpn_bbox: 0.1146, loss_cls: 0.6095, acc: 78.9590, loss_bbox: 0.5933, loss_mask: 0.3405, loss: 1.7692\n",
      "2022-05-08 17:09:04,447 - mmdet - INFO - Epoch [5][850/1016]\tlr: 2.500e-03, eta: 4:24:29, time: 0.532, data_time: 0.118, memory: 3114, loss_rpn_cls: 0.1020, loss_rpn_bbox: 0.1202, loss_cls: 0.6239, acc: 79.1836, loss_bbox: 0.5906, loss_mask: 0.3443, loss: 1.7809\n",
      "2022-05-08 17:09:28,565 - mmdet - INFO - Epoch [5][900/1016]\tlr: 2.500e-03, eta: 4:23:58, time: 0.482, data_time: 0.091, memory: 3114, loss_rpn_cls: 0.1246, loss_rpn_bbox: 0.1280, loss_cls: 0.6152, acc: 79.3203, loss_bbox: 0.5833, loss_mask: 0.3665, loss: 1.8175\n",
      "2022-05-08 17:09:53,861 - mmdet - INFO - Epoch [5][950/1016]\tlr: 2.500e-03, eta: 4:23:34, time: 0.506, data_time: 0.107, memory: 3114, loss_rpn_cls: 0.1103, loss_rpn_bbox: 0.1191, loss_cls: 0.6212, acc: 79.5000, loss_bbox: 0.5670, loss_mask: 0.3380, loss: 1.7557\n",
      "2022-05-08 17:10:19,114 - mmdet - INFO - Epoch [5][1000/1016]\tlr: 2.500e-03, eta: 4:23:11, time: 0.505, data_time: 0.115, memory: 3114, loss_rpn_cls: 0.1232, loss_rpn_bbox: 0.1251, loss_cls: 0.6230, acc: 79.0820, loss_bbox: 0.5777, loss_mask: 0.3420, loss: 1.7909\n"
     ]
    },
    {
     "name": "stdout",
     "output_type": "stream",
     "text": [
      "[>>>>>>>>>>>>>>>>>>>>>>>>>>>>>>] 508/508, 9.1 task/s, elapsed: 56s, ETA:     0s"
     ]
    },
    {
     "name": "stderr",
     "output_type": "stream",
     "text": [
      "2022-05-08 17:11:26,579 - mmdet - INFO - Evaluating bbox...\n"
     ]
    },
    {
     "name": "stdout",
     "output_type": "stream",
     "text": [
      "Loading and preparing results...\n",
      "DONE (t=0.17s)\n",
      "creating index...\n",
      "index created!\n",
      "Running per image evaluation...\n",
      "Evaluate annotation type *bbox*\n",
      "DONE (t=33.48s).\n",
      "Accumulating evaluation results...\n"
     ]
    },
    {
     "name": "stderr",
     "output_type": "stream",
     "text": [
      "2022-05-08 17:12:03,349 - mmdet - INFO - \n",
      " Average Precision  (AP) @[ IoU=0.50:0.95 | area=   all | maxDets=100 ] = 0.115\n",
      " Average Precision  (AP) @[ IoU=0.50      | area=   all | maxDets=1000 ] = 0.247\n",
      " Average Precision  (AP) @[ IoU=0.75      | area=   all | maxDets=1000 ] = 0.091\n",
      " Average Precision  (AP) @[ IoU=0.50:0.95 | area= small | maxDets=1000 ] = 0.120\n",
      " Average Precision  (AP) @[ IoU=0.50:0.95 | area=medium | maxDets=1000 ] = 0.117\n",
      " Average Precision  (AP) @[ IoU=0.50:0.95 | area= large | maxDets=1000 ] = -1.000\n",
      " Average Recall     (AR) @[ IoU=0.50:0.95 | area=   all | maxDets=100 ] = 0.262\n",
      " Average Recall     (AR) @[ IoU=0.50:0.95 | area=   all | maxDets=300 ] = 0.262\n",
      " Average Recall     (AR) @[ IoU=0.50:0.95 | area=   all | maxDets=1000 ] = 0.262\n",
      " Average Recall     (AR) @[ IoU=0.50:0.95 | area= small | maxDets=1000 ] = 0.255\n",
      " Average Recall     (AR) @[ IoU=0.50:0.95 | area=medium | maxDets=1000 ] = 0.390\n",
      " Average Recall     (AR) @[ IoU=0.50:0.95 | area= large | maxDets=1000 ] = -1.000\n",
      "\n",
      "2022-05-08 17:12:03,350 - mmdet - INFO - Evaluating segm...\n"
     ]
    },
    {
     "name": "stdout",
     "output_type": "stream",
     "text": [
      "DONE (t=2.23s).\n"
     ]
    },
    {
     "name": "stderr",
     "output_type": "stream",
     "text": [
      "/kaggle/working/mmdetection/mmdet/datasets/coco.py:474: UserWarning: The key \"bbox\" is deleted for more accurate mask AP of small/medium/large instances since v2.12.0. This does not change the overall mAP calculation.\n",
      "  UserWarning)\n"
     ]
    },
    {
     "name": "stdout",
     "output_type": "stream",
     "text": [
      "Loading and preparing results...\n",
      "DONE (t=1.21s)\n",
      "creating index...\n",
      "index created!\n",
      "Running per image evaluation...\n",
      "Evaluate annotation type *segm*\n",
      "DONE (t=33.84s).\n",
      "Accumulating evaluation results...\n"
     ]
    },
    {
     "name": "stderr",
     "output_type": "stream",
     "text": [
      "2022-05-08 17:12:41,944 - mmdet - INFO - \n",
      " Average Precision  (AP) @[ IoU=0.50:0.95 | area=   all | maxDets=100 ] = 0.110\n",
      " Average Precision  (AP) @[ IoU=0.50      | area=   all | maxDets=1000 ] = 0.242\n",
      " Average Precision  (AP) @[ IoU=0.75      | area=   all | maxDets=1000 ] = 0.083\n",
      " Average Precision  (AP) @[ IoU=0.50:0.95 | area= small | maxDets=1000 ] = 0.104\n",
      " Average Precision  (AP) @[ IoU=0.50:0.95 | area=medium | maxDets=1000 ] = 0.225\n",
      " Average Precision  (AP) @[ IoU=0.50:0.95 | area= large | maxDets=1000 ] = -1.000\n",
      " Average Recall     (AR) @[ IoU=0.50:0.95 | area=   all | maxDets=100 ] = 0.247\n",
      " Average Recall     (AR) @[ IoU=0.50:0.95 | area=   all | maxDets=300 ] = 0.247\n",
      " Average Recall     (AR) @[ IoU=0.50:0.95 | area=   all | maxDets=1000 ] = 0.247\n",
      " Average Recall     (AR) @[ IoU=0.50:0.95 | area= small | maxDets=1000 ] = 0.240\n",
      " Average Recall     (AR) @[ IoU=0.50:0.95 | area=medium | maxDets=1000 ] = 0.365\n",
      " Average Recall     (AR) @[ IoU=0.50:0.95 | area= large | maxDets=1000 ] = -1.000\n",
      "\n",
      "2022-05-08 17:12:42,079 - mmdet - INFO - Epoch(val) [5][508]\tbbox_mAP: 0.1150, bbox_mAP_50: 0.2470, bbox_mAP_75: 0.0910, bbox_mAP_s: 0.1200, bbox_mAP_m: 0.1170, bbox_mAP_l: -1.0000, bbox_mAP_copypaste: 0.115 0.247 0.091 0.120 0.117 -1.000, segm_mAP: 0.1100, segm_mAP_50: 0.2420, segm_mAP_75: 0.0830, segm_mAP_s: 0.1040, segm_mAP_m: 0.2250, segm_mAP_l: -1.0000, segm_mAP_copypaste: 0.110 0.242 0.083 0.104 0.225 -1.000\n"
     ]
    },
    {
     "name": "stdout",
     "output_type": "stream",
     "text": [
      "DONE (t=2.56s).\n"
     ]
    },
    {
     "name": "stderr",
     "output_type": "stream",
     "text": [
      "2022-05-08 17:13:11,720 - mmdet - INFO - Epoch [6][50/1016]\tlr: 2.500e-03, eta: 4:22:16, time: 0.591, data_time: 0.191, memory: 3114, loss_rpn_cls: 0.1086, loss_rpn_bbox: 0.1275, loss_cls: 0.6316, acc: 78.8848, loss_bbox: 0.5759, loss_mask: 0.3478, loss: 1.7914\n",
      "2022-05-08 17:13:36,931 - mmdet - INFO - Epoch [6][100/1016]\tlr: 2.500e-03, eta: 4:21:52, time: 0.504, data_time: 0.114, memory: 3114, loss_rpn_cls: 0.0943, loss_rpn_bbox: 0.1139, loss_cls: 0.5898, acc: 79.5215, loss_bbox: 0.5591, loss_mask: 0.3423, loss: 1.6994\n",
      "2022-05-08 17:14:03,737 - mmdet - INFO - Epoch [6][150/1016]\tlr: 2.500e-03, eta: 4:21:38, time: 0.536, data_time: 0.137, memory: 3114, loss_rpn_cls: 0.1129, loss_rpn_bbox: 0.1231, loss_cls: 0.6113, acc: 79.3379, loss_bbox: 0.5809, loss_mask: 0.3483, loss: 1.7765\n",
      "2022-05-08 17:14:30,544 - mmdet - INFO - Epoch [6][200/1016]\tlr: 2.500e-03, eta: 4:21:23, time: 0.536, data_time: 0.128, memory: 3114, loss_rpn_cls: 0.1029, loss_rpn_bbox: 0.1215, loss_cls: 0.6197, acc: 79.0137, loss_bbox: 0.5801, loss_mask: 0.3424, loss: 1.7666\n",
      "2022-05-08 17:14:54,512 - mmdet - INFO - Epoch [6][250/1016]\tlr: 2.500e-03, eta: 4:20:52, time: 0.479, data_time: 0.092, memory: 3114, loss_rpn_cls: 0.0972, loss_rpn_bbox: 0.1098, loss_cls: 0.5801, acc: 80.2480, loss_bbox: 0.5587, loss_mask: 0.3479, loss: 1.6937\n",
      "2022-05-08 17:15:20,589 - mmdet - INFO - Epoch [6][300/1016]\tlr: 2.500e-03, eta: 4:20:33, time: 0.522, data_time: 0.127, memory: 3114, loss_rpn_cls: 0.1170, loss_rpn_bbox: 0.1158, loss_cls: 0.6177, acc: 79.4512, loss_bbox: 0.5883, loss_mask: 0.3592, loss: 1.7981\n",
      "2022-05-08 17:15:46,206 - mmdet - INFO - Epoch [6][350/1016]\tlr: 2.500e-03, eta: 4:20:11, time: 0.512, data_time: 0.118, memory: 3114, loss_rpn_cls: 0.1092, loss_rpn_bbox: 0.1270, loss_cls: 0.6054, acc: 79.1387, loss_bbox: 0.5663, loss_mask: 0.3382, loss: 1.7461\n",
      "2022-05-08 17:16:12,233 - mmdet - INFO - Epoch [6][400/1016]\tlr: 2.500e-03, eta: 4:19:51, time: 0.521, data_time: 0.113, memory: 3114, loss_rpn_cls: 0.0884, loss_rpn_bbox: 0.1163, loss_cls: 0.5758, acc: 80.3906, loss_bbox: 0.5512, loss_mask: 0.3311, loss: 1.6627\n",
      "2022-05-08 17:16:37,927 - mmdet - INFO - Epoch [6][450/1016]\tlr: 2.500e-03, eta: 4:19:30, time: 0.514, data_time: 0.117, memory: 3114, loss_rpn_cls: 0.1067, loss_rpn_bbox: 0.1266, loss_cls: 0.6131, acc: 78.6934, loss_bbox: 0.5845, loss_mask: 0.3375, loss: 1.7683\n",
      "2022-05-08 17:17:01,620 - mmdet - INFO - Epoch [6][500/1016]\tlr: 2.500e-03, eta: 4:18:57, time: 0.474, data_time: 0.088, memory: 3114, loss_rpn_cls: 0.0876, loss_rpn_bbox: 0.1114, loss_cls: 0.5798, acc: 80.3281, loss_bbox: 0.5481, loss_mask: 0.3299, loss: 1.6568\n",
      "2022-05-08 17:17:28,178 - mmdet - INFO - Epoch [6][550/1016]\tlr: 2.500e-03, eta: 4:18:40, time: 0.531, data_time: 0.131, memory: 3114, loss_rpn_cls: 0.0968, loss_rpn_bbox: 0.1110, loss_cls: 0.5797, acc: 79.9570, loss_bbox: 0.5438, loss_mask: 0.3329, loss: 1.6643\n",
      "2022-05-08 17:17:54,332 - mmdet - INFO - Epoch [6][600/1016]\tlr: 2.500e-03, eta: 4:18:21, time: 0.523, data_time: 0.120, memory: 3114, loss_rpn_cls: 0.0913, loss_rpn_bbox: 0.1133, loss_cls: 0.6052, acc: 79.6582, loss_bbox: 0.5684, loss_mask: 0.3367, loss: 1.7149\n",
      "2022-05-08 17:18:19,410 - mmdet - INFO - Epoch [6][650/1016]\tlr: 2.500e-03, eta: 4:17:56, time: 0.502, data_time: 0.108, memory: 3114, loss_rpn_cls: 0.0906, loss_rpn_bbox: 0.1125, loss_cls: 0.5852, acc: 79.6484, loss_bbox: 0.5573, loss_mask: 0.3374, loss: 1.6829\n",
      "2022-05-08 17:18:45,239 - mmdet - INFO - Epoch [6][700/1016]\tlr: 2.500e-03, eta: 4:17:35, time: 0.517, data_time: 0.110, memory: 3114, loss_rpn_cls: 0.0976, loss_rpn_bbox: 0.1137, loss_cls: 0.5812, acc: 79.9023, loss_bbox: 0.5560, loss_mask: 0.3369, loss: 1.6854\n",
      "2022-05-08 17:19:10,263 - mmdet - INFO - Epoch [6][750/1016]\tlr: 2.500e-03, eta: 4:17:09, time: 0.500, data_time: 0.113, memory: 3114, loss_rpn_cls: 0.1050, loss_rpn_bbox: 0.1190, loss_cls: 0.5828, acc: 80.2344, loss_bbox: 0.5585, loss_mask: 0.3412, loss: 1.7065\n",
      "2022-05-08 17:19:35,398 - mmdet - INFO - Epoch [6][800/1016]\tlr: 2.500e-03, eta: 4:16:44, time: 0.503, data_time: 0.098, memory: 3114, loss_rpn_cls: 0.0867, loss_rpn_bbox: 0.1117, loss_cls: 0.5988, acc: 79.8047, loss_bbox: 0.5415, loss_mask: 0.3188, loss: 1.6575\n",
      "2022-05-08 17:19:59,943 - mmdet - INFO - Epoch [6][850/1016]\tlr: 2.500e-03, eta: 4:16:16, time: 0.491, data_time: 0.100, memory: 3114, loss_rpn_cls: 0.0918, loss_rpn_bbox: 0.1115, loss_cls: 0.5723, acc: 80.7109, loss_bbox: 0.5187, loss_mask: 0.3199, loss: 1.6142\n",
      "2022-05-08 17:20:25,974 - mmdet - INFO - Epoch [6][900/1016]\tlr: 2.500e-03, eta: 4:15:56, time: 0.521, data_time: 0.113, memory: 3114, loss_rpn_cls: 0.0996, loss_rpn_bbox: 0.1194, loss_cls: 0.6056, acc: 79.1680, loss_bbox: 0.5519, loss_mask: 0.3315, loss: 1.7081\n",
      "2022-05-08 17:20:50,494 - mmdet - INFO - Epoch [6][950/1016]\tlr: 2.500e-03, eta: 4:15:28, time: 0.490, data_time: 0.101, memory: 3114, loss_rpn_cls: 0.0883, loss_rpn_bbox: 0.1169, loss_cls: 0.6004, acc: 79.3047, loss_bbox: 0.5755, loss_mask: 0.3410, loss: 1.7219\n",
      "2022-05-08 17:21:16,313 - mmdet - INFO - Epoch [6][1000/1016]\tlr: 2.500e-03, eta: 4:15:07, time: 0.516, data_time: 0.114, memory: 3114, loss_rpn_cls: 0.0971, loss_rpn_bbox: 0.1108, loss_cls: 0.5974, acc: 79.5078, loss_bbox: 0.5646, loss_mask: 0.3414, loss: 1.7113\n"
     ]
    },
    {
     "name": "stdout",
     "output_type": "stream",
     "text": [
      "[>>>>>>>>>>>>>>>>>>>>>>>>>>>>>>] 508/508, 9.1 task/s, elapsed: 56s, ETA:     0s"
     ]
    },
    {
     "name": "stderr",
     "output_type": "stream",
     "text": [
      "2022-05-08 17:22:23,915 - mmdet - INFO - Evaluating bbox...\n"
     ]
    },
    {
     "name": "stdout",
     "output_type": "stream",
     "text": [
      "Loading and preparing results...\n",
      "DONE (t=0.55s)\n",
      "creating index...\n",
      "index created!\n",
      "Running per image evaluation...\n",
      "Evaluate annotation type *bbox*\n",
      "DONE (t=33.28s).\n",
      "Accumulating evaluation results...\n"
     ]
    },
    {
     "name": "stderr",
     "output_type": "stream",
     "text": [
      "2022-05-08 17:23:00,269 - mmdet - INFO - \n",
      " Average Precision  (AP) @[ IoU=0.50:0.95 | area=   all | maxDets=100 ] = 0.130\n",
      " Average Precision  (AP) @[ IoU=0.50      | area=   all | maxDets=1000 ] = 0.264\n",
      " Average Precision  (AP) @[ IoU=0.75      | area=   all | maxDets=1000 ] = 0.114\n",
      " Average Precision  (AP) @[ IoU=0.50:0.95 | area= small | maxDets=1000 ] = 0.141\n",
      " Average Precision  (AP) @[ IoU=0.50:0.95 | area=medium | maxDets=1000 ] = 0.140\n",
      " Average Precision  (AP) @[ IoU=0.50:0.95 | area= large | maxDets=1000 ] = -1.000\n",
      " Average Recall     (AR) @[ IoU=0.50:0.95 | area=   all | maxDets=100 ] = 0.281\n",
      " Average Recall     (AR) @[ IoU=0.50:0.95 | area=   all | maxDets=300 ] = 0.281\n",
      " Average Recall     (AR) @[ IoU=0.50:0.95 | area=   all | maxDets=1000 ] = 0.281\n",
      " Average Recall     (AR) @[ IoU=0.50:0.95 | area= small | maxDets=1000 ] = 0.272\n",
      " Average Recall     (AR) @[ IoU=0.50:0.95 | area=medium | maxDets=1000 ] = 0.483\n",
      " Average Recall     (AR) @[ IoU=0.50:0.95 | area= large | maxDets=1000 ] = -1.000\n",
      "\n",
      "2022-05-08 17:23:00,271 - mmdet - INFO - Evaluating segm...\n"
     ]
    },
    {
     "name": "stdout",
     "output_type": "stream",
     "text": [
      "DONE (t=2.27s).\n"
     ]
    },
    {
     "name": "stderr",
     "output_type": "stream",
     "text": [
      "/kaggle/working/mmdetection/mmdet/datasets/coco.py:474: UserWarning: The key \"bbox\" is deleted for more accurate mask AP of small/medium/large instances since v2.12.0. This does not change the overall mAP calculation.\n",
      "  UserWarning)\n"
     ]
    },
    {
     "name": "stdout",
     "output_type": "stream",
     "text": [
      "Loading and preparing results...\n",
      "DONE (t=0.70s)\n",
      "creating index...\n",
      "index created!\n",
      "Running per image evaluation...\n",
      "Evaluate annotation type *segm*\n",
      "DONE (t=34.31s).\n",
      "Accumulating evaluation results...\n"
     ]
    },
    {
     "name": "stderr",
     "output_type": "stream",
     "text": [
      "2022-05-08 17:23:38,378 - mmdet - INFO - \n",
      " Average Precision  (AP) @[ IoU=0.50:0.95 | area=   all | maxDets=100 ] = 0.124\n",
      " Average Precision  (AP) @[ IoU=0.50      | area=   all | maxDets=1000 ] = 0.257\n",
      " Average Precision  (AP) @[ IoU=0.75      | area=   all | maxDets=1000 ] = 0.108\n",
      " Average Precision  (AP) @[ IoU=0.50:0.95 | area= small | maxDets=1000 ] = 0.121\n",
      " Average Precision  (AP) @[ IoU=0.50:0.95 | area=medium | maxDets=1000 ] = 0.239\n",
      " Average Precision  (AP) @[ IoU=0.50:0.95 | area= large | maxDets=1000 ] = -1.000\n",
      " Average Recall     (AR) @[ IoU=0.50:0.95 | area=   all | maxDets=100 ] = 0.268\n",
      " Average Recall     (AR) @[ IoU=0.50:0.95 | area=   all | maxDets=300 ] = 0.268\n",
      " Average Recall     (AR) @[ IoU=0.50:0.95 | area=   all | maxDets=1000 ] = 0.268\n",
      " Average Recall     (AR) @[ IoU=0.50:0.95 | area= small | maxDets=1000 ] = 0.258\n",
      " Average Recall     (AR) @[ IoU=0.50:0.95 | area=medium | maxDets=1000 ] = 0.487\n",
      " Average Recall     (AR) @[ IoU=0.50:0.95 | area= large | maxDets=1000 ] = -1.000\n",
      "\n"
     ]
    },
    {
     "name": "stdout",
     "output_type": "stream",
     "text": [
      "DONE (t=2.61s).\n"
     ]
    },
    {
     "name": "stderr",
     "output_type": "stream",
     "text": [
      "2022-05-08 17:23:38,691 - mmdet - INFO - Epoch(val) [6][508]\tbbox_mAP: 0.1300, bbox_mAP_50: 0.2640, bbox_mAP_75: 0.1140, bbox_mAP_s: 0.1410, bbox_mAP_m: 0.1400, bbox_mAP_l: -1.0000, bbox_mAP_copypaste: 0.130 0.264 0.114 0.141 0.140 -1.000, segm_mAP: 0.1240, segm_mAP_50: 0.2570, segm_mAP_75: 0.1080, segm_mAP_s: 0.1210, segm_mAP_m: 0.2390, segm_mAP_l: -1.0000, segm_mAP_copypaste: 0.124 0.257 0.108 0.121 0.239 -1.000\n",
      "2022-05-08 17:24:05,796 - mmdet - INFO - Epoch [7][50/1016]\tlr: 2.500e-03, eta: 4:14:03, time: 0.541, data_time: 0.154, memory: 3114, loss_rpn_cls: 0.0829, loss_rpn_bbox: 0.1092, loss_cls: 0.5903, acc: 79.7207, loss_bbox: 0.5599, loss_mask: 0.3303, loss: 1.6726\n",
      "2022-05-08 17:24:31,707 - mmdet - INFO - Epoch [7][100/1016]\tlr: 2.500e-03, eta: 4:13:43, time: 0.518, data_time: 0.118, memory: 3114, loss_rpn_cls: 0.1142, loss_rpn_bbox: 0.1197, loss_cls: 0.6148, acc: 79.7773, loss_bbox: 0.5680, loss_mask: 0.3464, loss: 1.7630\n",
      "2022-05-08 17:24:58,226 - mmdet - INFO - Epoch [7][150/1016]\tlr: 2.500e-03, eta: 4:13:25, time: 0.530, data_time: 0.134, memory: 3114, loss_rpn_cls: 0.1053, loss_rpn_bbox: 0.1152, loss_cls: 0.5844, acc: 79.8867, loss_bbox: 0.5632, loss_mask: 0.3455, loss: 1.7136\n",
      "2022-05-08 17:25:23,767 - mmdet - INFO - Epoch [7][200/1016]\tlr: 2.500e-03, eta: 4:13:02, time: 0.511, data_time: 0.115, memory: 3114, loss_rpn_cls: 0.0879, loss_rpn_bbox: 0.1121, loss_cls: 0.5810, acc: 79.9414, loss_bbox: 0.5333, loss_mask: 0.3217, loss: 1.6361\n",
      "2022-05-08 17:25:48,303 - mmdet - INFO - Epoch [7][250/1016]\tlr: 2.500e-03, eta: 4:12:34, time: 0.491, data_time: 0.104, memory: 3114, loss_rpn_cls: 0.0842, loss_rpn_bbox: 0.1120, loss_cls: 0.5682, acc: 80.5527, loss_bbox: 0.5403, loss_mask: 0.3323, loss: 1.6370\n",
      "2022-05-08 17:26:12,530 - mmdet - INFO - Epoch [7][300/1016]\tlr: 2.500e-03, eta: 4:12:05, time: 0.485, data_time: 0.100, memory: 3114, loss_rpn_cls: 0.0963, loss_rpn_bbox: 0.1076, loss_cls: 0.5826, acc: 79.9023, loss_bbox: 0.5447, loss_mask: 0.3238, loss: 1.6550\n",
      "2022-05-08 17:26:38,616 - mmdet - INFO - Epoch [7][350/1016]\tlr: 2.500e-03, eta: 4:11:45, time: 0.522, data_time: 0.119, memory: 3114, loss_rpn_cls: 0.1024, loss_rpn_bbox: 0.1110, loss_cls: 0.6002, acc: 79.6094, loss_bbox: 0.5549, loss_mask: 0.3411, loss: 1.7097\n",
      "2022-05-08 17:27:03,378 - mmdet - INFO - Epoch [7][400/1016]\tlr: 2.500e-03, eta: 4:11:18, time: 0.495, data_time: 0.112, memory: 3114, loss_rpn_cls: 0.0952, loss_rpn_bbox: 0.1072, loss_cls: 0.5632, acc: 80.7109, loss_bbox: 0.5413, loss_mask: 0.3384, loss: 1.6454\n",
      "2022-05-08 17:27:28,844 - mmdet - INFO - Epoch [7][450/1016]\tlr: 2.500e-03, eta: 4:10:55, time: 0.509, data_time: 0.112, memory: 3114, loss_rpn_cls: 0.0881, loss_rpn_bbox: 0.1166, loss_cls: 0.5855, acc: 79.7969, loss_bbox: 0.5615, loss_mask: 0.3340, loss: 1.6857\n",
      "2022-05-08 17:27:53,954 - mmdet - INFO - Epoch [7][500/1016]\tlr: 2.500e-03, eta: 4:10:30, time: 0.502, data_time: 0.106, memory: 3114, loss_rpn_cls: 0.0840, loss_rpn_bbox: 0.1174, loss_cls: 0.5955, acc: 79.5332, loss_bbox: 0.5463, loss_mask: 0.3316, loss: 1.6748\n",
      "2022-05-08 17:28:19,434 - mmdet - INFO - Epoch [7][550/1016]\tlr: 2.500e-03, eta: 4:10:07, time: 0.510, data_time: 0.111, memory: 3114, loss_rpn_cls: 0.0908, loss_rpn_bbox: 0.1045, loss_cls: 0.5622, acc: 80.7168, loss_bbox: 0.5283, loss_mask: 0.3373, loss: 1.6230\n",
      "2022-05-08 17:28:44,322 - mmdet - INFO - Epoch [7][600/1016]\tlr: 2.500e-03, eta: 4:09:41, time: 0.498, data_time: 0.106, memory: 3114, loss_rpn_cls: 0.1038, loss_rpn_bbox: 0.1217, loss_cls: 0.5951, acc: 79.6816, loss_bbox: 0.5527, loss_mask: 0.3374, loss: 1.7108\n",
      "2022-05-08 17:29:12,355 - mmdet - INFO - Epoch [7][650/1016]\tlr: 2.500e-03, eta: 4:09:29, time: 0.561, data_time: 0.140, memory: 3114, loss_rpn_cls: 0.0905, loss_rpn_bbox: 0.1194, loss_cls: 0.5924, acc: 79.6172, loss_bbox: 0.5460, loss_mask: 0.3227, loss: 1.6710\n",
      "2022-05-08 17:29:37,129 - mmdet - INFO - Epoch [7][700/1016]\tlr: 2.500e-03, eta: 4:09:03, time: 0.495, data_time: 0.112, memory: 3114, loss_rpn_cls: 0.0932, loss_rpn_bbox: 0.1152, loss_cls: 0.5591, acc: 80.5645, loss_bbox: 0.5463, loss_mask: 0.3323, loss: 1.6462\n",
      "2022-05-08 17:30:01,514 - mmdet - INFO - Epoch [7][750/1016]\tlr: 2.500e-03, eta: 4:08:35, time: 0.488, data_time: 0.096, memory: 3114, loss_rpn_cls: 0.0945, loss_rpn_bbox: 0.1073, loss_cls: 0.5420, acc: 81.3184, loss_bbox: 0.5148, loss_mask: 0.3243, loss: 1.5829\n",
      "2022-05-08 17:30:26,138 - mmdet - INFO - Epoch [7][800/1016]\tlr: 2.500e-03, eta: 4:08:08, time: 0.492, data_time: 0.103, memory: 3114, loss_rpn_cls: 0.0903, loss_rpn_bbox: 0.1101, loss_cls: 0.5735, acc: 80.0723, loss_bbox: 0.5484, loss_mask: 0.3288, loss: 1.6510\n",
      "2022-05-08 17:30:51,429 - mmdet - INFO - Epoch [7][850/1016]\tlr: 2.500e-03, eta: 4:07:43, time: 0.506, data_time: 0.106, memory: 3114, loss_rpn_cls: 0.0871, loss_rpn_bbox: 0.1100, loss_cls: 0.5955, acc: 79.5605, loss_bbox: 0.5523, loss_mask: 0.3308, loss: 1.6757\n",
      "2022-05-08 17:31:17,270 - mmdet - INFO - Epoch [7][900/1016]\tlr: 2.500e-03, eta: 4:07:21, time: 0.517, data_time: 0.122, memory: 3114, loss_rpn_cls: 0.0988, loss_rpn_bbox: 0.1292, loss_cls: 0.5672, acc: 80.2832, loss_bbox: 0.5419, loss_mask: 0.3329, loss: 1.6699\n",
      "2022-05-08 17:31:44,858 - mmdet - INFO - Epoch [7][950/1016]\tlr: 2.500e-03, eta: 4:07:07, time: 0.552, data_time: 0.144, memory: 3114, loss_rpn_cls: 0.1012, loss_rpn_bbox: 0.1162, loss_cls: 0.5876, acc: 80.0057, loss_bbox: 0.5541, loss_mask: 0.3381, loss: 1.6972\n",
      "2022-05-08 17:32:08,884 - mmdet - INFO - Epoch [7][1000/1016]\tlr: 2.500e-03, eta: 4:06:37, time: 0.481, data_time: 0.094, memory: 3114, loss_rpn_cls: 0.0929, loss_rpn_bbox: 0.1067, loss_cls: 0.5765, acc: 80.2676, loss_bbox: 0.5403, loss_mask: 0.3248, loss: 1.6412\n"
     ]
    },
    {
     "name": "stdout",
     "output_type": "stream",
     "text": [
      "[>>>>>>>>>>>>>>>>>>>>>>>>>>>>>>] 508/508, 9.3 task/s, elapsed: 55s, ETA:     0s"
     ]
    },
    {
     "name": "stderr",
     "output_type": "stream",
     "text": [
      "2022-05-08 17:33:15,649 - mmdet - INFO - Evaluating bbox...\n"
     ]
    },
    {
     "name": "stdout",
     "output_type": "stream",
     "text": [
      "Loading and preparing results...\n",
      "DONE (t=0.16s)\n",
      "creating index...\n",
      "index created!\n",
      "Running per image evaluation...\n",
      "Evaluate annotation type *bbox*\n",
      "DONE (t=35.34s).\n",
      "Accumulating evaluation results...\n"
     ]
    },
    {
     "name": "stderr",
     "output_type": "stream",
     "text": [
      "2022-05-08 17:33:53,767 - mmdet - INFO - \n",
      " Average Precision  (AP) @[ IoU=0.50:0.95 | area=   all | maxDets=100 ] = 0.132\n",
      " Average Precision  (AP) @[ IoU=0.50      | area=   all | maxDets=1000 ] = 0.270\n",
      " Average Precision  (AP) @[ IoU=0.75      | area=   all | maxDets=1000 ] = 0.112\n",
      " Average Precision  (AP) @[ IoU=0.50:0.95 | area= small | maxDets=1000 ] = 0.142\n",
      " Average Precision  (AP) @[ IoU=0.50:0.95 | area=medium | maxDets=1000 ] = 0.150\n",
      " Average Precision  (AP) @[ IoU=0.50:0.95 | area= large | maxDets=1000 ] = -1.000\n",
      " Average Recall     (AR) @[ IoU=0.50:0.95 | area=   all | maxDets=100 ] = 0.282\n",
      " Average Recall     (AR) @[ IoU=0.50:0.95 | area=   all | maxDets=300 ] = 0.282\n",
      " Average Recall     (AR) @[ IoU=0.50:0.95 | area=   all | maxDets=1000 ] = 0.282\n",
      " Average Recall     (AR) @[ IoU=0.50:0.95 | area= small | maxDets=1000 ] = 0.273\n",
      " Average Recall     (AR) @[ IoU=0.50:0.95 | area=medium | maxDets=1000 ] = 0.436\n",
      " Average Recall     (AR) @[ IoU=0.50:0.95 | area= large | maxDets=1000 ] = -1.000\n",
      "\n",
      "2022-05-08 17:33:53,769 - mmdet - INFO - Evaluating segm...\n"
     ]
    },
    {
     "name": "stdout",
     "output_type": "stream",
     "text": [
      "DONE (t=2.22s).\n"
     ]
    },
    {
     "name": "stderr",
     "output_type": "stream",
     "text": [
      "/kaggle/working/mmdetection/mmdet/datasets/coco.py:474: UserWarning: The key \"bbox\" is deleted for more accurate mask AP of small/medium/large instances since v2.12.0. This does not change the overall mAP calculation.\n",
      "  UserWarning)\n"
     ]
    },
    {
     "name": "stdout",
     "output_type": "stream",
     "text": [
      "Loading and preparing results...\n",
      "DONE (t=0.73s)\n",
      "creating index...\n",
      "index created!\n",
      "Running per image evaluation...\n",
      "Evaluate annotation type *segm*\n",
      "DONE (t=34.84s).\n",
      "Accumulating evaluation results...\n"
     ]
    },
    {
     "name": "stderr",
     "output_type": "stream",
     "text": [
      "2022-05-08 17:34:32,516 - mmdet - INFO - \n",
      " Average Precision  (AP) @[ IoU=0.50:0.95 | area=   all | maxDets=100 ] = 0.126\n",
      " Average Precision  (AP) @[ IoU=0.50      | area=   all | maxDets=1000 ] = 0.264\n",
      " Average Precision  (AP) @[ IoU=0.75      | area=   all | maxDets=1000 ] = 0.105\n",
      " Average Precision  (AP) @[ IoU=0.50:0.95 | area= small | maxDets=1000 ] = 0.120\n",
      " Average Precision  (AP) @[ IoU=0.50:0.95 | area=medium | maxDets=1000 ] = 0.249\n",
      " Average Precision  (AP) @[ IoU=0.50:0.95 | area= large | maxDets=1000 ] = -1.000\n",
      " Average Recall     (AR) @[ IoU=0.50:0.95 | area=   all | maxDets=100 ] = 0.266\n",
      " Average Recall     (AR) @[ IoU=0.50:0.95 | area=   all | maxDets=300 ] = 0.266\n",
      " Average Recall     (AR) @[ IoU=0.50:0.95 | area=   all | maxDets=1000 ] = 0.266\n",
      " Average Recall     (AR) @[ IoU=0.50:0.95 | area= small | maxDets=1000 ] = 0.258\n",
      " Average Recall     (AR) @[ IoU=0.50:0.95 | area=medium | maxDets=1000 ] = 0.398\n",
      " Average Recall     (AR) @[ IoU=0.50:0.95 | area= large | maxDets=1000 ] = -1.000\n",
      "\n",
      "2022-05-08 17:34:32,705 - mmdet - INFO - Epoch(val) [7][508]\tbbox_mAP: 0.1320, bbox_mAP_50: 0.2700, bbox_mAP_75: 0.1120, bbox_mAP_s: 0.1420, bbox_mAP_m: 0.1500, bbox_mAP_l: -1.0000, bbox_mAP_copypaste: 0.132 0.270 0.112 0.142 0.150 -1.000, segm_mAP: 0.1260, segm_mAP_50: 0.2640, segm_mAP_75: 0.1050, segm_mAP_s: 0.1200, segm_mAP_m: 0.2490, segm_mAP_l: -1.0000, segm_mAP_copypaste: 0.126 0.264 0.105 0.120 0.249 -1.000\n"
     ]
    },
    {
     "name": "stdout",
     "output_type": "stream",
     "text": [
      "DONE (t=2.58s).\n"
     ]
    },
    {
     "name": "stderr",
     "output_type": "stream",
     "text": [
      "2022-05-08 17:34:58,996 - mmdet - INFO - Epoch [8][50/1016]\tlr: 2.500e-03, eta: 4:05:36, time: 0.524, data_time: 0.138, memory: 3114, loss_rpn_cls: 0.0727, loss_rpn_bbox: 0.1012, loss_cls: 0.5519, acc: 80.3984, loss_bbox: 0.5303, loss_mask: 0.3238, loss: 1.5799\n",
      "2022-05-08 17:35:24,448 - mmdet - INFO - Epoch [8][100/1016]\tlr: 2.500e-03, eta: 4:05:12, time: 0.509, data_time: 0.116, memory: 3114, loss_rpn_cls: 0.0816, loss_rpn_bbox: 0.1137, loss_cls: 0.5731, acc: 80.1602, loss_bbox: 0.5523, loss_mask: 0.3237, loss: 1.6444\n",
      "2022-05-08 17:35:51,483 - mmdet - INFO - Epoch [8][150/1016]\tlr: 2.500e-03, eta: 4:04:55, time: 0.541, data_time: 0.140, memory: 3114, loss_rpn_cls: 0.0783, loss_rpn_bbox: 0.1098, loss_cls: 0.5757, acc: 80.4336, loss_bbox: 0.5230, loss_mask: 0.3210, loss: 1.6079\n",
      "2022-05-08 17:36:16,707 - mmdet - INFO - Epoch [8][200/1016]\tlr: 2.500e-03, eta: 4:04:31, time: 0.504, data_time: 0.112, memory: 3114, loss_rpn_cls: 0.0913, loss_rpn_bbox: 0.1152, loss_cls: 0.5618, acc: 80.9688, loss_bbox: 0.5427, loss_mask: 0.3338, loss: 1.6447\n",
      "2022-05-08 17:36:43,303 - mmdet - INFO - Epoch [8][250/1016]\tlr: 2.500e-03, eta: 4:04:12, time: 0.532, data_time: 0.122, memory: 3114, loss_rpn_cls: 0.1027, loss_rpn_bbox: 0.1096, loss_cls: 0.5578, acc: 81.0293, loss_bbox: 0.5210, loss_mask: 0.3245, loss: 1.6155\n",
      "2022-05-08 17:37:08,164 - mmdet - INFO - Epoch [8][300/1016]\tlr: 2.500e-03, eta: 4:03:46, time: 0.497, data_time: 0.107, memory: 3114, loss_rpn_cls: 0.0906, loss_rpn_bbox: 0.1120, loss_cls: 0.5687, acc: 80.3828, loss_bbox: 0.5357, loss_mask: 0.3193, loss: 1.6264\n",
      "2022-05-08 17:37:33,853 - mmdet - INFO - Epoch [8][350/1016]\tlr: 2.500e-03, eta: 4:03:23, time: 0.514, data_time: 0.110, memory: 3114, loss_rpn_cls: 0.0944, loss_rpn_bbox: 0.1147, loss_cls: 0.5743, acc: 80.3652, loss_bbox: 0.5335, loss_mask: 0.3296, loss: 1.6464\n",
      "2022-05-08 17:37:58,842 - mmdet - INFO - Epoch [8][400/1016]\tlr: 2.500e-03, eta: 4:02:58, time: 0.500, data_time: 0.109, memory: 3114, loss_rpn_cls: 0.0870, loss_rpn_bbox: 0.1104, loss_cls: 0.5535, acc: 80.6289, loss_bbox: 0.5374, loss_mask: 0.3188, loss: 1.6071\n",
      "2022-05-08 17:38:24,415 - mmdet - INFO - Epoch [8][450/1016]\tlr: 2.500e-03, eta: 4:02:35, time: 0.511, data_time: 0.105, memory: 3114, loss_rpn_cls: 0.0830, loss_rpn_bbox: 0.1032, loss_cls: 0.5625, acc: 80.8457, loss_bbox: 0.5295, loss_mask: 0.3161, loss: 1.5944\n",
      "2022-05-08 17:38:51,237 - mmdet - INFO - Epoch [8][500/1016]\tlr: 2.500e-03, eta: 4:02:16, time: 0.536, data_time: 0.133, memory: 3114, loss_rpn_cls: 0.0937, loss_rpn_bbox: 0.1226, loss_cls: 0.5875, acc: 79.6719, loss_bbox: 0.5571, loss_mask: 0.3288, loss: 1.6897\n",
      "2022-05-08 17:39:16,798 - mmdet - INFO - Epoch [8][550/1016]\tlr: 2.500e-03, eta: 4:01:53, time: 0.511, data_time: 0.113, memory: 3114, loss_rpn_cls: 0.0884, loss_rpn_bbox: 0.1132, loss_cls: 0.5843, acc: 80.0312, loss_bbox: 0.5293, loss_mask: 0.3232, loss: 1.6384\n",
      "2022-05-08 17:39:41,056 - mmdet - INFO - Epoch [8][600/1016]\tlr: 2.500e-03, eta: 4:01:25, time: 0.485, data_time: 0.099, memory: 3114, loss_rpn_cls: 0.0842, loss_rpn_bbox: 0.1008, loss_cls: 0.5620, acc: 80.6133, loss_bbox: 0.5208, loss_mask: 0.3208, loss: 1.5886\n",
      "2022-05-08 17:40:06,733 - mmdet - INFO - Epoch [8][650/1016]\tlr: 2.500e-03, eta: 4:01:02, time: 0.514, data_time: 0.114, memory: 3114, loss_rpn_cls: 0.0889, loss_rpn_bbox: 0.1063, loss_cls: 0.5949, acc: 80.0527, loss_bbox: 0.5448, loss_mask: 0.3286, loss: 1.6635\n",
      "2022-05-08 17:40:32,274 - mmdet - INFO - Epoch [8][700/1016]\tlr: 2.500e-03, eta: 4:00:38, time: 0.511, data_time: 0.115, memory: 3114, loss_rpn_cls: 0.1084, loss_rpn_bbox: 0.1160, loss_cls: 0.5762, acc: 80.1875, loss_bbox: 0.5391, loss_mask: 0.3315, loss: 1.6712\n",
      "2022-05-08 17:40:58,953 - mmdet - INFO - Epoch [8][750/1016]\tlr: 2.500e-03, eta: 4:00:19, time: 0.534, data_time: 0.124, memory: 3114, loss_rpn_cls: 0.0910, loss_rpn_bbox: 0.1119, loss_cls: 0.5677, acc: 80.6914, loss_bbox: 0.5237, loss_mask: 0.3322, loss: 1.6264\n",
      "2022-05-08 17:41:24,789 - mmdet - INFO - Epoch [8][800/1016]\tlr: 2.500e-03, eta: 3:59:56, time: 0.517, data_time: 0.125, memory: 3114, loss_rpn_cls: 0.0858, loss_rpn_bbox: 0.1153, loss_cls: 0.5681, acc: 80.0195, loss_bbox: 0.5477, loss_mask: 0.3352, loss: 1.6520\n",
      "2022-05-08 17:41:50,642 - mmdet - INFO - Epoch [8][850/1016]\tlr: 2.500e-03, eta: 3:59:34, time: 0.517, data_time: 0.118, memory: 3114, loss_rpn_cls: 0.0756, loss_rpn_bbox: 0.1087, loss_cls: 0.5597, acc: 80.4844, loss_bbox: 0.5414, loss_mask: 0.3153, loss: 1.6008\n",
      "2022-05-08 17:42:17,017 - mmdet - INFO - Epoch [8][900/1016]\tlr: 2.500e-03, eta: 3:59:13, time: 0.527, data_time: 0.134, memory: 3114, loss_rpn_cls: 0.0865, loss_rpn_bbox: 0.1057, loss_cls: 0.5552, acc: 80.9668, loss_bbox: 0.5154, loss_mask: 0.3134, loss: 1.5762\n",
      "2022-05-08 17:42:43,209 - mmdet - INFO - Epoch [8][950/1016]\tlr: 2.500e-03, eta: 3:58:52, time: 0.524, data_time: 0.122, memory: 3114, loss_rpn_cls: 0.0919, loss_rpn_bbox: 0.1059, loss_cls: 0.5299, acc: 81.6914, loss_bbox: 0.5082, loss_mask: 0.3214, loss: 1.5575\n",
      "2022-05-08 17:43:08,315 - mmdet - INFO - Epoch [8][1000/1016]\tlr: 2.500e-03, eta: 3:58:27, time: 0.502, data_time: 0.110, memory: 3114, loss_rpn_cls: 0.0857, loss_rpn_bbox: 0.1117, loss_cls: 0.5794, acc: 79.9473, loss_bbox: 0.5353, loss_mask: 0.3209, loss: 1.6331\n"
     ]
    },
    {
     "name": "stdout",
     "output_type": "stream",
     "text": [
      "[>>>>>>>>>>>>>>>>>>>>>>>>>>>>>>] 508/508, 8.9 task/s, elapsed: 57s, ETA:     0s"
     ]
    },
    {
     "name": "stderr",
     "output_type": "stream",
     "text": [
      "2022-05-08 17:44:17,507 - mmdet - INFO - Evaluating bbox...\n"
     ]
    },
    {
     "name": "stdout",
     "output_type": "stream",
     "text": [
      "Loading and preparing results...\n",
      "DONE (t=0.17s)\n",
      "creating index...\n",
      "index created!\n",
      "Running per image evaluation...\n",
      "Evaluate annotation type *bbox*\n",
      "DONE (t=36.70s).\n",
      "Accumulating evaluation results...\n"
     ]
    },
    {
     "name": "stderr",
     "output_type": "stream",
     "text": [
      "2022-05-08 17:44:58,006 - mmdet - INFO - \n",
      " Average Precision  (AP) @[ IoU=0.50:0.95 | area=   all | maxDets=100 ] = 0.126\n",
      " Average Precision  (AP) @[ IoU=0.50      | area=   all | maxDets=1000 ] = 0.258\n",
      " Average Precision  (AP) @[ IoU=0.75      | area=   all | maxDets=1000 ] = 0.109\n",
      " Average Precision  (AP) @[ IoU=0.50:0.95 | area= small | maxDets=1000 ] = 0.132\n",
      " Average Precision  (AP) @[ IoU=0.50:0.95 | area=medium | maxDets=1000 ] = 0.140\n",
      " Average Precision  (AP) @[ IoU=0.50:0.95 | area= large | maxDets=1000 ] = -1.000\n",
      " Average Recall     (AR) @[ IoU=0.50:0.95 | area=   all | maxDets=100 ] = 0.272\n",
      " Average Recall     (AR) @[ IoU=0.50:0.95 | area=   all | maxDets=300 ] = 0.272\n",
      " Average Recall     (AR) @[ IoU=0.50:0.95 | area=   all | maxDets=1000 ] = 0.272\n",
      " Average Recall     (AR) @[ IoU=0.50:0.95 | area= small | maxDets=1000 ] = 0.269\n",
      " Average Recall     (AR) @[ IoU=0.50:0.95 | area=medium | maxDets=1000 ] = 0.371\n",
      " Average Recall     (AR) @[ IoU=0.50:0.95 | area= large | maxDets=1000 ] = -1.000\n",
      "\n",
      "2022-05-08 17:44:58,008 - mmdet - INFO - Evaluating segm...\n"
     ]
    },
    {
     "name": "stdout",
     "output_type": "stream",
     "text": [
      "DONE (t=3.19s).\n"
     ]
    },
    {
     "name": "stderr",
     "output_type": "stream",
     "text": [
      "/kaggle/working/mmdetection/mmdet/datasets/coco.py:474: UserWarning: The key \"bbox\" is deleted for more accurate mask AP of small/medium/large instances since v2.12.0. This does not change the overall mAP calculation.\n",
      "  UserWarning)\n"
     ]
    },
    {
     "name": "stdout",
     "output_type": "stream",
     "text": [
      "Loading and preparing results...\n",
      "DONE (t=0.73s)\n",
      "creating index...\n",
      "index created!\n",
      "Running per image evaluation...\n",
      "Evaluate annotation type *segm*\n",
      "DONE (t=36.40s).\n",
      "Accumulating evaluation results...\n"
     ]
    },
    {
     "name": "stderr",
     "output_type": "stream",
     "text": [
      "2022-05-08 17:45:38,101 - mmdet - INFO - \n",
      " Average Precision  (AP) @[ IoU=0.50:0.95 | area=   all | maxDets=100 ] = 0.115\n",
      " Average Precision  (AP) @[ IoU=0.50      | area=   all | maxDets=1000 ] = 0.249\n",
      " Average Precision  (AP) @[ IoU=0.75      | area=   all | maxDets=1000 ] = 0.092\n",
      " Average Precision  (AP) @[ IoU=0.50:0.95 | area= small | maxDets=1000 ] = 0.107\n",
      " Average Precision  (AP) @[ IoU=0.50:0.95 | area=medium | maxDets=1000 ] = 0.225\n",
      " Average Precision  (AP) @[ IoU=0.50:0.95 | area= large | maxDets=1000 ] = -1.000\n",
      " Average Recall     (AR) @[ IoU=0.50:0.95 | area=   all | maxDets=100 ] = 0.247\n",
      " Average Recall     (AR) @[ IoU=0.50:0.95 | area=   all | maxDets=300 ] = 0.247\n",
      " Average Recall     (AR) @[ IoU=0.50:0.95 | area=   all | maxDets=1000 ] = 0.247\n",
      " Average Recall     (AR) @[ IoU=0.50:0.95 | area= small | maxDets=1000 ] = 0.244\n",
      " Average Recall     (AR) @[ IoU=0.50:0.95 | area=medium | maxDets=1000 ] = 0.332\n",
      " Average Recall     (AR) @[ IoU=0.50:0.95 | area= large | maxDets=1000 ] = -1.000\n",
      "\n"
     ]
    },
    {
     "name": "stdout",
     "output_type": "stream",
     "text": [
      "DONE (t=2.35s).\n"
     ]
    },
    {
     "name": "stderr",
     "output_type": "stream",
     "text": [
      "2022-05-08 17:45:38,303 - mmdet - INFO - Epoch(val) [8][508]\tbbox_mAP: 0.1260, bbox_mAP_50: 0.2580, bbox_mAP_75: 0.1090, bbox_mAP_s: 0.1320, bbox_mAP_m: 0.1400, bbox_mAP_l: -1.0000, bbox_mAP_copypaste: 0.126 0.258 0.109 0.132 0.140 -1.000, segm_mAP: 0.1150, segm_mAP_50: 0.2490, segm_mAP_75: 0.0920, segm_mAP_s: 0.1070, segm_mAP_m: 0.2250, segm_mAP_l: -1.0000, segm_mAP_copypaste: 0.115 0.249 0.092 0.107 0.225 -1.000\n",
      "2022-05-08 17:46:06,438 - mmdet - INFO - Epoch [9][50/1016]\tlr: 2.500e-04, eta: 3:57:36, time: 0.561, data_time: 0.163, memory: 3114, loss_rpn_cls: 0.0808, loss_rpn_bbox: 0.1074, loss_cls: 0.5459, acc: 81.0566, loss_bbox: 0.5295, loss_mask: 0.3248, loss: 1.5883\n",
      "2022-05-08 17:46:32,730 - mmdet - INFO - Epoch [9][100/1016]\tlr: 2.500e-04, eta: 3:57:15, time: 0.526, data_time: 0.128, memory: 3114, loss_rpn_cls: 0.0772, loss_rpn_bbox: 0.1103, loss_cls: 0.5436, acc: 80.8594, loss_bbox: 0.5236, loss_mask: 0.3165, loss: 1.5712\n",
      "2022-05-08 17:46:59,259 - mmdet - INFO - Epoch [9][150/1016]\tlr: 2.500e-04, eta: 3:56:55, time: 0.531, data_time: 0.120, memory: 3114, loss_rpn_cls: 0.0855, loss_rpn_bbox: 0.1077, loss_cls: 0.5688, acc: 80.2461, loss_bbox: 0.5447, loss_mask: 0.3240, loss: 1.6307\n",
      "2022-05-08 17:47:23,690 - mmdet - INFO - Epoch [9][200/1016]\tlr: 2.500e-04, eta: 3:56:27, time: 0.489, data_time: 0.099, memory: 3114, loss_rpn_cls: 0.0769, loss_rpn_bbox: 0.1000, loss_cls: 0.5473, acc: 80.5371, loss_bbox: 0.5296, loss_mask: 0.3183, loss: 1.5720\n",
      "2022-05-08 17:47:48,916 - mmdet - INFO - Epoch [9][250/1016]\tlr: 2.500e-04, eta: 3:56:02, time: 0.505, data_time: 0.112, memory: 3114, loss_rpn_cls: 0.0813, loss_rpn_bbox: 0.0966, loss_cls: 0.5207, acc: 81.6836, loss_bbox: 0.5024, loss_mask: 0.3205, loss: 1.5215\n",
      "2022-05-08 17:48:14,612 - mmdet - INFO - Epoch [9][300/1016]\tlr: 2.500e-04, eta: 3:55:39, time: 0.514, data_time: 0.122, memory: 3114, loss_rpn_cls: 0.0774, loss_rpn_bbox: 0.0997, loss_cls: 0.5432, acc: 81.3750, loss_bbox: 0.4953, loss_mask: 0.3141, loss: 1.5297\n",
      "2022-05-08 17:48:40,298 - mmdet - INFO - Epoch [9][350/1016]\tlr: 2.500e-04, eta: 3:55:16, time: 0.514, data_time: 0.113, memory: 3114, loss_rpn_cls: 0.0794, loss_rpn_bbox: 0.0993, loss_cls: 0.5193, acc: 81.9199, loss_bbox: 0.4946, loss_mask: 0.3102, loss: 1.5027\n",
      "2022-05-08 17:49:06,773 - mmdet - INFO - Epoch [9][400/1016]\tlr: 2.500e-04, eta: 3:54:55, time: 0.529, data_time: 0.128, memory: 3114, loss_rpn_cls: 0.0752, loss_rpn_bbox: 0.1080, loss_cls: 0.5724, acc: 80.2148, loss_bbox: 0.5226, loss_mask: 0.3214, loss: 1.5995\n",
      "2022-05-08 17:49:32,032 - mmdet - INFO - Epoch [9][450/1016]\tlr: 2.500e-04, eta: 3:54:31, time: 0.505, data_time: 0.115, memory: 3114, loss_rpn_cls: 0.0750, loss_rpn_bbox: 0.0892, loss_cls: 0.5138, acc: 82.4102, loss_bbox: 0.4866, loss_mask: 0.3039, loss: 1.4685\n",
      "2022-05-08 17:49:58,589 - mmdet - INFO - Epoch [9][500/1016]\tlr: 2.500e-04, eta: 3:54:10, time: 0.531, data_time: 0.134, memory: 3114, loss_rpn_cls: 0.0860, loss_rpn_bbox: 0.0996, loss_cls: 0.5302, acc: 81.6562, loss_bbox: 0.5214, loss_mask: 0.3189, loss: 1.5560\n",
      "2022-05-08 17:50:25,589 - mmdet - INFO - Epoch [9][550/1016]\tlr: 2.500e-04, eta: 3:53:51, time: 0.540, data_time: 0.133, memory: 3114, loss_rpn_cls: 0.0795, loss_rpn_bbox: 0.1034, loss_cls: 0.5644, acc: 80.3359, loss_bbox: 0.5245, loss_mask: 0.3144, loss: 1.5863\n",
      "2022-05-08 17:50:51,038 - mmdet - INFO - Epoch [9][600/1016]\tlr: 2.500e-04, eta: 3:53:27, time: 0.509, data_time: 0.116, memory: 3114, loss_rpn_cls: 0.0790, loss_rpn_bbox: 0.1018, loss_cls: 0.5338, acc: 81.5840, loss_bbox: 0.5125, loss_mask: 0.3185, loss: 1.5457\n",
      "2022-05-08 17:51:17,248 - mmdet - INFO - Epoch [9][650/1016]\tlr: 2.500e-04, eta: 3:53:05, time: 0.524, data_time: 0.119, memory: 3114, loss_rpn_cls: 0.0689, loss_rpn_bbox: 0.0976, loss_cls: 0.5183, acc: 81.7695, loss_bbox: 0.5128, loss_mask: 0.3107, loss: 1.5082\n",
      "2022-05-08 17:51:42,651 - mmdet - INFO - Epoch [9][700/1016]\tlr: 2.500e-04, eta: 3:52:41, time: 0.508, data_time: 0.122, memory: 3114, loss_rpn_cls: 0.0818, loss_rpn_bbox: 0.1048, loss_cls: 0.5330, acc: 81.2695, loss_bbox: 0.5208, loss_mask: 0.3207, loss: 1.5611\n",
      "2022-05-08 17:52:10,504 - mmdet - INFO - Epoch [9][750/1016]\tlr: 2.500e-04, eta: 3:52:24, time: 0.557, data_time: 0.144, memory: 3114, loss_rpn_cls: 0.0743, loss_rpn_bbox: 0.1102, loss_cls: 0.5438, acc: 81.4004, loss_bbox: 0.4973, loss_mask: 0.3166, loss: 1.5421\n",
      "2022-05-08 17:52:36,030 - mmdet - INFO - Epoch [9][800/1016]\tlr: 2.500e-04, eta: 3:52:00, time: 0.511, data_time: 0.116, memory: 3114, loss_rpn_cls: 0.0755, loss_rpn_bbox: 0.1058, loss_cls: 0.5197, acc: 81.6367, loss_bbox: 0.5165, loss_mask: 0.3154, loss: 1.5329\n",
      "2022-05-08 17:53:02,373 - mmdet - INFO - Epoch [9][850/1016]\tlr: 2.500e-04, eta: 3:51:38, time: 0.527, data_time: 0.116, memory: 3114, loss_rpn_cls: 0.0657, loss_rpn_bbox: 0.1047, loss_cls: 0.5383, acc: 81.1758, loss_bbox: 0.5011, loss_mask: 0.3047, loss: 1.5145\n",
      "2022-05-08 17:53:27,391 - mmdet - INFO - Epoch [9][900/1016]\tlr: 2.500e-04, eta: 3:51:13, time: 0.500, data_time: 0.111, memory: 3114, loss_rpn_cls: 0.0906, loss_rpn_bbox: 0.1051, loss_cls: 0.5440, acc: 81.2715, loss_bbox: 0.5126, loss_mask: 0.3156, loss: 1.5679\n",
      "2022-05-08 17:53:52,069 - mmdet - INFO - Epoch [9][950/1016]\tlr: 2.500e-04, eta: 3:50:46, time: 0.494, data_time: 0.104, memory: 3114, loss_rpn_cls: 0.0809, loss_rpn_bbox: 0.1026, loss_cls: 0.5252, acc: 81.4551, loss_bbox: 0.5176, loss_mask: 0.3105, loss: 1.5368\n",
      "2022-05-08 17:54:16,335 - mmdet - INFO - Epoch [9][1000/1016]\tlr: 2.500e-04, eta: 3:50:18, time: 0.485, data_time: 0.097, memory: 3114, loss_rpn_cls: 0.0821, loss_rpn_bbox: 0.0975, loss_cls: 0.5100, acc: 82.0957, loss_bbox: 0.5025, loss_mask: 0.3121, loss: 1.5041\n"
     ]
    },
    {
     "name": "stdout",
     "output_type": "stream",
     "text": [
      "[>>>>>>>>>>>>>>>>>>>>>>>>>>>>>>] 508/508, 9.0 task/s, elapsed: 56s, ETA:     0s"
     ]
    },
    {
     "name": "stderr",
     "output_type": "stream",
     "text": [
      "2022-05-08 17:55:25,388 - mmdet - INFO - Evaluating bbox...\n"
     ]
    },
    {
     "name": "stdout",
     "output_type": "stream",
     "text": [
      "Loading and preparing results...\n",
      "DONE (t=0.16s)\n",
      "creating index...\n",
      "index created!\n",
      "Running per image evaluation...\n",
      "Evaluate annotation type *bbox*\n",
      "DONE (t=37.02s).\n",
      "Accumulating evaluation results...\n"
     ]
    },
    {
     "name": "stderr",
     "output_type": "stream",
     "text": [
      "2022-05-08 17:56:05,290 - mmdet - INFO - \n",
      " Average Precision  (AP) @[ IoU=0.50:0.95 | area=   all | maxDets=100 ] = 0.155\n",
      " Average Precision  (AP) @[ IoU=0.50      | area=   all | maxDets=1000 ] = 0.298\n",
      " Average Precision  (AP) @[ IoU=0.75      | area=   all | maxDets=1000 ] = 0.146\n",
      " Average Precision  (AP) @[ IoU=0.50:0.95 | area= small | maxDets=1000 ] = 0.162\n",
      " Average Precision  (AP) @[ IoU=0.50:0.95 | area=medium | maxDets=1000 ] = 0.194\n",
      " Average Precision  (AP) @[ IoU=0.50:0.95 | area= large | maxDets=1000 ] = -1.000\n",
      " Average Recall     (AR) @[ IoU=0.50:0.95 | area=   all | maxDets=100 ] = 0.309\n",
      " Average Recall     (AR) @[ IoU=0.50:0.95 | area=   all | maxDets=300 ] = 0.309\n",
      " Average Recall     (AR) @[ IoU=0.50:0.95 | area=   all | maxDets=1000 ] = 0.309\n",
      " Average Recall     (AR) @[ IoU=0.50:0.95 | area= small | maxDets=1000 ] = 0.300\n",
      " Average Recall     (AR) @[ IoU=0.50:0.95 | area=medium | maxDets=1000 ] = 0.508\n",
      " Average Recall     (AR) @[ IoU=0.50:0.95 | area= large | maxDets=1000 ] = -1.000\n",
      "\n",
      "2022-05-08 17:56:05,292 - mmdet - INFO - Evaluating segm...\n"
     ]
    },
    {
     "name": "stdout",
     "output_type": "stream",
     "text": [
      "DONE (t=2.28s).\n"
     ]
    },
    {
     "name": "stderr",
     "output_type": "stream",
     "text": [
      "/kaggle/working/mmdetection/mmdet/datasets/coco.py:474: UserWarning: The key \"bbox\" is deleted for more accurate mask AP of small/medium/large instances since v2.12.0. This does not change the overall mAP calculation.\n",
      "  UserWarning)\n"
     ]
    },
    {
     "name": "stdout",
     "output_type": "stream",
     "text": [
      "Loading and preparing results...\n",
      "DONE (t=0.74s)\n",
      "creating index...\n",
      "index created!\n",
      "Running per image evaluation...\n",
      "Evaluate annotation type *segm*\n",
      "DONE (t=37.27s).\n",
      "Accumulating evaluation results...\n"
     ]
    },
    {
     "name": "stderr",
     "output_type": "stream",
     "text": [
      "2022-05-08 17:56:47,031 - mmdet - INFO - \n",
      " Average Precision  (AP) @[ IoU=0.50:0.95 | area=   all | maxDets=100 ] = 0.144\n",
      " Average Precision  (AP) @[ IoU=0.50      | area=   all | maxDets=1000 ] = 0.291\n",
      " Average Precision  (AP) @[ IoU=0.75      | area=   all | maxDets=1000 ] = 0.127\n",
      " Average Precision  (AP) @[ IoU=0.50:0.95 | area= small | maxDets=1000 ] = 0.136\n",
      " Average Precision  (AP) @[ IoU=0.50:0.95 | area=medium | maxDets=1000 ] = 0.292\n",
      " Average Precision  (AP) @[ IoU=0.50:0.95 | area= large | maxDets=1000 ] = -1.000\n",
      " Average Recall     (AR) @[ IoU=0.50:0.95 | area=   all | maxDets=100 ] = 0.287\n",
      " Average Recall     (AR) @[ IoU=0.50:0.95 | area=   all | maxDets=300 ] = 0.287\n",
      " Average Recall     (AR) @[ IoU=0.50:0.95 | area=   all | maxDets=1000 ] = 0.287\n",
      " Average Recall     (AR) @[ IoU=0.50:0.95 | area= small | maxDets=1000 ] = 0.278\n",
      " Average Recall     (AR) @[ IoU=0.50:0.95 | area=medium | maxDets=1000 ] = 0.479\n",
      " Average Recall     (AR) @[ IoU=0.50:0.95 | area= large | maxDets=1000 ] = -1.000\n",
      "\n"
     ]
    },
    {
     "name": "stdout",
     "output_type": "stream",
     "text": [
      "DONE (t=2.55s).\n"
     ]
    },
    {
     "name": "stderr",
     "output_type": "stream",
     "text": [
      "2022-05-08 17:56:47,256 - mmdet - INFO - Epoch(val) [9][508]\tbbox_mAP: 0.1550, bbox_mAP_50: 0.2980, bbox_mAP_75: 0.1460, bbox_mAP_s: 0.1620, bbox_mAP_m: 0.1940, bbox_mAP_l: -1.0000, bbox_mAP_copypaste: 0.155 0.298 0.146 0.162 0.194 -1.000, segm_mAP: 0.1440, segm_mAP_50: 0.2910, segm_mAP_75: 0.1270, segm_mAP_s: 0.1360, segm_mAP_m: 0.2920, segm_mAP_l: -1.0000, segm_mAP_copypaste: 0.144 0.291 0.127 0.136 0.292 -1.000\n",
      "2022-05-08 17:57:14,939 - mmdet - INFO - Epoch [10][50/1016]\tlr: 2.500e-04, eta: 3:49:28, time: 0.552, data_time: 0.158, memory: 3114, loss_rpn_cls: 0.0742, loss_rpn_bbox: 0.1031, loss_cls: 0.5441, acc: 80.7598, loss_bbox: 0.5057, loss_mask: 0.3155, loss: 1.5426\n",
      "2022-05-08 17:57:41,329 - mmdet - INFO - Epoch [10][100/1016]\tlr: 2.500e-04, eta: 3:49:07, time: 0.528, data_time: 0.135, memory: 3114, loss_rpn_cls: 0.0719, loss_rpn_bbox: 0.1006, loss_cls: 0.5463, acc: 81.1914, loss_bbox: 0.4964, loss_mask: 0.3138, loss: 1.5290\n",
      "2022-05-08 17:58:08,586 - mmdet - INFO - Epoch [10][150/1016]\tlr: 2.500e-04, eta: 3:48:48, time: 0.545, data_time: 0.135, memory: 3114, loss_rpn_cls: 0.0754, loss_rpn_bbox: 0.1019, loss_cls: 0.5323, acc: 81.3535, loss_bbox: 0.4996, loss_mask: 0.3063, loss: 1.5154\n",
      "2022-05-08 17:58:33,715 - mmdet - INFO - Epoch [10][200/1016]\tlr: 2.500e-04, eta: 3:48:22, time: 0.503, data_time: 0.108, memory: 3114, loss_rpn_cls: 0.0789, loss_rpn_bbox: 0.1050, loss_cls: 0.5704, acc: 80.5820, loss_bbox: 0.5227, loss_mask: 0.3211, loss: 1.5981\n",
      "2022-05-08 17:59:00,696 - mmdet - INFO - Epoch [10][250/1016]\tlr: 2.500e-04, eta: 3:48:02, time: 0.540, data_time: 0.129, memory: 3114, loss_rpn_cls: 0.0780, loss_rpn_bbox: 0.0967, loss_cls: 0.5306, acc: 81.3867, loss_bbox: 0.5087, loss_mask: 0.3098, loss: 1.5238\n",
      "2022-05-08 17:59:25,684 - mmdet - INFO - Epoch [10][300/1016]\tlr: 2.500e-04, eta: 3:47:37, time: 0.500, data_time: 0.112, memory: 3114, loss_rpn_cls: 0.0754, loss_rpn_bbox: 0.0973, loss_cls: 0.5236, acc: 81.6777, loss_bbox: 0.4986, loss_mask: 0.3087, loss: 1.5037\n",
      "2022-05-08 17:59:52,177 - mmdet - INFO - Epoch [10][350/1016]\tlr: 2.500e-04, eta: 3:47:15, time: 0.530, data_time: 0.119, memory: 3114, loss_rpn_cls: 0.0751, loss_rpn_bbox: 0.1006, loss_cls: 0.5398, acc: 81.4453, loss_bbox: 0.5254, loss_mask: 0.3227, loss: 1.5634\n",
      "2022-05-08 18:00:17,463 - mmdet - INFO - Epoch [10][400/1016]\tlr: 2.500e-04, eta: 3:46:50, time: 0.506, data_time: 0.110, memory: 3114, loss_rpn_cls: 0.0819, loss_rpn_bbox: 0.1029, loss_cls: 0.5199, acc: 81.7422, loss_bbox: 0.4975, loss_mask: 0.3158, loss: 1.5179\n",
      "2022-05-08 18:00:44,261 - mmdet - INFO - Epoch [10][450/1016]\tlr: 2.500e-04, eta: 3:46:30, time: 0.536, data_time: 0.124, memory: 3114, loss_rpn_cls: 0.0814, loss_rpn_bbox: 0.1014, loss_cls: 0.5323, acc: 80.9590, loss_bbox: 0.5425, loss_mask: 0.3198, loss: 1.5774\n",
      "2022-05-08 18:01:10,230 - mmdet - INFO - Epoch [10][500/1016]\tlr: 2.500e-04, eta: 3:46:07, time: 0.519, data_time: 0.123, memory: 3114, loss_rpn_cls: 0.0766, loss_rpn_bbox: 0.1052, loss_cls: 0.5325, acc: 81.4922, loss_bbox: 0.5199, loss_mask: 0.3212, loss: 1.5555\n",
      "2022-05-08 18:01:34,486 - mmdet - INFO - Epoch [10][550/1016]\tlr: 2.500e-04, eta: 3:45:39, time: 0.485, data_time: 0.096, memory: 3114, loss_rpn_cls: 0.0640, loss_rpn_bbox: 0.0866, loss_cls: 0.4917, acc: 82.7109, loss_bbox: 0.4778, loss_mask: 0.3017, loss: 1.4218\n",
      "2022-05-08 18:01:58,750 - mmdet - INFO - Epoch [10][600/1016]\tlr: 2.500e-04, eta: 3:45:11, time: 0.485, data_time: 0.096, memory: 3114, loss_rpn_cls: 0.0763, loss_rpn_bbox: 0.1018, loss_cls: 0.5282, acc: 81.6953, loss_bbox: 0.5067, loss_mask: 0.3113, loss: 1.5243\n",
      "2022-05-08 18:02:24,408 - mmdet - INFO - Epoch [10][650/1016]\tlr: 2.500e-04, eta: 3:44:47, time: 0.513, data_time: 0.109, memory: 3114, loss_rpn_cls: 0.0728, loss_rpn_bbox: 0.0929, loss_cls: 0.5090, acc: 82.3672, loss_bbox: 0.4938, loss_mask: 0.3075, loss: 1.4758\n",
      "2022-05-08 18:02:49,182 - mmdet - INFO - Epoch [10][700/1016]\tlr: 2.500e-04, eta: 3:44:21, time: 0.495, data_time: 0.106, memory: 3114, loss_rpn_cls: 0.0836, loss_rpn_bbox: 0.0947, loss_cls: 0.5328, acc: 81.1816, loss_bbox: 0.5017, loss_mask: 0.3084, loss: 1.5211\n",
      "2022-05-08 18:03:16,599 - mmdet - INFO - Epoch [10][750/1016]\tlr: 2.500e-04, eta: 3:44:02, time: 0.548, data_time: 0.141, memory: 3114, loss_rpn_cls: 0.0849, loss_rpn_bbox: 0.1096, loss_cls: 0.5454, acc: 80.8184, loss_bbox: 0.5078, loss_mask: 0.3164, loss: 1.5641\n",
      "2022-05-08 18:03:41,481 - mmdet - INFO - Epoch [10][800/1016]\tlr: 2.500e-04, eta: 3:43:36, time: 0.498, data_time: 0.107, memory: 3114, loss_rpn_cls: 0.0800, loss_rpn_bbox: 0.1022, loss_cls: 0.5310, acc: 81.5801, loss_bbox: 0.4966, loss_mask: 0.3132, loss: 1.5230\n",
      "2022-05-08 18:04:08,379 - mmdet - INFO - Epoch [10][850/1016]\tlr: 2.500e-04, eta: 3:43:15, time: 0.538, data_time: 0.122, memory: 3114, loss_rpn_cls: 0.0783, loss_rpn_bbox: 0.1065, loss_cls: 0.5344, acc: 81.4590, loss_bbox: 0.5221, loss_mask: 0.3190, loss: 1.5603\n",
      "2022-05-08 18:04:35,238 - mmdet - INFO - Epoch [10][900/1016]\tlr: 2.500e-04, eta: 3:42:55, time: 0.537, data_time: 0.136, memory: 3114, loss_rpn_cls: 0.0902, loss_rpn_bbox: 0.1128, loss_cls: 0.5455, acc: 81.0098, loss_bbox: 0.5177, loss_mask: 0.3185, loss: 1.5848\n",
      "2022-05-08 18:05:00,814 - mmdet - INFO - Epoch [10][950/1016]\tlr: 2.500e-04, eta: 3:42:30, time: 0.512, data_time: 0.110, memory: 3114, loss_rpn_cls: 0.0697, loss_rpn_bbox: 0.0992, loss_cls: 0.5285, acc: 81.1582, loss_bbox: 0.4874, loss_mask: 0.3081, loss: 1.4929\n",
      "2022-05-08 18:05:25,568 - mmdet - INFO - Epoch [10][1000/1016]\tlr: 2.500e-04, eta: 3:42:04, time: 0.495, data_time: 0.110, memory: 3114, loss_rpn_cls: 0.0743, loss_rpn_bbox: 0.1011, loss_cls: 0.5345, acc: 81.3398, loss_bbox: 0.5078, loss_mask: 0.3056, loss: 1.5233\n"
     ]
    },
    {
     "name": "stdout",
     "output_type": "stream",
     "text": [
      "[>>>>>>>>>>>>>>>>>>>>>>>>>>>>>>] 508/508, 9.1 task/s, elapsed: 56s, ETA:     0s"
     ]
    },
    {
     "name": "stderr",
     "output_type": "stream",
     "text": [
      "2022-05-08 18:06:34,075 - mmdet - INFO - Evaluating bbox...\n"
     ]
    },
    {
     "name": "stdout",
     "output_type": "stream",
     "text": [
      "Loading and preparing results...\n",
      "DONE (t=0.08s)\n",
      "creating index...\n",
      "index created!\n",
      "Running per image evaluation...\n",
      "Evaluate annotation type *bbox*\n",
      "DONE (t=35.69s).\n",
      "Accumulating evaluation results...\n"
     ]
    },
    {
     "name": "stderr",
     "output_type": "stream",
     "text": [
      "2022-05-08 18:07:13,586 - mmdet - INFO - \n",
      " Average Precision  (AP) @[ IoU=0.50:0.95 | area=   all | maxDets=100 ] = 0.157\n",
      " Average Precision  (AP) @[ IoU=0.50      | area=   all | maxDets=1000 ] = 0.303\n",
      " Average Precision  (AP) @[ IoU=0.75      | area=   all | maxDets=1000 ] = 0.150\n",
      " Average Precision  (AP) @[ IoU=0.50:0.95 | area= small | maxDets=1000 ] = 0.166\n",
      " Average Precision  (AP) @[ IoU=0.50:0.95 | area=medium | maxDets=1000 ] = 0.198\n",
      " Average Precision  (AP) @[ IoU=0.50:0.95 | area= large | maxDets=1000 ] = -1.000\n",
      " Average Recall     (AR) @[ IoU=0.50:0.95 | area=   all | maxDets=100 ] = 0.313\n",
      " Average Recall     (AR) @[ IoU=0.50:0.95 | area=   all | maxDets=300 ] = 0.313\n",
      " Average Recall     (AR) @[ IoU=0.50:0.95 | area=   all | maxDets=1000 ] = 0.313\n",
      " Average Recall     (AR) @[ IoU=0.50:0.95 | area= small | maxDets=1000 ] = 0.304\n",
      " Average Recall     (AR) @[ IoU=0.50:0.95 | area=medium | maxDets=1000 ] = 0.533\n",
      " Average Recall     (AR) @[ IoU=0.50:0.95 | area= large | maxDets=1000 ] = -1.000\n",
      "\n",
      "2022-05-08 18:07:13,588 - mmdet - INFO - Evaluating segm...\n"
     ]
    },
    {
     "name": "stdout",
     "output_type": "stream",
     "text": [
      "DONE (t=3.21s).\n"
     ]
    },
    {
     "name": "stderr",
     "output_type": "stream",
     "text": [
      "/kaggle/working/mmdetection/mmdet/datasets/coco.py:474: UserWarning: The key \"bbox\" is deleted for more accurate mask AP of small/medium/large instances since v2.12.0. This does not change the overall mAP calculation.\n",
      "  UserWarning)\n"
     ]
    },
    {
     "name": "stdout",
     "output_type": "stream",
     "text": [
      "Loading and preparing results...\n",
      "DONE (t=0.85s)\n",
      "creating index...\n",
      "index created!\n",
      "Running per image evaluation...\n",
      "Evaluate annotation type *segm*\n",
      "DONE (t=36.42s).\n",
      "Accumulating evaluation results...\n"
     ]
    },
    {
     "name": "stderr",
     "output_type": "stream",
     "text": [
      "2022-05-08 18:07:54,662 - mmdet - INFO - \n",
      " Average Precision  (AP) @[ IoU=0.50:0.95 | area=   all | maxDets=100 ] = 0.147\n",
      " Average Precision  (AP) @[ IoU=0.50      | area=   all | maxDets=1000 ] = 0.295\n",
      " Average Precision  (AP) @[ IoU=0.75      | area=   all | maxDets=1000 ] = 0.131\n",
      " Average Precision  (AP) @[ IoU=0.50:0.95 | area= small | maxDets=1000 ] = 0.139\n",
      " Average Precision  (AP) @[ IoU=0.50:0.95 | area=medium | maxDets=1000 ] = 0.304\n",
      " Average Precision  (AP) @[ IoU=0.50:0.95 | area= large | maxDets=1000 ] = -1.000\n",
      " Average Recall     (AR) @[ IoU=0.50:0.95 | area=   all | maxDets=100 ] = 0.292\n",
      " Average Recall     (AR) @[ IoU=0.50:0.95 | area=   all | maxDets=300 ] = 0.292\n",
      " Average Recall     (AR) @[ IoU=0.50:0.95 | area=   all | maxDets=1000 ] = 0.292\n",
      " Average Recall     (AR) @[ IoU=0.50:0.95 | area= small | maxDets=1000 ] = 0.283\n",
      " Average Recall     (AR) @[ IoU=0.50:0.95 | area=medium | maxDets=1000 ] = 0.507\n",
      " Average Recall     (AR) @[ IoU=0.50:0.95 | area= large | maxDets=1000 ] = -1.000\n",
      "\n",
      "2022-05-08 18:07:54,857 - mmdet - INFO - Epoch(val) [10][508]\tbbox_mAP: 0.1570, bbox_mAP_50: 0.3030, bbox_mAP_75: 0.1500, bbox_mAP_s: 0.1660, bbox_mAP_m: 0.1980, bbox_mAP_l: -1.0000, bbox_mAP_copypaste: 0.157 0.303 0.150 0.166 0.198 -1.000, segm_mAP: 0.1470, segm_mAP_50: 0.2950, segm_mAP_75: 0.1310, segm_mAP_s: 0.1390, segm_mAP_m: 0.3040, segm_mAP_l: -1.0000, segm_mAP_copypaste: 0.147 0.295 0.131 0.139 0.304 -1.000\n"
     ]
    },
    {
     "name": "stdout",
     "output_type": "stream",
     "text": [
      "DONE (t=2.66s).\n"
     ]
    },
    {
     "name": "stderr",
     "output_type": "stream",
     "text": [
      "2022-05-08 18:08:23,623 - mmdet - INFO - Epoch [11][50/1016]\tlr: 2.500e-04, eta: 3:41:19, time: 0.574, data_time: 0.178, memory: 3114, loss_rpn_cls: 0.0794, loss_rpn_bbox: 0.1073, loss_cls: 0.5198, acc: 81.7012, loss_bbox: 0.5204, loss_mask: 0.3198, loss: 1.5467\n",
      "2022-05-08 18:08:48,918 - mmdet - INFO - Epoch [11][100/1016]\tlr: 2.500e-04, eta: 3:40:54, time: 0.506, data_time: 0.117, memory: 3114, loss_rpn_cls: 0.0740, loss_rpn_bbox: 0.0990, loss_cls: 0.5270, acc: 81.4863, loss_bbox: 0.4931, loss_mask: 0.3113, loss: 1.5043\n",
      "2022-05-08 18:09:15,906 - mmdet - INFO - Epoch [11][150/1016]\tlr: 2.500e-04, eta: 3:40:33, time: 0.540, data_time: 0.128, memory: 3114, loss_rpn_cls: 0.0839, loss_rpn_bbox: 0.1067, loss_cls: 0.5227, acc: 81.4238, loss_bbox: 0.5128, loss_mask: 0.3188, loss: 1.5449\n",
      "2022-05-08 18:09:41,412 - mmdet - INFO - Epoch [11][200/1016]\tlr: 2.500e-04, eta: 3:40:09, time: 0.510, data_time: 0.118, memory: 3114, loss_rpn_cls: 0.0782, loss_rpn_bbox: 0.1023, loss_cls: 0.5077, acc: 81.6387, loss_bbox: 0.4961, loss_mask: 0.3077, loss: 1.4920\n",
      "2022-05-08 18:10:08,153 - mmdet - INFO - Epoch [11][250/1016]\tlr: 2.500e-04, eta: 3:39:48, time: 0.535, data_time: 0.125, memory: 3114, loss_rpn_cls: 0.0870, loss_rpn_bbox: 0.0931, loss_cls: 0.5115, acc: 82.1484, loss_bbox: 0.4887, loss_mask: 0.3097, loss: 1.4900\n",
      "2022-05-08 18:10:33,520 - mmdet - INFO - Epoch [11][300/1016]\tlr: 2.500e-04, eta: 3:39:23, time: 0.507, data_time: 0.119, memory: 3114, loss_rpn_cls: 0.0780, loss_rpn_bbox: 0.0995, loss_cls: 0.5426, acc: 81.2539, loss_bbox: 0.5076, loss_mask: 0.3143, loss: 1.5419\n",
      "2022-05-08 18:10:59,246 - mmdet - INFO - Epoch [11][350/1016]\tlr: 2.500e-04, eta: 3:38:59, time: 0.515, data_time: 0.113, memory: 3114, loss_rpn_cls: 0.0705, loss_rpn_bbox: 0.0985, loss_cls: 0.5231, acc: 81.7930, loss_bbox: 0.5182, loss_mask: 0.3191, loss: 1.5293\n",
      "2022-05-08 18:11:24,052 - mmdet - INFO - Epoch [11][400/1016]\tlr: 2.500e-04, eta: 3:38:33, time: 0.496, data_time: 0.106, memory: 3114, loss_rpn_cls: 0.0747, loss_rpn_bbox: 0.0945, loss_cls: 0.5144, acc: 81.7227, loss_bbox: 0.4995, loss_mask: 0.3105, loss: 1.4936\n",
      "2022-05-08 18:11:51,023 - mmdet - INFO - Epoch [11][450/1016]\tlr: 2.500e-04, eta: 3:38:12, time: 0.539, data_time: 0.119, memory: 3114, loss_rpn_cls: 0.0726, loss_rpn_bbox: 0.0993, loss_cls: 0.5362, acc: 80.9590, loss_bbox: 0.5072, loss_mask: 0.3125, loss: 1.5278\n",
      "2022-05-08 18:12:16,215 - mmdet - INFO - Epoch [11][500/1016]\tlr: 2.500e-04, eta: 3:37:47, time: 0.504, data_time: 0.115, memory: 3114, loss_rpn_cls: 0.0777, loss_rpn_bbox: 0.1046, loss_cls: 0.5355, acc: 81.3867, loss_bbox: 0.5114, loss_mask: 0.3117, loss: 1.5409\n",
      "2022-05-08 18:12:43,169 - mmdet - INFO - Epoch [11][550/1016]\tlr: 2.500e-04, eta: 3:37:26, time: 0.539, data_time: 0.128, memory: 3114, loss_rpn_cls: 0.0735, loss_rpn_bbox: 0.1002, loss_cls: 0.5262, acc: 81.7988, loss_bbox: 0.4914, loss_mask: 0.3068, loss: 1.4980\n",
      "2022-05-08 18:13:08,151 - mmdet - INFO - Epoch [11][600/1016]\tlr: 2.500e-04, eta: 3:37:00, time: 0.500, data_time: 0.114, memory: 3114, loss_rpn_cls: 0.0816, loss_rpn_bbox: 0.1067, loss_cls: 0.5474, acc: 80.7188, loss_bbox: 0.5222, loss_mask: 0.3240, loss: 1.5819\n",
      "2022-05-08 18:13:36,587 - mmdet - INFO - Epoch [11][650/1016]\tlr: 2.500e-04, eta: 3:36:42, time: 0.569, data_time: 0.149, memory: 3114, loss_rpn_cls: 0.0821, loss_rpn_bbox: 0.1042, loss_cls: 0.5370, acc: 81.3086, loss_bbox: 0.4976, loss_mask: 0.3084, loss: 1.5294\n",
      "2022-05-08 18:14:01,303 - mmdet - INFO - Epoch [11][700/1016]\tlr: 2.500e-04, eta: 3:36:16, time: 0.494, data_time: 0.106, memory: 3114, loss_rpn_cls: 0.0782, loss_rpn_bbox: 0.1008, loss_cls: 0.5241, acc: 81.5938, loss_bbox: 0.5098, loss_mask: 0.3170, loss: 1.5298\n",
      "2022-05-08 18:14:27,243 - mmdet - INFO - Epoch [11][750/1016]\tlr: 2.500e-04, eta: 3:35:52, time: 0.519, data_time: 0.116, memory: 3114, loss_rpn_cls: 0.0740, loss_rpn_bbox: 0.1002, loss_cls: 0.5452, acc: 81.0039, loss_bbox: 0.4955, loss_mask: 0.3078, loss: 1.5227\n",
      "2022-05-08 18:14:51,585 - mmdet - INFO - Epoch [11][800/1016]\tlr: 2.500e-04, eta: 3:35:25, time: 0.487, data_time: 0.104, memory: 3114, loss_rpn_cls: 0.0828, loss_rpn_bbox: 0.1009, loss_cls: 0.5286, acc: 81.7988, loss_bbox: 0.4843, loss_mask: 0.3038, loss: 1.5006\n",
      "2022-05-08 18:15:17,554 - mmdet - INFO - Epoch [11][850/1016]\tlr: 2.500e-04, eta: 3:35:01, time: 0.519, data_time: 0.114, memory: 3114, loss_rpn_cls: 0.0759, loss_rpn_bbox: 0.0989, loss_cls: 0.5371, acc: 81.2168, loss_bbox: 0.5066, loss_mask: 0.3120, loss: 1.5305\n",
      "2022-05-08 18:15:44,056 - mmdet - INFO - Epoch [11][900/1016]\tlr: 2.500e-04, eta: 3:34:39, time: 0.530, data_time: 0.126, memory: 3114, loss_rpn_cls: 0.0754, loss_rpn_bbox: 0.1058, loss_cls: 0.5398, acc: 81.2656, loss_bbox: 0.5331, loss_mask: 0.3186, loss: 1.5727\n",
      "2022-05-08 18:16:10,908 - mmdet - INFO - Epoch [11][950/1016]\tlr: 2.500e-04, eta: 3:34:18, time: 0.537, data_time: 0.123, memory: 3114, loss_rpn_cls: 0.0786, loss_rpn_bbox: 0.1030, loss_cls: 0.5283, acc: 81.6250, loss_bbox: 0.5075, loss_mask: 0.3105, loss: 1.5279\n",
      "2022-05-08 18:16:36,079 - mmdet - INFO - Epoch [11][1000/1016]\tlr: 2.500e-04, eta: 3:33:52, time: 0.503, data_time: 0.115, memory: 3114, loss_rpn_cls: 0.0652, loss_rpn_bbox: 0.0962, loss_cls: 0.5201, acc: 81.4902, loss_bbox: 0.5036, loss_mask: 0.3080, loss: 1.4931\n"
     ]
    },
    {
     "name": "stdout",
     "output_type": "stream",
     "text": [
      "[>>>>>>>>>>>>>>>>>>>>>>>>>>>>>>] 508/508, 9.2 task/s, elapsed: 55s, ETA:     0s"
     ]
    },
    {
     "name": "stderr",
     "output_type": "stream",
     "text": [
      "2022-05-08 18:17:43,480 - mmdet - INFO - Evaluating bbox...\n"
     ]
    },
    {
     "name": "stdout",
     "output_type": "stream",
     "text": [
      "Loading and preparing results...\n",
      "DONE (t=0.37s)\n",
      "creating index...\n",
      "index created!\n",
      "Running per image evaluation...\n",
      "Evaluate annotation type *bbox*\n",
      "DONE (t=35.62s).\n",
      "Accumulating evaluation results...\n"
     ]
    },
    {
     "name": "stderr",
     "output_type": "stream",
     "text": [
      "2022-05-08 18:18:21,983 - mmdet - INFO - \n",
      " Average Precision  (AP) @[ IoU=0.50:0.95 | area=   all | maxDets=100 ] = 0.155\n",
      " Average Precision  (AP) @[ IoU=0.50      | area=   all | maxDets=1000 ] = 0.302\n",
      " Average Precision  (AP) @[ IoU=0.75      | area=   all | maxDets=1000 ] = 0.145\n",
      " Average Precision  (AP) @[ IoU=0.50:0.95 | area= small | maxDets=1000 ] = 0.163\n",
      " Average Precision  (AP) @[ IoU=0.50:0.95 | area=medium | maxDets=1000 ] = 0.190\n",
      " Average Precision  (AP) @[ IoU=0.50:0.95 | area= large | maxDets=1000 ] = -1.000\n",
      " Average Recall     (AR) @[ IoU=0.50:0.95 | area=   all | maxDets=100 ] = 0.307\n",
      " Average Recall     (AR) @[ IoU=0.50:0.95 | area=   all | maxDets=300 ] = 0.307\n",
      " Average Recall     (AR) @[ IoU=0.50:0.95 | area=   all | maxDets=1000 ] = 0.307\n",
      " Average Recall     (AR) @[ IoU=0.50:0.95 | area= small | maxDets=1000 ] = 0.300\n",
      " Average Recall     (AR) @[ IoU=0.50:0.95 | area=medium | maxDets=1000 ] = 0.479\n",
      " Average Recall     (AR) @[ IoU=0.50:0.95 | area= large | maxDets=1000 ] = -1.000\n",
      "\n",
      "2022-05-08 18:18:21,985 - mmdet - INFO - Evaluating segm...\n"
     ]
    },
    {
     "name": "stdout",
     "output_type": "stream",
     "text": [
      "DONE (t=2.27s).\n"
     ]
    },
    {
     "name": "stderr",
     "output_type": "stream",
     "text": [
      "/kaggle/working/mmdetection/mmdet/datasets/coco.py:474: UserWarning: The key \"bbox\" is deleted for more accurate mask AP of small/medium/large instances since v2.12.0. This does not change the overall mAP calculation.\n",
      "  UserWarning)\n"
     ]
    },
    {
     "name": "stdout",
     "output_type": "stream",
     "text": [
      "Loading and preparing results...\n",
      "DONE (t=1.01s)\n",
      "creating index...\n",
      "index created!\n",
      "Running per image evaluation...\n",
      "Evaluate annotation type *segm*\n",
      "DONE (t=36.11s).\n",
      "Accumulating evaluation results...\n"
     ]
    },
    {
     "name": "stderr",
     "output_type": "stream",
     "text": [
      "2022-05-08 18:19:02,531 - mmdet - INFO - \n",
      " Average Precision  (AP) @[ IoU=0.50:0.95 | area=   all | maxDets=100 ] = 0.144\n",
      " Average Precision  (AP) @[ IoU=0.50      | area=   all | maxDets=1000 ] = 0.292\n",
      " Average Precision  (AP) @[ IoU=0.75      | area=   all | maxDets=1000 ] = 0.128\n",
      " Average Precision  (AP) @[ IoU=0.50:0.95 | area= small | maxDets=1000 ] = 0.136\n",
      " Average Precision  (AP) @[ IoU=0.50:0.95 | area=medium | maxDets=1000 ] = 0.282\n",
      " Average Precision  (AP) @[ IoU=0.50:0.95 | area= large | maxDets=1000 ] = -1.000\n",
      " Average Recall     (AR) @[ IoU=0.50:0.95 | area=   all | maxDets=100 ] = 0.284\n",
      " Average Recall     (AR) @[ IoU=0.50:0.95 | area=   all | maxDets=300 ] = 0.284\n",
      " Average Recall     (AR) @[ IoU=0.50:0.95 | area=   all | maxDets=1000 ] = 0.284\n",
      " Average Recall     (AR) @[ IoU=0.50:0.95 | area= small | maxDets=1000 ] = 0.277\n",
      " Average Recall     (AR) @[ IoU=0.50:0.95 | area=medium | maxDets=1000 ] = 0.448\n",
      " Average Recall     (AR) @[ IoU=0.50:0.95 | area= large | maxDets=1000 ] = -1.000\n",
      "\n",
      "2022-05-08 18:19:02,726 - mmdet - INFO - Epoch(val) [11][508]\tbbox_mAP: 0.1550, bbox_mAP_50: 0.3020, bbox_mAP_75: 0.1450, bbox_mAP_s: 0.1630, bbox_mAP_m: 0.1900, bbox_mAP_l: -1.0000, bbox_mAP_copypaste: 0.155 0.302 0.145 0.163 0.190 -1.000, segm_mAP: 0.1440, segm_mAP_50: 0.2920, segm_mAP_75: 0.1280, segm_mAP_s: 0.1360, segm_mAP_m: 0.2820, segm_mAP_l: -1.0000, segm_mAP_copypaste: 0.144 0.292 0.128 0.136 0.282 -1.000\n"
     ]
    },
    {
     "name": "stdout",
     "output_type": "stream",
     "text": [
      "DONE (t=2.24s).\n"
     ]
    },
    {
     "name": "stderr",
     "output_type": "stream",
     "text": [
      "2022-05-08 18:19:31,031 - mmdet - INFO - Epoch [12][50/1016]\tlr: 2.500e-05, eta: 3:33:07, time: 0.565, data_time: 0.162, memory: 3114, loss_rpn_cls: 0.0899, loss_rpn_bbox: 0.1072, loss_cls: 0.5364, acc: 80.8574, loss_bbox: 0.5302, loss_mask: 0.3157, loss: 1.5795\n",
      "2022-05-08 18:19:57,841 - mmdet - INFO - Epoch [12][100/1016]\tlr: 2.500e-05, eta: 3:32:46, time: 0.536, data_time: 0.129, memory: 3114, loss_rpn_cls: 0.0798, loss_rpn_bbox: 0.1042, loss_cls: 0.5319, acc: 81.3418, loss_bbox: 0.5053, loss_mask: 0.3120, loss: 1.5332\n",
      "2022-05-08 18:20:24,478 - mmdet - INFO - Epoch [12][150/1016]\tlr: 2.500e-05, eta: 3:32:24, time: 0.533, data_time: 0.123, memory: 3114, loss_rpn_cls: 0.0811, loss_rpn_bbox: 0.1020, loss_cls: 0.5434, acc: 81.4297, loss_bbox: 0.5047, loss_mask: 0.3102, loss: 1.5414\n",
      "2022-05-08 18:20:48,950 - mmdet - INFO - Epoch [12][200/1016]\tlr: 2.500e-05, eta: 3:31:57, time: 0.489, data_time: 0.103, memory: 3114, loss_rpn_cls: 0.0603, loss_rpn_bbox: 0.0881, loss_cls: 0.5217, acc: 81.8281, loss_bbox: 0.4737, loss_mask: 0.3007, loss: 1.4445\n",
      "2022-05-08 18:21:14,753 - mmdet - INFO - Epoch [12][250/1016]\tlr: 2.500e-05, eta: 3:31:33, time: 0.516, data_time: 0.108, memory: 3114, loss_rpn_cls: 0.0676, loss_rpn_bbox: 0.0969, loss_cls: 0.5042, acc: 82.2480, loss_bbox: 0.4867, loss_mask: 0.3024, loss: 1.4578\n",
      "2022-05-08 18:21:40,408 - mmdet - INFO - Epoch [12][300/1016]\tlr: 2.500e-05, eta: 3:31:08, time: 0.513, data_time: 0.119, memory: 3114, loss_rpn_cls: 0.0784, loss_rpn_bbox: 0.1004, loss_cls: 0.5144, acc: 82.1348, loss_bbox: 0.5088, loss_mask: 0.3164, loss: 1.5185\n",
      "2022-05-08 18:22:06,771 - mmdet - INFO - Epoch [12][350/1016]\tlr: 2.500e-05, eta: 3:30:46, time: 0.527, data_time: 0.118, memory: 3114, loss_rpn_cls: 0.0721, loss_rpn_bbox: 0.0984, loss_cls: 0.5211, acc: 81.3633, loss_bbox: 0.5003, loss_mask: 0.3065, loss: 1.4985\n",
      "2022-05-08 18:22:32,263 - mmdet - INFO - Epoch [12][400/1016]\tlr: 2.500e-05, eta: 3:30:21, time: 0.510, data_time: 0.117, memory: 3114, loss_rpn_cls: 0.0807, loss_rpn_bbox: 0.0985, loss_cls: 0.5150, acc: 81.9121, loss_bbox: 0.4943, loss_mask: 0.3117, loss: 1.5002\n",
      "2022-05-08 18:22:58,238 - mmdet - INFO - Epoch [12][450/1016]\tlr: 2.500e-05, eta: 3:29:57, time: 0.519, data_time: 0.107, memory: 3114, loss_rpn_cls: 0.0763, loss_rpn_bbox: 0.1013, loss_cls: 0.5322, acc: 81.6289, loss_bbox: 0.5023, loss_mask: 0.3011, loss: 1.5132\n",
      "2022-05-08 18:23:23,450 - mmdet - INFO - Epoch [12][500/1016]\tlr: 2.500e-05, eta: 3:29:32, time: 0.504, data_time: 0.117, memory: 3114, loss_rpn_cls: 0.0815, loss_rpn_bbox: 0.1047, loss_cls: 0.5312, acc: 81.1816, loss_bbox: 0.5140, loss_mask: 0.3133, loss: 1.5448\n",
      "2022-05-08 18:23:49,735 - mmdet - INFO - Epoch [12][550/1016]\tlr: 2.500e-05, eta: 3:29:09, time: 0.526, data_time: 0.109, memory: 3114, loss_rpn_cls: 0.0709, loss_rpn_bbox: 0.0989, loss_cls: 0.5156, acc: 81.6621, loss_bbox: 0.5068, loss_mask: 0.3155, loss: 1.5077\n",
      "2022-05-08 18:24:14,719 - mmdet - INFO - Epoch [12][600/1016]\tlr: 2.500e-05, eta: 3:28:43, time: 0.500, data_time: 0.107, memory: 3114, loss_rpn_cls: 0.0817, loss_rpn_bbox: 0.1027, loss_cls: 0.5431, acc: 81.0801, loss_bbox: 0.5092, loss_mask: 0.3137, loss: 1.5505\n",
      "2022-05-08 18:24:41,175 - mmdet - INFO - Epoch [12][650/1016]\tlr: 2.500e-05, eta: 3:28:20, time: 0.529, data_time: 0.118, memory: 3114, loss_rpn_cls: 0.0742, loss_rpn_bbox: 0.1045, loss_cls: 0.5390, acc: 81.0898, loss_bbox: 0.5192, loss_mask: 0.3148, loss: 1.5518\n",
      "2022-05-08 18:25:05,639 - mmdet - INFO - Epoch [12][700/1016]\tlr: 2.500e-05, eta: 3:27:53, time: 0.489, data_time: 0.100, memory: 3114, loss_rpn_cls: 0.0620, loss_rpn_bbox: 0.1021, loss_cls: 0.5219, acc: 81.2363, loss_bbox: 0.5117, loss_mask: 0.3109, loss: 1.5086\n",
      "2022-05-08 18:25:33,618 - mmdet - INFO - Epoch [12][750/1016]\tlr: 2.500e-05, eta: 3:27:34, time: 0.560, data_time: 0.137, memory: 3114, loss_rpn_cls: 0.0788, loss_rpn_bbox: 0.1025, loss_cls: 0.5388, acc: 80.9512, loss_bbox: 0.5033, loss_mask: 0.3198, loss: 1.5432\n",
      "2022-05-08 18:25:59,744 - mmdet - INFO - Epoch [12][800/1016]\tlr: 2.500e-05, eta: 3:27:10, time: 0.523, data_time: 0.125, memory: 3114, loss_rpn_cls: 0.0726, loss_rpn_bbox: 0.0988, loss_cls: 0.5046, acc: 82.3008, loss_bbox: 0.4917, loss_mask: 0.3091, loss: 1.4767\n",
      "2022-05-08 18:26:26,251 - mmdet - INFO - Epoch [12][850/1016]\tlr: 2.500e-05, eta: 3:26:48, time: 0.530, data_time: 0.116, memory: 3114, loss_rpn_cls: 0.0745, loss_rpn_bbox: 0.1014, loss_cls: 0.5305, acc: 81.4727, loss_bbox: 0.4869, loss_mask: 0.2939, loss: 1.4872\n",
      "2022-05-08 18:26:52,430 - mmdet - INFO - Epoch [12][900/1016]\tlr: 2.500e-05, eta: 3:26:24, time: 0.524, data_time: 0.133, memory: 3114, loss_rpn_cls: 0.0726, loss_rpn_bbox: 0.0991, loss_cls: 0.5319, acc: 81.3750, loss_bbox: 0.5079, loss_mask: 0.3213, loss: 1.5328\n",
      "2022-05-08 18:27:17,241 - mmdet - INFO - Epoch [12][950/1016]\tlr: 2.500e-05, eta: 3:25:58, time: 0.496, data_time: 0.094, memory: 3114, loss_rpn_cls: 0.0765, loss_rpn_bbox: 0.0972, loss_cls: 0.5152, acc: 82.0957, loss_bbox: 0.5035, loss_mask: 0.3186, loss: 1.5110\n",
      "2022-05-08 18:27:40,881 - mmdet - INFO - Epoch [12][1000/1016]\tlr: 2.500e-05, eta: 3:25:29, time: 0.473, data_time: 0.089, memory: 3114, loss_rpn_cls: 0.0676, loss_rpn_bbox: 0.0911, loss_cls: 0.5166, acc: 81.7109, loss_bbox: 0.5006, loss_mask: 0.3136, loss: 1.4895\n",
      "2022-05-08 18:27:50,069 - mmdet - INFO - Saving checkpoint at 12 epochs\n"
     ]
    },
    {
     "name": "stdout",
     "output_type": "stream",
     "text": [
      "[>>>>>>>>>>>>>>>>>>>>>>>>>>>>>>] 508/508, 9.0 task/s, elapsed: 57s, ETA:     0s"
     ]
    },
    {
     "name": "stderr",
     "output_type": "stream",
     "text": [
      "2022-05-08 18:28:51,325 - mmdet - INFO - Evaluating bbox...\n"
     ]
    },
    {
     "name": "stdout",
     "output_type": "stream",
     "text": [
      "Loading and preparing results...\n",
      "DONE (t=0.16s)\n",
      "creating index...\n",
      "index created!\n",
      "Running per image evaluation...\n",
      "Evaluate annotation type *bbox*\n",
      "DONE (t=37.30s).\n",
      "Accumulating evaluation results...\n"
     ]
    },
    {
     "name": "stderr",
     "output_type": "stream",
     "text": [
      "2022-05-08 18:29:32,606 - mmdet - INFO - \n",
      " Average Precision  (AP) @[ IoU=0.50:0.95 | area=   all | maxDets=100 ] = 0.161\n",
      " Average Precision  (AP) @[ IoU=0.50      | area=   all | maxDets=1000 ] = 0.310\n",
      " Average Precision  (AP) @[ IoU=0.75      | area=   all | maxDets=1000 ] = 0.154\n",
      " Average Precision  (AP) @[ IoU=0.50:0.95 | area= small | maxDets=1000 ] = 0.169\n",
      " Average Precision  (AP) @[ IoU=0.50:0.95 | area=medium | maxDets=1000 ] = 0.195\n",
      " Average Precision  (AP) @[ IoU=0.50:0.95 | area= large | maxDets=1000 ] = -1.000\n",
      " Average Recall     (AR) @[ IoU=0.50:0.95 | area=   all | maxDets=100 ] = 0.318\n",
      " Average Recall     (AR) @[ IoU=0.50:0.95 | area=   all | maxDets=300 ] = 0.318\n",
      " Average Recall     (AR) @[ IoU=0.50:0.95 | area=   all | maxDets=1000 ] = 0.318\n",
      " Average Recall     (AR) @[ IoU=0.50:0.95 | area= small | maxDets=1000 ] = 0.310\n",
      " Average Recall     (AR) @[ IoU=0.50:0.95 | area=medium | maxDets=1000 ] = 0.511\n",
      " Average Recall     (AR) @[ IoU=0.50:0.95 | area= large | maxDets=1000 ] = -1.000\n",
      "\n",
      "2022-05-08 18:29:32,608 - mmdet - INFO - Evaluating segm...\n"
     ]
    },
    {
     "name": "stdout",
     "output_type": "stream",
     "text": [
      "DONE (t=3.38s).\n"
     ]
    },
    {
     "name": "stderr",
     "output_type": "stream",
     "text": [
      "/kaggle/working/mmdetection/mmdet/datasets/coco.py:474: UserWarning: The key \"bbox\" is deleted for more accurate mask AP of small/medium/large instances since v2.12.0. This does not change the overall mAP calculation.\n",
      "  UserWarning)\n"
     ]
    },
    {
     "name": "stdout",
     "output_type": "stream",
     "text": [
      "Loading and preparing results...\n",
      "DONE (t=1.22s)\n",
      "creating index...\n",
      "index created!\n",
      "Running per image evaluation...\n",
      "Evaluate annotation type *segm*\n",
      "DONE (t=36.09s).\n",
      "Accumulating evaluation results...\n"
     ]
    },
    {
     "name": "stderr",
     "output_type": "stream",
     "text": [
      "2022-05-08 18:30:12,791 - mmdet - INFO - \n",
      " Average Precision  (AP) @[ IoU=0.50:0.95 | area=   all | maxDets=100 ] = 0.149\n",
      " Average Precision  (AP) @[ IoU=0.50      | area=   all | maxDets=1000 ] = 0.301\n",
      " Average Precision  (AP) @[ IoU=0.75      | area=   all | maxDets=1000 ] = 0.131\n",
      " Average Precision  (AP) @[ IoU=0.50:0.95 | area= small | maxDets=1000 ] = 0.141\n",
      " Average Precision  (AP) @[ IoU=0.50:0.95 | area=medium | maxDets=1000 ] = 0.297\n",
      " Average Precision  (AP) @[ IoU=0.50:0.95 | area= large | maxDets=1000 ] = -1.000\n",
      " Average Recall     (AR) @[ IoU=0.50:0.95 | area=   all | maxDets=100 ] = 0.294\n",
      " Average Recall     (AR) @[ IoU=0.50:0.95 | area=   all | maxDets=300 ] = 0.294\n",
      " Average Recall     (AR) @[ IoU=0.50:0.95 | area=   all | maxDets=1000 ] = 0.294\n",
      " Average Recall     (AR) @[ IoU=0.50:0.95 | area= small | maxDets=1000 ] = 0.286\n",
      " Average Recall     (AR) @[ IoU=0.50:0.95 | area=medium | maxDets=1000 ] = 0.485\n",
      " Average Recall     (AR) @[ IoU=0.50:0.95 | area= large | maxDets=1000 ] = -1.000\n",
      "\n",
      "2022-05-08 18:30:12,987 - mmdet - INFO - Epoch(val) [12][508]\tbbox_mAP: 0.1610, bbox_mAP_50: 0.3100, bbox_mAP_75: 0.1540, bbox_mAP_s: 0.1690, bbox_mAP_m: 0.1950, bbox_mAP_l: -1.0000, bbox_mAP_copypaste: 0.161 0.310 0.154 0.169 0.195 -1.000, segm_mAP: 0.1490, segm_mAP_50: 0.3010, segm_mAP_75: 0.1310, segm_mAP_s: 0.1410, segm_mAP_m: 0.2970, segm_mAP_l: -1.0000, segm_mAP_copypaste: 0.149 0.301 0.131 0.141 0.297 -1.000\n"
     ]
    },
    {
     "name": "stdout",
     "output_type": "stream",
     "text": [
      "DONE (t=2.20s).\n"
     ]
    },
    {
     "name": "stderr",
     "output_type": "stream",
     "text": [
      "2022-05-08 18:30:40,085 - mmdet - INFO - Epoch [13][50/1016]\tlr: 2.500e-05, eta: 3:24:43, time: 0.540, data_time: 0.149, memory: 3114, loss_rpn_cls: 0.0724, loss_rpn_bbox: 0.1005, loss_cls: 0.5258, acc: 81.5449, loss_bbox: 0.5002, loss_mask: 0.3035, loss: 1.5024\n",
      "2022-05-08 18:31:05,156 - mmdet - INFO - Epoch [13][100/1016]\tlr: 2.500e-05, eta: 3:24:18, time: 0.501, data_time: 0.108, memory: 3114, loss_rpn_cls: 0.0735, loss_rpn_bbox: 0.0938, loss_cls: 0.4999, acc: 82.1758, loss_bbox: 0.5097, loss_mask: 0.3145, loss: 1.4914\n",
      "2022-05-08 18:31:30,807 - mmdet - INFO - Epoch [13][150/1016]\tlr: 2.500e-05, eta: 3:23:53, time: 0.513, data_time: 0.104, memory: 3114, loss_rpn_cls: 0.0713, loss_rpn_bbox: 0.0987, loss_cls: 0.5389, acc: 81.2930, loss_bbox: 0.5090, loss_mask: 0.3184, loss: 1.5363\n",
      "2022-05-08 18:31:55,166 - mmdet - INFO - Epoch [13][200/1016]\tlr: 2.500e-05, eta: 3:23:27, time: 0.487, data_time: 0.104, memory: 3114, loss_rpn_cls: 0.0783, loss_rpn_bbox: 0.0963, loss_cls: 0.4969, acc: 81.9297, loss_bbox: 0.4997, loss_mask: 0.3126, loss: 1.4839\n",
      "2022-05-08 18:32:22,053 - mmdet - INFO - Epoch [13][250/1016]\tlr: 2.500e-05, eta: 3:23:04, time: 0.538, data_time: 0.125, memory: 3114, loss_rpn_cls: 0.0738, loss_rpn_bbox: 0.0968, loss_cls: 0.5180, acc: 82.0684, loss_bbox: 0.5094, loss_mask: 0.3087, loss: 1.5067\n",
      "2022-05-08 18:32:47,910 - mmdet - INFO - Epoch [13][300/1016]\tlr: 2.500e-05, eta: 3:22:40, time: 0.517, data_time: 0.123, memory: 3114, loss_rpn_cls: 0.0867, loss_rpn_bbox: 0.1066, loss_cls: 0.5601, acc: 80.6230, loss_bbox: 0.5131, loss_mask: 0.3163, loss: 1.5828\n",
      "2022-05-08 18:33:15,212 - mmdet - INFO - Epoch [13][350/1016]\tlr: 2.500e-05, eta: 3:22:19, time: 0.546, data_time: 0.128, memory: 3114, loss_rpn_cls: 0.0788, loss_rpn_bbox: 0.1060, loss_cls: 0.5253, acc: 81.4141, loss_bbox: 0.5202, loss_mask: 0.3162, loss: 1.5464\n",
      "2022-05-08 18:33:41,408 - mmdet - INFO - Epoch [13][400/1016]\tlr: 2.500e-05, eta: 3:21:56, time: 0.524, data_time: 0.125, memory: 3114, loss_rpn_cls: 0.0785, loss_rpn_bbox: 0.1038, loss_cls: 0.5356, acc: 81.0000, loss_bbox: 0.4986, loss_mask: 0.3117, loss: 1.5281\n",
      "2022-05-08 18:34:07,869 - mmdet - INFO - Epoch [13][450/1016]\tlr: 2.500e-05, eta: 3:21:33, time: 0.529, data_time: 0.119, memory: 3114, loss_rpn_cls: 0.0777, loss_rpn_bbox: 0.0967, loss_cls: 0.5167, acc: 81.7637, loss_bbox: 0.5063, loss_mask: 0.3105, loss: 1.5079\n",
      "2022-05-08 18:34:32,645 - mmdet - INFO - Epoch [13][500/1016]\tlr: 2.500e-05, eta: 3:21:06, time: 0.496, data_time: 0.109, memory: 3114, loss_rpn_cls: 0.0742, loss_rpn_bbox: 0.0994, loss_cls: 0.5112, acc: 82.0820, loss_bbox: 0.5048, loss_mask: 0.3167, loss: 1.5064\n",
      "2022-05-08 18:34:58,539 - mmdet - INFO - Epoch [13][550/1016]\tlr: 2.500e-05, eta: 3:20:42, time: 0.518, data_time: 0.112, memory: 3114, loss_rpn_cls: 0.0730, loss_rpn_bbox: 0.0986, loss_cls: 0.5363, acc: 80.9590, loss_bbox: 0.5102, loss_mask: 0.3090, loss: 1.5270\n",
      "2022-05-08 18:35:24,294 - mmdet - INFO - Epoch [13][600/1016]\tlr: 2.500e-05, eta: 3:20:18, time: 0.515, data_time: 0.120, memory: 3114, loss_rpn_cls: 0.0762, loss_rpn_bbox: 0.0940, loss_cls: 0.5245, acc: 81.3438, loss_bbox: 0.4984, loss_mask: 0.3136, loss: 1.5066\n",
      "2022-05-08 18:35:51,657 - mmdet - INFO - Epoch [13][650/1016]\tlr: 2.500e-05, eta: 3:19:57, time: 0.547, data_time: 0.135, memory: 3114, loss_rpn_cls: 0.0760, loss_rpn_bbox: 0.1047, loss_cls: 0.5277, acc: 81.4629, loss_bbox: 0.4869, loss_mask: 0.3024, loss: 1.4977\n",
      "2022-05-08 18:36:16,312 - mmdet - INFO - Epoch [13][700/1016]\tlr: 2.500e-05, eta: 3:19:30, time: 0.493, data_time: 0.108, memory: 3114, loss_rpn_cls: 0.0748, loss_rpn_bbox: 0.1023, loss_cls: 0.5167, acc: 82.0293, loss_bbox: 0.5013, loss_mask: 0.3114, loss: 1.5065\n",
      "2022-05-08 18:36:43,972 - mmdet - INFO - Epoch [13][750/1016]\tlr: 2.500e-05, eta: 3:19:09, time: 0.553, data_time: 0.136, memory: 3114, loss_rpn_cls: 0.0717, loss_rpn_bbox: 0.1005, loss_cls: 0.5202, acc: 81.9883, loss_bbox: 0.4911, loss_mask: 0.3103, loss: 1.4938\n",
      "2022-05-08 18:37:08,779 - mmdet - INFO - Epoch [13][800/1016]\tlr: 2.500e-05, eta: 3:18:43, time: 0.496, data_time: 0.103, memory: 3114, loss_rpn_cls: 0.0742, loss_rpn_bbox: 0.1016, loss_cls: 0.5331, acc: 81.5898, loss_bbox: 0.4969, loss_mask: 0.3138, loss: 1.5197\n",
      "2022-05-08 18:37:34,762 - mmdet - INFO - Epoch [13][850/1016]\tlr: 2.500e-05, eta: 3:18:19, time: 0.520, data_time: 0.115, memory: 3114, loss_rpn_cls: 0.0693, loss_rpn_bbox: 0.0928, loss_cls: 0.5015, acc: 82.2480, loss_bbox: 0.4946, loss_mask: 0.3112, loss: 1.4694\n",
      "2022-05-08 18:38:00,261 - mmdet - INFO - Epoch [13][900/1016]\tlr: 2.500e-05, eta: 3:17:54, time: 0.510, data_time: 0.116, memory: 3114, loss_rpn_cls: 0.0797, loss_rpn_bbox: 0.1040, loss_cls: 0.5370, acc: 81.6152, loss_bbox: 0.4956, loss_mask: 0.3100, loss: 1.5262\n",
      "2022-05-08 18:38:26,863 - mmdet - INFO - Epoch [13][950/1016]\tlr: 2.500e-05, eta: 3:17:31, time: 0.532, data_time: 0.120, memory: 3114, loss_rpn_cls: 0.0747, loss_rpn_bbox: 0.0981, loss_cls: 0.5391, acc: 81.1777, loss_bbox: 0.4884, loss_mask: 0.3045, loss: 1.5047\n",
      "2022-05-08 18:38:51,220 - mmdet - INFO - Epoch [13][1000/1016]\tlr: 2.500e-05, eta: 3:17:04, time: 0.487, data_time: 0.100, memory: 3114, loss_rpn_cls: 0.0756, loss_rpn_bbox: 0.0985, loss_cls: 0.5104, acc: 81.9004, loss_bbox: 0.5068, loss_mask: 0.3151, loss: 1.5063\n"
     ]
    },
    {
     "name": "stdout",
     "output_type": "stream",
     "text": [
      "[>>>>>>>>>>>>>>>>>>>>>>>>>>>>>>] 508/508, 9.0 task/s, elapsed: 56s, ETA:     0s"
     ]
    },
    {
     "name": "stderr",
     "output_type": "stream",
     "text": [
      "2022-05-08 18:40:00,299 - mmdet - INFO - Evaluating bbox...\n"
     ]
    },
    {
     "name": "stdout",
     "output_type": "stream",
     "text": [
      "Loading and preparing results...\n",
      "DONE (t=0.08s)\n",
      "creating index...\n",
      "index created!\n",
      "Running per image evaluation...\n",
      "Evaluate annotation type *bbox*\n",
      "DONE (t=35.48s).\n",
      "Accumulating evaluation results...\n"
     ]
    },
    {
     "name": "stderr",
     "output_type": "stream",
     "text": [
      "2022-05-08 18:40:38,308 - mmdet - INFO - \n",
      " Average Precision  (AP) @[ IoU=0.50:0.95 | area=   all | maxDets=100 ] = 0.161\n",
      " Average Precision  (AP) @[ IoU=0.50      | area=   all | maxDets=1000 ] = 0.310\n",
      " Average Precision  (AP) @[ IoU=0.75      | area=   all | maxDets=1000 ] = 0.155\n",
      " Average Precision  (AP) @[ IoU=0.50:0.95 | area= small | maxDets=1000 ] = 0.169\n",
      " Average Precision  (AP) @[ IoU=0.50:0.95 | area=medium | maxDets=1000 ] = 0.196\n",
      " Average Precision  (AP) @[ IoU=0.50:0.95 | area= large | maxDets=1000 ] = -1.000\n",
      " Average Recall     (AR) @[ IoU=0.50:0.95 | area=   all | maxDets=100 ] = 0.319\n",
      " Average Recall     (AR) @[ IoU=0.50:0.95 | area=   all | maxDets=300 ] = 0.319\n",
      " Average Recall     (AR) @[ IoU=0.50:0.95 | area=   all | maxDets=1000 ] = 0.319\n",
      " Average Recall     (AR) @[ IoU=0.50:0.95 | area= small | maxDets=1000 ] = 0.312\n",
      " Average Recall     (AR) @[ IoU=0.50:0.95 | area=medium | maxDets=1000 ] = 0.508\n",
      " Average Recall     (AR) @[ IoU=0.50:0.95 | area= large | maxDets=1000 ] = -1.000\n",
      "\n",
      "2022-05-08 18:40:38,310 - mmdet - INFO - Evaluating segm...\n"
     ]
    },
    {
     "name": "stdout",
     "output_type": "stream",
     "text": [
      "DONE (t=2.21s).\n"
     ]
    },
    {
     "name": "stderr",
     "output_type": "stream",
     "text": [
      "/kaggle/working/mmdetection/mmdet/datasets/coco.py:474: UserWarning: The key \"bbox\" is deleted for more accurate mask AP of small/medium/large instances since v2.12.0. This does not change the overall mAP calculation.\n",
      "  UserWarning)\n"
     ]
    },
    {
     "name": "stdout",
     "output_type": "stream",
     "text": [
      "Loading and preparing results...\n",
      "DONE (t=1.24s)\n",
      "creating index...\n",
      "index created!\n",
      "Running per image evaluation...\n",
      "Evaluate annotation type *segm*\n",
      "DONE (t=36.27s).\n",
      "Accumulating evaluation results...\n"
     ]
    },
    {
     "name": "stderr",
     "output_type": "stream",
     "text": [
      "2022-05-08 18:41:19,264 - mmdet - INFO - \n",
      " Average Precision  (AP) @[ IoU=0.50:0.95 | area=   all | maxDets=100 ] = 0.149\n",
      " Average Precision  (AP) @[ IoU=0.50      | area=   all | maxDets=1000 ] = 0.302\n",
      " Average Precision  (AP) @[ IoU=0.75      | area=   all | maxDets=1000 ] = 0.133\n",
      " Average Precision  (AP) @[ IoU=0.50:0.95 | area= small | maxDets=1000 ] = 0.141\n",
      " Average Precision  (AP) @[ IoU=0.50:0.95 | area=medium | maxDets=1000 ] = 0.298\n",
      " Average Precision  (AP) @[ IoU=0.50:0.95 | area= large | maxDets=1000 ] = -1.000\n",
      " Average Recall     (AR) @[ IoU=0.50:0.95 | area=   all | maxDets=100 ] = 0.295\n",
      " Average Recall     (AR) @[ IoU=0.50:0.95 | area=   all | maxDets=300 ] = 0.295\n",
      " Average Recall     (AR) @[ IoU=0.50:0.95 | area=   all | maxDets=1000 ] = 0.295\n",
      " Average Recall     (AR) @[ IoU=0.50:0.95 | area= small | maxDets=1000 ] = 0.287\n",
      " Average Recall     (AR) @[ IoU=0.50:0.95 | area=medium | maxDets=1000 ] = 0.482\n",
      " Average Recall     (AR) @[ IoU=0.50:0.95 | area= large | maxDets=1000 ] = -1.000\n",
      "\n",
      "2022-05-08 18:41:19,457 - mmdet - INFO - Epoch(val) [13][508]\tbbox_mAP: 0.1610, bbox_mAP_50: 0.3100, bbox_mAP_75: 0.1550, bbox_mAP_s: 0.1690, bbox_mAP_m: 0.1960, bbox_mAP_l: -1.0000, bbox_mAP_copypaste: 0.161 0.310 0.155 0.169 0.196 -1.000, segm_mAP: 0.1490, segm_mAP_50: 0.3020, segm_mAP_75: 0.1330, segm_mAP_s: 0.1410, segm_mAP_m: 0.2980, segm_mAP_l: -1.0000, segm_mAP_copypaste: 0.149 0.302 0.133 0.141 0.298 -1.000\n"
     ]
    },
    {
     "name": "stdout",
     "output_type": "stream",
     "text": [
      "DONE (t=2.26s).\n"
     ]
    },
    {
     "name": "stderr",
     "output_type": "stream",
     "text": [
      "2022-05-08 18:41:48,396 - mmdet - INFO - Epoch [14][50/1016]\tlr: 2.500e-05, eta: 3:16:23, time: 0.577, data_time: 0.172, memory: 3114, loss_rpn_cls: 0.0752, loss_rpn_bbox: 0.1025, loss_cls: 0.5214, acc: 81.5059, loss_bbox: 0.5053, loss_mask: 0.3085, loss: 1.5130\n",
      "2022-05-08 18:42:14,775 - mmdet - INFO - Epoch [14][100/1016]\tlr: 2.500e-05, eta: 3:16:00, time: 0.528, data_time: 0.120, memory: 3114, loss_rpn_cls: 0.0774, loss_rpn_bbox: 0.1063, loss_cls: 0.5136, acc: 81.6094, loss_bbox: 0.4995, loss_mask: 0.3129, loss: 1.5098\n",
      "2022-05-08 18:42:42,078 - mmdet - INFO - Epoch [14][150/1016]\tlr: 2.500e-05, eta: 3:15:38, time: 0.546, data_time: 0.130, memory: 3114, loss_rpn_cls: 0.0813, loss_rpn_bbox: 0.1007, loss_cls: 0.5346, acc: 81.7773, loss_bbox: 0.4912, loss_mask: 0.3074, loss: 1.5152\n",
      "2022-05-08 18:43:08,024 - mmdet - INFO - Epoch [14][200/1016]\tlr: 2.500e-05, eta: 3:15:14, time: 0.519, data_time: 0.124, memory: 3114, loss_rpn_cls: 0.0705, loss_rpn_bbox: 0.0920, loss_cls: 0.5171, acc: 81.8164, loss_bbox: 0.4820, loss_mask: 0.3007, loss: 1.4622\n",
      "2022-05-08 18:43:33,713 - mmdet - INFO - Epoch [14][250/1016]\tlr: 2.500e-05, eta: 3:14:49, time: 0.514, data_time: 0.107, memory: 3114, loss_rpn_cls: 0.0745, loss_rpn_bbox: 0.1000, loss_cls: 0.5151, acc: 81.9512, loss_bbox: 0.4994, loss_mask: 0.3206, loss: 1.5097\n",
      "2022-05-08 18:44:00,412 - mmdet - INFO - Epoch [14][300/1016]\tlr: 2.500e-05, eta: 3:14:26, time: 0.534, data_time: 0.131, memory: 3114, loss_rpn_cls: 0.0880, loss_rpn_bbox: 0.1070, loss_cls: 0.5117, acc: 82.0547, loss_bbox: 0.5183, loss_mask: 0.3155, loss: 1.5405\n",
      "2022-05-08 18:44:28,410 - mmdet - INFO - Epoch [14][350/1016]\tlr: 2.500e-05, eta: 3:14:06, time: 0.560, data_time: 0.142, memory: 3114, loss_rpn_cls: 0.0795, loss_rpn_bbox: 0.0970, loss_cls: 0.5309, acc: 81.8711, loss_bbox: 0.5002, loss_mask: 0.3110, loss: 1.5186\n",
      "2022-05-08 18:44:53,674 - mmdet - INFO - Epoch [14][400/1016]\tlr: 2.500e-05, eta: 3:13:40, time: 0.505, data_time: 0.115, memory: 3114, loss_rpn_cls: 0.0680, loss_rpn_bbox: 0.0983, loss_cls: 0.5166, acc: 81.8770, loss_bbox: 0.5060, loss_mask: 0.3142, loss: 1.5031\n",
      "2022-05-08 18:45:22,452 - mmdet - INFO - Epoch [14][450/1016]\tlr: 2.500e-05, eta: 3:13:21, time: 0.576, data_time: 0.147, memory: 3114, loss_rpn_cls: 0.0843, loss_rpn_bbox: 0.1068, loss_cls: 0.5434, acc: 80.7441, loss_bbox: 0.5125, loss_mask: 0.3153, loss: 1.5624\n",
      "2022-05-08 18:45:49,160 - mmdet - INFO - Epoch [14][500/1016]\tlr: 2.500e-05, eta: 3:12:58, time: 0.534, data_time: 0.131, memory: 3114, loss_rpn_cls: 0.0829, loss_rpn_bbox: 0.1090, loss_cls: 0.5498, acc: 80.7988, loss_bbox: 0.5147, loss_mask: 0.3161, loss: 1.5724\n",
      "2022-05-08 18:46:15,092 - mmdet - INFO - Epoch [14][550/1016]\tlr: 2.500e-05, eta: 3:12:34, time: 0.519, data_time: 0.117, memory: 3114, loss_rpn_cls: 0.0774, loss_rpn_bbox: 0.0946, loss_cls: 0.5185, acc: 81.6133, loss_bbox: 0.5090, loss_mask: 0.3182, loss: 1.5176\n",
      "2022-05-08 18:46:39,445 - mmdet - INFO - Epoch [14][600/1016]\tlr: 2.500e-05, eta: 3:12:07, time: 0.487, data_time: 0.102, memory: 3114, loss_rpn_cls: 0.0764, loss_rpn_bbox: 0.0961, loss_cls: 0.5252, acc: 81.3867, loss_bbox: 0.5018, loss_mask: 0.3130, loss: 1.5124\n",
      "2022-05-08 18:47:06,557 - mmdet - INFO - Epoch [14][650/1016]\tlr: 2.500e-05, eta: 3:11:44, time: 0.542, data_time: 0.133, memory: 3114, loss_rpn_cls: 0.0695, loss_rpn_bbox: 0.0912, loss_cls: 0.5112, acc: 81.8516, loss_bbox: 0.4820, loss_mask: 0.3072, loss: 1.4611\n",
      "2022-05-08 18:47:30,794 - mmdet - INFO - Epoch [14][700/1016]\tlr: 2.500e-05, eta: 3:11:17, time: 0.485, data_time: 0.099, memory: 3114, loss_rpn_cls: 0.0677, loss_rpn_bbox: 0.0964, loss_cls: 0.4975, acc: 82.6719, loss_bbox: 0.4907, loss_mask: 0.3061, loss: 1.4584\n",
      "2022-05-08 18:47:57,070 - mmdet - INFO - Epoch [14][750/1016]\tlr: 2.500e-05, eta: 3:10:54, time: 0.526, data_time: 0.119, memory: 3114, loss_rpn_cls: 0.0727, loss_rpn_bbox: 0.1017, loss_cls: 0.5501, acc: 80.3223, loss_bbox: 0.5185, loss_mask: 0.3136, loss: 1.5566\n",
      "2022-05-08 18:48:20,290 - mmdet - INFO - Epoch [14][800/1016]\tlr: 2.500e-05, eta: 3:10:25, time: 0.464, data_time: 0.090, memory: 3114, loss_rpn_cls: 0.0634, loss_rpn_bbox: 0.0877, loss_cls: 0.5149, acc: 82.3418, loss_bbox: 0.4754, loss_mask: 0.3021, loss: 1.4434\n",
      "2022-05-08 18:48:45,397 - mmdet - INFO - Epoch [14][850/1016]\tlr: 2.500e-05, eta: 3:09:59, time: 0.502, data_time: 0.091, memory: 3114, loss_rpn_cls: 0.0768, loss_rpn_bbox: 0.0979, loss_cls: 0.5234, acc: 81.6758, loss_bbox: 0.5071, loss_mask: 0.3062, loss: 1.5115\n",
      "2022-05-08 18:49:11,198 - mmdet - INFO - Epoch [14][900/1016]\tlr: 2.500e-05, eta: 3:09:35, time: 0.516, data_time: 0.122, memory: 3114, loss_rpn_cls: 0.0754, loss_rpn_bbox: 0.1066, loss_cls: 0.5434, acc: 81.0449, loss_bbox: 0.5155, loss_mask: 0.3136, loss: 1.5545\n",
      "2022-05-08 18:49:36,865 - mmdet - INFO - Epoch [14][950/1016]\tlr: 2.500e-05, eta: 3:09:10, time: 0.513, data_time: 0.106, memory: 3114, loss_rpn_cls: 0.0788, loss_rpn_bbox: 0.0955, loss_cls: 0.4957, acc: 82.2988, loss_bbox: 0.4812, loss_mask: 0.3036, loss: 1.4548\n",
      "2022-05-08 18:50:01,525 - mmdet - INFO - Epoch [14][1000/1016]\tlr: 2.500e-05, eta: 3:08:44, time: 0.493, data_time: 0.108, memory: 3114, loss_rpn_cls: 0.0801, loss_rpn_bbox: 0.1045, loss_cls: 0.5498, acc: 80.9512, loss_bbox: 0.5182, loss_mask: 0.3164, loss: 1.5690\n"
     ]
    },
    {
     "name": "stdout",
     "output_type": "stream",
     "text": [
      "[>>>>>>>>>>>>>>>>>>>>>>>>>>>>>>] 508/508, 9.2 task/s, elapsed: 55s, ETA:     0s"
     ]
    },
    {
     "name": "stderr",
     "output_type": "stream",
     "text": [
      "2022-05-08 18:51:10,632 - mmdet - INFO - Evaluating bbox...\n"
     ]
    },
    {
     "name": "stdout",
     "output_type": "stream",
     "text": [
      "Loading and preparing results...\n",
      "DONE (t=0.08s)\n",
      "creating index...\n",
      "index created!\n",
      "Running per image evaluation...\n",
      "Evaluate annotation type *bbox*\n",
      "DONE (t=34.80s).\n",
      "Accumulating evaluation results...\n"
     ]
    },
    {
     "name": "stderr",
     "output_type": "stream",
     "text": [
      "2022-05-08 18:51:49,017 - mmdet - INFO - \n",
      " Average Precision  (AP) @[ IoU=0.50:0.95 | area=   all | maxDets=100 ] = 0.161\n",
      " Average Precision  (AP) @[ IoU=0.50      | area=   all | maxDets=1000 ] = 0.310\n",
      " Average Precision  (AP) @[ IoU=0.75      | area=   all | maxDets=1000 ] = 0.154\n",
      " Average Precision  (AP) @[ IoU=0.50:0.95 | area= small | maxDets=1000 ] = 0.169\n",
      " Average Precision  (AP) @[ IoU=0.50:0.95 | area=medium | maxDets=1000 ] = 0.196\n",
      " Average Precision  (AP) @[ IoU=0.50:0.95 | area= large | maxDets=1000 ] = -1.000\n",
      " Average Recall     (AR) @[ IoU=0.50:0.95 | area=   all | maxDets=100 ] = 0.320\n",
      " Average Recall     (AR) @[ IoU=0.50:0.95 | area=   all | maxDets=300 ] = 0.320\n",
      " Average Recall     (AR) @[ IoU=0.50:0.95 | area=   all | maxDets=1000 ] = 0.320\n",
      " Average Recall     (AR) @[ IoU=0.50:0.95 | area= small | maxDets=1000 ] = 0.312\n",
      " Average Recall     (AR) @[ IoU=0.50:0.95 | area=medium | maxDets=1000 ] = 0.504\n",
      " Average Recall     (AR) @[ IoU=0.50:0.95 | area= large | maxDets=1000 ] = -1.000\n",
      "\n",
      "2022-05-08 18:51:49,020 - mmdet - INFO - Evaluating segm...\n"
     ]
    },
    {
     "name": "stdout",
     "output_type": "stream",
     "text": [
      "DONE (t=3.00s).\n"
     ]
    },
    {
     "name": "stderr",
     "output_type": "stream",
     "text": [
      "/kaggle/working/mmdetection/mmdet/datasets/coco.py:474: UserWarning: The key \"bbox\" is deleted for more accurate mask AP of small/medium/large instances since v2.12.0. This does not change the overall mAP calculation.\n",
      "  UserWarning)\n"
     ]
    },
    {
     "name": "stdout",
     "output_type": "stream",
     "text": [
      "Loading and preparing results...\n",
      "DONE (t=1.19s)\n",
      "creating index...\n",
      "index created!\n",
      "Running per image evaluation...\n",
      "Evaluate annotation type *segm*\n",
      "DONE (t=36.11s).\n",
      "Accumulating evaluation results...\n"
     ]
    },
    {
     "name": "stderr",
     "output_type": "stream",
     "text": [
      "2022-05-08 18:52:29,652 - mmdet - INFO - \n",
      " Average Precision  (AP) @[ IoU=0.50:0.95 | area=   all | maxDets=100 ] = 0.149\n",
      " Average Precision  (AP) @[ IoU=0.50      | area=   all | maxDets=1000 ] = 0.301\n",
      " Average Precision  (AP) @[ IoU=0.75      | area=   all | maxDets=1000 ] = 0.131\n",
      " Average Precision  (AP) @[ IoU=0.50:0.95 | area= small | maxDets=1000 ] = 0.141\n",
      " Average Precision  (AP) @[ IoU=0.50:0.95 | area=medium | maxDets=1000 ] = 0.301\n",
      " Average Precision  (AP) @[ IoU=0.50:0.95 | area= large | maxDets=1000 ] = -1.000\n",
      " Average Recall     (AR) @[ IoU=0.50:0.95 | area=   all | maxDets=100 ] = 0.295\n",
      " Average Recall     (AR) @[ IoU=0.50:0.95 | area=   all | maxDets=300 ] = 0.295\n",
      " Average Recall     (AR) @[ IoU=0.50:0.95 | area=   all | maxDets=1000 ] = 0.295\n",
      " Average Recall     (AR) @[ IoU=0.50:0.95 | area= small | maxDets=1000 ] = 0.287\n",
      " Average Recall     (AR) @[ IoU=0.50:0.95 | area=medium | maxDets=1000 ] = 0.477\n",
      " Average Recall     (AR) @[ IoU=0.50:0.95 | area= large | maxDets=1000 ] = -1.000\n",
      "\n",
      "2022-05-08 18:52:29,839 - mmdet - INFO - Epoch(val) [14][508]\tbbox_mAP: 0.1610, bbox_mAP_50: 0.3100, bbox_mAP_75: 0.1540, bbox_mAP_s: 0.1690, bbox_mAP_m: 0.1960, bbox_mAP_l: -1.0000, bbox_mAP_copypaste: 0.161 0.310 0.154 0.169 0.196 -1.000, segm_mAP: 0.1490, segm_mAP_50: 0.3010, segm_mAP_75: 0.1310, segm_mAP_s: 0.1410, segm_mAP_m: 0.3010, segm_mAP_l: -1.0000, segm_mAP_copypaste: 0.149 0.301 0.131 0.141 0.301 -1.000\n"
     ]
    },
    {
     "name": "stdout",
     "output_type": "stream",
     "text": [
      "DONE (t=2.14s).\n"
     ]
    },
    {
     "name": "stderr",
     "output_type": "stream",
     "text": [
      "2022-05-08 18:52:58,728 - mmdet - INFO - Epoch [15][50/1016]\tlr: 2.500e-05, eta: 3:08:03, time: 0.576, data_time: 0.171, memory: 3114, loss_rpn_cls: 0.0764, loss_rpn_bbox: 0.1017, loss_cls: 0.5449, acc: 80.8145, loss_bbox: 0.5186, loss_mask: 0.3108, loss: 1.5524\n",
      "2022-05-08 18:53:23,457 - mmdet - INFO - Epoch [15][100/1016]\tlr: 2.500e-05, eta: 3:07:37, time: 0.495, data_time: 0.111, memory: 3114, loss_rpn_cls: 0.0769, loss_rpn_bbox: 0.0999, loss_cls: 0.5231, acc: 81.5586, loss_bbox: 0.5145, loss_mask: 0.3166, loss: 1.5310\n",
      "2022-05-08 18:53:51,238 - mmdet - INFO - Epoch [15][150/1016]\tlr: 2.500e-05, eta: 3:07:15, time: 0.556, data_time: 0.138, memory: 3114, loss_rpn_cls: 0.0820, loss_rpn_bbox: 0.1012, loss_cls: 0.5320, acc: 81.5215, loss_bbox: 0.5012, loss_mask: 0.3164, loss: 1.5329\n",
      "2022-05-08 18:54:17,170 - mmdet - INFO - Epoch [15][200/1016]\tlr: 2.500e-05, eta: 3:06:51, time: 0.519, data_time: 0.122, memory: 3114, loss_rpn_cls: 0.0675, loss_rpn_bbox: 0.0986, loss_cls: 0.5316, acc: 81.8359, loss_bbox: 0.4983, loss_mask: 0.3073, loss: 1.5033\n",
      "2022-05-08 18:54:41,793 - mmdet - INFO - Epoch [15][250/1016]\tlr: 2.500e-05, eta: 3:06:25, time: 0.492, data_time: 0.109, memory: 3114, loss_rpn_cls: 0.0735, loss_rpn_bbox: 0.0962, loss_cls: 0.5077, acc: 81.9336, loss_bbox: 0.4887, loss_mask: 0.3067, loss: 1.4728\n",
      "2022-05-08 18:55:07,457 - mmdet - INFO - Epoch [15][300/1016]\tlr: 2.500e-05, eta: 3:06:00, time: 0.513, data_time: 0.108, memory: 3114, loss_rpn_cls: 0.0689, loss_rpn_bbox: 0.0958, loss_cls: 0.5270, acc: 81.4980, loss_bbox: 0.4979, loss_mask: 0.3056, loss: 1.4951\n",
      "2022-05-08 18:55:32,773 - mmdet - INFO - Epoch [15][350/1016]\tlr: 2.500e-05, eta: 3:05:35, time: 0.506, data_time: 0.117, memory: 3114, loss_rpn_cls: 0.0704, loss_rpn_bbox: 0.0993, loss_cls: 0.5318, acc: 81.4531, loss_bbox: 0.5047, loss_mask: 0.2997, loss: 1.5059\n",
      "2022-05-08 18:55:57,690 - mmdet - INFO - Epoch [15][400/1016]\tlr: 2.500e-05, eta: 3:05:09, time: 0.498, data_time: 0.108, memory: 3114, loss_rpn_cls: 0.0767, loss_rpn_bbox: 0.0974, loss_cls: 0.5114, acc: 82.1699, loss_bbox: 0.4867, loss_mask: 0.3094, loss: 1.4816\n",
      "2022-05-08 18:56:24,930 - mmdet - INFO - Epoch [15][450/1016]\tlr: 2.500e-05, eta: 3:04:46, time: 0.545, data_time: 0.134, memory: 3114, loss_rpn_cls: 0.0873, loss_rpn_bbox: 0.1061, loss_cls: 0.5094, acc: 82.0918, loss_bbox: 0.5065, loss_mask: 0.3192, loss: 1.5285\n",
      "2022-05-08 18:56:49,880 - mmdet - INFO - Epoch [15][500/1016]\tlr: 2.500e-05, eta: 3:04:20, time: 0.499, data_time: 0.112, memory: 3114, loss_rpn_cls: 0.0751, loss_rpn_bbox: 0.0959, loss_cls: 0.5174, acc: 81.6621, loss_bbox: 0.5120, loss_mask: 0.3124, loss: 1.5128\n",
      "2022-05-08 18:57:14,090 - mmdet - INFO - Epoch [15][550/1016]\tlr: 2.500e-05, eta: 3:03:54, time: 0.484, data_time: 0.103, memory: 3114, loss_rpn_cls: 0.0704, loss_rpn_bbox: 0.0992, loss_cls: 0.5210, acc: 81.4824, loss_bbox: 0.5084, loss_mask: 0.3160, loss: 1.5149\n",
      "2022-05-08 18:57:42,193 - mmdet - INFO - Epoch [15][600/1016]\tlr: 2.500e-05, eta: 3:03:32, time: 0.562, data_time: 0.148, memory: 3114, loss_rpn_cls: 0.0778, loss_rpn_bbox: 0.1001, loss_cls: 0.5344, acc: 81.7285, loss_bbox: 0.5003, loss_mask: 0.3146, loss: 1.5272\n",
      "2022-05-08 18:58:07,255 - mmdet - INFO - Epoch [15][650/1016]\tlr: 2.500e-05, eta: 3:03:07, time: 0.501, data_time: 0.106, memory: 3114, loss_rpn_cls: 0.0643, loss_rpn_bbox: 0.0963, loss_cls: 0.5164, acc: 82.0820, loss_bbox: 0.4855, loss_mask: 0.3000, loss: 1.4625\n",
      "2022-05-08 18:58:32,074 - mmdet - INFO - Epoch [15][700/1016]\tlr: 2.500e-05, eta: 3:02:41, time: 0.496, data_time: 0.106, memory: 3114, loss_rpn_cls: 0.0791, loss_rpn_bbox: 0.1022, loss_cls: 0.5235, acc: 81.2285, loss_bbox: 0.5020, loss_mask: 0.3128, loss: 1.5196\n",
      "2022-05-08 18:58:59,839 - mmdet - INFO - Epoch [15][750/1016]\tlr: 2.500e-05, eta: 3:02:19, time: 0.555, data_time: 0.140, memory: 3114, loss_rpn_cls: 0.0805, loss_rpn_bbox: 0.1024, loss_cls: 0.5399, acc: 81.5215, loss_bbox: 0.4980, loss_mask: 0.3135, loss: 1.5344\n",
      "2022-05-08 18:59:25,813 - mmdet - INFO - Epoch [15][800/1016]\tlr: 2.500e-05, eta: 3:01:54, time: 0.519, data_time: 0.127, memory: 3114, loss_rpn_cls: 0.0776, loss_rpn_bbox: 0.1049, loss_cls: 0.5384, acc: 81.2559, loss_bbox: 0.4943, loss_mask: 0.3047, loss: 1.5200\n",
      "2022-05-08 18:59:50,440 - mmdet - INFO - Epoch [15][850/1016]\tlr: 2.500e-05, eta: 3:01:28, time: 0.493, data_time: 0.104, memory: 3114, loss_rpn_cls: 0.0831, loss_rpn_bbox: 0.1022, loss_cls: 0.5231, acc: 81.7695, loss_bbox: 0.5076, loss_mask: 0.3166, loss: 1.5326\n",
      "2022-05-08 19:00:17,625 - mmdet - INFO - Epoch [15][900/1016]\tlr: 2.500e-05, eta: 3:01:05, time: 0.544, data_time: 0.131, memory: 3114, loss_rpn_cls: 0.0783, loss_rpn_bbox: 0.1014, loss_cls: 0.5160, acc: 81.6855, loss_bbox: 0.5071, loss_mask: 0.3095, loss: 1.5123\n",
      "2022-05-08 19:00:44,741 - mmdet - INFO - Epoch [15][950/1016]\tlr: 2.500e-05, eta: 3:00:43, time: 0.542, data_time: 0.141, memory: 3114, loss_rpn_cls: 0.0784, loss_rpn_bbox: 0.1019, loss_cls: 0.5062, acc: 81.8594, loss_bbox: 0.5057, loss_mask: 0.3193, loss: 1.5115\n",
      "2022-05-08 19:01:10,005 - mmdet - INFO - Epoch [15][1000/1016]\tlr: 2.500e-05, eta: 3:00:17, time: 0.505, data_time: 0.118, memory: 3114, loss_rpn_cls: 0.0716, loss_rpn_bbox: 0.0923, loss_cls: 0.5241, acc: 81.8516, loss_bbox: 0.4873, loss_mask: 0.3066, loss: 1.4819\n"
     ]
    },
    {
     "name": "stdout",
     "output_type": "stream",
     "text": [
      "[>>>>>>>>>>>>>>>>>>>>>>>>>>>>>>] 508/508, 9.3 task/s, elapsed: 55s, ETA:     0s"
     ]
    },
    {
     "name": "stderr",
     "output_type": "stream",
     "text": [
      "2022-05-08 19:02:17,028 - mmdet - INFO - Evaluating bbox...\n"
     ]
    },
    {
     "name": "stdout",
     "output_type": "stream",
     "text": [
      "Loading and preparing results...\n",
      "DONE (t=0.38s)\n",
      "creating index...\n",
      "index created!\n",
      "Running per image evaluation...\n",
      "Evaluate annotation type *bbox*\n",
      "DONE (t=37.42s).\n",
      "Accumulating evaluation results...\n"
     ]
    },
    {
     "name": "stderr",
     "output_type": "stream",
     "text": [
      "2022-05-08 19:02:56,493 - mmdet - INFO - \n",
      " Average Precision  (AP) @[ IoU=0.50:0.95 | area=   all | maxDets=100 ] = 0.161\n",
      " Average Precision  (AP) @[ IoU=0.50      | area=   all | maxDets=1000 ] = 0.310\n",
      " Average Precision  (AP) @[ IoU=0.75      | area=   all | maxDets=1000 ] = 0.155\n",
      " Average Precision  (AP) @[ IoU=0.50:0.95 | area= small | maxDets=1000 ] = 0.169\n",
      " Average Precision  (AP) @[ IoU=0.50:0.95 | area=medium | maxDets=1000 ] = 0.198\n",
      " Average Precision  (AP) @[ IoU=0.50:0.95 | area= large | maxDets=1000 ] = -1.000\n",
      " Average Recall     (AR) @[ IoU=0.50:0.95 | area=   all | maxDets=100 ] = 0.320\n",
      " Average Recall     (AR) @[ IoU=0.50:0.95 | area=   all | maxDets=300 ] = 0.320\n",
      " Average Recall     (AR) @[ IoU=0.50:0.95 | area=   all | maxDets=1000 ] = 0.320\n",
      " Average Recall     (AR) @[ IoU=0.50:0.95 | area= small | maxDets=1000 ] = 0.312\n",
      " Average Recall     (AR) @[ IoU=0.50:0.95 | area=medium | maxDets=1000 ] = 0.514\n",
      " Average Recall     (AR) @[ IoU=0.50:0.95 | area= large | maxDets=1000 ] = -1.000\n",
      "\n",
      "2022-05-08 19:02:56,494 - mmdet - INFO - Evaluating segm...\n"
     ]
    },
    {
     "name": "stdout",
     "output_type": "stream",
     "text": [
      "DONE (t=1.38s).\n"
     ]
    },
    {
     "name": "stderr",
     "output_type": "stream",
     "text": [
      "/kaggle/working/mmdetection/mmdet/datasets/coco.py:474: UserWarning: The key \"bbox\" is deleted for more accurate mask AP of small/medium/large instances since v2.12.0. This does not change the overall mAP calculation.\n",
      "  UserWarning)\n"
     ]
    },
    {
     "name": "stdout",
     "output_type": "stream",
     "text": [
      "Loading and preparing results...\n",
      "DONE (t=0.72s)\n",
      "creating index...\n",
      "index created!\n",
      "Running per image evaluation...\n",
      "Evaluate annotation type *segm*\n",
      "DONE (t=36.22s).\n",
      "Accumulating evaluation results...\n"
     ]
    },
    {
     "name": "stderr",
     "output_type": "stream",
     "text": [
      "2022-05-08 19:03:36,031 - mmdet - INFO - \n",
      " Average Precision  (AP) @[ IoU=0.50:0.95 | area=   all | maxDets=100 ] = 0.149\n",
      " Average Precision  (AP) @[ IoU=0.50      | area=   all | maxDets=1000 ] = 0.301\n",
      " Average Precision  (AP) @[ IoU=0.75      | area=   all | maxDets=1000 ] = 0.132\n",
      " Average Precision  (AP) @[ IoU=0.50:0.95 | area= small | maxDets=1000 ] = 0.141\n",
      " Average Precision  (AP) @[ IoU=0.50:0.95 | area=medium | maxDets=1000 ] = 0.299\n",
      " Average Precision  (AP) @[ IoU=0.50:0.95 | area= large | maxDets=1000 ] = -1.000\n",
      " Average Recall     (AR) @[ IoU=0.50:0.95 | area=   all | maxDets=100 ] = 0.295\n",
      " Average Recall     (AR) @[ IoU=0.50:0.95 | area=   all | maxDets=300 ] = 0.295\n",
      " Average Recall     (AR) @[ IoU=0.50:0.95 | area=   all | maxDets=1000 ] = 0.295\n",
      " Average Recall     (AR) @[ IoU=0.50:0.95 | area= small | maxDets=1000 ] = 0.287\n",
      " Average Recall     (AR) @[ IoU=0.50:0.95 | area=medium | maxDets=1000 ] = 0.487\n",
      " Average Recall     (AR) @[ IoU=0.50:0.95 | area= large | maxDets=1000 ] = -1.000\n",
      "\n"
     ]
    },
    {
     "name": "stdout",
     "output_type": "stream",
     "text": [
      "DONE (t=2.18s).\n"
     ]
    },
    {
     "name": "stderr",
     "output_type": "stream",
     "text": [
      "2022-05-08 19:03:36,258 - mmdet - INFO - Epoch(val) [15][508]\tbbox_mAP: 0.1610, bbox_mAP_50: 0.3100, bbox_mAP_75: 0.1550, bbox_mAP_s: 0.1690, bbox_mAP_m: 0.1980, bbox_mAP_l: -1.0000, bbox_mAP_copypaste: 0.161 0.310 0.155 0.169 0.198 -1.000, segm_mAP: 0.1490, segm_mAP_50: 0.3010, segm_mAP_75: 0.1320, segm_mAP_s: 0.1410, segm_mAP_m: 0.2990, segm_mAP_l: -1.0000, segm_mAP_copypaste: 0.149 0.301 0.132 0.141 0.299 -1.000\n",
      "2022-05-08 19:04:05,833 - mmdet - INFO - Epoch [16][50/1016]\tlr: 2.500e-05, eta: 2:59:38, time: 0.589, data_time: 0.182, memory: 3114, loss_rpn_cls: 0.0851, loss_rpn_bbox: 0.1100, loss_cls: 0.5466, acc: 81.0293, loss_bbox: 0.5201, loss_mask: 0.3176, loss: 1.5795\n",
      "2022-05-08 19:04:30,749 - mmdet - INFO - Epoch [16][100/1016]\tlr: 2.500e-05, eta: 2:59:12, time: 0.498, data_time: 0.109, memory: 3114, loss_rpn_cls: 0.0810, loss_rpn_bbox: 0.1021, loss_cls: 0.5080, acc: 81.9980, loss_bbox: 0.4945, loss_mask: 0.3128, loss: 1.4984\n",
      "2022-05-08 19:04:55,294 - mmdet - INFO - Epoch [16][150/1016]\tlr: 2.500e-05, eta: 2:58:46, time: 0.491, data_time: 0.108, memory: 3114, loss_rpn_cls: 0.0781, loss_rpn_bbox: 0.0999, loss_cls: 0.5276, acc: 81.1699, loss_bbox: 0.5169, loss_mask: 0.3182, loss: 1.5407\n",
      "2022-05-08 19:05:22,120 - mmdet - INFO - Epoch [16][200/1016]\tlr: 2.500e-05, eta: 2:58:23, time: 0.537, data_time: 0.128, memory: 3114, loss_rpn_cls: 0.0737, loss_rpn_bbox: 0.0989, loss_cls: 0.5311, acc: 81.3965, loss_bbox: 0.4893, loss_mask: 0.3051, loss: 1.4981\n",
      "2022-05-08 19:05:48,341 - mmdet - INFO - Epoch [16][250/1016]\tlr: 2.500e-05, eta: 2:57:59, time: 0.524, data_time: 0.124, memory: 3114, loss_rpn_cls: 0.0774, loss_rpn_bbox: 0.1055, loss_cls: 0.5198, acc: 81.7520, loss_bbox: 0.5075, loss_mask: 0.3169, loss: 1.5270\n",
      "2022-05-08 19:06:12,921 - mmdet - INFO - Epoch [16][300/1016]\tlr: 2.500e-05, eta: 2:57:32, time: 0.492, data_time: 0.103, memory: 3114, loss_rpn_cls: 0.0731, loss_rpn_bbox: 0.0943, loss_cls: 0.5169, acc: 81.6641, loss_bbox: 0.5093, loss_mask: 0.3117, loss: 1.5053\n",
      "2022-05-08 19:06:39,293 - mmdet - INFO - Epoch [16][350/1016]\tlr: 2.500e-05, eta: 2:57:08, time: 0.527, data_time: 0.113, memory: 3114, loss_rpn_cls: 0.0667, loss_rpn_bbox: 0.0970, loss_cls: 0.5079, acc: 82.1855, loss_bbox: 0.4915, loss_mask: 0.3007, loss: 1.4638\n",
      "2022-05-08 19:07:04,860 - mmdet - INFO - Epoch [16][400/1016]\tlr: 2.500e-05, eta: 2:56:43, time: 0.511, data_time: 0.119, memory: 3114, loss_rpn_cls: 0.0749, loss_rpn_bbox: 0.0985, loss_cls: 0.5143, acc: 81.7012, loss_bbox: 0.4907, loss_mask: 0.3057, loss: 1.4841\n",
      "2022-05-08 19:07:28,551 - mmdet - INFO - Epoch [16][450/1016]\tlr: 2.500e-05, eta: 2:56:16, time: 0.474, data_time: 0.090, memory: 3114, loss_rpn_cls: 0.0698, loss_rpn_bbox: 0.0870, loss_cls: 0.4914, acc: 82.8340, loss_bbox: 0.4824, loss_mask: 0.3061, loss: 1.4368\n",
      "2022-05-08 19:07:57,805 - mmdet - INFO - Epoch [16][500/1016]\tlr: 2.500e-05, eta: 2:55:56, time: 0.585, data_time: 0.158, memory: 3114, loss_rpn_cls: 0.0864, loss_rpn_bbox: 0.1076, loss_cls: 0.5470, acc: 81.0332, loss_bbox: 0.5133, loss_mask: 0.3097, loss: 1.5640\n",
      "2022-05-08 19:08:23,254 - mmdet - INFO - Epoch [16][550/1016]\tlr: 2.500e-05, eta: 2:55:31, time: 0.509, data_time: 0.115, memory: 3114, loss_rpn_cls: 0.0731, loss_rpn_bbox: 0.0999, loss_cls: 0.5323, acc: 81.2246, loss_bbox: 0.5095, loss_mask: 0.3121, loss: 1.5270\n",
      "2022-05-08 19:08:48,218 - mmdet - INFO - Epoch [16][600/1016]\tlr: 2.500e-05, eta: 2:55:05, time: 0.499, data_time: 0.110, memory: 3114, loss_rpn_cls: 0.0643, loss_rpn_bbox: 0.0989, loss_cls: 0.4932, acc: 82.5801, loss_bbox: 0.4951, loss_mask: 0.3130, loss: 1.4644\n",
      "2022-05-08 19:09:17,383 - mmdet - INFO - Epoch [16][650/1016]\tlr: 2.500e-05, eta: 2:54:44, time: 0.583, data_time: 0.161, memory: 3114, loss_rpn_cls: 0.0805, loss_rpn_bbox: 0.1071, loss_cls: 0.5493, acc: 80.9453, loss_bbox: 0.4991, loss_mask: 0.3151, loss: 1.5512\n",
      "2022-05-08 19:09:42,863 - mmdet - INFO - Epoch [16][700/1016]\tlr: 2.500e-05, eta: 2:54:19, time: 0.510, data_time: 0.113, memory: 3114, loss_rpn_cls: 0.0784, loss_rpn_bbox: 0.0990, loss_cls: 0.5236, acc: 81.4941, loss_bbox: 0.5194, loss_mask: 0.3143, loss: 1.5347\n",
      "2022-05-08 19:10:07,187 - mmdet - INFO - Epoch [16][750/1016]\tlr: 2.500e-05, eta: 2:53:53, time: 0.486, data_time: 0.099, memory: 3114, loss_rpn_cls: 0.0647, loss_rpn_bbox: 0.0934, loss_cls: 0.5294, acc: 81.5820, loss_bbox: 0.4993, loss_mask: 0.3093, loss: 1.4960\n",
      "2022-05-08 19:10:34,143 - mmdet - INFO - Epoch [16][800/1016]\tlr: 2.500e-05, eta: 2:53:29, time: 0.539, data_time: 0.127, memory: 3114, loss_rpn_cls: 0.0787, loss_rpn_bbox: 0.0989, loss_cls: 0.5215, acc: 81.7793, loss_bbox: 0.4987, loss_mask: 0.3095, loss: 1.5074\n",
      "2022-05-08 19:10:57,833 - mmdet - INFO - Epoch [16][850/1016]\tlr: 2.500e-05, eta: 2:53:02, time: 0.474, data_time: 0.092, memory: 3114, loss_rpn_cls: 0.0657, loss_rpn_bbox: 0.0891, loss_cls: 0.5112, acc: 82.5957, loss_bbox: 0.4725, loss_mask: 0.2972, loss: 1.4357\n",
      "2022-05-08 19:11:24,037 - mmdet - INFO - Epoch [16][900/1016]\tlr: 2.500e-05, eta: 2:52:38, time: 0.524, data_time: 0.127, memory: 3114, loss_rpn_cls: 0.0681, loss_rpn_bbox: 0.1020, loss_cls: 0.5343, acc: 81.5527, loss_bbox: 0.4966, loss_mask: 0.3086, loss: 1.5096\n",
      "2022-05-08 19:11:51,452 - mmdet - INFO - Epoch [16][950/1016]\tlr: 2.500e-05, eta: 2:52:15, time: 0.548, data_time: 0.131, memory: 3114, loss_rpn_cls: 0.0798, loss_rpn_bbox: 0.1028, loss_cls: 0.5164, acc: 81.5215, loss_bbox: 0.5138, loss_mask: 0.3137, loss: 1.5265\n",
      "2022-05-08 19:12:16,543 - mmdet - INFO - Epoch [16][1000/1016]\tlr: 2.500e-05, eta: 2:51:49, time: 0.502, data_time: 0.112, memory: 3114, loss_rpn_cls: 0.0791, loss_rpn_bbox: 0.0955, loss_cls: 0.5303, acc: 81.4863, loss_bbox: 0.5039, loss_mask: 0.3183, loss: 1.5271\n"
     ]
    },
    {
     "name": "stdout",
     "output_type": "stream",
     "text": [
      "[>>>>>>>>>>>>>>>>>>>>>>>>>>>>>>] 508/508, 9.0 task/s, elapsed: 56s, ETA:     0s"
     ]
    },
    {
     "name": "stderr",
     "output_type": "stream",
     "text": [
      "2022-05-08 19:13:24,786 - mmdet - INFO - Evaluating bbox...\n"
     ]
    },
    {
     "name": "stdout",
     "output_type": "stream",
     "text": [
      "Loading and preparing results...\n",
      "DONE (t=0.08s)\n",
      "creating index...\n",
      "index created!\n",
      "Running per image evaluation...\n",
      "Evaluate annotation type *bbox*\n",
      "DONE (t=35.08s).\n",
      "Accumulating evaluation results...\n"
     ]
    },
    {
     "name": "stderr",
     "output_type": "stream",
     "text": [
      "2022-05-08 19:14:02,434 - mmdet - INFO - \n",
      " Average Precision  (AP) @[ IoU=0.50:0.95 | area=   all | maxDets=100 ] = 0.162\n",
      " Average Precision  (AP) @[ IoU=0.50      | area=   all | maxDets=1000 ] = 0.312\n",
      " Average Precision  (AP) @[ IoU=0.75      | area=   all | maxDets=1000 ] = 0.153\n",
      " Average Precision  (AP) @[ IoU=0.50:0.95 | area= small | maxDets=1000 ] = 0.169\n",
      " Average Precision  (AP) @[ IoU=0.50:0.95 | area=medium | maxDets=1000 ] = 0.196\n",
      " Average Precision  (AP) @[ IoU=0.50:0.95 | area= large | maxDets=1000 ] = -1.000\n",
      " Average Recall     (AR) @[ IoU=0.50:0.95 | area=   all | maxDets=100 ] = 0.321\n",
      " Average Recall     (AR) @[ IoU=0.50:0.95 | area=   all | maxDets=300 ] = 0.321\n",
      " Average Recall     (AR) @[ IoU=0.50:0.95 | area=   all | maxDets=1000 ] = 0.321\n",
      " Average Recall     (AR) @[ IoU=0.50:0.95 | area= small | maxDets=1000 ] = 0.313\n",
      " Average Recall     (AR) @[ IoU=0.50:0.95 | area=medium | maxDets=1000 ] = 0.510\n",
      " Average Recall     (AR) @[ IoU=0.50:0.95 | area= large | maxDets=1000 ] = -1.000\n",
      "\n",
      "2022-05-08 19:14:02,436 - mmdet - INFO - Evaluating segm...\n"
     ]
    },
    {
     "name": "stdout",
     "output_type": "stream",
     "text": [
      "DONE (t=2.24s).\n"
     ]
    },
    {
     "name": "stderr",
     "output_type": "stream",
     "text": [
      "/kaggle/working/mmdetection/mmdet/datasets/coco.py:474: UserWarning: The key \"bbox\" is deleted for more accurate mask AP of small/medium/large instances since v2.12.0. This does not change the overall mAP calculation.\n",
      "  UserWarning)\n"
     ]
    },
    {
     "name": "stdout",
     "output_type": "stream",
     "text": [
      "Loading and preparing results...\n",
      "DONE (t=1.38s)\n",
      "creating index...\n",
      "index created!\n",
      "Running per image evaluation...\n",
      "Evaluate annotation type *segm*\n",
      "DONE (t=36.25s).\n",
      "Accumulating evaluation results...\n"
     ]
    },
    {
     "name": "stderr",
     "output_type": "stream",
     "text": [
      "2022-05-08 19:14:42,816 - mmdet - INFO - \n",
      " Average Precision  (AP) @[ IoU=0.50:0.95 | area=   all | maxDets=100 ] = 0.149\n",
      " Average Precision  (AP) @[ IoU=0.50      | area=   all | maxDets=1000 ] = 0.302\n",
      " Average Precision  (AP) @[ IoU=0.75      | area=   all | maxDets=1000 ] = 0.132\n",
      " Average Precision  (AP) @[ IoU=0.50:0.95 | area= small | maxDets=1000 ] = 0.142\n",
      " Average Precision  (AP) @[ IoU=0.50:0.95 | area=medium | maxDets=1000 ] = 0.298\n",
      " Average Precision  (AP) @[ IoU=0.50:0.95 | area= large | maxDets=1000 ] = -1.000\n",
      " Average Recall     (AR) @[ IoU=0.50:0.95 | area=   all | maxDets=100 ] = 0.296\n",
      " Average Recall     (AR) @[ IoU=0.50:0.95 | area=   all | maxDets=300 ] = 0.296\n",
      " Average Recall     (AR) @[ IoU=0.50:0.95 | area=   all | maxDets=1000 ] = 0.296\n",
      " Average Recall     (AR) @[ IoU=0.50:0.95 | area= small | maxDets=1000 ] = 0.288\n",
      " Average Recall     (AR) @[ IoU=0.50:0.95 | area=medium | maxDets=1000 ] = 0.485\n",
      " Average Recall     (AR) @[ IoU=0.50:0.95 | area= large | maxDets=1000 ] = -1.000\n",
      "\n",
      "2022-05-08 19:14:42,935 - mmdet - INFO - Epoch(val) [16][508]\tbbox_mAP: 0.1620, bbox_mAP_50: 0.3120, bbox_mAP_75: 0.1530, bbox_mAP_s: 0.1690, bbox_mAP_m: 0.1960, bbox_mAP_l: -1.0000, bbox_mAP_copypaste: 0.162 0.312 0.153 0.169 0.196 -1.000, segm_mAP: 0.1490, segm_mAP_50: 0.3020, segm_mAP_75: 0.1320, segm_mAP_s: 0.1420, segm_mAP_m: 0.2980, segm_mAP_l: -1.0000, segm_mAP_copypaste: 0.149 0.302 0.132 0.142 0.298 -1.000\n"
     ]
    },
    {
     "name": "stdout",
     "output_type": "stream",
     "text": [
      "DONE (t=1.37s).\n"
     ]
    },
    {
     "name": "stderr",
     "output_type": "stream",
     "text": [
      "2022-05-08 19:15:12,459 - mmdet - INFO - Epoch [17][50/1016]\tlr: 2.500e-05, eta: 2:51:11, time: 0.589, data_time: 0.183, memory: 3114, loss_rpn_cls: 0.0868, loss_rpn_bbox: 0.1006, loss_cls: 0.5306, acc: 81.5645, loss_bbox: 0.5095, loss_mask: 0.3147, loss: 1.5423\n",
      "2022-05-08 19:15:38,882 - mmdet - INFO - Epoch [17][100/1016]\tlr: 2.500e-05, eta: 2:50:47, time: 0.528, data_time: 0.115, memory: 3114, loss_rpn_cls: 0.0665, loss_rpn_bbox: 0.0971, loss_cls: 0.5348, acc: 81.3105, loss_bbox: 0.4916, loss_mask: 0.3056, loss: 1.4955\n",
      "2022-05-08 19:16:04,327 - mmdet - INFO - Epoch [17][150/1016]\tlr: 2.500e-05, eta: 2:50:22, time: 0.509, data_time: 0.119, memory: 3114, loss_rpn_cls: 0.0777, loss_rpn_bbox: 0.1016, loss_cls: 0.5096, acc: 81.9219, loss_bbox: 0.4951, loss_mask: 0.3080, loss: 1.4920\n",
      "2022-05-08 19:16:30,021 - mmdet - INFO - Epoch [17][200/1016]\tlr: 2.500e-05, eta: 2:49:57, time: 0.514, data_time: 0.121, memory: 3114, loss_rpn_cls: 0.0823, loss_rpn_bbox: 0.1078, loss_cls: 0.5230, acc: 81.4707, loss_bbox: 0.5110, loss_mask: 0.3193, loss: 1.5434\n",
      "2022-05-08 19:16:56,542 - mmdet - INFO - Epoch [17][250/1016]\tlr: 2.500e-05, eta: 2:49:33, time: 0.530, data_time: 0.119, memory: 3114, loss_rpn_cls: 0.0702, loss_rpn_bbox: 0.0995, loss_cls: 0.5016, acc: 82.1855, loss_bbox: 0.4897, loss_mask: 0.3099, loss: 1.4708\n",
      "2022-05-08 19:17:21,925 - mmdet - INFO - Epoch [17][300/1016]\tlr: 2.500e-05, eta: 2:49:08, time: 0.508, data_time: 0.110, memory: 3114, loss_rpn_cls: 0.0788, loss_rpn_bbox: 0.1002, loss_cls: 0.5427, acc: 81.0098, loss_bbox: 0.5135, loss_mask: 0.3152, loss: 1.5505\n",
      "2022-05-08 19:17:46,764 - mmdet - INFO - Epoch [17][350/1016]\tlr: 2.500e-05, eta: 2:48:42, time: 0.497, data_time: 0.106, memory: 3114, loss_rpn_cls: 0.0814, loss_rpn_bbox: 0.1016, loss_cls: 0.5438, acc: 81.1934, loss_bbox: 0.4986, loss_mask: 0.3114, loss: 1.5368\n",
      "2022-05-08 19:18:12,214 - mmdet - INFO - Epoch [17][400/1016]\tlr: 2.500e-05, eta: 2:48:16, time: 0.509, data_time: 0.105, memory: 3114, loss_rpn_cls: 0.0735, loss_rpn_bbox: 0.0940, loss_cls: 0.5117, acc: 81.9453, loss_bbox: 0.5022, loss_mask: 0.3124, loss: 1.4937\n",
      "2022-05-08 19:18:37,903 - mmdet - INFO - Epoch [17][450/1016]\tlr: 2.500e-05, eta: 2:47:51, time: 0.514, data_time: 0.118, memory: 3114, loss_rpn_cls: 0.0760, loss_rpn_bbox: 0.1042, loss_cls: 0.5420, acc: 81.2520, loss_bbox: 0.4969, loss_mask: 0.3094, loss: 1.5285\n",
      "2022-05-08 19:19:04,011 - mmdet - INFO - Epoch [17][500/1016]\tlr: 2.500e-05, eta: 2:47:27, time: 0.522, data_time: 0.126, memory: 3114, loss_rpn_cls: 0.0741, loss_rpn_bbox: 0.1034, loss_cls: 0.5222, acc: 81.7676, loss_bbox: 0.5134, loss_mask: 0.3128, loss: 1.5259\n",
      "2022-05-08 19:19:31,644 - mmdet - INFO - Epoch [17][550/1016]\tlr: 2.500e-05, eta: 2:47:04, time: 0.553, data_time: 0.129, memory: 3114, loss_rpn_cls: 0.0750, loss_rpn_bbox: 0.1041, loss_cls: 0.5281, acc: 81.5820, loss_bbox: 0.5065, loss_mask: 0.3021, loss: 1.5158\n",
      "2022-05-08 19:19:58,197 - mmdet - INFO - Epoch [17][600/1016]\tlr: 2.500e-05, eta: 2:46:40, time: 0.531, data_time: 0.130, memory: 3114, loss_rpn_cls: 0.0729, loss_rpn_bbox: 0.1034, loss_cls: 0.5411, acc: 81.2207, loss_bbox: 0.5025, loss_mask: 0.3106, loss: 1.5305\n",
      "2022-05-08 19:20:22,153 - mmdet - INFO - Epoch [17][650/1016]\tlr: 2.500e-05, eta: 2:46:13, time: 0.479, data_time: 0.097, memory: 3114, loss_rpn_cls: 0.0619, loss_rpn_bbox: 0.0930, loss_cls: 0.5118, acc: 81.8828, loss_bbox: 0.4853, loss_mask: 0.3019, loss: 1.4539\n",
      "2022-05-08 19:20:48,715 - mmdet - INFO - Epoch [17][700/1016]\tlr: 2.500e-05, eta: 2:45:49, time: 0.531, data_time: 0.117, memory: 3114, loss_rpn_cls: 0.0756, loss_rpn_bbox: 0.0946, loss_cls: 0.5118, acc: 81.9414, loss_bbox: 0.4951, loss_mask: 0.3134, loss: 1.4906\n",
      "2022-05-08 19:21:13,821 - mmdet - INFO - Epoch [17][750/1016]\tlr: 2.500e-05, eta: 2:45:24, time: 0.502, data_time: 0.108, memory: 3114, loss_rpn_cls: 0.0779, loss_rpn_bbox: 0.1027, loss_cls: 0.5361, acc: 81.0098, loss_bbox: 0.5160, loss_mask: 0.3107, loss: 1.5434\n",
      "2022-05-08 19:21:38,623 - mmdet - INFO - Epoch [17][800/1016]\tlr: 2.500e-05, eta: 2:44:58, time: 0.496, data_time: 0.106, memory: 3114, loss_rpn_cls: 0.0711, loss_rpn_bbox: 0.0972, loss_cls: 0.5148, acc: 81.8164, loss_bbox: 0.5069, loss_mask: 0.3111, loss: 1.5011\n",
      "2022-05-08 19:22:04,892 - mmdet - INFO - Epoch [17][850/1016]\tlr: 2.500e-05, eta: 2:44:33, time: 0.525, data_time: 0.112, memory: 3114, loss_rpn_cls: 0.0691, loss_rpn_bbox: 0.0948, loss_cls: 0.5076, acc: 82.1738, loss_bbox: 0.4737, loss_mask: 0.2992, loss: 1.4445\n",
      "2022-05-08 19:22:29,018 - mmdet - INFO - Epoch [17][900/1016]\tlr: 2.500e-05, eta: 2:44:07, time: 0.483, data_time: 0.099, memory: 3114, loss_rpn_cls: 0.0752, loss_rpn_bbox: 0.0991, loss_cls: 0.5092, acc: 81.8926, loss_bbox: 0.4935, loss_mask: 0.3101, loss: 1.4871\n",
      "2022-05-08 19:22:53,880 - mmdet - INFO - Epoch [17][950/1016]\tlr: 2.500e-05, eta: 2:43:41, time: 0.497, data_time: 0.102, memory: 3114, loss_rpn_cls: 0.0688, loss_rpn_bbox: 0.1022, loss_cls: 0.5374, acc: 80.9609, loss_bbox: 0.5104, loss_mask: 0.3084, loss: 1.5272\n",
      "2022-05-08 19:23:20,013 - mmdet - INFO - Epoch [17][1000/1016]\tlr: 2.500e-05, eta: 2:43:16, time: 0.523, data_time: 0.109, memory: 3114, loss_rpn_cls: 0.0765, loss_rpn_bbox: 0.0931, loss_cls: 0.5113, acc: 82.1230, loss_bbox: 0.5013, loss_mask: 0.3240, loss: 1.5061\n"
     ]
    },
    {
     "name": "stdout",
     "output_type": "stream",
     "text": [
      "[>>>>>>>>>>>>>>>>>>>>>>>>>>>>>>] 508/508, 9.1 task/s, elapsed: 56s, ETA:     0s"
     ]
    },
    {
     "name": "stderr",
     "output_type": "stream",
     "text": [
      "2022-05-08 19:24:27,056 - mmdet - INFO - Evaluating bbox...\n"
     ]
    },
    {
     "name": "stdout",
     "output_type": "stream",
     "text": [
      "Loading and preparing results...\n",
      "DONE (t=0.08s)\n",
      "creating index...\n",
      "index created!\n",
      "Running per image evaluation...\n",
      "Evaluate annotation type *bbox*\n",
      "DONE (t=35.04s).\n",
      "Accumulating evaluation results...\n"
     ]
    },
    {
     "name": "stderr",
     "output_type": "stream",
     "text": [
      "2022-05-08 19:25:04,354 - mmdet - INFO - \n",
      " Average Precision  (AP) @[ IoU=0.50:0.95 | area=   all | maxDets=100 ] = 0.163\n",
      " Average Precision  (AP) @[ IoU=0.50      | area=   all | maxDets=1000 ] = 0.313\n",
      " Average Precision  (AP) @[ IoU=0.75      | area=   all | maxDets=1000 ] = 0.155\n",
      " Average Precision  (AP) @[ IoU=0.50:0.95 | area= small | maxDets=1000 ] = 0.170\n",
      " Average Precision  (AP) @[ IoU=0.50:0.95 | area=medium | maxDets=1000 ] = 0.198\n",
      " Average Precision  (AP) @[ IoU=0.50:0.95 | area= large | maxDets=1000 ] = -1.000\n",
      " Average Recall     (AR) @[ IoU=0.50:0.95 | area=   all | maxDets=100 ] = 0.322\n",
      " Average Recall     (AR) @[ IoU=0.50:0.95 | area=   all | maxDets=300 ] = 0.322\n",
      " Average Recall     (AR) @[ IoU=0.50:0.95 | area=   all | maxDets=1000 ] = 0.322\n",
      " Average Recall     (AR) @[ IoU=0.50:0.95 | area= small | maxDets=1000 ] = 0.314\n",
      " Average Recall     (AR) @[ IoU=0.50:0.95 | area=medium | maxDets=1000 ] = 0.512\n",
      " Average Recall     (AR) @[ IoU=0.50:0.95 | area= large | maxDets=1000 ] = -1.000\n",
      "\n",
      "2022-05-08 19:25:04,358 - mmdet - INFO - Evaluating segm...\n"
     ]
    },
    {
     "name": "stdout",
     "output_type": "stream",
     "text": [
      "DONE (t=1.67s).\n"
     ]
    },
    {
     "name": "stderr",
     "output_type": "stream",
     "text": [
      "/kaggle/working/mmdetection/mmdet/datasets/coco.py:474: UserWarning: The key \"bbox\" is deleted for more accurate mask AP of small/medium/large instances since v2.12.0. This does not change the overall mAP calculation.\n",
      "  UserWarning)\n"
     ]
    },
    {
     "name": "stdout",
     "output_type": "stream",
     "text": [
      "Loading and preparing results...\n",
      "DONE (t=0.72s)\n",
      "creating index...\n",
      "index created!\n",
      "Running per image evaluation...\n",
      "Evaluate annotation type *segm*\n",
      "DONE (t=35.66s).\n",
      "Accumulating evaluation results...\n"
     ]
    },
    {
     "name": "stderr",
     "output_type": "stream",
     "text": [
      "2022-05-08 19:25:43,664 - mmdet - INFO - \n",
      " Average Precision  (AP) @[ IoU=0.50:0.95 | area=   all | maxDets=100 ] = 0.151\n",
      " Average Precision  (AP) @[ IoU=0.50      | area=   all | maxDets=1000 ] = 0.305\n",
      " Average Precision  (AP) @[ IoU=0.75      | area=   all | maxDets=1000 ] = 0.133\n",
      " Average Precision  (AP) @[ IoU=0.50:0.95 | area= small | maxDets=1000 ] = 0.143\n",
      " Average Precision  (AP) @[ IoU=0.50:0.95 | area=medium | maxDets=1000 ] = 0.298\n",
      " Average Precision  (AP) @[ IoU=0.50:0.95 | area= large | maxDets=1000 ] = -1.000\n",
      " Average Recall     (AR) @[ IoU=0.50:0.95 | area=   all | maxDets=100 ] = 0.297\n",
      " Average Recall     (AR) @[ IoU=0.50:0.95 | area=   all | maxDets=300 ] = 0.297\n",
      " Average Recall     (AR) @[ IoU=0.50:0.95 | area=   all | maxDets=1000 ] = 0.297\n",
      " Average Recall     (AR) @[ IoU=0.50:0.95 | area= small | maxDets=1000 ] = 0.290\n",
      " Average Recall     (AR) @[ IoU=0.50:0.95 | area=medium | maxDets=1000 ] = 0.481\n",
      " Average Recall     (AR) @[ IoU=0.50:0.95 | area= large | maxDets=1000 ] = -1.000\n",
      "\n",
      "2022-05-08 19:25:43,859 - mmdet - INFO - Epoch(val) [17][508]\tbbox_mAP: 0.1630, bbox_mAP_50: 0.3130, bbox_mAP_75: 0.1550, bbox_mAP_s: 0.1700, bbox_mAP_m: 0.1980, bbox_mAP_l: -1.0000, bbox_mAP_copypaste: 0.163 0.313 0.155 0.170 0.198 -1.000, segm_mAP: 0.1510, segm_mAP_50: 0.3050, segm_mAP_75: 0.1330, segm_mAP_s: 0.1430, segm_mAP_m: 0.2980, segm_mAP_l: -1.0000, segm_mAP_copypaste: 0.151 0.305 0.133 0.143 0.298 -1.000\n"
     ]
    },
    {
     "name": "stdout",
     "output_type": "stream",
     "text": [
      "DONE (t=2.15s).\n"
     ]
    },
    {
     "name": "stderr",
     "output_type": "stream",
     "text": [
      "2022-05-08 19:26:11,362 - mmdet - INFO - Epoch [18][50/1016]\tlr: 2.500e-05, eta: 2:42:36, time: 0.549, data_time: 0.154, memory: 3114, loss_rpn_cls: 0.0706, loss_rpn_bbox: 0.0973, loss_cls: 0.5103, acc: 81.8457, loss_bbox: 0.5042, loss_mask: 0.3134, loss: 1.4957\n",
      "2022-05-08 19:26:36,135 - mmdet - INFO - Epoch [18][100/1016]\tlr: 2.500e-05, eta: 2:42:10, time: 0.495, data_time: 0.107, memory: 3114, loss_rpn_cls: 0.0692, loss_rpn_bbox: 0.0943, loss_cls: 0.5269, acc: 81.7168, loss_bbox: 0.4944, loss_mask: 0.3151, loss: 1.4998\n",
      "2022-05-08 19:27:01,787 - mmdet - INFO - Epoch [18][150/1016]\tlr: 2.500e-05, eta: 2:41:45, time: 0.513, data_time: 0.123, memory: 3114, loss_rpn_cls: 0.0727, loss_rpn_bbox: 0.0976, loss_cls: 0.5069, acc: 82.4922, loss_bbox: 0.4785, loss_mask: 0.3110, loss: 1.4666\n",
      "2022-05-08 19:27:28,672 - mmdet - INFO - Epoch [18][200/1016]\tlr: 2.500e-05, eta: 2:41:22, time: 0.538, data_time: 0.122, memory: 3114, loss_rpn_cls: 0.0645, loss_rpn_bbox: 0.0985, loss_cls: 0.5124, acc: 81.9844, loss_bbox: 0.5026, loss_mask: 0.3092, loss: 1.4872\n",
      "2022-05-08 19:27:54,077 - mmdet - INFO - Epoch [18][250/1016]\tlr: 2.500e-05, eta: 2:40:56, time: 0.508, data_time: 0.117, memory: 3114, loss_rpn_cls: 0.0779, loss_rpn_bbox: 0.1007, loss_cls: 0.5279, acc: 81.7480, loss_bbox: 0.5052, loss_mask: 0.3111, loss: 1.5227\n",
      "2022-05-08 19:28:19,860 - mmdet - INFO - Epoch [18][300/1016]\tlr: 2.500e-05, eta: 2:40:31, time: 0.516, data_time: 0.126, memory: 3114, loss_rpn_cls: 0.0828, loss_rpn_bbox: 0.1108, loss_cls: 0.5306, acc: 81.3320, loss_bbox: 0.5032, loss_mask: 0.3166, loss: 1.5441\n",
      "2022-05-08 19:28:46,912 - mmdet - INFO - Epoch [18][350/1016]\tlr: 2.500e-05, eta: 2:40:08, time: 0.541, data_time: 0.124, memory: 3114, loss_rpn_cls: 0.0743, loss_rpn_bbox: 0.0970, loss_cls: 0.5062, acc: 81.6113, loss_bbox: 0.5027, loss_mask: 0.3091, loss: 1.4893\n",
      "2022-05-08 19:29:11,828 - mmdet - INFO - Epoch [18][400/1016]\tlr: 2.500e-05, eta: 2:39:42, time: 0.498, data_time: 0.112, memory: 3114, loss_rpn_cls: 0.0678, loss_rpn_bbox: 0.0975, loss_cls: 0.5169, acc: 81.9414, loss_bbox: 0.4897, loss_mask: 0.3030, loss: 1.4750\n",
      "2022-05-08 19:29:36,281 - mmdet - INFO - Epoch [18][450/1016]\tlr: 2.500e-05, eta: 2:39:16, time: 0.489, data_time: 0.102, memory: 3114, loss_rpn_cls: 0.0741, loss_rpn_bbox: 0.1034, loss_cls: 0.5486, acc: 80.7910, loss_bbox: 0.5128, loss_mask: 0.3142, loss: 1.5531\n",
      "2022-05-08 19:30:05,424 - mmdet - INFO - Epoch [18][500/1016]\tlr: 2.500e-05, eta: 2:38:55, time: 0.583, data_time: 0.155, memory: 3114, loss_rpn_cls: 0.0787, loss_rpn_bbox: 0.1030, loss_cls: 0.5265, acc: 81.4121, loss_bbox: 0.5149, loss_mask: 0.3197, loss: 1.5428\n",
      "2022-05-08 19:30:29,833 - mmdet - INFO - Epoch [18][550/1016]\tlr: 2.500e-05, eta: 2:38:28, time: 0.488, data_time: 0.104, memory: 3114, loss_rpn_cls: 0.0742, loss_rpn_bbox: 0.0912, loss_cls: 0.5103, acc: 82.0059, loss_bbox: 0.4949, loss_mask: 0.3035, loss: 1.4742\n",
      "2022-05-08 19:30:55,910 - mmdet - INFO - Epoch [18][600/1016]\tlr: 2.500e-05, eta: 2:38:04, time: 0.522, data_time: 0.125, memory: 3114, loss_rpn_cls: 0.0782, loss_rpn_bbox: 0.1005, loss_cls: 0.5315, acc: 81.3867, loss_bbox: 0.5009, loss_mask: 0.3061, loss: 1.5171\n",
      "2022-05-08 19:31:23,926 - mmdet - INFO - Epoch [18][650/1016]\tlr: 2.500e-05, eta: 2:37:41, time: 0.560, data_time: 0.144, memory: 3114, loss_rpn_cls: 0.0901, loss_rpn_bbox: 0.1030, loss_cls: 0.5127, acc: 81.6113, loss_bbox: 0.5073, loss_mask: 0.3137, loss: 1.5267\n",
      "2022-05-08 19:31:49,248 - mmdet - INFO - Epoch [18][700/1016]\tlr: 2.500e-05, eta: 2:37:16, time: 0.507, data_time: 0.119, memory: 3114, loss_rpn_cls: 0.0679, loss_rpn_bbox: 0.0972, loss_cls: 0.5343, acc: 81.3750, loss_bbox: 0.4890, loss_mask: 0.2958, loss: 1.4841\n",
      "2022-05-08 19:32:14,803 - mmdet - INFO - Epoch [18][750/1016]\tlr: 2.500e-05, eta: 2:36:50, time: 0.511, data_time: 0.115, memory: 3114, loss_rpn_cls: 0.0713, loss_rpn_bbox: 0.1021, loss_cls: 0.5387, acc: 81.2031, loss_bbox: 0.5234, loss_mask: 0.3118, loss: 1.5474\n",
      "2022-05-08 19:32:42,338 - mmdet - INFO - Epoch [18][800/1016]\tlr: 2.500e-05, eta: 2:36:27, time: 0.551, data_time: 0.128, memory: 3114, loss_rpn_cls: 0.0762, loss_rpn_bbox: 0.1022, loss_cls: 0.5331, acc: 81.1191, loss_bbox: 0.5043, loss_mask: 0.3134, loss: 1.5293\n",
      "2022-05-08 19:33:07,301 - mmdet - INFO - Epoch [18][850/1016]\tlr: 2.500e-05, eta: 2:36:02, time: 0.499, data_time: 0.108, memory: 3114, loss_rpn_cls: 0.0753, loss_rpn_bbox: 0.0990, loss_cls: 0.5004, acc: 82.4980, loss_bbox: 0.4887, loss_mask: 0.3124, loss: 1.4759\n",
      "2022-05-08 19:33:31,220 - mmdet - INFO - Epoch [18][900/1016]\tlr: 2.500e-05, eta: 2:35:35, time: 0.478, data_time: 0.100, memory: 3114, loss_rpn_cls: 0.0744, loss_rpn_bbox: 0.0966, loss_cls: 0.5258, acc: 81.1836, loss_bbox: 0.5141, loss_mask: 0.3132, loss: 1.5241\n",
      "2022-05-08 19:33:57,324 - mmdet - INFO - Epoch [18][950/1016]\tlr: 2.500e-05, eta: 2:35:10, time: 0.522, data_time: 0.110, memory: 3114, loss_rpn_cls: 0.0714, loss_rpn_bbox: 0.1018, loss_cls: 0.5223, acc: 81.8066, loss_bbox: 0.4991, loss_mask: 0.3112, loss: 1.5058\n",
      "2022-05-08 19:34:21,983 - mmdet - INFO - Epoch [18][1000/1016]\tlr: 2.500e-05, eta: 2:34:44, time: 0.493, data_time: 0.104, memory: 3114, loss_rpn_cls: 0.0702, loss_rpn_bbox: 0.0938, loss_cls: 0.5165, acc: 81.9766, loss_bbox: 0.4914, loss_mask: 0.3094, loss: 1.4813\n"
     ]
    },
    {
     "name": "stdout",
     "output_type": "stream",
     "text": [
      "[>>>>>>>>>>>>>>>>>>>>>>>>>>>>>>] 508/508, 9.0 task/s, elapsed: 56s, ETA:     0s"
     ]
    },
    {
     "name": "stderr",
     "output_type": "stream",
     "text": [
      "2022-05-08 19:35:29,710 - mmdet - INFO - Evaluating bbox...\n"
     ]
    },
    {
     "name": "stdout",
     "output_type": "stream",
     "text": [
      "Loading and preparing results...\n",
      "DONE (t=0.48s)\n",
      "creating index...\n",
      "index created!\n",
      "Running per image evaluation...\n",
      "Evaluate annotation type *bbox*\n",
      "DONE (t=35.81s).\n",
      "Accumulating evaluation results...\n"
     ]
    },
    {
     "name": "stderr",
     "output_type": "stream",
     "text": [
      "2022-05-08 19:36:08,467 - mmdet - INFO - \n",
      " Average Precision  (AP) @[ IoU=0.50:0.95 | area=   all | maxDets=100 ] = 0.162\n",
      " Average Precision  (AP) @[ IoU=0.50      | area=   all | maxDets=1000 ] = 0.313\n",
      " Average Precision  (AP) @[ IoU=0.75      | area=   all | maxDets=1000 ] = 0.154\n",
      " Average Precision  (AP) @[ IoU=0.50:0.95 | area= small | maxDets=1000 ] = 0.170\n",
      " Average Precision  (AP) @[ IoU=0.50:0.95 | area=medium | maxDets=1000 ] = 0.196\n",
      " Average Precision  (AP) @[ IoU=0.50:0.95 | area= large | maxDets=1000 ] = -1.000\n",
      " Average Recall     (AR) @[ IoU=0.50:0.95 | area=   all | maxDets=100 ] = 0.322\n",
      " Average Recall     (AR) @[ IoU=0.50:0.95 | area=   all | maxDets=300 ] = 0.322\n",
      " Average Recall     (AR) @[ IoU=0.50:0.95 | area=   all | maxDets=1000 ] = 0.322\n",
      " Average Recall     (AR) @[ IoU=0.50:0.95 | area= small | maxDets=1000 ] = 0.314\n",
      " Average Recall     (AR) @[ IoU=0.50:0.95 | area=medium | maxDets=1000 ] = 0.513\n",
      " Average Recall     (AR) @[ IoU=0.50:0.95 | area= large | maxDets=1000 ] = -1.000\n",
      "\n",
      "2022-05-08 19:36:08,469 - mmdet - INFO - Evaluating segm...\n"
     ]
    },
    {
     "name": "stdout",
     "output_type": "stream",
     "text": [
      "DONE (t=2.20s).\n"
     ]
    },
    {
     "name": "stderr",
     "output_type": "stream",
     "text": [
      "/kaggle/working/mmdetection/mmdet/datasets/coco.py:474: UserWarning: The key \"bbox\" is deleted for more accurate mask AP of small/medium/large instances since v2.12.0. This does not change the overall mAP calculation.\n",
      "  UserWarning)\n"
     ]
    },
    {
     "name": "stdout",
     "output_type": "stream",
     "text": [
      "Loading and preparing results...\n",
      "DONE (t=1.24s)\n",
      "creating index...\n",
      "index created!\n",
      "Running per image evaluation...\n",
      "Evaluate annotation type *segm*\n",
      "DONE (t=36.18s).\n",
      "Accumulating evaluation results...\n"
     ]
    },
    {
     "name": "stderr",
     "output_type": "stream",
     "text": [
      "2022-05-08 19:36:48,941 - mmdet - INFO - \n",
      " Average Precision  (AP) @[ IoU=0.50:0.95 | area=   all | maxDets=100 ] = 0.150\n",
      " Average Precision  (AP) @[ IoU=0.50      | area=   all | maxDets=1000 ] = 0.303\n",
      " Average Precision  (AP) @[ IoU=0.75      | area=   all | maxDets=1000 ] = 0.134\n",
      " Average Precision  (AP) @[ IoU=0.50:0.95 | area= small | maxDets=1000 ] = 0.142\n",
      " Average Precision  (AP) @[ IoU=0.50:0.95 | area=medium | maxDets=1000 ] = 0.301\n",
      " Average Precision  (AP) @[ IoU=0.50:0.95 | area= large | maxDets=1000 ] = -1.000\n",
      " Average Recall     (AR) @[ IoU=0.50:0.95 | area=   all | maxDets=100 ] = 0.298\n",
      " Average Recall     (AR) @[ IoU=0.50:0.95 | area=   all | maxDets=300 ] = 0.298\n",
      " Average Recall     (AR) @[ IoU=0.50:0.95 | area=   all | maxDets=1000 ] = 0.298\n",
      " Average Recall     (AR) @[ IoU=0.50:0.95 | area= small | maxDets=1000 ] = 0.289\n",
      " Average Recall     (AR) @[ IoU=0.50:0.95 | area=medium | maxDets=1000 ] = 0.492\n",
      " Average Recall     (AR) @[ IoU=0.50:0.95 | area= large | maxDets=1000 ] = -1.000\n",
      "\n",
      "2022-05-08 19:36:49,073 - mmdet - INFO - Epoch(val) [18][508]\tbbox_mAP: 0.1620, bbox_mAP_50: 0.3130, bbox_mAP_75: 0.1540, bbox_mAP_s: 0.1700, bbox_mAP_m: 0.1960, bbox_mAP_l: -1.0000, bbox_mAP_copypaste: 0.162 0.313 0.154 0.170 0.196 -1.000, segm_mAP: 0.1500, segm_mAP_50: 0.3030, segm_mAP_75: 0.1340, segm_mAP_s: 0.1420, segm_mAP_m: 0.3010, segm_mAP_l: -1.0000, segm_mAP_copypaste: 0.150 0.303 0.134 0.142 0.301 -1.000\n"
     ]
    },
    {
     "name": "stdout",
     "output_type": "stream",
     "text": [
      "DONE (t=1.81s).\n"
     ]
    },
    {
     "name": "stderr",
     "output_type": "stream",
     "text": [
      "2022-05-08 19:37:16,693 - mmdet - INFO - Epoch [19][50/1016]\tlr: 2.500e-05, eta: 2:34:05, time: 0.551, data_time: 0.157, memory: 3114, loss_rpn_cls: 0.0715, loss_rpn_bbox: 0.0980, loss_cls: 0.5185, acc: 81.6875, loss_bbox: 0.4919, loss_mask: 0.3099, loss: 1.4899\n",
      "2022-05-08 19:37:43,442 - mmdet - INFO - Epoch [19][100/1016]\tlr: 2.500e-05, eta: 2:33:41, time: 0.535, data_time: 0.114, memory: 3114, loss_rpn_cls: 0.0744, loss_rpn_bbox: 0.1046, loss_cls: 0.5227, acc: 81.1934, loss_bbox: 0.5103, loss_mask: 0.3130, loss: 1.5250\n",
      "2022-05-08 19:38:09,357 - mmdet - INFO - Epoch [19][150/1016]\tlr: 2.500e-05, eta: 2:33:16, time: 0.518, data_time: 0.124, memory: 3114, loss_rpn_cls: 0.0725, loss_rpn_bbox: 0.1056, loss_cls: 0.5355, acc: 81.5527, loss_bbox: 0.5104, loss_mask: 0.3147, loss: 1.5385\n",
      "2022-05-08 19:38:35,044 - mmdet - INFO - Epoch [19][200/1016]\tlr: 2.500e-05, eta: 2:32:51, time: 0.514, data_time: 0.123, memory: 3114, loss_rpn_cls: 0.0738, loss_rpn_bbox: 0.1039, loss_cls: 0.5074, acc: 81.9590, loss_bbox: 0.5052, loss_mask: 0.3137, loss: 1.5040\n",
      "2022-05-08 19:39:01,766 - mmdet - INFO - Epoch [19][250/1016]\tlr: 2.500e-05, eta: 2:32:27, time: 0.534, data_time: 0.126, memory: 3114, loss_rpn_cls: 0.0794, loss_rpn_bbox: 0.0950, loss_cls: 0.5069, acc: 82.1113, loss_bbox: 0.5010, loss_mask: 0.3097, loss: 1.4920\n",
      "2022-05-08 19:39:30,135 - mmdet - INFO - Epoch [19][300/1016]\tlr: 2.500e-05, eta: 2:32:04, time: 0.567, data_time: 0.157, memory: 3114, loss_rpn_cls: 0.0771, loss_rpn_bbox: 0.1082, loss_cls: 0.5224, acc: 81.6211, loss_bbox: 0.5182, loss_mask: 0.3124, loss: 1.5384\n",
      "2022-05-08 19:39:54,988 - mmdet - INFO - Epoch [19][350/1016]\tlr: 2.500e-05, eta: 2:31:39, time: 0.497, data_time: 0.107, memory: 3114, loss_rpn_cls: 0.0822, loss_rpn_bbox: 0.0998, loss_cls: 0.5502, acc: 80.8945, loss_bbox: 0.4978, loss_mask: 0.3125, loss: 1.5426\n",
      "2022-05-08 19:40:22,086 - mmdet - INFO - Epoch [19][400/1016]\tlr: 2.500e-05, eta: 2:31:15, time: 0.542, data_time: 0.127, memory: 3114, loss_rpn_cls: 0.0827, loss_rpn_bbox: 0.1046, loss_cls: 0.5131, acc: 81.8164, loss_bbox: 0.4970, loss_mask: 0.3123, loss: 1.5098\n",
      "2022-05-08 19:40:47,245 - mmdet - INFO - Epoch [19][450/1016]\tlr: 2.500e-05, eta: 2:30:49, time: 0.503, data_time: 0.112, memory: 3114, loss_rpn_cls: 0.0699, loss_rpn_bbox: 0.0973, loss_cls: 0.5191, acc: 81.5078, loss_bbox: 0.4993, loss_mask: 0.3040, loss: 1.4896\n",
      "2022-05-08 19:41:12,659 - mmdet - INFO - Epoch [19][500/1016]\tlr: 2.500e-05, eta: 2:30:24, time: 0.508, data_time: 0.121, memory: 3114, loss_rpn_cls: 0.0775, loss_rpn_bbox: 0.0978, loss_cls: 0.5295, acc: 81.6602, loss_bbox: 0.4850, loss_mask: 0.3005, loss: 1.4904\n",
      "2022-05-08 19:41:39,519 - mmdet - INFO - Epoch [19][550/1016]\tlr: 2.500e-05, eta: 2:30:00, time: 0.537, data_time: 0.121, memory: 3114, loss_rpn_cls: 0.0758, loss_rpn_bbox: 0.0994, loss_cls: 0.5118, acc: 81.7656, loss_bbox: 0.5062, loss_mask: 0.3048, loss: 1.4981\n",
      "2022-05-08 19:42:04,161 - mmdet - INFO - Epoch [19][600/1016]\tlr: 2.500e-05, eta: 2:29:34, time: 0.493, data_time: 0.110, memory: 3114, loss_rpn_cls: 0.0731, loss_rpn_bbox: 0.0949, loss_cls: 0.5090, acc: 82.4238, loss_bbox: 0.4944, loss_mask: 0.3155, loss: 1.4869\n",
      "2022-05-08 19:42:29,423 - mmdet - INFO - Epoch [19][650/1016]\tlr: 2.500e-05, eta: 2:29:08, time: 0.505, data_time: 0.114, memory: 3114, loss_rpn_cls: 0.0742, loss_rpn_bbox: 0.1026, loss_cls: 0.5223, acc: 82.0176, loss_bbox: 0.5058, loss_mask: 0.3044, loss: 1.5093\n",
      "2022-05-08 19:42:54,865 - mmdet - INFO - Epoch [19][700/1016]\tlr: 2.500e-05, eta: 2:28:43, time: 0.509, data_time: 0.107, memory: 3114, loss_rpn_cls: 0.0671, loss_rpn_bbox: 0.0922, loss_cls: 0.5159, acc: 81.9707, loss_bbox: 0.4866, loss_mask: 0.3082, loss: 1.4700\n",
      "2022-05-08 19:43:20,532 - mmdet - INFO - Epoch [19][750/1016]\tlr: 2.500e-05, eta: 2:28:18, time: 0.513, data_time: 0.125, memory: 3114, loss_rpn_cls: 0.0737, loss_rpn_bbox: 0.0998, loss_cls: 0.5096, acc: 81.8867, loss_bbox: 0.4880, loss_mask: 0.3135, loss: 1.4846\n",
      "2022-05-08 19:43:44,209 - mmdet - INFO - Epoch [19][800/1016]\tlr: 2.500e-05, eta: 2:27:51, time: 0.474, data_time: 0.092, memory: 3114, loss_rpn_cls: 0.0640, loss_rpn_bbox: 0.0871, loss_cls: 0.5148, acc: 81.6426, loss_bbox: 0.4932, loss_mask: 0.3105, loss: 1.4695\n",
      "2022-05-08 19:44:11,694 - mmdet - INFO - Epoch [19][850/1016]\tlr: 2.500e-05, eta: 2:27:28, time: 0.550, data_time: 0.134, memory: 3114, loss_rpn_cls: 0.0752, loss_rpn_bbox: 0.1015, loss_cls: 0.5336, acc: 81.8438, loss_bbox: 0.4888, loss_mask: 0.3128, loss: 1.5119\n",
      "2022-05-08 19:44:37,640 - mmdet - INFO - Epoch [19][900/1016]\tlr: 2.500e-05, eta: 2:27:03, time: 0.519, data_time: 0.125, memory: 3114, loss_rpn_cls: 0.0743, loss_rpn_bbox: 0.0950, loss_cls: 0.5216, acc: 81.4102, loss_bbox: 0.5042, loss_mask: 0.3074, loss: 1.5025\n",
      "2022-05-08 19:45:02,750 - mmdet - INFO - Epoch [19][950/1016]\tlr: 2.500e-05, eta: 2:26:37, time: 0.502, data_time: 0.117, memory: 3114, loss_rpn_cls: 0.0802, loss_rpn_bbox: 0.1015, loss_cls: 0.5421, acc: 81.3242, loss_bbox: 0.5063, loss_mask: 0.3108, loss: 1.5410\n",
      "2022-05-08 19:45:29,708 - mmdet - INFO - Epoch [19][1000/1016]\tlr: 2.500e-05, eta: 2:26:13, time: 0.539, data_time: 0.121, memory: 3114, loss_rpn_cls: 0.0801, loss_rpn_bbox: 0.1025, loss_cls: 0.5364, acc: 81.1211, loss_bbox: 0.5258, loss_mask: 0.3175, loss: 1.5622\n"
     ]
    },
    {
     "name": "stdout",
     "output_type": "stream",
     "text": [
      "[>>>>>>>>>>>>>>>>>>>>>>>>>>>>>>] 508/508, 9.0 task/s, elapsed: 56s, ETA:     0s"
     ]
    },
    {
     "name": "stderr",
     "output_type": "stream",
     "text": [
      "2022-05-08 19:46:36,942 - mmdet - INFO - Evaluating bbox...\n"
     ]
    },
    {
     "name": "stdout",
     "output_type": "stream",
     "text": [
      "Loading and preparing results...\n",
      "DONE (t=0.08s)\n",
      "creating index...\n",
      "index created!\n",
      "Running per image evaluation...\n",
      "Evaluate annotation type *bbox*\n",
      "DONE (t=34.78s).\n",
      "Accumulating evaluation results...\n"
     ]
    },
    {
     "name": "stderr",
     "output_type": "stream",
     "text": [
      "2022-05-08 19:47:13,375 - mmdet - INFO - \n",
      " Average Precision  (AP) @[ IoU=0.50:0.95 | area=   all | maxDets=100 ] = 0.163\n",
      " Average Precision  (AP) @[ IoU=0.50      | area=   all | maxDets=1000 ] = 0.312\n",
      " Average Precision  (AP) @[ IoU=0.75      | area=   all | maxDets=1000 ] = 0.155\n",
      " Average Precision  (AP) @[ IoU=0.50:0.95 | area= small | maxDets=1000 ] = 0.170\n",
      " Average Precision  (AP) @[ IoU=0.50:0.95 | area=medium | maxDets=1000 ] = 0.198\n",
      " Average Precision  (AP) @[ IoU=0.50:0.95 | area= large | maxDets=1000 ] = -1.000\n",
      " Average Recall     (AR) @[ IoU=0.50:0.95 | area=   all | maxDets=100 ] = 0.322\n",
      " Average Recall     (AR) @[ IoU=0.50:0.95 | area=   all | maxDets=300 ] = 0.322\n",
      " Average Recall     (AR) @[ IoU=0.50:0.95 | area=   all | maxDets=1000 ] = 0.322\n",
      " Average Recall     (AR) @[ IoU=0.50:0.95 | area= small | maxDets=1000 ] = 0.314\n",
      " Average Recall     (AR) @[ IoU=0.50:0.95 | area=medium | maxDets=1000 ] = 0.511\n",
      " Average Recall     (AR) @[ IoU=0.50:0.95 | area= large | maxDets=1000 ] = -1.000\n",
      "\n",
      "2022-05-08 19:47:13,376 - mmdet - INFO - Evaluating segm...\n"
     ]
    },
    {
     "name": "stdout",
     "output_type": "stream",
     "text": [
      "DONE (t=1.34s).\n"
     ]
    },
    {
     "name": "stderr",
     "output_type": "stream",
     "text": [
      "/kaggle/working/mmdetection/mmdet/datasets/coco.py:474: UserWarning: The key \"bbox\" is deleted for more accurate mask AP of small/medium/large instances since v2.12.0. This does not change the overall mAP calculation.\n",
      "  UserWarning)\n"
     ]
    },
    {
     "name": "stdout",
     "output_type": "stream",
     "text": [
      "Loading and preparing results...\n",
      "DONE (t=0.99s)\n",
      "creating index...\n",
      "index created!\n",
      "Running per image evaluation...\n",
      "Evaluate annotation type *segm*\n",
      "DONE (t=35.10s).\n",
      "Accumulating evaluation results...\n"
     ]
    },
    {
     "name": "stderr",
     "output_type": "stream",
     "text": [
      "2022-05-08 19:47:53,026 - mmdet - INFO - \n",
      " Average Precision  (AP) @[ IoU=0.50:0.95 | area=   all | maxDets=100 ] = 0.150\n",
      " Average Precision  (AP) @[ IoU=0.50      | area=   all | maxDets=1000 ] = 0.303\n",
      " Average Precision  (AP) @[ IoU=0.75      | area=   all | maxDets=1000 ] = 0.133\n",
      " Average Precision  (AP) @[ IoU=0.50:0.95 | area= small | maxDets=1000 ] = 0.142\n",
      " Average Precision  (AP) @[ IoU=0.50:0.95 | area=medium | maxDets=1000 ] = 0.301\n",
      " Average Precision  (AP) @[ IoU=0.50:0.95 | area= large | maxDets=1000 ] = -1.000\n",
      " Average Recall     (AR) @[ IoU=0.50:0.95 | area=   all | maxDets=100 ] = 0.297\n",
      " Average Recall     (AR) @[ IoU=0.50:0.95 | area=   all | maxDets=300 ] = 0.297\n",
      " Average Recall     (AR) @[ IoU=0.50:0.95 | area=   all | maxDets=1000 ] = 0.297\n",
      " Average Recall     (AR) @[ IoU=0.50:0.95 | area= small | maxDets=1000 ] = 0.289\n",
      " Average Recall     (AR) @[ IoU=0.50:0.95 | area=medium | maxDets=1000 ] = 0.486\n",
      " Average Recall     (AR) @[ IoU=0.50:0.95 | area= large | maxDets=1000 ] = -1.000\n",
      "\n"
     ]
    },
    {
     "name": "stdout",
     "output_type": "stream",
     "text": [
      "DONE (t=2.80s).\n"
     ]
    },
    {
     "name": "stderr",
     "output_type": "stream",
     "text": [
      "2022-05-08 19:47:53,249 - mmdet - INFO - Epoch(val) [19][508]\tbbox_mAP: 0.1630, bbox_mAP_50: 0.3120, bbox_mAP_75: 0.1550, bbox_mAP_s: 0.1700, bbox_mAP_m: 0.1980, bbox_mAP_l: -1.0000, bbox_mAP_copypaste: 0.163 0.312 0.155 0.170 0.198 -1.000, segm_mAP: 0.1500, segm_mAP_50: 0.3030, segm_mAP_75: 0.1330, segm_mAP_s: 0.1420, segm_mAP_m: 0.3010, segm_mAP_l: -1.0000, segm_mAP_copypaste: 0.150 0.303 0.133 0.142 0.301 -1.000\n",
      "2022-05-08 19:48:21,256 - mmdet - INFO - Epoch [20][50/1016]\tlr: 2.500e-05, eta: 2:25:35, time: 0.559, data_time: 0.156, memory: 3114, loss_rpn_cls: 0.0689, loss_rpn_bbox: 0.0953, loss_cls: 0.5064, acc: 81.9160, loss_bbox: 0.5037, loss_mask: 0.3073, loss: 1.4816\n",
      "2022-05-08 19:48:45,761 - mmdet - INFO - Epoch [20][100/1016]\tlr: 2.500e-05, eta: 2:25:09, time: 0.490, data_time: 0.092, memory: 3114, loss_rpn_cls: 0.0676, loss_rpn_bbox: 0.1005, loss_cls: 0.5164, acc: 81.7852, loss_bbox: 0.5134, loss_mask: 0.3054, loss: 1.5034\n",
      "2022-05-08 19:49:11,089 - mmdet - INFO - Epoch [20][150/1016]\tlr: 2.500e-05, eta: 2:24:43, time: 0.507, data_time: 0.108, memory: 3114, loss_rpn_cls: 0.0835, loss_rpn_bbox: 0.0999, loss_cls: 0.5123, acc: 81.8008, loss_bbox: 0.5060, loss_mask: 0.3127, loss: 1.5144\n",
      "2022-05-08 19:49:37,896 - mmdet - INFO - Epoch [20][200/1016]\tlr: 2.500e-05, eta: 2:24:19, time: 0.536, data_time: 0.122, memory: 3114, loss_rpn_cls: 0.0706, loss_rpn_bbox: 0.0946, loss_cls: 0.4970, acc: 82.2324, loss_bbox: 0.4986, loss_mask: 0.3080, loss: 1.4689\n",
      "2022-05-08 19:50:02,398 - mmdet - INFO - Epoch [20][250/1016]\tlr: 2.500e-05, eta: 2:23:53, time: 0.490, data_time: 0.108, memory: 3114, loss_rpn_cls: 0.0779, loss_rpn_bbox: 0.1017, loss_cls: 0.5390, acc: 81.5312, loss_bbox: 0.5088, loss_mask: 0.3209, loss: 1.5483\n",
      "2022-05-08 19:50:28,848 - mmdet - INFO - Epoch [20][300/1016]\tlr: 2.500e-05, eta: 2:23:29, time: 0.529, data_time: 0.136, memory: 3114, loss_rpn_cls: 0.0837, loss_rpn_bbox: 0.1106, loss_cls: 0.5681, acc: 80.5078, loss_bbox: 0.5176, loss_mask: 0.3190, loss: 1.5991\n",
      "2022-05-08 19:50:55,660 - mmdet - INFO - Epoch [20][350/1016]\tlr: 2.500e-05, eta: 2:23:05, time: 0.536, data_time: 0.118, memory: 3114, loss_rpn_cls: 0.0613, loss_rpn_bbox: 0.1001, loss_cls: 0.5234, acc: 81.6387, loss_bbox: 0.4757, loss_mask: 0.3039, loss: 1.4643\n",
      "2022-05-08 19:51:22,241 - mmdet - INFO - Epoch [20][400/1016]\tlr: 2.500e-05, eta: 2:22:40, time: 0.532, data_time: 0.136, memory: 3114, loss_rpn_cls: 0.0867, loss_rpn_bbox: 0.1043, loss_cls: 0.5381, acc: 81.2832, loss_bbox: 0.5084, loss_mask: 0.3164, loss: 1.5540\n",
      "2022-05-08 19:51:46,897 - mmdet - INFO - Epoch [20][450/1016]\tlr: 2.500e-05, eta: 2:22:14, time: 0.493, data_time: 0.106, memory: 3114, loss_rpn_cls: 0.0692, loss_rpn_bbox: 0.0962, loss_cls: 0.5242, acc: 81.8281, loss_bbox: 0.4968, loss_mask: 0.3132, loss: 1.4996\n",
      "2022-05-08 19:52:14,199 - mmdet - INFO - Epoch [20][500/1016]\tlr: 2.500e-05, eta: 2:21:51, time: 0.546, data_time: 0.125, memory: 3114, loss_rpn_cls: 0.0767, loss_rpn_bbox: 0.1049, loss_cls: 0.5590, acc: 80.5020, loss_bbox: 0.5054, loss_mask: 0.3126, loss: 1.5585\n",
      "2022-05-08 19:52:39,957 - mmdet - INFO - Epoch [20][550/1016]\tlr: 2.500e-05, eta: 2:21:26, time: 0.515, data_time: 0.122, memory: 3114, loss_rpn_cls: 0.0765, loss_rpn_bbox: 0.1024, loss_cls: 0.5112, acc: 82.0840, loss_bbox: 0.4988, loss_mask: 0.3126, loss: 1.5015\n",
      "2022-05-08 19:53:05,835 - mmdet - INFO - Epoch [20][600/1016]\tlr: 2.500e-05, eta: 2:21:01, time: 0.518, data_time: 0.124, memory: 3114, loss_rpn_cls: 0.0809, loss_rpn_bbox: 0.1012, loss_cls: 0.5408, acc: 81.0469, loss_bbox: 0.4976, loss_mask: 0.3068, loss: 1.5273\n",
      "2022-05-08 19:53:31,564 - mmdet - INFO - Epoch [20][650/1016]\tlr: 2.500e-05, eta: 2:20:36, time: 0.515, data_time: 0.107, memory: 3114, loss_rpn_cls: 0.0570, loss_rpn_bbox: 0.0836, loss_cls: 0.4965, acc: 82.3320, loss_bbox: 0.4754, loss_mask: 0.3007, loss: 1.4132\n",
      "2022-05-08 19:53:58,185 - mmdet - INFO - Epoch [20][700/1016]\tlr: 2.500e-05, eta: 2:20:11, time: 0.532, data_time: 0.139, memory: 3114, loss_rpn_cls: 0.0782, loss_rpn_bbox: 0.1061, loss_cls: 0.5248, acc: 81.5078, loss_bbox: 0.5048, loss_mask: 0.3165, loss: 1.5304\n",
      "2022-05-08 19:54:22,358 - mmdet - INFO - Epoch [20][750/1016]\tlr: 2.500e-05, eta: 2:19:45, time: 0.483, data_time: 0.101, memory: 3114, loss_rpn_cls: 0.0694, loss_rpn_bbox: 0.0917, loss_cls: 0.5048, acc: 82.0449, loss_bbox: 0.4842, loss_mask: 0.3028, loss: 1.4530\n",
      "2022-05-08 19:54:50,023 - mmdet - INFO - Epoch [20][800/1016]\tlr: 2.500e-05, eta: 2:19:21, time: 0.553, data_time: 0.131, memory: 3114, loss_rpn_cls: 0.0707, loss_rpn_bbox: 0.1004, loss_cls: 0.5142, acc: 82.2461, loss_bbox: 0.4926, loss_mask: 0.3122, loss: 1.4901\n",
      "2022-05-08 19:55:15,814 - mmdet - INFO - Epoch [20][850/1016]\tlr: 2.500e-05, eta: 2:18:56, time: 0.516, data_time: 0.120, memory: 3114, loss_rpn_cls: 0.0720, loss_rpn_bbox: 0.1035, loss_cls: 0.5140, acc: 81.7051, loss_bbox: 0.5043, loss_mask: 0.3069, loss: 1.5007\n",
      "2022-05-08 19:55:41,171 - mmdet - INFO - Epoch [20][900/1016]\tlr: 2.500e-05, eta: 2:18:31, time: 0.507, data_time: 0.113, memory: 3114, loss_rpn_cls: 0.0672, loss_rpn_bbox: 0.1040, loss_cls: 0.5250, acc: 81.5586, loss_bbox: 0.4996, loss_mask: 0.3097, loss: 1.5055\n",
      "2022-05-08 19:56:08,510 - mmdet - INFO - Epoch [20][950/1016]\tlr: 2.500e-05, eta: 2:18:07, time: 0.547, data_time: 0.126, memory: 3114, loss_rpn_cls: 0.0774, loss_rpn_bbox: 0.0943, loss_cls: 0.5228, acc: 81.5664, loss_bbox: 0.5055, loss_mask: 0.3139, loss: 1.5139\n",
      "2022-05-08 19:56:32,087 - mmdet - INFO - Epoch [20][1000/1016]\tlr: 2.500e-05, eta: 2:17:40, time: 0.472, data_time: 0.095, memory: 3114, loss_rpn_cls: 0.0751, loss_rpn_bbox: 0.0923, loss_cls: 0.5041, acc: 82.0781, loss_bbox: 0.5020, loss_mask: 0.3093, loss: 1.4827\n"
     ]
    },
    {
     "name": "stdout",
     "output_type": "stream",
     "text": [
      "[>>>>>>>>>>>>>>>>>>>>>>>>>>>>>>] 508/508, 9.0 task/s, elapsed: 56s, ETA:     0s"
     ]
    },
    {
     "name": "stderr",
     "output_type": "stream",
     "text": [
      "2022-05-08 19:57:38,686 - mmdet - INFO - Evaluating bbox...\n"
     ]
    },
    {
     "name": "stdout",
     "output_type": "stream",
     "text": [
      "Loading and preparing results...\n",
      "DONE (t=0.07s)\n",
      "creating index...\n",
      "index created!\n",
      "Running per image evaluation...\n",
      "Evaluate annotation type *bbox*\n",
      "DONE (t=34.08s).\n",
      "Accumulating evaluation results...\n"
     ]
    },
    {
     "name": "stderr",
     "output_type": "stream",
     "text": [
      "2022-05-08 19:58:15,845 - mmdet - INFO - \n",
      " Average Precision  (AP) @[ IoU=0.50:0.95 | area=   all | maxDets=100 ] = 0.163\n",
      " Average Precision  (AP) @[ IoU=0.50      | area=   all | maxDets=1000 ] = 0.311\n",
      " Average Precision  (AP) @[ IoU=0.75      | area=   all | maxDets=1000 ] = 0.154\n",
      " Average Precision  (AP) @[ IoU=0.50:0.95 | area= small | maxDets=1000 ] = 0.171\n",
      " Average Precision  (AP) @[ IoU=0.50:0.95 | area=medium | maxDets=1000 ] = 0.194\n",
      " Average Precision  (AP) @[ IoU=0.50:0.95 | area= large | maxDets=1000 ] = -1.000\n",
      " Average Recall     (AR) @[ IoU=0.50:0.95 | area=   all | maxDets=100 ] = 0.322\n",
      " Average Recall     (AR) @[ IoU=0.50:0.95 | area=   all | maxDets=300 ] = 0.322\n",
      " Average Recall     (AR) @[ IoU=0.50:0.95 | area=   all | maxDets=1000 ] = 0.322\n",
      " Average Recall     (AR) @[ IoU=0.50:0.95 | area= small | maxDets=1000 ] = 0.314\n",
      " Average Recall     (AR) @[ IoU=0.50:0.95 | area=medium | maxDets=1000 ] = 0.516\n",
      " Average Recall     (AR) @[ IoU=0.50:0.95 | area= large | maxDets=1000 ] = -1.000\n",
      "\n",
      "2022-05-08 19:58:15,847 - mmdet - INFO - Evaluating segm...\n"
     ]
    },
    {
     "name": "stdout",
     "output_type": "stream",
     "text": [
      "DONE (t=2.50s).\n"
     ]
    },
    {
     "name": "stderr",
     "output_type": "stream",
     "text": [
      "/kaggle/working/mmdetection/mmdet/datasets/coco.py:474: UserWarning: The key \"bbox\" is deleted for more accurate mask AP of small/medium/large instances since v2.12.0. This does not change the overall mAP calculation.\n",
      "  UserWarning)\n"
     ]
    },
    {
     "name": "stdout",
     "output_type": "stream",
     "text": [
      "Loading and preparing results...\n",
      "DONE (t=1.34s)\n",
      "creating index...\n",
      "index created!\n",
      "Running per image evaluation...\n",
      "Evaluate annotation type *segm*\n",
      "DONE (t=36.84s).\n",
      "Accumulating evaluation results...\n"
     ]
    },
    {
     "name": "stderr",
     "output_type": "stream",
     "text": [
      "2022-05-08 19:58:56,504 - mmdet - INFO - \n",
      " Average Precision  (AP) @[ IoU=0.50:0.95 | area=   all | maxDets=100 ] = 0.150\n",
      " Average Precision  (AP) @[ IoU=0.50      | area=   all | maxDets=1000 ] = 0.303\n",
      " Average Precision  (AP) @[ IoU=0.75      | area=   all | maxDets=1000 ] = 0.134\n",
      " Average Precision  (AP) @[ IoU=0.50:0.95 | area= small | maxDets=1000 ] = 0.142\n",
      " Average Precision  (AP) @[ IoU=0.50:0.95 | area=medium | maxDets=1000 ] = 0.301\n",
      " Average Precision  (AP) @[ IoU=0.50:0.95 | area= large | maxDets=1000 ] = -1.000\n",
      " Average Recall     (AR) @[ IoU=0.50:0.95 | area=   all | maxDets=100 ] = 0.298\n",
      " Average Recall     (AR) @[ IoU=0.50:0.95 | area=   all | maxDets=300 ] = 0.298\n",
      " Average Recall     (AR) @[ IoU=0.50:0.95 | area=   all | maxDets=1000 ] = 0.298\n",
      " Average Recall     (AR) @[ IoU=0.50:0.95 | area= small | maxDets=1000 ] = 0.289\n",
      " Average Recall     (AR) @[ IoU=0.50:0.95 | area=medium | maxDets=1000 ] = 0.492\n",
      " Average Recall     (AR) @[ IoU=0.50:0.95 | area= large | maxDets=1000 ] = -1.000\n",
      "\n",
      "2022-05-08 19:58:56,618 - mmdet - INFO - Epoch(val) [20][508]\tbbox_mAP: 0.1630, bbox_mAP_50: 0.3110, bbox_mAP_75: 0.1540, bbox_mAP_s: 0.1710, bbox_mAP_m: 0.1940, bbox_mAP_l: -1.0000, bbox_mAP_copypaste: 0.163 0.311 0.154 0.171 0.194 -1.000, segm_mAP: 0.1500, segm_mAP_50: 0.3030, segm_mAP_75: 0.1340, segm_mAP_s: 0.1420, segm_mAP_m: 0.3010, segm_mAP_l: -1.0000, segm_mAP_copypaste: 0.150 0.303 0.134 0.142 0.301 -1.000\n"
     ]
    },
    {
     "name": "stdout",
     "output_type": "stream",
     "text": [
      "DONE (t=1.32s).\n"
     ]
    },
    {
     "name": "stderr",
     "output_type": "stream",
     "text": [
      "2022-05-08 19:59:23,385 - mmdet - INFO - Epoch [21][50/1016]\tlr: 2.500e-06, eta: 2:17:01, time: 0.534, data_time: 0.145, memory: 3114, loss_rpn_cls: 0.0781, loss_rpn_bbox: 0.0963, loss_cls: 0.5377, acc: 81.6719, loss_bbox: 0.4853, loss_mask: 0.3030, loss: 1.5005\n",
      "2022-05-08 19:59:51,036 - mmdet - INFO - Epoch [21][100/1016]\tlr: 2.500e-06, eta: 2:16:38, time: 0.553, data_time: 0.124, memory: 3114, loss_rpn_cls: 0.0715, loss_rpn_bbox: 0.0983, loss_cls: 0.5443, acc: 80.9766, loss_bbox: 0.5002, loss_mask: 0.3044, loss: 1.5186\n",
      "2022-05-08 20:00:16,709 - mmdet - INFO - Epoch [21][150/1016]\tlr: 2.500e-06, eta: 2:16:13, time: 0.513, data_time: 0.116, memory: 3114, loss_rpn_cls: 0.0850, loss_rpn_bbox: 0.1011, loss_cls: 0.5213, acc: 81.8594, loss_bbox: 0.4981, loss_mask: 0.3154, loss: 1.5209\n",
      "2022-05-08 20:00:42,108 - mmdet - INFO - Epoch [21][200/1016]\tlr: 2.500e-06, eta: 2:15:47, time: 0.508, data_time: 0.110, memory: 3114, loss_rpn_cls: 0.0668, loss_rpn_bbox: 0.0933, loss_cls: 0.5167, acc: 82.1191, loss_bbox: 0.4842, loss_mask: 0.3098, loss: 1.4708\n",
      "2022-05-08 20:01:09,761 - mmdet - INFO - Epoch [21][250/1016]\tlr: 2.500e-06, eta: 2:15:24, time: 0.553, data_time: 0.124, memory: 3114, loss_rpn_cls: 0.0835, loss_rpn_bbox: 0.1006, loss_cls: 0.5158, acc: 81.7168, loss_bbox: 0.5112, loss_mask: 0.3191, loss: 1.5303\n",
      "2022-05-08 20:01:35,474 - mmdet - INFO - Epoch [21][300/1016]\tlr: 2.500e-06, eta: 2:14:59, time: 0.514, data_time: 0.127, memory: 3114, loss_rpn_cls: 0.0777, loss_rpn_bbox: 0.1009, loss_cls: 0.5183, acc: 81.7344, loss_bbox: 0.5040, loss_mask: 0.3113, loss: 1.5122\n",
      "2022-05-08 20:02:00,417 - mmdet - INFO - Epoch [21][350/1016]\tlr: 2.500e-06, eta: 2:14:33, time: 0.499, data_time: 0.112, memory: 3114, loss_rpn_cls: 0.0716, loss_rpn_bbox: 0.0979, loss_cls: 0.5062, acc: 82.1777, loss_bbox: 0.5043, loss_mask: 0.3024, loss: 1.4823\n",
      "2022-05-08 20:02:28,307 - mmdet - INFO - Epoch [21][400/1016]\tlr: 2.500e-06, eta: 2:14:09, time: 0.558, data_time: 0.137, memory: 3114, loss_rpn_cls: 0.0694, loss_rpn_bbox: 0.0969, loss_cls: 0.5159, acc: 81.8223, loss_bbox: 0.5059, loss_mask: 0.3112, loss: 1.4992\n",
      "2022-05-08 20:02:53,661 - mmdet - INFO - Epoch [21][450/1016]\tlr: 2.500e-06, eta: 2:13:44, time: 0.507, data_time: 0.121, memory: 3114, loss_rpn_cls: 0.0722, loss_rpn_bbox: 0.0948, loss_cls: 0.5327, acc: 81.5059, loss_bbox: 0.4891, loss_mask: 0.3120, loss: 1.5008\n",
      "2022-05-08 20:03:19,469 - mmdet - INFO - Epoch [21][500/1016]\tlr: 2.500e-06, eta: 2:13:19, time: 0.516, data_time: 0.124, memory: 3114, loss_rpn_cls: 0.0755, loss_rpn_bbox: 0.0954, loss_cls: 0.5128, acc: 81.5137, loss_bbox: 0.5159, loss_mask: 0.3157, loss: 1.5153\n",
      "2022-05-08 20:03:47,019 - mmdet - INFO - Epoch [21][550/1016]\tlr: 2.500e-06, eta: 2:12:55, time: 0.551, data_time: 0.139, memory: 3114, loss_rpn_cls: 0.0669, loss_rpn_bbox: 0.0982, loss_cls: 0.5117, acc: 82.4766, loss_bbox: 0.4791, loss_mask: 0.3127, loss: 1.4686\n",
      "2022-05-08 20:04:12,689 - mmdet - INFO - Epoch [21][600/1016]\tlr: 2.500e-06, eta: 2:12:30, time: 0.513, data_time: 0.125, memory: 3114, loss_rpn_cls: 0.0855, loss_rpn_bbox: 0.1041, loss_cls: 0.5366, acc: 81.3770, loss_bbox: 0.4924, loss_mask: 0.3090, loss: 1.5276\n",
      "2022-05-08 20:04:38,109 - mmdet - INFO - Epoch [21][650/1016]\tlr: 2.500e-06, eta: 2:12:05, time: 0.508, data_time: 0.119, memory: 3114, loss_rpn_cls: 0.0700, loss_rpn_bbox: 0.1024, loss_cls: 0.5281, acc: 81.3555, loss_bbox: 0.5067, loss_mask: 0.3072, loss: 1.5144\n",
      "2022-05-08 20:05:04,792 - mmdet - INFO - Epoch [21][700/1016]\tlr: 2.500e-06, eta: 2:11:40, time: 0.534, data_time: 0.115, memory: 3114, loss_rpn_cls: 0.0728, loss_rpn_bbox: 0.0955, loss_cls: 0.4879, acc: 82.4746, loss_bbox: 0.4983, loss_mask: 0.3120, loss: 1.4664\n",
      "2022-05-08 20:05:31,311 - mmdet - INFO - Epoch [21][750/1016]\tlr: 2.500e-06, eta: 2:11:16, time: 0.530, data_time: 0.131, memory: 3114, loss_rpn_cls: 0.0852, loss_rpn_bbox: 0.1089, loss_cls: 0.5364, acc: 81.3594, loss_bbox: 0.5093, loss_mask: 0.3116, loss: 1.5513\n",
      "2022-05-08 20:05:55,499 - mmdet - INFO - Epoch [21][800/1016]\tlr: 2.500e-06, eta: 2:10:49, time: 0.484, data_time: 0.106, memory: 3114, loss_rpn_cls: 0.0741, loss_rpn_bbox: 0.0972, loss_cls: 0.5117, acc: 81.8066, loss_bbox: 0.5035, loss_mask: 0.3106, loss: 1.4970\n",
      "2022-05-08 20:06:23,590 - mmdet - INFO - Epoch [21][850/1016]\tlr: 2.500e-06, eta: 2:10:26, time: 0.562, data_time: 0.138, memory: 3114, loss_rpn_cls: 0.0762, loss_rpn_bbox: 0.0989, loss_cls: 0.5249, acc: 81.5605, loss_bbox: 0.4940, loss_mask: 0.3086, loss: 1.5026\n",
      "2022-05-08 20:06:49,020 - mmdet - INFO - Epoch [21][900/1016]\tlr: 2.500e-06, eta: 2:10:00, time: 0.509, data_time: 0.111, memory: 3114, loss_rpn_cls: 0.0746, loss_rpn_bbox: 0.1074, loss_cls: 0.5339, acc: 81.1777, loss_bbox: 0.5117, loss_mask: 0.3091, loss: 1.5368\n",
      "2022-05-08 20:07:14,449 - mmdet - INFO - Epoch [21][950/1016]\tlr: 2.500e-06, eta: 2:09:35, time: 0.509, data_time: 0.121, memory: 3114, loss_rpn_cls: 0.0710, loss_rpn_bbox: 0.0969, loss_cls: 0.5191, acc: 81.4121, loss_bbox: 0.4973, loss_mask: 0.3084, loss: 1.4926\n",
      "2022-05-08 20:07:41,422 - mmdet - INFO - Epoch [21][1000/1016]\tlr: 2.500e-06, eta: 2:09:11, time: 0.539, data_time: 0.125, memory: 3114, loss_rpn_cls: 0.0745, loss_rpn_bbox: 0.1070, loss_cls: 0.5249, acc: 81.4199, loss_bbox: 0.5125, loss_mask: 0.3217, loss: 1.5405\n"
     ]
    },
    {
     "name": "stdout",
     "output_type": "stream",
     "text": [
      "[>>>>>>>>>>>>>>>>>>>>>>>>>>>>>>] 508/508, 9.0 task/s, elapsed: 56s, ETA:     0s"
     ]
    },
    {
     "name": "stderr",
     "output_type": "stream",
     "text": [
      "2022-05-08 20:08:48,992 - mmdet - INFO - Evaluating bbox...\n"
     ]
    },
    {
     "name": "stdout",
     "output_type": "stream",
     "text": [
      "Loading and preparing results...\n",
      "DONE (t=0.09s)\n",
      "creating index...\n",
      "index created!\n",
      "Running per image evaluation...\n",
      "Evaluate annotation type *bbox*\n",
      "DONE (t=34.59s).\n",
      "Accumulating evaluation results...\n"
     ]
    },
    {
     "name": "stderr",
     "output_type": "stream",
     "text": [
      "2022-05-08 20:09:25,895 - mmdet - INFO - \n",
      " Average Precision  (AP) @[ IoU=0.50:0.95 | area=   all | maxDets=100 ] = 0.163\n",
      " Average Precision  (AP) @[ IoU=0.50      | area=   all | maxDets=1000 ] = 0.313\n",
      " Average Precision  (AP) @[ IoU=0.75      | area=   all | maxDets=1000 ] = 0.156\n",
      " Average Precision  (AP) @[ IoU=0.50:0.95 | area= small | maxDets=1000 ] = 0.171\n",
      " Average Precision  (AP) @[ IoU=0.50:0.95 | area=medium | maxDets=1000 ] = 0.196\n",
      " Average Precision  (AP) @[ IoU=0.50:0.95 | area= large | maxDets=1000 ] = -1.000\n",
      " Average Recall     (AR) @[ IoU=0.50:0.95 | area=   all | maxDets=100 ] = 0.323\n",
      " Average Recall     (AR) @[ IoU=0.50:0.95 | area=   all | maxDets=300 ] = 0.323\n",
      " Average Recall     (AR) @[ IoU=0.50:0.95 | area=   all | maxDets=1000 ] = 0.323\n",
      " Average Recall     (AR) @[ IoU=0.50:0.95 | area= small | maxDets=1000 ] = 0.315\n",
      " Average Recall     (AR) @[ IoU=0.50:0.95 | area=medium | maxDets=1000 ] = 0.521\n",
      " Average Recall     (AR) @[ IoU=0.50:0.95 | area= large | maxDets=1000 ] = -1.000\n",
      "\n",
      "2022-05-08 20:09:25,897 - mmdet - INFO - Evaluating segm...\n"
     ]
    },
    {
     "name": "stdout",
     "output_type": "stream",
     "text": [
      "DONE (t=1.64s).\n"
     ]
    },
    {
     "name": "stderr",
     "output_type": "stream",
     "text": [
      "/kaggle/working/mmdetection/mmdet/datasets/coco.py:474: UserWarning: The key \"bbox\" is deleted for more accurate mask AP of small/medium/large instances since v2.12.0. This does not change the overall mAP calculation.\n",
      "  UserWarning)\n"
     ]
    },
    {
     "name": "stdout",
     "output_type": "stream",
     "text": [
      "Loading and preparing results...\n",
      "DONE (t=0.68s)\n",
      "creating index...\n",
      "index created!\n",
      "Running per image evaluation...\n",
      "Evaluate annotation type *segm*\n",
      "DONE (t=35.07s).\n",
      "Accumulating evaluation results...\n"
     ]
    },
    {
     "name": "stderr",
     "output_type": "stream",
     "text": [
      "2022-05-08 20:10:04,533 - mmdet - INFO - \n",
      " Average Precision  (AP) @[ IoU=0.50:0.95 | area=   all | maxDets=100 ] = 0.151\n",
      " Average Precision  (AP) @[ IoU=0.50      | area=   all | maxDets=1000 ] = 0.304\n",
      " Average Precision  (AP) @[ IoU=0.75      | area=   all | maxDets=1000 ] = 0.134\n",
      " Average Precision  (AP) @[ IoU=0.50:0.95 | area= small | maxDets=1000 ] = 0.142\n",
      " Average Precision  (AP) @[ IoU=0.50:0.95 | area=medium | maxDets=1000 ] = 0.303\n",
      " Average Precision  (AP) @[ IoU=0.50:0.95 | area= large | maxDets=1000 ] = -1.000\n",
      " Average Recall     (AR) @[ IoU=0.50:0.95 | area=   all | maxDets=100 ] = 0.298\n",
      " Average Recall     (AR) @[ IoU=0.50:0.95 | area=   all | maxDets=300 ] = 0.298\n",
      " Average Recall     (AR) @[ IoU=0.50:0.95 | area=   all | maxDets=1000 ] = 0.298\n",
      " Average Recall     (AR) @[ IoU=0.50:0.95 | area= small | maxDets=1000 ] = 0.290\n",
      " Average Recall     (AR) @[ IoU=0.50:0.95 | area=medium | maxDets=1000 ] = 0.496\n",
      " Average Recall     (AR) @[ IoU=0.50:0.95 | area= large | maxDets=1000 ] = -1.000\n",
      "\n",
      "2022-05-08 20:10:04,720 - mmdet - INFO - Epoch(val) [21][508]\tbbox_mAP: 0.1630, bbox_mAP_50: 0.3130, bbox_mAP_75: 0.1560, bbox_mAP_s: 0.1710, bbox_mAP_m: 0.1960, bbox_mAP_l: -1.0000, bbox_mAP_copypaste: 0.163 0.313 0.156 0.171 0.196 -1.000, segm_mAP: 0.1510, segm_mAP_50: 0.3040, segm_mAP_75: 0.1340, segm_mAP_s: 0.1420, segm_mAP_m: 0.3030, segm_mAP_l: -1.0000, segm_mAP_copypaste: 0.151 0.304 0.134 0.142 0.303 -1.000\n"
     ]
    },
    {
     "name": "stdout",
     "output_type": "stream",
     "text": [
      "DONE (t=2.13s).\n"
     ]
    },
    {
     "name": "stderr",
     "output_type": "stream",
     "text": [
      "2022-05-08 20:10:34,269 - mmdet - INFO - Epoch [22][50/1016]\tlr: 2.500e-06, eta: 2:08:34, time: 0.590, data_time: 0.188, memory: 3114, loss_rpn_cls: 0.0662, loss_rpn_bbox: 0.1002, loss_cls: 0.5238, acc: 81.4414, loss_bbox: 0.5057, loss_mask: 0.3091, loss: 1.5050\n",
      "2022-05-08 20:11:00,429 - mmdet - INFO - Epoch [22][100/1016]\tlr: 2.500e-06, eta: 2:08:10, time: 0.523, data_time: 0.125, memory: 3114, loss_rpn_cls: 0.0770, loss_rpn_bbox: 0.1054, loss_cls: 0.5583, acc: 80.9355, loss_bbox: 0.5198, loss_mask: 0.3147, loss: 1.5751\n",
      "2022-05-08 20:11:26,106 - mmdet - INFO - Epoch [22][150/1016]\tlr: 2.500e-06, eta: 2:07:44, time: 0.514, data_time: 0.128, memory: 3114, loss_rpn_cls: 0.0770, loss_rpn_bbox: 0.1045, loss_cls: 0.5253, acc: 81.7773, loss_bbox: 0.5020, loss_mask: 0.3097, loss: 1.5185\n",
      "2022-05-08 20:11:55,225 - mmdet - INFO - Epoch [22][200/1016]\tlr: 2.500e-06, eta: 2:07:22, time: 0.582, data_time: 0.156, memory: 3114, loss_rpn_cls: 0.0793, loss_rpn_bbox: 0.1023, loss_cls: 0.5163, acc: 81.8711, loss_bbox: 0.4937, loss_mask: 0.3059, loss: 1.4975\n",
      "2022-05-08 20:12:19,721 - mmdet - INFO - Epoch [22][250/1016]\tlr: 2.500e-06, eta: 2:06:56, time: 0.490, data_time: 0.106, memory: 3114, loss_rpn_cls: 0.0745, loss_rpn_bbox: 0.0923, loss_cls: 0.5293, acc: 81.4473, loss_bbox: 0.5038, loss_mask: 0.3147, loss: 1.5145\n",
      "2022-05-08 20:12:43,571 - mmdet - INFO - Epoch [22][300/1016]\tlr: 2.500e-06, eta: 2:06:29, time: 0.477, data_time: 0.095, memory: 3114, loss_rpn_cls: 0.0761, loss_rpn_bbox: 0.0887, loss_cls: 0.5079, acc: 81.8242, loss_bbox: 0.4966, loss_mask: 0.3065, loss: 1.4758\n",
      "2022-05-08 20:13:09,189 - mmdet - INFO - Epoch [22][350/1016]\tlr: 2.500e-06, eta: 2:06:04, time: 0.512, data_time: 0.105, memory: 3114, loss_rpn_cls: 0.0661, loss_rpn_bbox: 0.0904, loss_cls: 0.5090, acc: 82.0547, loss_bbox: 0.4754, loss_mask: 0.3053, loss: 1.4462\n",
      "2022-05-08 20:13:34,702 - mmdet - INFO - Epoch [22][400/1016]\tlr: 2.500e-06, eta: 2:05:38, time: 0.510, data_time: 0.113, memory: 3114, loss_rpn_cls: 0.0774, loss_rpn_bbox: 0.1039, loss_cls: 0.5377, acc: 81.3438, loss_bbox: 0.5144, loss_mask: 0.3061, loss: 1.5395\n",
      "2022-05-08 20:13:58,930 - mmdet - INFO - Epoch [22][450/1016]\tlr: 2.500e-06, eta: 2:05:12, time: 0.485, data_time: 0.097, memory: 3114, loss_rpn_cls: 0.0659, loss_rpn_bbox: 0.0935, loss_cls: 0.5093, acc: 82.0410, loss_bbox: 0.5021, loss_mask: 0.3037, loss: 1.4745\n",
      "2022-05-08 20:14:26,923 - mmdet - INFO - Epoch [22][500/1016]\tlr: 2.500e-06, eta: 2:04:49, time: 0.560, data_time: 0.135, memory: 3114, loss_rpn_cls: 0.0772, loss_rpn_bbox: 0.1033, loss_cls: 0.5310, acc: 81.2402, loss_bbox: 0.5234, loss_mask: 0.3118, loss: 1.5466\n",
      "2022-05-08 20:14:51,584 - mmdet - INFO - Epoch [22][550/1016]\tlr: 2.500e-06, eta: 2:04:23, time: 0.493, data_time: 0.105, memory: 3114, loss_rpn_cls: 0.0750, loss_rpn_bbox: 0.0975, loss_cls: 0.5089, acc: 82.1641, loss_bbox: 0.4982, loss_mask: 0.3213, loss: 1.5009\n",
      "2022-05-08 20:15:16,864 - mmdet - INFO - Epoch [22][600/1016]\tlr: 2.500e-06, eta: 2:03:57, time: 0.506, data_time: 0.119, memory: 3114, loss_rpn_cls: 0.0719, loss_rpn_bbox: 0.1028, loss_cls: 0.5083, acc: 82.1094, loss_bbox: 0.5005, loss_mask: 0.3061, loss: 1.4896\n",
      "2022-05-08 20:15:46,069 - mmdet - INFO - Epoch [22][650/1016]\tlr: 2.500e-06, eta: 2:03:34, time: 0.584, data_time: 0.156, memory: 3114, loss_rpn_cls: 0.0722, loss_rpn_bbox: 0.1060, loss_cls: 0.5269, acc: 81.5430, loss_bbox: 0.5099, loss_mask: 0.3148, loss: 1.5298\n",
      "2022-05-08 20:16:10,552 - mmdet - INFO - Epoch [22][700/1016]\tlr: 2.500e-06, eta: 2:03:08, time: 0.490, data_time: 0.103, memory: 3114, loss_rpn_cls: 0.0853, loss_rpn_bbox: 0.0931, loss_cls: 0.5266, acc: 81.9316, loss_bbox: 0.4901, loss_mask: 0.3170, loss: 1.5121\n",
      "2022-05-08 20:16:34,543 - mmdet - INFO - Epoch [22][750/1016]\tlr: 2.500e-06, eta: 2:02:42, time: 0.480, data_time: 0.099, memory: 3114, loss_rpn_cls: 0.0715, loss_rpn_bbox: 0.0892, loss_cls: 0.5028, acc: 82.1875, loss_bbox: 0.4722, loss_mask: 0.2992, loss: 1.4349\n",
      "2022-05-08 20:17:01,952 - mmdet - INFO - Epoch [22][800/1016]\tlr: 2.500e-06, eta: 2:02:18, time: 0.548, data_time: 0.131, memory: 3114, loss_rpn_cls: 0.0838, loss_rpn_bbox: 0.1018, loss_cls: 0.5183, acc: 81.4883, loss_bbox: 0.5067, loss_mask: 0.3190, loss: 1.5297\n",
      "2022-05-08 20:17:27,472 - mmdet - INFO - Epoch [22][850/1016]\tlr: 2.500e-06, eta: 2:01:53, time: 0.510, data_time: 0.120, memory: 3114, loss_rpn_cls: 0.0877, loss_rpn_bbox: 0.1078, loss_cls: 0.5393, acc: 81.6133, loss_bbox: 0.5158, loss_mask: 0.3182, loss: 1.5687\n",
      "2022-05-08 20:17:54,299 - mmdet - INFO - Epoch [22][900/1016]\tlr: 2.500e-06, eta: 2:01:28, time: 0.537, data_time: 0.135, memory: 3114, loss_rpn_cls: 0.0759, loss_rpn_bbox: 0.1086, loss_cls: 0.5198, acc: 81.4473, loss_bbox: 0.5053, loss_mask: 0.3134, loss: 1.5231\n",
      "2022-05-08 20:18:20,603 - mmdet - INFO - Epoch [22][950/1016]\tlr: 2.500e-06, eta: 2:01:03, time: 0.526, data_time: 0.111, memory: 3114, loss_rpn_cls: 0.0610, loss_rpn_bbox: 0.0894, loss_cls: 0.5178, acc: 81.8652, loss_bbox: 0.4865, loss_mask: 0.3040, loss: 1.4587\n",
      "2022-05-08 20:18:46,176 - mmdet - INFO - Epoch [22][1000/1016]\tlr: 2.500e-06, eta: 2:00:38, time: 0.511, data_time: 0.121, memory: 3114, loss_rpn_cls: 0.0793, loss_rpn_bbox: 0.1087, loss_cls: 0.5462, acc: 80.4590, loss_bbox: 0.5047, loss_mask: 0.3077, loss: 1.5465\n"
     ]
    },
    {
     "name": "stdout",
     "output_type": "stream",
     "text": [
      "[>>>>>>>>>>>>>>>>>>>>>>>>>>>>>>] 508/508, 9.0 task/s, elapsed: 56s, ETA:     0s"
     ]
    },
    {
     "name": "stderr",
     "output_type": "stream",
     "text": [
      "2022-05-08 20:19:53,085 - mmdet - INFO - Evaluating bbox...\n"
     ]
    },
    {
     "name": "stdout",
     "output_type": "stream",
     "text": [
      "Loading and preparing results...\n",
      "DONE (t=0.37s)\n",
      "creating index...\n",
      "index created!\n",
      "Running per image evaluation...\n",
      "Evaluate annotation type *bbox*\n",
      "DONE (t=33.82s).\n",
      "Accumulating evaluation results...\n"
     ]
    },
    {
     "name": "stderr",
     "output_type": "stream",
     "text": [
      "2022-05-08 20:20:29,671 - mmdet - INFO - \n",
      " Average Precision  (AP) @[ IoU=0.50:0.95 | area=   all | maxDets=100 ] = 0.163\n",
      " Average Precision  (AP) @[ IoU=0.50      | area=   all | maxDets=1000 ] = 0.314\n",
      " Average Precision  (AP) @[ IoU=0.75      | area=   all | maxDets=1000 ] = 0.155\n",
      " Average Precision  (AP) @[ IoU=0.50:0.95 | area= small | maxDets=1000 ] = 0.171\n",
      " Average Precision  (AP) @[ IoU=0.50:0.95 | area=medium | maxDets=1000 ] = 0.197\n",
      " Average Precision  (AP) @[ IoU=0.50:0.95 | area= large | maxDets=1000 ] = -1.000\n",
      " Average Recall     (AR) @[ IoU=0.50:0.95 | area=   all | maxDets=100 ] = 0.323\n",
      " Average Recall     (AR) @[ IoU=0.50:0.95 | area=   all | maxDets=300 ] = 0.323\n",
      " Average Recall     (AR) @[ IoU=0.50:0.95 | area=   all | maxDets=1000 ] = 0.323\n",
      " Average Recall     (AR) @[ IoU=0.50:0.95 | area= small | maxDets=1000 ] = 0.315\n",
      " Average Recall     (AR) @[ IoU=0.50:0.95 | area=medium | maxDets=1000 ] = 0.515\n",
      " Average Recall     (AR) @[ IoU=0.50:0.95 | area= large | maxDets=1000 ] = -1.000\n",
      "\n",
      "2022-05-08 20:20:29,673 - mmdet - INFO - Evaluating segm...\n"
     ]
    },
    {
     "name": "stdout",
     "output_type": "stream",
     "text": [
      "DONE (t=2.16s).\n"
     ]
    },
    {
     "name": "stderr",
     "output_type": "stream",
     "text": [
      "/kaggle/working/mmdetection/mmdet/datasets/coco.py:474: UserWarning: The key \"bbox\" is deleted for more accurate mask AP of small/medium/large instances since v2.12.0. This does not change the overall mAP calculation.\n",
      "  UserWarning)\n"
     ]
    },
    {
     "name": "stdout",
     "output_type": "stream",
     "text": [
      "Loading and preparing results...\n",
      "DONE (t=1.18s)\n",
      "creating index...\n",
      "index created!\n",
      "Running per image evaluation...\n",
      "Evaluate annotation type *segm*\n",
      "DONE (t=35.91s).\n",
      "Accumulating evaluation results...\n"
     ]
    },
    {
     "name": "stderr",
     "output_type": "stream",
     "text": [
      "2022-05-08 20:21:09,405 - mmdet - INFO - \n",
      " Average Precision  (AP) @[ IoU=0.50:0.95 | area=   all | maxDets=100 ] = 0.151\n",
      " Average Precision  (AP) @[ IoU=0.50      | area=   all | maxDets=1000 ] = 0.304\n",
      " Average Precision  (AP) @[ IoU=0.75      | area=   all | maxDets=1000 ] = 0.134\n",
      " Average Precision  (AP) @[ IoU=0.50:0.95 | area= small | maxDets=1000 ] = 0.143\n",
      " Average Precision  (AP) @[ IoU=0.50:0.95 | area=medium | maxDets=1000 ] = 0.302\n",
      " Average Precision  (AP) @[ IoU=0.50:0.95 | area= large | maxDets=1000 ] = -1.000\n",
      " Average Recall     (AR) @[ IoU=0.50:0.95 | area=   all | maxDets=100 ] = 0.298\n",
      " Average Recall     (AR) @[ IoU=0.50:0.95 | area=   all | maxDets=300 ] = 0.298\n",
      " Average Recall     (AR) @[ IoU=0.50:0.95 | area=   all | maxDets=1000 ] = 0.298\n",
      " Average Recall     (AR) @[ IoU=0.50:0.95 | area= small | maxDets=1000 ] = 0.290\n",
      " Average Recall     (AR) @[ IoU=0.50:0.95 | area=medium | maxDets=1000 ] = 0.490\n",
      " Average Recall     (AR) @[ IoU=0.50:0.95 | area= large | maxDets=1000 ] = -1.000\n",
      "\n",
      "2022-05-08 20:21:09,585 - mmdet - INFO - Epoch(val) [22][508]\tbbox_mAP: 0.1630, bbox_mAP_50: 0.3140, bbox_mAP_75: 0.1550, bbox_mAP_s: 0.1710, bbox_mAP_m: 0.1970, bbox_mAP_l: -1.0000, bbox_mAP_copypaste: 0.163 0.314 0.155 0.171 0.197 -1.000, segm_mAP: 0.1510, segm_mAP_50: 0.3040, segm_mAP_75: 0.1340, segm_mAP_s: 0.1430, segm_mAP_m: 0.3020, segm_mAP_l: -1.0000, segm_mAP_copypaste: 0.151 0.304 0.134 0.143 0.302 -1.000\n"
     ]
    },
    {
     "name": "stdout",
     "output_type": "stream",
     "text": [
      "DONE (t=1.44s).\n"
     ]
    },
    {
     "name": "stderr",
     "output_type": "stream",
     "text": [
      "2022-05-08 20:21:36,957 - mmdet - INFO - Epoch [23][50/1016]\tlr: 2.500e-06, eta: 2:00:00, time: 0.546, data_time: 0.158, memory: 3114, loss_rpn_cls: 0.0698, loss_rpn_bbox: 0.0954, loss_cls: 0.5110, acc: 82.0723, loss_bbox: 0.4806, loss_mask: 0.3013, loss: 1.4580\n",
      "2022-05-08 20:22:05,811 - mmdet - INFO - Epoch [23][100/1016]\tlr: 2.500e-06, eta: 1:59:37, time: 0.577, data_time: 0.142, memory: 3114, loss_rpn_cls: 0.0769, loss_rpn_bbox: 0.1055, loss_cls: 0.5261, acc: 81.6797, loss_bbox: 0.5085, loss_mask: 0.3141, loss: 1.5311\n",
      "2022-05-08 20:22:30,814 - mmdet - INFO - Epoch [23][150/1016]\tlr: 2.500e-06, eta: 1:59:12, time: 0.500, data_time: 0.113, memory: 3114, loss_rpn_cls: 0.0771, loss_rpn_bbox: 0.1072, loss_cls: 0.5297, acc: 81.2383, loss_bbox: 0.5099, loss_mask: 0.3133, loss: 1.5372\n",
      "2022-05-08 20:22:55,507 - mmdet - INFO - Epoch [23][200/1016]\tlr: 2.500e-06, eta: 1:58:46, time: 0.494, data_time: 0.108, memory: 3114, loss_rpn_cls: 0.0681, loss_rpn_bbox: 0.0936, loss_cls: 0.5317, acc: 81.5859, loss_bbox: 0.4835, loss_mask: 0.3059, loss: 1.4828\n",
      "2022-05-08 20:23:22,449 - mmdet - INFO - Epoch [23][250/1016]\tlr: 2.500e-06, eta: 1:58:21, time: 0.539, data_time: 0.118, memory: 3114, loss_rpn_cls: 0.0776, loss_rpn_bbox: 0.0988, loss_cls: 0.5064, acc: 81.9805, loss_bbox: 0.4963, loss_mask: 0.3158, loss: 1.4949\n",
      "2022-05-08 20:23:48,623 - mmdet - INFO - Epoch [23][300/1016]\tlr: 2.500e-06, eta: 1:57:56, time: 0.523, data_time: 0.133, memory: 3114, loss_rpn_cls: 0.0918, loss_rpn_bbox: 0.1083, loss_cls: 0.5401, acc: 81.2930, loss_bbox: 0.5017, loss_mask: 0.3061, loss: 1.5480\n",
      "2022-05-08 20:24:13,473 - mmdet - INFO - Epoch [23][350/1016]\tlr: 2.500e-06, eta: 1:57:31, time: 0.497, data_time: 0.107, memory: 3114, loss_rpn_cls: 0.0773, loss_rpn_bbox: 0.0942, loss_cls: 0.5256, acc: 81.6641, loss_bbox: 0.4948, loss_mask: 0.3107, loss: 1.5026\n",
      "2022-05-08 20:24:38,711 - mmdet - INFO - Epoch [23][400/1016]\tlr: 2.500e-06, eta: 1:57:05, time: 0.505, data_time: 0.094, memory: 3114, loss_rpn_cls: 0.0759, loss_rpn_bbox: 0.0968, loss_cls: 0.5180, acc: 81.8574, loss_bbox: 0.5017, loss_mask: 0.3080, loss: 1.5005\n",
      "2022-05-08 20:25:03,501 - mmdet - INFO - Epoch [23][450/1016]\tlr: 2.500e-06, eta: 1:56:39, time: 0.496, data_time: 0.104, memory: 3114, loss_rpn_cls: 0.0746, loss_rpn_bbox: 0.1043, loss_cls: 0.5197, acc: 81.3008, loss_bbox: 0.5334, loss_mask: 0.3242, loss: 1.5562\n",
      "2022-05-08 20:25:29,344 - mmdet - INFO - Epoch [23][500/1016]\tlr: 2.500e-06, eta: 1:56:14, time: 0.517, data_time: 0.119, memory: 3114, loss_rpn_cls: 0.0692, loss_rpn_bbox: 0.0992, loss_cls: 0.5320, acc: 81.3457, loss_bbox: 0.5062, loss_mask: 0.3032, loss: 1.5098\n",
      "2022-05-08 20:25:56,570 - mmdet - INFO - Epoch [23][550/1016]\tlr: 2.500e-06, eta: 1:55:50, time: 0.545, data_time: 0.128, memory: 3114, loss_rpn_cls: 0.0747, loss_rpn_bbox: 0.0961, loss_cls: 0.5077, acc: 82.0293, loss_bbox: 0.4965, loss_mask: 0.3063, loss: 1.4812\n",
      "2022-05-08 20:26:19,646 - mmdet - INFO - Epoch [23][600/1016]\tlr: 2.500e-06, eta: 1:55:23, time: 0.462, data_time: 0.083, memory: 3114, loss_rpn_cls: 0.0642, loss_rpn_bbox: 0.0995, loss_cls: 0.5117, acc: 81.8926, loss_bbox: 0.4970, loss_mask: 0.3024, loss: 1.4749\n",
      "2022-05-08 20:26:44,708 - mmdet - INFO - Epoch [23][650/1016]\tlr: 2.500e-06, eta: 1:54:57, time: 0.501, data_time: 0.115, memory: 3114, loss_rpn_cls: 0.0728, loss_rpn_bbox: 0.0966, loss_cls: 0.5237, acc: 81.6621, loss_bbox: 0.4914, loss_mask: 0.3014, loss: 1.4858\n",
      "2022-05-08 20:27:11,954 - mmdet - INFO - Epoch [23][700/1016]\tlr: 2.500e-06, eta: 1:54:33, time: 0.545, data_time: 0.124, memory: 3114, loss_rpn_cls: 0.0755, loss_rpn_bbox: 0.0969, loss_cls: 0.5086, acc: 81.9746, loss_bbox: 0.4779, loss_mask: 0.3081, loss: 1.4671\n",
      "2022-05-08 20:27:37,203 - mmdet - INFO - Epoch [23][750/1016]\tlr: 2.500e-06, eta: 1:54:07, time: 0.505, data_time: 0.112, memory: 3114, loss_rpn_cls: 0.0764, loss_rpn_bbox: 0.1060, loss_cls: 0.4996, acc: 82.3047, loss_bbox: 0.5000, loss_mask: 0.3122, loss: 1.4941\n",
      "2022-05-08 20:28:01,195 - mmdet - INFO - Epoch [23][800/1016]\tlr: 2.500e-06, eta: 1:53:41, time: 0.480, data_time: 0.098, memory: 3114, loss_rpn_cls: 0.0720, loss_rpn_bbox: 0.0915, loss_cls: 0.5216, acc: 81.8652, loss_bbox: 0.4944, loss_mask: 0.3137, loss: 1.4931\n",
      "2022-05-08 20:28:28,485 - mmdet - INFO - Epoch [23][850/1016]\tlr: 2.500e-06, eta: 1:53:17, time: 0.546, data_time: 0.124, memory: 3114, loss_rpn_cls: 0.0812, loss_rpn_bbox: 0.1013, loss_cls: 0.5433, acc: 81.2051, loss_bbox: 0.5241, loss_mask: 0.3202, loss: 1.5700\n",
      "2022-05-08 20:28:53,738 - mmdet - INFO - Epoch [23][900/1016]\tlr: 2.500e-06, eta: 1:52:51, time: 0.505, data_time: 0.110, memory: 3114, loss_rpn_cls: 0.0697, loss_rpn_bbox: 0.0969, loss_cls: 0.5219, acc: 81.4355, loss_bbox: 0.5071, loss_mask: 0.3179, loss: 1.5135\n",
      "2022-05-08 20:29:18,685 - mmdet - INFO - Epoch [23][950/1016]\tlr: 2.500e-06, eta: 1:52:26, time: 0.499, data_time: 0.113, memory: 3114, loss_rpn_cls: 0.0709, loss_rpn_bbox: 0.0954, loss_cls: 0.5196, acc: 81.9395, loss_bbox: 0.4802, loss_mask: 0.3099, loss: 1.4761\n",
      "2022-05-08 20:29:46,053 - mmdet - INFO - Epoch [23][1000/1016]\tlr: 2.500e-06, eta: 1:52:01, time: 0.547, data_time: 0.129, memory: 3114, loss_rpn_cls: 0.0766, loss_rpn_bbox: 0.1007, loss_cls: 0.5321, acc: 81.1094, loss_bbox: 0.5118, loss_mask: 0.3144, loss: 1.5356\n"
     ]
    },
    {
     "name": "stdout",
     "output_type": "stream",
     "text": [
      "[>>>>>>>>>>>>>>>>>>>>>>>>>>>>>>] 508/508, 9.0 task/s, elapsed: 57s, ETA:     0s"
     ]
    },
    {
     "name": "stderr",
     "output_type": "stream",
     "text": [
      "2022-05-08 20:30:54,478 - mmdet - INFO - Evaluating bbox...\n"
     ]
    },
    {
     "name": "stdout",
     "output_type": "stream",
     "text": [
      "Loading and preparing results...\n",
      "DONE (t=0.07s)\n",
      "creating index...\n",
      "index created!\n",
      "Running per image evaluation...\n",
      "Evaluate annotation type *bbox*\n",
      "DONE (t=34.15s).\n",
      "Accumulating evaluation results...\n"
     ]
    },
    {
     "name": "stderr",
     "output_type": "stream",
     "text": [
      "2022-05-08 20:31:30,272 - mmdet - INFO - \n",
      " Average Precision  (AP) @[ IoU=0.50:0.95 | area=   all | maxDets=100 ] = 0.163\n",
      " Average Precision  (AP) @[ IoU=0.50      | area=   all | maxDets=1000 ] = 0.313\n",
      " Average Precision  (AP) @[ IoU=0.75      | area=   all | maxDets=1000 ] = 0.155\n",
      " Average Precision  (AP) @[ IoU=0.50:0.95 | area= small | maxDets=1000 ] = 0.171\n",
      " Average Precision  (AP) @[ IoU=0.50:0.95 | area=medium | maxDets=1000 ] = 0.197\n",
      " Average Precision  (AP) @[ IoU=0.50:0.95 | area= large | maxDets=1000 ] = -1.000\n",
      " Average Recall     (AR) @[ IoU=0.50:0.95 | area=   all | maxDets=100 ] = 0.322\n",
      " Average Recall     (AR) @[ IoU=0.50:0.95 | area=   all | maxDets=300 ] = 0.322\n",
      " Average Recall     (AR) @[ IoU=0.50:0.95 | area=   all | maxDets=1000 ] = 0.322\n",
      " Average Recall     (AR) @[ IoU=0.50:0.95 | area= small | maxDets=1000 ] = 0.314\n",
      " Average Recall     (AR) @[ IoU=0.50:0.95 | area=medium | maxDets=1000 ] = 0.516\n",
      " Average Recall     (AR) @[ IoU=0.50:0.95 | area= large | maxDets=1000 ] = -1.000\n",
      "\n",
      "2022-05-08 20:31:30,273 - mmdet - INFO - Evaluating segm...\n"
     ]
    },
    {
     "name": "stdout",
     "output_type": "stream",
     "text": [
      "DONE (t=1.35s).\n"
     ]
    },
    {
     "name": "stderr",
     "output_type": "stream",
     "text": [
      "/kaggle/working/mmdetection/mmdet/datasets/coco.py:474: UserWarning: The key \"bbox\" is deleted for more accurate mask AP of small/medium/large instances since v2.12.0. This does not change the overall mAP calculation.\n",
      "  UserWarning)\n"
     ]
    },
    {
     "name": "stdout",
     "output_type": "stream",
     "text": [
      "Loading and preparing results...\n",
      "DONE (t=0.68s)\n",
      "creating index...\n",
      "index created!\n",
      "Running per image evaluation...\n",
      "Evaluate annotation type *segm*\n",
      "DONE (t=34.54s).\n",
      "Accumulating evaluation results...\n"
     ]
    },
    {
     "name": "stderr",
     "output_type": "stream",
     "text": [
      "2022-05-08 20:32:08,448 - mmdet - INFO - \n",
      " Average Precision  (AP) @[ IoU=0.50:0.95 | area=   all | maxDets=100 ] = 0.150\n",
      " Average Precision  (AP) @[ IoU=0.50      | area=   all | maxDets=1000 ] = 0.304\n",
      " Average Precision  (AP) @[ IoU=0.75      | area=   all | maxDets=1000 ] = 0.133\n",
      " Average Precision  (AP) @[ IoU=0.50:0.95 | area= small | maxDets=1000 ] = 0.142\n",
      " Average Precision  (AP) @[ IoU=0.50:0.95 | area=medium | maxDets=1000 ] = 0.300\n",
      " Average Precision  (AP) @[ IoU=0.50:0.95 | area= large | maxDets=1000 ] = -1.000\n",
      " Average Recall     (AR) @[ IoU=0.50:0.95 | area=   all | maxDets=100 ] = 0.298\n",
      " Average Recall     (AR) @[ IoU=0.50:0.95 | area=   all | maxDets=300 ] = 0.298\n",
      " Average Recall     (AR) @[ IoU=0.50:0.95 | area=   all | maxDets=1000 ] = 0.298\n",
      " Average Recall     (AR) @[ IoU=0.50:0.95 | area= small | maxDets=1000 ] = 0.290\n",
      " Average Recall     (AR) @[ IoU=0.50:0.95 | area=medium | maxDets=1000 ] = 0.491\n",
      " Average Recall     (AR) @[ IoU=0.50:0.95 | area= large | maxDets=1000 ] = -1.000\n",
      "\n",
      "2022-05-08 20:32:08,641 - mmdet - INFO - Epoch(val) [23][508]\tbbox_mAP: 0.1630, bbox_mAP_50: 0.3130, bbox_mAP_75: 0.1550, bbox_mAP_s: 0.1710, bbox_mAP_m: 0.1970, bbox_mAP_l: -1.0000, bbox_mAP_copypaste: 0.163 0.313 0.155 0.171 0.197 -1.000, segm_mAP: 0.1500, segm_mAP_50: 0.3040, segm_mAP_75: 0.1330, segm_mAP_s: 0.1420, segm_mAP_m: 0.3000, segm_mAP_l: -1.0000, segm_mAP_copypaste: 0.150 0.304 0.133 0.142 0.300 -1.000\n"
     ]
    },
    {
     "name": "stdout",
     "output_type": "stream",
     "text": [
      "DONE (t=2.20s).\n"
     ]
    },
    {
     "name": "stderr",
     "output_type": "stream",
     "text": [
      "2022-05-08 20:32:38,587 - mmdet - INFO - Epoch [24][50/1016]\tlr: 2.500e-07, eta: 1:51:26, time: 0.598, data_time: 0.198, memory: 3114, loss_rpn_cls: 0.0781, loss_rpn_bbox: 0.1036, loss_cls: 0.5270, acc: 81.4180, loss_bbox: 0.4918, loss_mask: 0.3078, loss: 1.5082\n",
      "2022-05-08 20:33:04,058 - mmdet - INFO - Epoch [24][100/1016]\tlr: 2.500e-07, eta: 1:51:00, time: 0.509, data_time: 0.117, memory: 3114, loss_rpn_cls: 0.0748, loss_rpn_bbox: 0.0944, loss_cls: 0.5141, acc: 81.8926, loss_bbox: 0.4947, loss_mask: 0.3035, loss: 1.4816\n",
      "2022-05-08 20:33:28,213 - mmdet - INFO - Epoch [24][150/1016]\tlr: 2.500e-07, eta: 1:50:34, time: 0.483, data_time: 0.103, memory: 3114, loss_rpn_cls: 0.0793, loss_rpn_bbox: 0.0996, loss_cls: 0.5027, acc: 82.1582, loss_bbox: 0.4986, loss_mask: 0.3159, loss: 1.4961\n",
      "2022-05-08 20:33:54,243 - mmdet - INFO - Epoch [24][200/1016]\tlr: 2.500e-07, eta: 1:50:09, time: 0.521, data_time: 0.108, memory: 3114, loss_rpn_cls: 0.0699, loss_rpn_bbox: 0.0935, loss_cls: 0.5232, acc: 81.7402, loss_bbox: 0.4899, loss_mask: 0.3068, loss: 1.4832\n",
      "2022-05-08 20:34:18,176 - mmdet - INFO - Epoch [24][250/1016]\tlr: 2.500e-07, eta: 1:49:43, time: 0.479, data_time: 0.097, memory: 3114, loss_rpn_cls: 0.0707, loss_rpn_bbox: 0.0992, loss_cls: 0.5140, acc: 81.8730, loss_bbox: 0.4970, loss_mask: 0.3097, loss: 1.4905\n",
      "2022-05-08 20:34:43,413 - mmdet - INFO - Epoch [24][300/1016]\tlr: 2.500e-07, eta: 1:49:18, time: 0.505, data_time: 0.113, memory: 3114, loss_rpn_cls: 0.0757, loss_rpn_bbox: 0.1022, loss_cls: 0.5324, acc: 81.2773, loss_bbox: 0.5164, loss_mask: 0.3144, loss: 1.5411\n",
      "2022-05-08 20:35:09,304 - mmdet - INFO - Epoch [24][350/1016]\tlr: 2.500e-07, eta: 1:48:52, time: 0.518, data_time: 0.108, memory: 3114, loss_rpn_cls: 0.0670, loss_rpn_bbox: 0.0935, loss_cls: 0.5061, acc: 82.0430, loss_bbox: 0.4751, loss_mask: 0.2949, loss: 1.4365\n",
      "2022-05-08 20:35:35,311 - mmdet - INFO - Epoch [24][400/1016]\tlr: 2.500e-07, eta: 1:48:27, time: 0.520, data_time: 0.123, memory: 3114, loss_rpn_cls: 0.0729, loss_rpn_bbox: 0.0969, loss_cls: 0.5155, acc: 81.8906, loss_bbox: 0.4778, loss_mask: 0.3041, loss: 1.4672\n",
      "2022-05-08 20:36:00,686 - mmdet - INFO - Epoch [24][450/1016]\tlr: 2.500e-07, eta: 1:48:02, time: 0.507, data_time: 0.113, memory: 3114, loss_rpn_cls: 0.0623, loss_rpn_bbox: 0.0985, loss_cls: 0.4976, acc: 82.1797, loss_bbox: 0.4965, loss_mask: 0.3131, loss: 1.4680\n",
      "2022-05-08 20:36:26,845 - mmdet - INFO - Epoch [24][500/1016]\tlr: 2.500e-07, eta: 1:47:37, time: 0.523, data_time: 0.110, memory: 3114, loss_rpn_cls: 0.0631, loss_rpn_bbox: 0.0958, loss_cls: 0.5023, acc: 82.0078, loss_bbox: 0.4945, loss_mask: 0.3055, loss: 1.4612\n",
      "2022-05-08 20:36:52,048 - mmdet - INFO - Epoch [24][550/1016]\tlr: 2.500e-07, eta: 1:47:11, time: 0.504, data_time: 0.110, memory: 3114, loss_rpn_cls: 0.0726, loss_rpn_bbox: 0.1045, loss_cls: 0.5364, acc: 81.3906, loss_bbox: 0.5190, loss_mask: 0.3071, loss: 1.5396\n",
      "2022-05-08 20:37:17,055 - mmdet - INFO - Epoch [24][600/1016]\tlr: 2.500e-07, eta: 1:46:46, time: 0.500, data_time: 0.113, memory: 3114, loss_rpn_cls: 0.0764, loss_rpn_bbox: 0.1063, loss_cls: 0.5379, acc: 81.1348, loss_bbox: 0.5095, loss_mask: 0.3155, loss: 1.5456\n",
      "2022-05-08 20:37:45,218 - mmdet - INFO - Epoch [24][650/1016]\tlr: 2.500e-07, eta: 1:46:22, time: 0.563, data_time: 0.139, memory: 3114, loss_rpn_cls: 0.0795, loss_rpn_bbox: 0.1048, loss_cls: 0.5100, acc: 81.9570, loss_bbox: 0.5133, loss_mask: 0.3182, loss: 1.5259\n",
      "2022-05-08 20:38:12,213 - mmdet - INFO - Epoch [24][700/1016]\tlr: 2.500e-07, eta: 1:45:57, time: 0.540, data_time: 0.142, memory: 3114, loss_rpn_cls: 0.0857, loss_rpn_bbox: 0.1027, loss_cls: 0.5169, acc: 81.9062, loss_bbox: 0.5083, loss_mask: 0.3189, loss: 1.5325\n",
      "2022-05-08 20:38:36,869 - mmdet - INFO - Epoch [24][750/1016]\tlr: 2.500e-07, eta: 1:45:31, time: 0.493, data_time: 0.100, memory: 3114, loss_rpn_cls: 0.0735, loss_rpn_bbox: 0.0972, loss_cls: 0.5126, acc: 81.6406, loss_bbox: 0.4997, loss_mask: 0.3076, loss: 1.4905\n",
      "2022-05-08 20:39:03,058 - mmdet - INFO - Epoch [24][800/1016]\tlr: 2.500e-07, eta: 1:45:06, time: 0.524, data_time: 0.110, memory: 3114, loss_rpn_cls: 0.0676, loss_rpn_bbox: 0.0940, loss_cls: 0.5155, acc: 81.5547, loss_bbox: 0.4983, loss_mask: 0.3103, loss: 1.4856\n",
      "2022-05-08 20:39:28,528 - mmdet - INFO - Epoch [24][850/1016]\tlr: 2.500e-07, eta: 1:44:41, time: 0.509, data_time: 0.117, memory: 3114, loss_rpn_cls: 0.0735, loss_rpn_bbox: 0.0971, loss_cls: 0.5352, acc: 81.8105, loss_bbox: 0.4911, loss_mask: 0.3012, loss: 1.4980\n",
      "2022-05-08 20:39:54,975 - mmdet - INFO - Epoch [24][900/1016]\tlr: 2.500e-07, eta: 1:44:16, time: 0.529, data_time: 0.133, memory: 3114, loss_rpn_cls: 0.0762, loss_rpn_bbox: 0.1007, loss_cls: 0.5227, acc: 81.6582, loss_bbox: 0.4974, loss_mask: 0.3206, loss: 1.5177\n",
      "2022-05-08 20:40:22,175 - mmdet - INFO - Epoch [24][950/1016]\tlr: 2.500e-07, eta: 1:43:52, time: 0.544, data_time: 0.119, memory: 3114, loss_rpn_cls: 0.0777, loss_rpn_bbox: 0.0982, loss_cls: 0.5449, acc: 81.2715, loss_bbox: 0.5063, loss_mask: 0.3136, loss: 1.5408\n",
      "2022-05-08 20:40:48,215 - mmdet - INFO - Epoch [24][1000/1016]\tlr: 2.500e-07, eta: 1:43:27, time: 0.521, data_time: 0.126, memory: 3114, loss_rpn_cls: 0.0814, loss_rpn_bbox: 0.1034, loss_cls: 0.5577, acc: 80.8691, loss_bbox: 0.5113, loss_mask: 0.3093, loss: 1.5631\n",
      "2022-05-08 20:40:55,661 - mmdet - INFO - Saving checkpoint at 24 epochs\n"
     ]
    },
    {
     "name": "stdout",
     "output_type": "stream",
     "text": [
      "[>>>>>>>>>>>>>>>>>>>>>>>>>>>>>>] 508/508, 8.9 task/s, elapsed: 57s, ETA:     0s"
     ]
    },
    {
     "name": "stderr",
     "output_type": "stream",
     "text": [
      "2022-05-08 20:41:56,782 - mmdet - INFO - Evaluating bbox...\n"
     ]
    },
    {
     "name": "stdout",
     "output_type": "stream",
     "text": [
      "Loading and preparing results...\n",
      "DONE (t=0.07s)\n",
      "creating index...\n",
      "index created!\n",
      "Running per image evaluation...\n",
      "Evaluate annotation type *bbox*\n",
      "DONE (t=34.24s).\n",
      "Accumulating evaluation results...\n"
     ]
    },
    {
     "name": "stderr",
     "output_type": "stream",
     "text": [
      "2022-05-08 20:42:33,714 - mmdet - INFO - \n",
      " Average Precision  (AP) @[ IoU=0.50:0.95 | area=   all | maxDets=100 ] = 0.163\n",
      " Average Precision  (AP) @[ IoU=0.50      | area=   all | maxDets=1000 ] = 0.313\n",
      " Average Precision  (AP) @[ IoU=0.75      | area=   all | maxDets=1000 ] = 0.155\n",
      " Average Precision  (AP) @[ IoU=0.50:0.95 | area= small | maxDets=1000 ] = 0.171\n",
      " Average Precision  (AP) @[ IoU=0.50:0.95 | area=medium | maxDets=1000 ] = 0.197\n",
      " Average Precision  (AP) @[ IoU=0.50:0.95 | area= large | maxDets=1000 ] = -1.000\n",
      " Average Recall     (AR) @[ IoU=0.50:0.95 | area=   all | maxDets=100 ] = 0.322\n",
      " Average Recall     (AR) @[ IoU=0.50:0.95 | area=   all | maxDets=300 ] = 0.322\n",
      " Average Recall     (AR) @[ IoU=0.50:0.95 | area=   all | maxDets=1000 ] = 0.322\n",
      " Average Recall     (AR) @[ IoU=0.50:0.95 | area= small | maxDets=1000 ] = 0.315\n",
      " Average Recall     (AR) @[ IoU=0.50:0.95 | area=medium | maxDets=1000 ] = 0.516\n",
      " Average Recall     (AR) @[ IoU=0.50:0.95 | area= large | maxDets=1000 ] = -1.000\n",
      "\n",
      "2022-05-08 20:42:33,716 - mmdet - INFO - Evaluating segm...\n"
     ]
    },
    {
     "name": "stdout",
     "output_type": "stream",
     "text": [
      "DONE (t=2.12s).\n"
     ]
    },
    {
     "name": "stderr",
     "output_type": "stream",
     "text": [
      "/kaggle/working/mmdetection/mmdet/datasets/coco.py:474: UserWarning: The key \"bbox\" is deleted for more accurate mask AP of small/medium/large instances since v2.12.0. This does not change the overall mAP calculation.\n",
      "  UserWarning)\n"
     ]
    },
    {
     "name": "stdout",
     "output_type": "stream",
     "text": [
      "Loading and preparing results...\n",
      "DONE (t=1.21s)\n",
      "creating index...\n",
      "index created!\n",
      "Running per image evaluation...\n",
      "Evaluate annotation type *segm*\n",
      "DONE (t=36.61s).\n",
      "Accumulating evaluation results...\n"
     ]
    },
    {
     "name": "stderr",
     "output_type": "stream",
     "text": [
      "2022-05-08 20:43:14,057 - mmdet - INFO - \n",
      " Average Precision  (AP) @[ IoU=0.50:0.95 | area=   all | maxDets=100 ] = 0.150\n",
      " Average Precision  (AP) @[ IoU=0.50      | area=   all | maxDets=1000 ] = 0.304\n",
      " Average Precision  (AP) @[ IoU=0.75      | area=   all | maxDets=1000 ] = 0.133\n",
      " Average Precision  (AP) @[ IoU=0.50:0.95 | area= small | maxDets=1000 ] = 0.142\n",
      " Average Precision  (AP) @[ IoU=0.50:0.95 | area=medium | maxDets=1000 ] = 0.300\n",
      " Average Precision  (AP) @[ IoU=0.50:0.95 | area= large | maxDets=1000 ] = -1.000\n",
      " Average Recall     (AR) @[ IoU=0.50:0.95 | area=   all | maxDets=100 ] = 0.298\n",
      " Average Recall     (AR) @[ IoU=0.50:0.95 | area=   all | maxDets=300 ] = 0.298\n",
      " Average Recall     (AR) @[ IoU=0.50:0.95 | area=   all | maxDets=1000 ] = 0.298\n",
      " Average Recall     (AR) @[ IoU=0.50:0.95 | area= small | maxDets=1000 ] = 0.290\n",
      " Average Recall     (AR) @[ IoU=0.50:0.95 | area=medium | maxDets=1000 ] = 0.491\n",
      " Average Recall     (AR) @[ IoU=0.50:0.95 | area= large | maxDets=1000 ] = -1.000\n",
      "\n",
      "2022-05-08 20:43:14,175 - mmdet - INFO - Epoch(val) [24][508]\tbbox_mAP: 0.1630, bbox_mAP_50: 0.3130, bbox_mAP_75: 0.1550, bbox_mAP_s: 0.1710, bbox_mAP_m: 0.1970, bbox_mAP_l: -1.0000, bbox_mAP_copypaste: 0.163 0.313 0.155 0.171 0.197 -1.000, segm_mAP: 0.1500, segm_mAP_50: 0.3040, segm_mAP_75: 0.1330, segm_mAP_s: 0.1420, segm_mAP_m: 0.3000, segm_mAP_l: -1.0000, segm_mAP_copypaste: 0.150 0.304 0.133 0.142 0.300 -1.000\n"
     ]
    },
    {
     "name": "stdout",
     "output_type": "stream",
     "text": [
      "DONE (t=1.37s).\n"
     ]
    },
    {
     "name": "stderr",
     "output_type": "stream",
     "text": [
      "2022-05-08 20:43:40,905 - mmdet - INFO - Epoch [25][50/1016]\tlr: 2.500e-07, eta: 1:42:50, time: 0.533, data_time: 0.145, memory: 3114, loss_rpn_cls: 0.0754, loss_rpn_bbox: 0.0990, loss_cls: 0.5241, acc: 81.6035, loss_bbox: 0.4955, loss_mask: 0.3015, loss: 1.4955\n",
      "2022-05-08 20:44:08,805 - mmdet - INFO - Epoch [25][100/1016]\tlr: 2.500e-07, eta: 1:42:25, time: 0.558, data_time: 0.127, memory: 3114, loss_rpn_cls: 0.0742, loss_rpn_bbox: 0.1000, loss_cls: 0.5385, acc: 81.1055, loss_bbox: 0.5056, loss_mask: 0.3093, loss: 1.5276\n",
      "2022-05-08 20:44:33,357 - mmdet - INFO - Epoch [25][150/1016]\tlr: 2.500e-07, eta: 1:42:00, time: 0.491, data_time: 0.108, memory: 3114, loss_rpn_cls: 0.0728, loss_rpn_bbox: 0.0957, loss_cls: 0.4974, acc: 82.5859, loss_bbox: 0.4891, loss_mask: 0.3066, loss: 1.4617\n",
      "2022-05-08 20:44:57,230 - mmdet - INFO - Epoch [25][200/1016]\tlr: 2.500e-07, eta: 1:41:33, time: 0.477, data_time: 0.096, memory: 3114, loss_rpn_cls: 0.0703, loss_rpn_bbox: 0.0945, loss_cls: 0.4872, acc: 82.7676, loss_bbox: 0.4955, loss_mask: 0.3112, loss: 1.4587\n",
      "2022-05-08 20:45:23,833 - mmdet - INFO - Epoch [25][250/1016]\tlr: 2.500e-07, eta: 1:41:09, time: 0.532, data_time: 0.114, memory: 3114, loss_rpn_cls: 0.0711, loss_rpn_bbox: 0.0977, loss_cls: 0.5202, acc: 81.7520, loss_bbox: 0.5078, loss_mask: 0.3225, loss: 1.5193\n",
      "2022-05-08 20:45:49,616 - mmdet - INFO - Epoch [25][300/1016]\tlr: 2.500e-07, eta: 1:40:43, time: 0.516, data_time: 0.121, memory: 3114, loss_rpn_cls: 0.0763, loss_rpn_bbox: 0.0992, loss_cls: 0.5504, acc: 80.9414, loss_bbox: 0.5193, loss_mask: 0.3152, loss: 1.5604\n",
      "2022-05-08 20:46:14,160 - mmdet - INFO - Epoch [25][350/1016]\tlr: 2.500e-07, eta: 1:40:17, time: 0.491, data_time: 0.100, memory: 3114, loss_rpn_cls: 0.0790, loss_rpn_bbox: 0.0981, loss_cls: 0.5183, acc: 82.0117, loss_bbox: 0.4998, loss_mask: 0.3039, loss: 1.4991\n",
      "2022-05-08 20:46:40,466 - mmdet - INFO - Epoch [25][400/1016]\tlr: 2.500e-07, eta: 1:39:52, time: 0.526, data_time: 0.110, memory: 3114, loss_rpn_cls: 0.0703, loss_rpn_bbox: 0.0998, loss_cls: 0.5304, acc: 81.7129, loss_bbox: 0.5028, loss_mask: 0.3102, loss: 1.5134\n",
      "2022-05-08 20:47:05,829 - mmdet - INFO - Epoch [25][450/1016]\tlr: 2.500e-07, eta: 1:39:27, time: 0.507, data_time: 0.112, memory: 3114, loss_rpn_cls: 0.0714, loss_rpn_bbox: 0.1044, loss_cls: 0.5212, acc: 81.4941, loss_bbox: 0.5068, loss_mask: 0.3132, loss: 1.5170\n",
      "2022-05-08 20:47:30,647 - mmdet - INFO - Epoch [25][500/1016]\tlr: 2.500e-07, eta: 1:39:01, time: 0.496, data_time: 0.112, memory: 3114, loss_rpn_cls: 0.0722, loss_rpn_bbox: 0.0940, loss_cls: 0.5230, acc: 81.9785, loss_bbox: 0.4886, loss_mask: 0.3099, loss: 1.4876\n",
      "2022-05-08 20:47:57,271 - mmdet - INFO - Epoch [25][550/1016]\tlr: 2.500e-07, eta: 1:38:37, time: 0.532, data_time: 0.110, memory: 3114, loss_rpn_cls: 0.0698, loss_rpn_bbox: 0.0988, loss_cls: 0.5076, acc: 82.0098, loss_bbox: 0.4948, loss_mask: 0.3045, loss: 1.4755\n",
      "2022-05-08 20:48:22,115 - mmdet - INFO - Epoch [25][600/1016]\tlr: 2.500e-07, eta: 1:38:11, time: 0.497, data_time: 0.110, memory: 3114, loss_rpn_cls: 0.0802, loss_rpn_bbox: 0.1057, loss_cls: 0.5201, acc: 81.6250, loss_bbox: 0.5197, loss_mask: 0.3156, loss: 1.5413\n",
      "2022-05-08 20:48:46,695 - mmdet - INFO - Epoch [25][650/1016]\tlr: 2.500e-07, eta: 1:37:45, time: 0.492, data_time: 0.100, memory: 3114, loss_rpn_cls: 0.0655, loss_rpn_bbox: 0.0934, loss_cls: 0.5242, acc: 81.2852, loss_bbox: 0.5020, loss_mask: 0.3087, loss: 1.4938\n",
      "2022-05-08 20:49:15,409 - mmdet - INFO - Epoch [25][700/1016]\tlr: 2.500e-07, eta: 1:37:21, time: 0.574, data_time: 0.141, memory: 3114, loss_rpn_cls: 0.0821, loss_rpn_bbox: 0.0986, loss_cls: 0.5097, acc: 82.3125, loss_bbox: 0.4930, loss_mask: 0.3181, loss: 1.5015\n",
      "2022-05-08 20:49:41,639 - mmdet - INFO - Epoch [25][750/1016]\tlr: 2.500e-07, eta: 1:36:56, time: 0.525, data_time: 0.128, memory: 3114, loss_rpn_cls: 0.0820, loss_rpn_bbox: 0.1042, loss_cls: 0.5423, acc: 81.0156, loss_bbox: 0.5004, loss_mask: 0.3127, loss: 1.5416\n",
      "2022-05-08 20:50:05,085 - mmdet - INFO - Epoch [25][800/1016]\tlr: 2.500e-07, eta: 1:36:30, time: 0.469, data_time: 0.087, memory: 3114, loss_rpn_cls: 0.0723, loss_rpn_bbox: 0.0948, loss_cls: 0.5049, acc: 82.0449, loss_bbox: 0.4874, loss_mask: 0.2996, loss: 1.4591\n",
      "2022-05-08 20:50:32,106 - mmdet - INFO - Epoch [25][850/1016]\tlr: 2.500e-07, eta: 1:36:05, time: 0.540, data_time: 0.119, memory: 3114, loss_rpn_cls: 0.0705, loss_rpn_bbox: 0.0992, loss_cls: 0.5109, acc: 82.0527, loss_bbox: 0.5017, loss_mask: 0.3073, loss: 1.4897\n",
      "2022-05-08 20:50:56,871 - mmdet - INFO - Epoch [25][900/1016]\tlr: 2.500e-07, eta: 1:35:39, time: 0.495, data_time: 0.107, memory: 3114, loss_rpn_cls: 0.0752, loss_rpn_bbox: 0.0970, loss_cls: 0.5167, acc: 82.0000, loss_bbox: 0.5000, loss_mask: 0.3131, loss: 1.5021\n",
      "2022-05-08 20:51:22,291 - mmdet - INFO - Epoch [25][950/1016]\tlr: 2.500e-07, eta: 1:35:14, time: 0.508, data_time: 0.115, memory: 3114, loss_rpn_cls: 0.0766, loss_rpn_bbox: 0.1025, loss_cls: 0.5297, acc: 81.2520, loss_bbox: 0.4924, loss_mask: 0.3068, loss: 1.5080\n",
      "2022-05-08 20:51:49,353 - mmdet - INFO - Epoch [25][1000/1016]\tlr: 2.500e-07, eta: 1:34:49, time: 0.541, data_time: 0.123, memory: 3114, loss_rpn_cls: 0.0716, loss_rpn_bbox: 0.1042, loss_cls: 0.5418, acc: 81.2930, loss_bbox: 0.5055, loss_mask: 0.3113, loss: 1.5345\n"
     ]
    },
    {
     "name": "stdout",
     "output_type": "stream",
     "text": [
      "[>>>>>>>>>>>>>>>>>>>>>>>>>>>>>>] 508/508, 9.0 task/s, elapsed: 57s, ETA:     0s"
     ]
    },
    {
     "name": "stderr",
     "output_type": "stream",
     "text": [
      "2022-05-08 20:52:56,772 - mmdet - INFO - Evaluating bbox...\n"
     ]
    },
    {
     "name": "stdout",
     "output_type": "stream",
     "text": [
      "Loading and preparing results...\n",
      "DONE (t=0.07s)\n",
      "creating index...\n",
      "index created!\n",
      "Running per image evaluation...\n",
      "Evaluate annotation type *bbox*\n",
      "DONE (t=34.04s).\n",
      "Accumulating evaluation results...\n"
     ]
    },
    {
     "name": "stderr",
     "output_type": "stream",
     "text": [
      "2022-05-08 20:53:32,740 - mmdet - INFO - \n",
      " Average Precision  (AP) @[ IoU=0.50:0.95 | area=   all | maxDets=100 ] = 0.163\n",
      " Average Precision  (AP) @[ IoU=0.50      | area=   all | maxDets=1000 ] = 0.313\n",
      " Average Precision  (AP) @[ IoU=0.75      | area=   all | maxDets=1000 ] = 0.155\n",
      " Average Precision  (AP) @[ IoU=0.50:0.95 | area= small | maxDets=1000 ] = 0.171\n",
      " Average Precision  (AP) @[ IoU=0.50:0.95 | area=medium | maxDets=1000 ] = 0.197\n",
      " Average Precision  (AP) @[ IoU=0.50:0.95 | area= large | maxDets=1000 ] = -1.000\n",
      " Average Recall     (AR) @[ IoU=0.50:0.95 | area=   all | maxDets=100 ] = 0.323\n",
      " Average Recall     (AR) @[ IoU=0.50:0.95 | area=   all | maxDets=300 ] = 0.323\n",
      " Average Recall     (AR) @[ IoU=0.50:0.95 | area=   all | maxDets=1000 ] = 0.323\n",
      " Average Recall     (AR) @[ IoU=0.50:0.95 | area= small | maxDets=1000 ] = 0.315\n",
      " Average Recall     (AR) @[ IoU=0.50:0.95 | area=medium | maxDets=1000 ] = 0.516\n",
      " Average Recall     (AR) @[ IoU=0.50:0.95 | area= large | maxDets=1000 ] = -1.000\n",
      "\n",
      "2022-05-08 20:53:32,741 - mmdet - INFO - Evaluating segm...\n"
     ]
    },
    {
     "name": "stdout",
     "output_type": "stream",
     "text": [
      "DONE (t=1.33s).\n"
     ]
    },
    {
     "name": "stderr",
     "output_type": "stream",
     "text": [
      "/kaggle/working/mmdetection/mmdet/datasets/coco.py:474: UserWarning: The key \"bbox\" is deleted for more accurate mask AP of small/medium/large instances since v2.12.0. This does not change the overall mAP calculation.\n",
      "  UserWarning)\n"
     ]
    },
    {
     "name": "stdout",
     "output_type": "stream",
     "text": [
      "Loading and preparing results...\n",
      "DONE (t=0.67s)\n",
      "creating index...\n",
      "index created!\n",
      "Running per image evaluation...\n",
      "Evaluate annotation type *segm*\n",
      "DONE (t=34.71s).\n",
      "Accumulating evaluation results...\n"
     ]
    },
    {
     "name": "stderr",
     "output_type": "stream",
     "text": [
      "2022-05-08 20:54:11,342 - mmdet - INFO - \n",
      " Average Precision  (AP) @[ IoU=0.50:0.95 | area=   all | maxDets=100 ] = 0.150\n",
      " Average Precision  (AP) @[ IoU=0.50      | area=   all | maxDets=1000 ] = 0.304\n",
      " Average Precision  (AP) @[ IoU=0.75      | area=   all | maxDets=1000 ] = 0.133\n",
      " Average Precision  (AP) @[ IoU=0.50:0.95 | area= small | maxDets=1000 ] = 0.142\n",
      " Average Precision  (AP) @[ IoU=0.50:0.95 | area=medium | maxDets=1000 ] = 0.300\n",
      " Average Precision  (AP) @[ IoU=0.50:0.95 | area= large | maxDets=1000 ] = -1.000\n",
      " Average Recall     (AR) @[ IoU=0.50:0.95 | area=   all | maxDets=100 ] = 0.298\n",
      " Average Recall     (AR) @[ IoU=0.50:0.95 | area=   all | maxDets=300 ] = 0.298\n",
      " Average Recall     (AR) @[ IoU=0.50:0.95 | area=   all | maxDets=1000 ] = 0.298\n",
      " Average Recall     (AR) @[ IoU=0.50:0.95 | area= small | maxDets=1000 ] = 0.290\n",
      " Average Recall     (AR) @[ IoU=0.50:0.95 | area=medium | maxDets=1000 ] = 0.491\n",
      " Average Recall     (AR) @[ IoU=0.50:0.95 | area= large | maxDets=1000 ] = -1.000\n",
      "\n",
      "2022-05-08 20:54:11,529 - mmdet - INFO - Epoch(val) [25][508]\tbbox_mAP: 0.1630, bbox_mAP_50: 0.3130, bbox_mAP_75: 0.1550, bbox_mAP_s: 0.1710, bbox_mAP_m: 0.1970, bbox_mAP_l: -1.0000, bbox_mAP_copypaste: 0.163 0.313 0.155 0.171 0.197 -1.000, segm_mAP: 0.1500, segm_mAP_50: 0.3040, segm_mAP_75: 0.1330, segm_mAP_s: 0.1420, segm_mAP_m: 0.3000, segm_mAP_l: -1.0000, segm_mAP_copypaste: 0.150 0.304 0.133 0.142 0.300 -1.000\n"
     ]
    },
    {
     "name": "stdout",
     "output_type": "stream",
     "text": [
      "DONE (t=2.48s).\n"
     ]
    },
    {
     "name": "stderr",
     "output_type": "stream",
     "text": [
      "2022-05-08 20:54:41,426 - mmdet - INFO - Epoch [26][50/1016]\tlr: 2.500e-07, eta: 1:34:14, time: 0.596, data_time: 0.176, memory: 3114, loss_rpn_cls: 0.0787, loss_rpn_bbox: 0.1048, loss_cls: 0.5436, acc: 81.2734, loss_bbox: 0.5094, loss_mask: 0.3145, loss: 1.5510\n",
      "2022-05-08 20:55:08,431 - mmdet - INFO - Epoch [26][100/1016]\tlr: 2.500e-07, eta: 1:33:49, time: 0.540, data_time: 0.130, memory: 3114, loss_rpn_cls: 0.0794, loss_rpn_bbox: 0.1069, loss_cls: 0.5196, acc: 81.5547, loss_bbox: 0.4989, loss_mask: 0.3138, loss: 1.5186\n",
      "2022-05-08 20:55:34,409 - mmdet - INFO - Epoch [26][150/1016]\tlr: 2.500e-07, eta: 1:33:24, time: 0.520, data_time: 0.117, memory: 3114, loss_rpn_cls: 0.0745, loss_rpn_bbox: 0.1036, loss_cls: 0.5627, acc: 81.0137, loss_bbox: 0.5086, loss_mask: 0.3044, loss: 1.5539\n",
      "2022-05-08 20:56:01,371 - mmdet - INFO - Epoch [26][200/1016]\tlr: 2.500e-07, eta: 1:32:59, time: 0.539, data_time: 0.117, memory: 3114, loss_rpn_cls: 0.0736, loss_rpn_bbox: 0.0960, loss_cls: 0.4841, acc: 82.7363, loss_bbox: 0.4703, loss_mask: 0.3059, loss: 1.4299\n",
      "2022-05-08 20:56:25,719 - mmdet - INFO - Epoch [26][250/1016]\tlr: 2.500e-07, eta: 1:32:34, time: 0.487, data_time: 0.094, memory: 3114, loss_rpn_cls: 0.0732, loss_rpn_bbox: 0.0925, loss_cls: 0.5084, acc: 82.2285, loss_bbox: 0.4855, loss_mask: 0.3089, loss: 1.4685\n",
      "2022-05-08 20:56:50,763 - mmdet - INFO - Epoch [26][300/1016]\tlr: 2.500e-07, eta: 1:32:08, time: 0.501, data_time: 0.109, memory: 3114, loss_rpn_cls: 0.0721, loss_rpn_bbox: 0.1003, loss_cls: 0.5201, acc: 81.7695, loss_bbox: 0.4981, loss_mask: 0.3127, loss: 1.5034\n",
      "2022-05-08 20:57:17,674 - mmdet - INFO - Epoch [26][350/1016]\tlr: 2.500e-07, eta: 1:31:43, time: 0.538, data_time: 0.107, memory: 3114, loss_rpn_cls: 0.0745, loss_rpn_bbox: 0.0942, loss_cls: 0.5008, acc: 82.1074, loss_bbox: 0.4964, loss_mask: 0.3142, loss: 1.4801\n",
      "2022-05-08 20:57:42,433 - mmdet - INFO - Epoch [26][400/1016]\tlr: 2.500e-07, eta: 1:31:18, time: 0.495, data_time: 0.110, memory: 3114, loss_rpn_cls: 0.0803, loss_rpn_bbox: 0.1016, loss_cls: 0.5354, acc: 81.1387, loss_bbox: 0.5042, loss_mask: 0.3045, loss: 1.5260\n",
      "2022-05-08 20:58:06,945 - mmdet - INFO - Epoch [26][450/1016]\tlr: 2.500e-07, eta: 1:30:52, time: 0.490, data_time: 0.103, memory: 3114, loss_rpn_cls: 0.0800, loss_rpn_bbox: 0.0972, loss_cls: 0.5488, acc: 80.6992, loss_bbox: 0.5203, loss_mask: 0.3167, loss: 1.5629\n",
      "2022-05-08 20:58:35,665 - mmdet - INFO - Epoch [26][500/1016]\tlr: 2.500e-07, eta: 1:30:28, time: 0.574, data_time: 0.145, memory: 3114, loss_rpn_cls: 0.0739, loss_rpn_bbox: 0.1052, loss_cls: 0.5553, acc: 80.8750, loss_bbox: 0.5167, loss_mask: 0.3159, loss: 1.5670\n",
      "2022-05-08 20:58:59,978 - mmdet - INFO - Epoch [26][550/1016]\tlr: 2.500e-07, eta: 1:30:02, time: 0.486, data_time: 0.104, memory: 3114, loss_rpn_cls: 0.0696, loss_rpn_bbox: 0.0935, loss_cls: 0.4986, acc: 82.4590, loss_bbox: 0.4829, loss_mask: 0.3021, loss: 1.4467\n",
      "2022-05-08 20:59:25,670 - mmdet - INFO - Epoch [26][600/1016]\tlr: 2.500e-07, eta: 1:29:36, time: 0.514, data_time: 0.126, memory: 3114, loss_rpn_cls: 0.0843, loss_rpn_bbox: 0.1000, loss_cls: 0.5278, acc: 81.3809, loss_bbox: 0.5173, loss_mask: 0.3197, loss: 1.5492\n",
      "2022-05-08 20:59:51,264 - mmdet - INFO - Epoch [26][650/1016]\tlr: 2.500e-07, eta: 1:29:11, time: 0.512, data_time: 0.094, memory: 3114, loss_rpn_cls: 0.0624, loss_rpn_bbox: 0.0970, loss_cls: 0.5156, acc: 81.8457, loss_bbox: 0.4802, loss_mask: 0.2982, loss: 1.4534\n",
      "2022-05-08 21:00:14,867 - mmdet - INFO - Epoch [26][700/1016]\tlr: 2.500e-07, eta: 1:28:45, time: 0.472, data_time: 0.093, memory: 3114, loss_rpn_cls: 0.0663, loss_rpn_bbox: 0.0884, loss_cls: 0.5243, acc: 81.5996, loss_bbox: 0.4954, loss_mask: 0.3057, loss: 1.4801\n",
      "2022-05-08 21:00:39,716 - mmdet - INFO - Epoch [26][750/1016]\tlr: 2.500e-07, eta: 1:28:19, time: 0.497, data_time: 0.109, memory: 3114, loss_rpn_cls: 0.0769, loss_rpn_bbox: 0.1076, loss_cls: 0.5329, acc: 81.0137, loss_bbox: 0.5235, loss_mask: 0.3218, loss: 1.5628\n",
      "2022-05-08 21:01:05,905 - mmdet - INFO - Epoch [26][800/1016]\tlr: 2.500e-07, eta: 1:27:54, time: 0.524, data_time: 0.108, memory: 3114, loss_rpn_cls: 0.0686, loss_rpn_bbox: 0.0878, loss_cls: 0.5038, acc: 82.6172, loss_bbox: 0.4690, loss_mask: 0.3032, loss: 1.4325\n",
      "2022-05-08 21:01:31,218 - mmdet - INFO - Epoch [26][850/1016]\tlr: 2.500e-07, eta: 1:27:29, time: 0.506, data_time: 0.119, memory: 3114, loss_rpn_cls: 0.0734, loss_rpn_bbox: 0.0968, loss_cls: 0.4958, acc: 82.2695, loss_bbox: 0.4854, loss_mask: 0.3084, loss: 1.4600\n",
      "2022-05-08 21:01:57,411 - mmdet - INFO - Epoch [26][900/1016]\tlr: 2.500e-07, eta: 1:27:04, time: 0.524, data_time: 0.128, memory: 3114, loss_rpn_cls: 0.0868, loss_rpn_bbox: 0.1101, loss_cls: 0.5450, acc: 81.1543, loss_bbox: 0.5283, loss_mask: 0.3209, loss: 1.5911\n",
      "2022-05-08 21:02:25,738 - mmdet - INFO - Epoch [26][950/1016]\tlr: 2.500e-07, eta: 1:26:39, time: 0.567, data_time: 0.134, memory: 3114, loss_rpn_cls: 0.0694, loss_rpn_bbox: 0.0979, loss_cls: 0.5013, acc: 82.0742, loss_bbox: 0.5009, loss_mask: 0.3110, loss: 1.4805\n",
      "2022-05-08 21:02:51,295 - mmdet - INFO - Epoch [26][1000/1016]\tlr: 2.500e-07, eta: 1:26:14, time: 0.511, data_time: 0.118, memory: 3114, loss_rpn_cls: 0.0751, loss_rpn_bbox: 0.1082, loss_cls: 0.5261, acc: 81.4180, loss_bbox: 0.5103, loss_mask: 0.3080, loss: 1.5277\n"
     ]
    },
    {
     "name": "stdout",
     "output_type": "stream",
     "text": [
      "[>>>>>>>>>>>>>>>>>>>>>>>>>>>>>>] 508/508, 9.0 task/s, elapsed: 57s, ETA:     0s"
     ]
    },
    {
     "name": "stderr",
     "output_type": "stream",
     "text": [
      "2022-05-08 21:03:57,948 - mmdet - INFO - Evaluating bbox...\n"
     ]
    },
    {
     "name": "stdout",
     "output_type": "stream",
     "text": [
      "Loading and preparing results...\n",
      "DONE (t=0.38s)\n",
      "creating index...\n",
      "index created!\n",
      "Running per image evaluation...\n",
      "Evaluate annotation type *bbox*\n",
      "DONE (t=33.89s).\n",
      "Accumulating evaluation results...\n"
     ]
    },
    {
     "name": "stderr",
     "output_type": "stream",
     "text": [
      "2022-05-08 21:04:34,551 - mmdet - INFO - \n",
      " Average Precision  (AP) @[ IoU=0.50:0.95 | area=   all | maxDets=100 ] = 0.163\n",
      " Average Precision  (AP) @[ IoU=0.50      | area=   all | maxDets=1000 ] = 0.313\n",
      " Average Precision  (AP) @[ IoU=0.75      | area=   all | maxDets=1000 ] = 0.155\n",
      " Average Precision  (AP) @[ IoU=0.50:0.95 | area= small | maxDets=1000 ] = 0.171\n",
      " Average Precision  (AP) @[ IoU=0.50:0.95 | area=medium | maxDets=1000 ] = 0.197\n",
      " Average Precision  (AP) @[ IoU=0.50:0.95 | area= large | maxDets=1000 ] = -1.000\n",
      " Average Recall     (AR) @[ IoU=0.50:0.95 | area=   all | maxDets=100 ] = 0.323\n",
      " Average Recall     (AR) @[ IoU=0.50:0.95 | area=   all | maxDets=300 ] = 0.323\n",
      " Average Recall     (AR) @[ IoU=0.50:0.95 | area=   all | maxDets=1000 ] = 0.323\n",
      " Average Recall     (AR) @[ IoU=0.50:0.95 | area= small | maxDets=1000 ] = 0.315\n",
      " Average Recall     (AR) @[ IoU=0.50:0.95 | area=medium | maxDets=1000 ] = 0.514\n",
      " Average Recall     (AR) @[ IoU=0.50:0.95 | area= large | maxDets=1000 ] = -1.000\n",
      "\n",
      "2022-05-08 21:04:34,553 - mmdet - INFO - Evaluating segm...\n"
     ]
    },
    {
     "name": "stdout",
     "output_type": "stream",
     "text": [
      "DONE (t=2.10s).\n"
     ]
    },
    {
     "name": "stderr",
     "output_type": "stream",
     "text": [
      "/kaggle/working/mmdetection/mmdet/datasets/coco.py:474: UserWarning: The key \"bbox\" is deleted for more accurate mask AP of small/medium/large instances since v2.12.0. This does not change the overall mAP calculation.\n",
      "  UserWarning)\n"
     ]
    },
    {
     "name": "stdout",
     "output_type": "stream",
     "text": [
      "Loading and preparing results...\n",
      "DONE (t=1.25s)\n",
      "creating index...\n",
      "index created!\n",
      "Running per image evaluation...\n",
      "Evaluate annotation type *segm*\n",
      "DONE (t=37.24s).\n",
      "Accumulating evaluation results...\n"
     ]
    },
    {
     "name": "stderr",
     "output_type": "stream",
     "text": [
      "2022-05-08 21:05:15,039 - mmdet - INFO - \n",
      " Average Precision  (AP) @[ IoU=0.50:0.95 | area=   all | maxDets=100 ] = 0.150\n",
      " Average Precision  (AP) @[ IoU=0.50      | area=   all | maxDets=1000 ] = 0.304\n",
      " Average Precision  (AP) @[ IoU=0.75      | area=   all | maxDets=1000 ] = 0.133\n",
      " Average Precision  (AP) @[ IoU=0.50:0.95 | area= small | maxDets=1000 ] = 0.142\n",
      " Average Precision  (AP) @[ IoU=0.50:0.95 | area=medium | maxDets=1000 ] = 0.300\n",
      " Average Precision  (AP) @[ IoU=0.50:0.95 | area= large | maxDets=1000 ] = -1.000\n",
      " Average Recall     (AR) @[ IoU=0.50:0.95 | area=   all | maxDets=100 ] = 0.298\n",
      " Average Recall     (AR) @[ IoU=0.50:0.95 | area=   all | maxDets=300 ] = 0.298\n",
      " Average Recall     (AR) @[ IoU=0.50:0.95 | area=   all | maxDets=1000 ] = 0.298\n",
      " Average Recall     (AR) @[ IoU=0.50:0.95 | area= small | maxDets=1000 ] = 0.290\n",
      " Average Recall     (AR) @[ IoU=0.50:0.95 | area=medium | maxDets=1000 ] = 0.489\n",
      " Average Recall     (AR) @[ IoU=0.50:0.95 | area= large | maxDets=1000 ] = -1.000\n",
      "\n",
      "2022-05-08 21:05:15,158 - mmdet - INFO - Epoch(val) [26][508]\tbbox_mAP: 0.1630, bbox_mAP_50: 0.3130, bbox_mAP_75: 0.1550, bbox_mAP_s: 0.1710, bbox_mAP_m: 0.1970, bbox_mAP_l: -1.0000, bbox_mAP_copypaste: 0.163 0.313 0.155 0.171 0.197 -1.000, segm_mAP: 0.1500, segm_mAP_50: 0.3040, segm_mAP_75: 0.1330, segm_mAP_s: 0.1420, segm_mAP_m: 0.3000, segm_mAP_l: -1.0000, segm_mAP_copypaste: 0.150 0.304 0.133 0.142 0.300 -1.000\n"
     ]
    },
    {
     "name": "stdout",
     "output_type": "stream",
     "text": [
      "DONE (t=1.30s).\n"
     ]
    },
    {
     "name": "stderr",
     "output_type": "stream",
     "text": [
      "2022-05-08 21:05:43,807 - mmdet - INFO - Epoch [27][50/1016]\tlr: 2.500e-07, eta: 1:25:39, time: 0.572, data_time: 0.178, memory: 3114, loss_rpn_cls: 0.0816, loss_rpn_bbox: 0.1055, loss_cls: 0.5217, acc: 81.5371, loss_bbox: 0.5070, loss_mask: 0.3149, loss: 1.5307\n",
      "2022-05-08 21:06:11,902 - mmdet - INFO - Epoch [27][100/1016]\tlr: 2.500e-07, eta: 1:25:14, time: 0.562, data_time: 0.127, memory: 3114, loss_rpn_cls: 0.0756, loss_rpn_bbox: 0.1038, loss_cls: 0.5353, acc: 81.1406, loss_bbox: 0.5198, loss_mask: 0.3191, loss: 1.5535\n",
      "2022-05-08 21:06:39,025 - mmdet - INFO - Epoch [27][150/1016]\tlr: 2.500e-07, eta: 1:24:49, time: 0.542, data_time: 0.142, memory: 3114, loss_rpn_cls: 0.0892, loss_rpn_bbox: 0.1043, loss_cls: 0.5354, acc: 81.4883, loss_bbox: 0.5040, loss_mask: 0.3227, loss: 1.5556\n",
      "2022-05-08 21:07:02,515 - mmdet - INFO - Epoch [27][200/1016]\tlr: 2.500e-07, eta: 1:24:23, time: 0.470, data_time: 0.092, memory: 3114, loss_rpn_cls: 0.0720, loss_rpn_bbox: 0.0926, loss_cls: 0.5194, acc: 81.9688, loss_bbox: 0.4774, loss_mask: 0.3014, loss: 1.4628\n",
      "2022-05-08 21:07:28,882 - mmdet - INFO - Epoch [27][250/1016]\tlr: 2.500e-07, eta: 1:23:58, time: 0.527, data_time: 0.109, memory: 3114, loss_rpn_cls: 0.0714, loss_rpn_bbox: 0.0928, loss_cls: 0.5107, acc: 82.1523, loss_bbox: 0.4917, loss_mask: 0.3113, loss: 1.4779\n",
      "2022-05-08 21:07:53,265 - mmdet - INFO - Epoch [27][300/1016]\tlr: 2.500e-07, eta: 1:23:32, time: 0.488, data_time: 0.105, memory: 3114, loss_rpn_cls: 0.0760, loss_rpn_bbox: 0.1023, loss_cls: 0.5176, acc: 81.6250, loss_bbox: 0.5044, loss_mask: 0.3156, loss: 1.5158\n",
      "2022-05-08 21:08:16,954 - mmdet - INFO - Epoch [27][350/1016]\tlr: 2.500e-07, eta: 1:23:06, time: 0.474, data_time: 0.090, memory: 3114, loss_rpn_cls: 0.0649, loss_rpn_bbox: 0.0893, loss_cls: 0.5249, acc: 81.8945, loss_bbox: 0.4985, loss_mask: 0.3161, loss: 1.4936\n",
      "2022-05-08 21:08:43,149 - mmdet - INFO - Epoch [27][400/1016]\tlr: 2.500e-07, eta: 1:22:41, time: 0.524, data_time: 0.114, memory: 3114, loss_rpn_cls: 0.0643, loss_rpn_bbox: 0.0953, loss_cls: 0.5061, acc: 82.0273, loss_bbox: 0.4879, loss_mask: 0.3068, loss: 1.4604\n",
      "2022-05-08 21:09:07,815 - mmdet - INFO - Epoch [27][450/1016]\tlr: 2.500e-07, eta: 1:22:15, time: 0.493, data_time: 0.104, memory: 3114, loss_rpn_cls: 0.0696, loss_rpn_bbox: 0.0986, loss_cls: 0.5260, acc: 81.4434, loss_bbox: 0.5119, loss_mask: 0.3109, loss: 1.5170\n",
      "2022-05-08 21:09:32,699 - mmdet - INFO - Epoch [27][500/1016]\tlr: 2.500e-07, eta: 1:21:50, time: 0.498, data_time: 0.107, memory: 3114, loss_rpn_cls: 0.0730, loss_rpn_bbox: 0.0964, loss_cls: 0.5176, acc: 81.8633, loss_bbox: 0.4943, loss_mask: 0.3063, loss: 1.4874\n",
      "2022-05-08 21:10:00,354 - mmdet - INFO - Epoch [27][550/1016]\tlr: 2.500e-07, eta: 1:21:25, time: 0.553, data_time: 0.119, memory: 3114, loss_rpn_cls: 0.0673, loss_rpn_bbox: 0.1001, loss_cls: 0.4994, acc: 82.2285, loss_bbox: 0.4989, loss_mask: 0.3005, loss: 1.4662\n",
      "2022-05-08 21:10:24,414 - mmdet - INFO - Epoch [27][600/1016]\tlr: 2.500e-07, eta: 1:20:59, time: 0.481, data_time: 0.096, memory: 3114, loss_rpn_cls: 0.0633, loss_rpn_bbox: 0.1004, loss_cls: 0.5264, acc: 81.1016, loss_bbox: 0.5042, loss_mask: 0.2991, loss: 1.4934\n",
      "2022-05-08 21:10:50,049 - mmdet - INFO - Epoch [27][650/1016]\tlr: 2.500e-07, eta: 1:20:34, time: 0.513, data_time: 0.117, memory: 3114, loss_rpn_cls: 0.0786, loss_rpn_bbox: 0.1031, loss_cls: 0.5444, acc: 81.1016, loss_bbox: 0.5067, loss_mask: 0.3099, loss: 1.5427\n",
      "2022-05-08 21:11:18,587 - mmdet - INFO - Epoch [27][700/1016]\tlr: 2.500e-07, eta: 1:20:10, time: 0.571, data_time: 0.138, memory: 3114, loss_rpn_cls: 0.0804, loss_rpn_bbox: 0.0981, loss_cls: 0.5073, acc: 82.0117, loss_bbox: 0.5004, loss_mask: 0.3095, loss: 1.4957\n",
      "2022-05-08 21:11:43,294 - mmdet - INFO - Epoch [27][750/1016]\tlr: 2.500e-07, eta: 1:19:44, time: 0.494, data_time: 0.103, memory: 3114, loss_rpn_cls: 0.0743, loss_rpn_bbox: 0.1062, loss_cls: 0.5327, acc: 81.2754, loss_bbox: 0.5030, loss_mask: 0.3137, loss: 1.5298\n",
      "2022-05-08 21:12:08,295 - mmdet - INFO - Epoch [27][800/1016]\tlr: 2.500e-07, eta: 1:19:18, time: 0.500, data_time: 0.105, memory: 3114, loss_rpn_cls: 0.0661, loss_rpn_bbox: 0.0911, loss_cls: 0.4997, acc: 82.6758, loss_bbox: 0.4836, loss_mask: 0.2992, loss: 1.4397\n",
      "2022-05-08 21:12:36,017 - mmdet - INFO - Epoch [27][850/1016]\tlr: 2.500e-07, eta: 1:18:54, time: 0.554, data_time: 0.131, memory: 3114, loss_rpn_cls: 0.0818, loss_rpn_bbox: 0.1025, loss_cls: 0.5364, acc: 81.5176, loss_bbox: 0.5121, loss_mask: 0.3128, loss: 1.5455\n",
      "2022-05-08 21:13:02,274 - mmdet - INFO - Epoch [27][900/1016]\tlr: 2.500e-07, eta: 1:18:29, time: 0.525, data_time: 0.130, memory: 3114, loss_rpn_cls: 0.0788, loss_rpn_bbox: 0.1078, loss_cls: 0.5288, acc: 81.0391, loss_bbox: 0.5036, loss_mask: 0.3159, loss: 1.5349\n",
      "2022-05-08 21:13:27,427 - mmdet - INFO - Epoch [27][950/1016]\tlr: 2.500e-07, eta: 1:18:03, time: 0.503, data_time: 0.111, memory: 3114, loss_rpn_cls: 0.0814, loss_rpn_bbox: 0.0952, loss_cls: 0.5260, acc: 81.8574, loss_bbox: 0.4827, loss_mask: 0.3039, loss: 1.4892\n",
      "2022-05-08 21:13:54,148 - mmdet - INFO - Epoch [27][1000/1016]\tlr: 2.500e-07, eta: 1:17:38, time: 0.534, data_time: 0.108, memory: 3114, loss_rpn_cls: 0.0854, loss_rpn_bbox: 0.1061, loss_cls: 0.5379, acc: 81.1641, loss_bbox: 0.5194, loss_mask: 0.3157, loss: 1.5645\n"
     ]
    },
    {
     "name": "stdout",
     "output_type": "stream",
     "text": [
      "[>>>>>>>>>>>>>>>>>>>>>>>>>>>>>>] 508/508, 9.0 task/s, elapsed: 57s, ETA:     0s"
     ]
    },
    {
     "name": "stderr",
     "output_type": "stream",
     "text": [
      "2022-05-08 21:15:01,376 - mmdet - INFO - Evaluating bbox...\n"
     ]
    },
    {
     "name": "stdout",
     "output_type": "stream",
     "text": [
      "Loading and preparing results...\n",
      "DONE (t=0.07s)\n",
      "creating index...\n",
      "index created!\n",
      "Running per image evaluation...\n",
      "Evaluate annotation type *bbox*\n",
      "DONE (t=33.98s).\n",
      "Accumulating evaluation results...\n"
     ]
    },
    {
     "name": "stderr",
     "output_type": "stream",
     "text": [
      "2022-05-08 21:15:37,265 - mmdet - INFO - \n",
      " Average Precision  (AP) @[ IoU=0.50:0.95 | area=   all | maxDets=100 ] = 0.163\n",
      " Average Precision  (AP) @[ IoU=0.50      | area=   all | maxDets=1000 ] = 0.313\n",
      " Average Precision  (AP) @[ IoU=0.75      | area=   all | maxDets=1000 ] = 0.155\n",
      " Average Precision  (AP) @[ IoU=0.50:0.95 | area= small | maxDets=1000 ] = 0.171\n",
      " Average Precision  (AP) @[ IoU=0.50:0.95 | area=medium | maxDets=1000 ] = 0.197\n",
      " Average Precision  (AP) @[ IoU=0.50:0.95 | area= large | maxDets=1000 ] = -1.000\n",
      " Average Recall     (AR) @[ IoU=0.50:0.95 | area=   all | maxDets=100 ] = 0.322\n",
      " Average Recall     (AR) @[ IoU=0.50:0.95 | area=   all | maxDets=300 ] = 0.322\n",
      " Average Recall     (AR) @[ IoU=0.50:0.95 | area=   all | maxDets=1000 ] = 0.322\n",
      " Average Recall     (AR) @[ IoU=0.50:0.95 | area= small | maxDets=1000 ] = 0.315\n",
      " Average Recall     (AR) @[ IoU=0.50:0.95 | area=medium | maxDets=1000 ] = 0.514\n",
      " Average Recall     (AR) @[ IoU=0.50:0.95 | area= large | maxDets=1000 ] = -1.000\n",
      "\n",
      "2022-05-08 21:15:37,266 - mmdet - INFO - Evaluating segm...\n"
     ]
    },
    {
     "name": "stdout",
     "output_type": "stream",
     "text": [
      "DONE (t=1.61s).\n"
     ]
    },
    {
     "name": "stderr",
     "output_type": "stream",
     "text": [
      "/kaggle/working/mmdetection/mmdet/datasets/coco.py:474: UserWarning: The key \"bbox\" is deleted for more accurate mask AP of small/medium/large instances since v2.12.0. This does not change the overall mAP calculation.\n",
      "  UserWarning)\n"
     ]
    },
    {
     "name": "stdout",
     "output_type": "stream",
     "text": [
      "Loading and preparing results...\n",
      "DONE (t=0.66s)\n",
      "creating index...\n",
      "index created!\n",
      "Running per image evaluation...\n",
      "Evaluate annotation type *segm*\n",
      "DONE (t=34.62s).\n",
      "Accumulating evaluation results...\n"
     ]
    },
    {
     "name": "stderr",
     "output_type": "stream",
     "text": [
      "2022-05-08 21:16:15,020 - mmdet - INFO - \n",
      " Average Precision  (AP) @[ IoU=0.50:0.95 | area=   all | maxDets=100 ] = 0.150\n",
      " Average Precision  (AP) @[ IoU=0.50      | area=   all | maxDets=1000 ] = 0.304\n",
      " Average Precision  (AP) @[ IoU=0.75      | area=   all | maxDets=1000 ] = 0.133\n",
      " Average Precision  (AP) @[ IoU=0.50:0.95 | area= small | maxDets=1000 ] = 0.142\n",
      " Average Precision  (AP) @[ IoU=0.50:0.95 | area=medium | maxDets=1000 ] = 0.299\n",
      " Average Precision  (AP) @[ IoU=0.50:0.95 | area= large | maxDets=1000 ] = -1.000\n",
      " Average Recall     (AR) @[ IoU=0.50:0.95 | area=   all | maxDets=100 ] = 0.298\n",
      " Average Recall     (AR) @[ IoU=0.50:0.95 | area=   all | maxDets=300 ] = 0.298\n",
      " Average Recall     (AR) @[ IoU=0.50:0.95 | area=   all | maxDets=1000 ] = 0.298\n",
      " Average Recall     (AR) @[ IoU=0.50:0.95 | area= small | maxDets=1000 ] = 0.290\n",
      " Average Recall     (AR) @[ IoU=0.50:0.95 | area=medium | maxDets=1000 ] = 0.489\n",
      " Average Recall     (AR) @[ IoU=0.50:0.95 | area= large | maxDets=1000 ] = -1.000\n",
      "\n",
      "2022-05-08 21:16:15,207 - mmdet - INFO - Epoch(val) [27][508]\tbbox_mAP: 0.1630, bbox_mAP_50: 0.3130, bbox_mAP_75: 0.1550, bbox_mAP_s: 0.1710, bbox_mAP_m: 0.1970, bbox_mAP_l: -1.0000, bbox_mAP_copypaste: 0.163 0.313 0.155 0.171 0.197 -1.000, segm_mAP: 0.1500, segm_mAP_50: 0.3040, segm_mAP_75: 0.1330, segm_mAP_s: 0.1420, segm_mAP_m: 0.2990, segm_mAP_l: -1.0000, segm_mAP_copypaste: 0.150 0.304 0.133 0.142 0.299 -1.000\n"
     ]
    },
    {
     "name": "stdout",
     "output_type": "stream",
     "text": [
      "DONE (t=2.06s).\n"
     ]
    },
    {
     "name": "stderr",
     "output_type": "stream",
     "text": [
      "2022-05-08 21:16:45,167 - mmdet - INFO - Epoch [28][50/1016]\tlr: 2.500e-07, eta: 1:17:03, time: 0.598, data_time: 0.183, memory: 3114, loss_rpn_cls: 0.0700, loss_rpn_bbox: 0.0958, loss_cls: 0.5045, acc: 82.4707, loss_bbox: 0.4895, loss_mask: 0.3017, loss: 1.4615\n",
      "2022-05-08 21:17:08,754 - mmdet - INFO - Epoch [28][100/1016]\tlr: 2.500e-07, eta: 1:16:37, time: 0.472, data_time: 0.083, memory: 3114, loss_rpn_cls: 0.0696, loss_rpn_bbox: 0.0900, loss_cls: 0.4946, acc: 82.3281, loss_bbox: 0.4948, loss_mask: 0.3111, loss: 1.4602\n",
      "2022-05-08 21:17:34,814 - mmdet - INFO - Epoch [28][150/1016]\tlr: 2.500e-07, eta: 1:16:12, time: 0.521, data_time: 0.117, memory: 3114, loss_rpn_cls: 0.0838, loss_rpn_bbox: 0.1020, loss_cls: 0.5166, acc: 81.7441, loss_bbox: 0.5020, loss_mask: 0.3287, loss: 1.5332\n",
      "2022-05-08 21:18:01,767 - mmdet - INFO - Epoch [28][200/1016]\tlr: 2.500e-07, eta: 1:15:47, time: 0.539, data_time: 0.116, memory: 3114, loss_rpn_cls: 0.0721, loss_rpn_bbox: 0.0945, loss_cls: 0.5388, acc: 81.0742, loss_bbox: 0.4913, loss_mask: 0.3055, loss: 1.5022\n",
      "2022-05-08 21:18:26,134 - mmdet - INFO - Epoch [28][250/1016]\tlr: 2.500e-07, eta: 1:15:21, time: 0.487, data_time: 0.097, memory: 3114, loss_rpn_cls: 0.0706, loss_rpn_bbox: 0.0981, loss_cls: 0.5364, acc: 80.6758, loss_bbox: 0.5205, loss_mask: 0.3118, loss: 1.5375\n",
      "2022-05-08 21:18:50,154 - mmdet - INFO - Epoch [28][300/1016]\tlr: 2.500e-07, eta: 1:14:56, time: 0.480, data_time: 0.100, memory: 3114, loss_rpn_cls: 0.0755, loss_rpn_bbox: 0.0953, loss_cls: 0.5144, acc: 82.0078, loss_bbox: 0.4841, loss_mask: 0.3182, loss: 1.4874\n",
      "2022-05-08 21:19:19,054 - mmdet - INFO - Epoch [28][350/1016]\tlr: 2.500e-07, eta: 1:14:31, time: 0.578, data_time: 0.146, memory: 3114, loss_rpn_cls: 0.0925, loss_rpn_bbox: 0.1060, loss_cls: 0.5393, acc: 81.5527, loss_bbox: 0.5040, loss_mask: 0.3142, loss: 1.5560\n",
      "2022-05-08 21:19:43,567 - mmdet - INFO - Epoch [28][400/1016]\tlr: 2.500e-07, eta: 1:14:06, time: 0.490, data_time: 0.103, memory: 3114, loss_rpn_cls: 0.0749, loss_rpn_bbox: 0.0991, loss_cls: 0.5323, acc: 81.2969, loss_bbox: 0.5187, loss_mask: 0.3048, loss: 1.5298\n",
      "2022-05-08 21:20:08,999 - mmdet - INFO - Epoch [28][450/1016]\tlr: 2.500e-07, eta: 1:13:40, time: 0.509, data_time: 0.115, memory: 3114, loss_rpn_cls: 0.0720, loss_rpn_bbox: 0.1022, loss_cls: 0.5299, acc: 81.5469, loss_bbox: 0.4997, loss_mask: 0.3073, loss: 1.5111\n",
      "2022-05-08 21:20:37,349 - mmdet - INFO - Epoch [28][500/1016]\tlr: 2.500e-07, eta: 1:13:16, time: 0.567, data_time: 0.140, memory: 3114, loss_rpn_cls: 0.0684, loss_rpn_bbox: 0.1009, loss_cls: 0.5150, acc: 82.0684, loss_bbox: 0.4971, loss_mask: 0.3045, loss: 1.4859\n",
      "2022-05-08 21:21:02,954 - mmdet - INFO - Epoch [28][550/1016]\tlr: 2.500e-07, eta: 1:12:50, time: 0.512, data_time: 0.119, memory: 3114, loss_rpn_cls: 0.0724, loss_rpn_bbox: 0.1008, loss_cls: 0.5215, acc: 81.5957, loss_bbox: 0.5010, loss_mask: 0.3096, loss: 1.5053\n",
      "2022-05-08 21:21:28,000 - mmdet - INFO - Epoch [28][600/1016]\tlr: 2.500e-07, eta: 1:12:25, time: 0.501, data_time: 0.111, memory: 3114, loss_rpn_cls: 0.0681, loss_rpn_bbox: 0.1005, loss_cls: 0.5446, acc: 81.2305, loss_bbox: 0.5155, loss_mask: 0.3128, loss: 1.5416\n",
      "2022-05-08 21:21:56,260 - mmdet - INFO - Epoch [28][650/1016]\tlr: 2.500e-07, eta: 1:12:00, time: 0.565, data_time: 0.143, memory: 3114, loss_rpn_cls: 0.0818, loss_rpn_bbox: 0.0985, loss_cls: 0.5078, acc: 82.1426, loss_bbox: 0.4908, loss_mask: 0.3171, loss: 1.4959\n",
      "2022-05-08 21:22:21,711 - mmdet - INFO - Epoch [28][700/1016]\tlr: 2.500e-07, eta: 1:11:35, time: 0.509, data_time: 0.120, memory: 3114, loss_rpn_cls: 0.0772, loss_rpn_bbox: 0.1055, loss_cls: 0.5244, acc: 81.4160, loss_bbox: 0.5141, loss_mask: 0.3135, loss: 1.5348\n",
      "2022-05-08 21:22:46,293 - mmdet - INFO - Epoch [28][750/1016]\tlr: 2.500e-07, eta: 1:11:09, time: 0.492, data_time: 0.104, memory: 3114, loss_rpn_cls: 0.0726, loss_rpn_bbox: 0.0971, loss_cls: 0.5226, acc: 81.6973, loss_bbox: 0.4974, loss_mask: 0.3057, loss: 1.4954\n",
      "2022-05-08 21:23:13,368 - mmdet - INFO - Epoch [28][800/1016]\tlr: 2.500e-07, eta: 1:10:44, time: 0.541, data_time: 0.121, memory: 3114, loss_rpn_cls: 0.0775, loss_rpn_bbox: 0.0953, loss_cls: 0.5142, acc: 81.9961, loss_bbox: 0.4899, loss_mask: 0.3017, loss: 1.4785\n",
      "2022-05-08 21:23:39,647 - mmdet - INFO - Epoch [28][850/1016]\tlr: 2.500e-07, eta: 1:10:19, time: 0.526, data_time: 0.130, memory: 3114, loss_rpn_cls: 0.0840, loss_rpn_bbox: 0.1055, loss_cls: 0.5404, acc: 81.4590, loss_bbox: 0.5118, loss_mask: 0.3131, loss: 1.5548\n",
      "2022-05-08 21:24:04,583 - mmdet - INFO - Epoch [28][900/1016]\tlr: 2.500e-07, eta: 1:09:53, time: 0.499, data_time: 0.113, memory: 3114, loss_rpn_cls: 0.0662, loss_rpn_bbox: 0.0920, loss_cls: 0.5060, acc: 82.5605, loss_bbox: 0.4804, loss_mask: 0.2964, loss: 1.4410\n",
      "2022-05-08 21:24:31,926 - mmdet - INFO - Epoch [28][950/1016]\tlr: 2.500e-07, eta: 1:09:28, time: 0.547, data_time: 0.124, memory: 3114, loss_rpn_cls: 0.0709, loss_rpn_bbox: 0.1047, loss_cls: 0.5086, acc: 81.6992, loss_bbox: 0.5054, loss_mask: 0.3116, loss: 1.5012\n",
      "2022-05-08 21:24:57,764 - mmdet - INFO - Epoch [28][1000/1016]\tlr: 2.500e-07, eta: 1:09:03, time: 0.517, data_time: 0.121, memory: 3114, loss_rpn_cls: 0.0743, loss_rpn_bbox: 0.1028, loss_cls: 0.5294, acc: 81.3945, loss_bbox: 0.5009, loss_mask: 0.3200, loss: 1.5274\n"
     ]
    },
    {
     "name": "stdout",
     "output_type": "stream",
     "text": [
      "[>>>>>>>>>>>>>>>>>>>>>>>>>>>>>>] 508/508, 9.0 task/s, elapsed: 56s, ETA:     0s"
     ]
    },
    {
     "name": "stderr",
     "output_type": "stream",
     "text": [
      "2022-05-08 21:26:04,776 - mmdet - INFO - Evaluating bbox...\n"
     ]
    },
    {
     "name": "stdout",
     "output_type": "stream",
     "text": [
      "Loading and preparing results...\n",
      "DONE (t=0.07s)\n",
      "creating index...\n",
      "index created!\n",
      "Running per image evaluation...\n",
      "Evaluate annotation type *bbox*\n",
      "DONE (t=33.58s).\n",
      "Accumulating evaluation results...\n"
     ]
    },
    {
     "name": "stderr",
     "output_type": "stream",
     "text": [
      "2022-05-08 21:26:40,731 - mmdet - INFO - \n",
      " Average Precision  (AP) @[ IoU=0.50:0.95 | area=   all | maxDets=100 ] = 0.163\n",
      " Average Precision  (AP) @[ IoU=0.50      | area=   all | maxDets=1000 ] = 0.313\n",
      " Average Precision  (AP) @[ IoU=0.75      | area=   all | maxDets=1000 ] = 0.155\n",
      " Average Precision  (AP) @[ IoU=0.50:0.95 | area= small | maxDets=1000 ] = 0.171\n",
      " Average Precision  (AP) @[ IoU=0.50:0.95 | area=medium | maxDets=1000 ] = 0.197\n",
      " Average Precision  (AP) @[ IoU=0.50:0.95 | area= large | maxDets=1000 ] = -1.000\n",
      " Average Recall     (AR) @[ IoU=0.50:0.95 | area=   all | maxDets=100 ] = 0.322\n",
      " Average Recall     (AR) @[ IoU=0.50:0.95 | area=   all | maxDets=300 ] = 0.322\n",
      " Average Recall     (AR) @[ IoU=0.50:0.95 | area=   all | maxDets=1000 ] = 0.322\n",
      " Average Recall     (AR) @[ IoU=0.50:0.95 | area= small | maxDets=1000 ] = 0.315\n",
      " Average Recall     (AR) @[ IoU=0.50:0.95 | area=medium | maxDets=1000 ] = 0.516\n",
      " Average Recall     (AR) @[ IoU=0.50:0.95 | area= large | maxDets=1000 ] = -1.000\n",
      "\n",
      "2022-05-08 21:26:40,733 - mmdet - INFO - Evaluating segm...\n"
     ]
    },
    {
     "name": "stdout",
     "output_type": "stream",
     "text": [
      "DONE (t=2.09s).\n"
     ]
    },
    {
     "name": "stderr",
     "output_type": "stream",
     "text": [
      "/kaggle/working/mmdetection/mmdet/datasets/coco.py:474: UserWarning: The key \"bbox\" is deleted for more accurate mask AP of small/medium/large instances since v2.12.0. This does not change the overall mAP calculation.\n",
      "  UserWarning)\n"
     ]
    },
    {
     "name": "stdout",
     "output_type": "stream",
     "text": [
      "Loading and preparing results...\n",
      "DONE (t=1.15s)\n",
      "creating index...\n",
      "index created!\n",
      "Running per image evaluation...\n",
      "Evaluate annotation type *segm*\n",
      "DONE (t=36.20s).\n",
      "Accumulating evaluation results...\n"
     ]
    },
    {
     "name": "stderr",
     "output_type": "stream",
     "text": [
      "2022-05-08 21:27:20,824 - mmdet - INFO - \n",
      " Average Precision  (AP) @[ IoU=0.50:0.95 | area=   all | maxDets=100 ] = 0.150\n",
      " Average Precision  (AP) @[ IoU=0.50      | area=   all | maxDets=1000 ] = 0.304\n",
      " Average Precision  (AP) @[ IoU=0.75      | area=   all | maxDets=1000 ] = 0.133\n",
      " Average Precision  (AP) @[ IoU=0.50:0.95 | area= small | maxDets=1000 ] = 0.142\n",
      " Average Precision  (AP) @[ IoU=0.50:0.95 | area=medium | maxDets=1000 ] = 0.300\n",
      " Average Precision  (AP) @[ IoU=0.50:0.95 | area= large | maxDets=1000 ] = -1.000\n",
      " Average Recall     (AR) @[ IoU=0.50:0.95 | area=   all | maxDets=100 ] = 0.298\n",
      " Average Recall     (AR) @[ IoU=0.50:0.95 | area=   all | maxDets=300 ] = 0.298\n",
      " Average Recall     (AR) @[ IoU=0.50:0.95 | area=   all | maxDets=1000 ] = 0.298\n",
      " Average Recall     (AR) @[ IoU=0.50:0.95 | area= small | maxDets=1000 ] = 0.290\n",
      " Average Recall     (AR) @[ IoU=0.50:0.95 | area=medium | maxDets=1000 ] = 0.491\n",
      " Average Recall     (AR) @[ IoU=0.50:0.95 | area= large | maxDets=1000 ] = -1.000\n",
      "\n",
      "2022-05-08 21:27:20,942 - mmdet - INFO - Epoch(val) [28][508]\tbbox_mAP: 0.1630, bbox_mAP_50: 0.3130, bbox_mAP_75: 0.1550, bbox_mAP_s: 0.1710, bbox_mAP_m: 0.1970, bbox_mAP_l: -1.0000, bbox_mAP_copypaste: 0.163 0.313 0.155 0.171 0.197 -1.000, segm_mAP: 0.1500, segm_mAP_50: 0.3040, segm_mAP_75: 0.1330, segm_mAP_s: 0.1420, segm_mAP_m: 0.3000, segm_mAP_l: -1.0000, segm_mAP_copypaste: 0.150 0.304 0.133 0.142 0.300 -1.000\n"
     ]
    },
    {
     "name": "stdout",
     "output_type": "stream",
     "text": [
      "DONE (t=1.57s).\n"
     ]
    },
    {
     "name": "stderr",
     "output_type": "stream",
     "text": [
      "2022-05-08 21:27:47,994 - mmdet - INFO - Epoch [29][50/1016]\tlr: 2.500e-07, eta: 1:08:28, time: 0.540, data_time: 0.142, memory: 3114, loss_rpn_cls: 0.0682, loss_rpn_bbox: 0.0944, loss_cls: 0.5426, acc: 81.1797, loss_bbox: 0.5073, loss_mask: 0.3066, loss: 1.5190\n",
      "2022-05-08 21:28:12,915 - mmdet - INFO - Epoch [29][100/1016]\tlr: 2.500e-07, eta: 1:08:02, time: 0.498, data_time: 0.101, memory: 3114, loss_rpn_cls: 0.0771, loss_rpn_bbox: 0.0951, loss_cls: 0.5193, acc: 81.6309, loss_bbox: 0.5034, loss_mask: 0.3110, loss: 1.5059\n",
      "2022-05-08 21:28:41,475 - mmdet - INFO - Epoch [29][150/1016]\tlr: 2.500e-07, eta: 1:07:37, time: 0.571, data_time: 0.130, memory: 3114, loss_rpn_cls: 0.0790, loss_rpn_bbox: 0.1026, loss_cls: 0.5298, acc: 81.9102, loss_bbox: 0.4911, loss_mask: 0.3072, loss: 1.5096\n",
      "2022-05-08 21:29:07,600 - mmdet - INFO - Epoch [29][200/1016]\tlr: 2.500e-07, eta: 1:07:12, time: 0.522, data_time: 0.122, memory: 3114, loss_rpn_cls: 0.0785, loss_rpn_bbox: 0.1013, loss_cls: 0.5175, acc: 81.7891, loss_bbox: 0.5169, loss_mask: 0.3153, loss: 1.5295\n",
      "2022-05-08 21:29:31,627 - mmdet - INFO - Epoch [29][250/1016]\tlr: 2.500e-07, eta: 1:06:46, time: 0.481, data_time: 0.093, memory: 3114, loss_rpn_cls: 0.0745, loss_rpn_bbox: 0.0924, loss_cls: 0.4913, acc: 82.5566, loss_bbox: 0.4826, loss_mask: 0.3105, loss: 1.4513\n",
      "2022-05-08 21:29:59,554 - mmdet - INFO - Epoch [29][300/1016]\tlr: 2.500e-07, eta: 1:06:22, time: 0.559, data_time: 0.127, memory: 3114, loss_rpn_cls: 0.0750, loss_rpn_bbox: 0.0935, loss_cls: 0.5187, acc: 81.9004, loss_bbox: 0.4924, loss_mask: 0.3067, loss: 1.4863\n",
      "2022-05-08 21:30:23,068 - mmdet - INFO - Epoch [29][350/1016]\tlr: 2.500e-07, eta: 1:05:56, time: 0.470, data_time: 0.090, memory: 3114, loss_rpn_cls: 0.0677, loss_rpn_bbox: 0.0956, loss_cls: 0.4935, acc: 82.2305, loss_bbox: 0.5004, loss_mask: 0.3079, loss: 1.4651\n",
      "2022-05-08 21:30:48,567 - mmdet - INFO - Epoch [29][400/1016]\tlr: 2.500e-07, eta: 1:05:30, time: 0.510, data_time: 0.113, memory: 3114, loss_rpn_cls: 0.0717, loss_rpn_bbox: 0.1066, loss_cls: 0.5362, acc: 80.9531, loss_bbox: 0.5102, loss_mask: 0.3054, loss: 1.5300\n",
      "2022-05-08 21:31:14,518 - mmdet - INFO - Epoch [29][450/1016]\tlr: 2.500e-07, eta: 1:05:05, time: 0.519, data_time: 0.113, memory: 3114, loss_rpn_cls: 0.0685, loss_rpn_bbox: 0.0965, loss_cls: 0.5246, acc: 81.3555, loss_bbox: 0.4906, loss_mask: 0.3056, loss: 1.4858\n",
      "2022-05-08 21:31:41,371 - mmdet - INFO - Epoch [29][500/1016]\tlr: 2.500e-07, eta: 1:04:40, time: 0.537, data_time: 0.139, memory: 3114, loss_rpn_cls: 0.0788, loss_rpn_bbox: 0.1092, loss_cls: 0.5587, acc: 80.7734, loss_bbox: 0.5134, loss_mask: 0.3099, loss: 1.5700\n",
      "2022-05-08 21:32:05,908 - mmdet - INFO - Epoch [29][550/1016]\tlr: 2.500e-07, eta: 1:04:14, time: 0.491, data_time: 0.108, memory: 3114, loss_rpn_cls: 0.0672, loss_rpn_bbox: 0.0977, loss_cls: 0.5038, acc: 82.2520, loss_bbox: 0.4888, loss_mask: 0.3102, loss: 1.4677\n",
      "2022-05-08 21:32:35,958 - mmdet - INFO - Epoch [29][600/1016]\tlr: 2.500e-07, eta: 1:03:50, time: 0.601, data_time: 0.162, memory: 3114, loss_rpn_cls: 0.0864, loss_rpn_bbox: 0.1087, loss_cls: 0.5218, acc: 81.6543, loss_bbox: 0.5194, loss_mask: 0.3269, loss: 1.5633\n",
      "2022-05-08 21:33:00,932 - mmdet - INFO - Epoch [29][650/1016]\tlr: 2.500e-07, eta: 1:03:24, time: 0.499, data_time: 0.107, memory: 3114, loss_rpn_cls: 0.0726, loss_rpn_bbox: 0.1009, loss_cls: 0.5258, acc: 81.6582, loss_bbox: 0.4952, loss_mask: 0.3150, loss: 1.5095\n",
      "2022-05-08 21:33:24,074 - mmdet - INFO - Epoch [29][700/1016]\tlr: 2.500e-07, eta: 1:02:58, time: 0.463, data_time: 0.086, memory: 3114, loss_rpn_cls: 0.0654, loss_rpn_bbox: 0.0927, loss_cls: 0.4810, acc: 82.7812, loss_bbox: 0.4641, loss_mask: 0.2971, loss: 1.4003\n",
      "2022-05-08 21:33:48,868 - mmdet - INFO - Epoch [29][750/1016]\tlr: 2.500e-07, eta: 1:02:33, time: 0.496, data_time: 0.108, memory: 3114, loss_rpn_cls: 0.0778, loss_rpn_bbox: 0.1042, loss_cls: 0.5283, acc: 81.1484, loss_bbox: 0.5223, loss_mask: 0.3209, loss: 1.5536\n",
      "2022-05-08 21:34:14,199 - mmdet - INFO - Epoch [29][800/1016]\tlr: 2.500e-07, eta: 1:02:07, time: 0.507, data_time: 0.114, memory: 3114, loss_rpn_cls: 0.0804, loss_rpn_bbox: 0.0982, loss_cls: 0.5261, acc: 81.5156, loss_bbox: 0.5056, loss_mask: 0.3120, loss: 1.5222\n",
      "2022-05-08 21:34:39,655 - mmdet - INFO - Epoch [29][850/1016]\tlr: 2.500e-07, eta: 1:01:42, time: 0.509, data_time: 0.113, memory: 3114, loss_rpn_cls: 0.0834, loss_rpn_bbox: 0.1056, loss_cls: 0.5516, acc: 81.0273, loss_bbox: 0.5112, loss_mask: 0.3085, loss: 1.5602\n",
      "2022-05-08 21:35:06,717 - mmdet - INFO - Epoch [29][900/1016]\tlr: 2.500e-07, eta: 1:01:17, time: 0.541, data_time: 0.124, memory: 3114, loss_rpn_cls: 0.0719, loss_rpn_bbox: 0.0995, loss_cls: 0.5250, acc: 81.5820, loss_bbox: 0.5083, loss_mask: 0.3176, loss: 1.5223\n",
      "2022-05-08 21:35:30,966 - mmdet - INFO - Epoch [29][950/1016]\tlr: 2.500e-07, eta: 1:00:51, time: 0.485, data_time: 0.103, memory: 3114, loss_rpn_cls: 0.0687, loss_rpn_bbox: 0.0945, loss_cls: 0.5344, acc: 81.4141, loss_bbox: 0.4971, loss_mask: 0.3116, loss: 1.5063\n",
      "2022-05-08 21:35:57,456 - mmdet - INFO - Epoch [29][1000/1016]\tlr: 2.500e-07, eta: 1:00:26, time: 0.530, data_time: 0.125, memory: 3114, loss_rpn_cls: 0.0780, loss_rpn_bbox: 0.1003, loss_cls: 0.5041, acc: 82.0410, loss_bbox: 0.4843, loss_mask: 0.2979, loss: 1.4646\n"
     ]
    },
    {
     "name": "stdout",
     "output_type": "stream",
     "text": [
      "[>>>>>>>>>>>>>>>>>>>>>>>>>>>>>>] 508/508, 9.2 task/s, elapsed: 55s, ETA:     0s"
     ]
    },
    {
     "name": "stderr",
     "output_type": "stream",
     "text": [
      "2022-05-08 21:37:05,774 - mmdet - INFO - Evaluating bbox...\n"
     ]
    },
    {
     "name": "stdout",
     "output_type": "stream",
     "text": [
      "Loading and preparing results...\n",
      "DONE (t=0.08s)\n",
      "creating index...\n",
      "index created!\n",
      "Running per image evaluation...\n",
      "Evaluate annotation type *bbox*\n",
      "DONE (t=33.41s).\n",
      "Accumulating evaluation results...\n"
     ]
    },
    {
     "name": "stderr",
     "output_type": "stream",
     "text": [
      "2022-05-08 21:37:41,131 - mmdet - INFO - \n",
      " Average Precision  (AP) @[ IoU=0.50:0.95 | area=   all | maxDets=100 ] = 0.163\n",
      " Average Precision  (AP) @[ IoU=0.50      | area=   all | maxDets=1000 ] = 0.313\n",
      " Average Precision  (AP) @[ IoU=0.75      | area=   all | maxDets=1000 ] = 0.155\n",
      " Average Precision  (AP) @[ IoU=0.50:0.95 | area= small | maxDets=1000 ] = 0.171\n",
      " Average Precision  (AP) @[ IoU=0.50:0.95 | area=medium | maxDets=1000 ] = 0.197\n",
      " Average Precision  (AP) @[ IoU=0.50:0.95 | area= large | maxDets=1000 ] = -1.000\n",
      " Average Recall     (AR) @[ IoU=0.50:0.95 | area=   all | maxDets=100 ] = 0.323\n",
      " Average Recall     (AR) @[ IoU=0.50:0.95 | area=   all | maxDets=300 ] = 0.323\n",
      " Average Recall     (AR) @[ IoU=0.50:0.95 | area=   all | maxDets=1000 ] = 0.323\n",
      " Average Recall     (AR) @[ IoU=0.50:0.95 | area= small | maxDets=1000 ] = 0.315\n",
      " Average Recall     (AR) @[ IoU=0.50:0.95 | area=medium | maxDets=1000 ] = 0.516\n",
      " Average Recall     (AR) @[ IoU=0.50:0.95 | area= large | maxDets=1000 ] = -1.000\n",
      "\n",
      "2022-05-08 21:37:41,133 - mmdet - INFO - Evaluating segm...\n"
     ]
    },
    {
     "name": "stdout",
     "output_type": "stream",
     "text": [
      "DONE (t=1.34s).\n"
     ]
    },
    {
     "name": "stderr",
     "output_type": "stream",
     "text": [
      "/kaggle/working/mmdetection/mmdet/datasets/coco.py:474: UserWarning: The key \"bbox\" is deleted for more accurate mask AP of small/medium/large instances since v2.12.0. This does not change the overall mAP calculation.\n",
      "  UserWarning)\n"
     ]
    },
    {
     "name": "stdout",
     "output_type": "stream",
     "text": [
      "Loading and preparing results...\n",
      "DONE (t=0.67s)\n",
      "creating index...\n",
      "index created!\n",
      "Running per image evaluation...\n",
      "Evaluate annotation type *segm*\n",
      "DONE (t=34.29s).\n",
      "Accumulating evaluation results...\n"
     ]
    },
    {
     "name": "stderr",
     "output_type": "stream",
     "text": [
      "2022-05-08 21:38:18,188 - mmdet - INFO - \n",
      " Average Precision  (AP) @[ IoU=0.50:0.95 | area=   all | maxDets=100 ] = 0.150\n",
      " Average Precision  (AP) @[ IoU=0.50      | area=   all | maxDets=1000 ] = 0.304\n",
      " Average Precision  (AP) @[ IoU=0.75      | area=   all | maxDets=1000 ] = 0.133\n",
      " Average Precision  (AP) @[ IoU=0.50:0.95 | area= small | maxDets=1000 ] = 0.142\n",
      " Average Precision  (AP) @[ IoU=0.50:0.95 | area=medium | maxDets=1000 ] = 0.300\n",
      " Average Precision  (AP) @[ IoU=0.50:0.95 | area= large | maxDets=1000 ] = -1.000\n",
      " Average Recall     (AR) @[ IoU=0.50:0.95 | area=   all | maxDets=100 ] = 0.298\n",
      " Average Recall     (AR) @[ IoU=0.50:0.95 | area=   all | maxDets=300 ] = 0.298\n",
      " Average Recall     (AR) @[ IoU=0.50:0.95 | area=   all | maxDets=1000 ] = 0.298\n",
      " Average Recall     (AR) @[ IoU=0.50:0.95 | area= small | maxDets=1000 ] = 0.290\n",
      " Average Recall     (AR) @[ IoU=0.50:0.95 | area=medium | maxDets=1000 ] = 0.491\n",
      " Average Recall     (AR) @[ IoU=0.50:0.95 | area= large | maxDets=1000 ] = -1.000\n",
      "\n",
      "2022-05-08 21:38:18,305 - mmdet - INFO - Epoch(val) [29][508]\tbbox_mAP: 0.1630, bbox_mAP_50: 0.3130, bbox_mAP_75: 0.1550, bbox_mAP_s: 0.1710, bbox_mAP_m: 0.1970, bbox_mAP_l: -1.0000, bbox_mAP_copypaste: 0.163 0.313 0.155 0.171 0.197 -1.000, segm_mAP: 0.1500, segm_mAP_50: 0.3040, segm_mAP_75: 0.1330, segm_mAP_s: 0.1420, segm_mAP_m: 0.3000, segm_mAP_l: -1.0000, segm_mAP_copypaste: 0.150 0.304 0.133 0.142 0.300 -1.000\n"
     ]
    },
    {
     "name": "stdout",
     "output_type": "stream",
     "text": [
      "DONE (t=1.35s).\n"
     ]
    },
    {
     "name": "stderr",
     "output_type": "stream",
     "text": [
      "2022-05-08 21:38:47,620 - mmdet - INFO - Epoch [30][50/1016]\tlr: 2.500e-07, eta: 0:59:51, time: 0.585, data_time: 0.185, memory: 3114, loss_rpn_cls: 0.0749, loss_rpn_bbox: 0.1019, loss_cls: 0.5180, acc: 81.8066, loss_bbox: 0.5051, loss_mask: 0.3106, loss: 1.5105\n",
      "2022-05-08 21:39:15,035 - mmdet - INFO - Epoch [30][100/1016]\tlr: 2.500e-07, eta: 0:59:26, time: 0.548, data_time: 0.152, memory: 3114, loss_rpn_cls: 0.0884, loss_rpn_bbox: 0.1070, loss_cls: 0.5420, acc: 81.1211, loss_bbox: 0.5106, loss_mask: 0.3233, loss: 1.5712\n",
      "2022-05-08 21:39:43,712 - mmdet - INFO - Epoch [30][150/1016]\tlr: 2.500e-07, eta: 0:59:02, time: 0.574, data_time: 0.142, memory: 3114, loss_rpn_cls: 0.0783, loss_rpn_bbox: 0.1026, loss_cls: 0.5324, acc: 81.5801, loss_bbox: 0.5028, loss_mask: 0.3138, loss: 1.5298\n",
      "2022-05-08 21:40:07,702 - mmdet - INFO - Epoch [30][200/1016]\tlr: 2.500e-07, eta: 0:58:36, time: 0.480, data_time: 0.096, memory: 3114, loss_rpn_cls: 0.0720, loss_rpn_bbox: 0.0937, loss_cls: 0.5057, acc: 81.9277, loss_bbox: 0.5051, loss_mask: 0.3088, loss: 1.4853\n",
      "2022-05-08 21:40:32,186 - mmdet - INFO - Epoch [30][250/1016]\tlr: 2.500e-07, eta: 0:58:10, time: 0.490, data_time: 0.108, memory: 3114, loss_rpn_cls: 0.0713, loss_rpn_bbox: 0.1063, loss_cls: 0.5165, acc: 81.7773, loss_bbox: 0.5017, loss_mask: 0.3152, loss: 1.5110\n",
      "2022-05-08 21:40:57,149 - mmdet - INFO - Epoch [30][300/1016]\tlr: 2.500e-07, eta: 0:57:45, time: 0.499, data_time: 0.117, memory: 3114, loss_rpn_cls: 0.0731, loss_rpn_bbox: 0.1000, loss_cls: 0.5357, acc: 81.4043, loss_bbox: 0.4977, loss_mask: 0.3140, loss: 1.5205\n",
      "2022-05-08 21:41:21,164 - mmdet - INFO - Epoch [30][350/1016]\tlr: 2.500e-07, eta: 0:57:19, time: 0.480, data_time: 0.101, memory: 3114, loss_rpn_cls: 0.0671, loss_rpn_bbox: 0.0894, loss_cls: 0.4932, acc: 82.3516, loss_bbox: 0.4911, loss_mask: 0.3163, loss: 1.4571\n",
      "2022-05-08 21:41:45,502 - mmdet - INFO - Epoch [30][400/1016]\tlr: 2.500e-07, eta: 0:56:53, time: 0.487, data_time: 0.103, memory: 3114, loss_rpn_cls: 0.0753, loss_rpn_bbox: 0.1052, loss_cls: 0.5172, acc: 81.7207, loss_bbox: 0.4969, loss_mask: 0.3136, loss: 1.5081\n",
      "2022-05-08 21:42:11,867 - mmdet - INFO - Epoch [30][450/1016]\tlr: 2.500e-07, eta: 0:56:28, time: 0.527, data_time: 0.113, memory: 3114, loss_rpn_cls: 0.0700, loss_rpn_bbox: 0.0932, loss_cls: 0.5435, acc: 81.3047, loss_bbox: 0.4905, loss_mask: 0.3012, loss: 1.4985\n",
      "2022-05-08 21:42:37,307 - mmdet - INFO - Epoch [30][500/1016]\tlr: 2.500e-07, eta: 0:56:03, time: 0.509, data_time: 0.113, memory: 3114, loss_rpn_cls: 0.0757, loss_rpn_bbox: 0.1012, loss_cls: 0.5245, acc: 81.8965, loss_bbox: 0.4955, loss_mask: 0.3057, loss: 1.5027\n",
      "2022-05-08 21:43:02,867 - mmdet - INFO - Epoch [30][550/1016]\tlr: 2.500e-07, eta: 0:55:37, time: 0.511, data_time: 0.121, memory: 3114, loss_rpn_cls: 0.0740, loss_rpn_bbox: 0.0979, loss_cls: 0.5161, acc: 81.9102, loss_bbox: 0.4807, loss_mask: 0.2927, loss: 1.4615\n",
      "2022-05-08 21:43:28,690 - mmdet - INFO - Epoch [30][600/1016]\tlr: 2.500e-07, eta: 0:55:12, time: 0.516, data_time: 0.122, memory: 3114, loss_rpn_cls: 0.0759, loss_rpn_bbox: 0.1034, loss_cls: 0.5190, acc: 81.3887, loss_bbox: 0.5224, loss_mask: 0.3185, loss: 1.5391\n",
      "2022-05-08 21:43:52,863 - mmdet - INFO - Epoch [30][650/1016]\tlr: 2.500e-07, eta: 0:54:46, time: 0.483, data_time: 0.106, memory: 3114, loss_rpn_cls: 0.0802, loss_rpn_bbox: 0.0940, loss_cls: 0.5116, acc: 82.0215, loss_bbox: 0.4971, loss_mask: 0.3095, loss: 1.4924\n",
      "2022-05-08 21:44:17,864 - mmdet - INFO - Epoch [30][700/1016]\tlr: 2.500e-07, eta: 0:54:21, time: 0.500, data_time: 0.117, memory: 3114, loss_rpn_cls: 0.0772, loss_rpn_bbox: 0.1019, loss_cls: 0.5048, acc: 82.1113, loss_bbox: 0.4819, loss_mask: 0.3080, loss: 1.4738\n",
      "2022-05-08 21:44:45,110 - mmdet - INFO - Epoch [30][750/1016]\tlr: 2.500e-07, eta: 0:53:56, time: 0.545, data_time: 0.125, memory: 3114, loss_rpn_cls: 0.0767, loss_rpn_bbox: 0.1019, loss_cls: 0.5123, acc: 81.8320, loss_bbox: 0.5171, loss_mask: 0.3130, loss: 1.5209\n",
      "2022-05-08 21:45:09,132 - mmdet - INFO - Epoch [30][800/1016]\tlr: 2.500e-07, eta: 0:53:30, time: 0.480, data_time: 0.099, memory: 3114, loss_rpn_cls: 0.0766, loss_rpn_bbox: 0.0938, loss_cls: 0.5362, acc: 81.0176, loss_bbox: 0.5141, loss_mask: 0.3168, loss: 1.5376\n",
      "2022-05-08 21:45:34,197 - mmdet - INFO - Epoch [30][850/1016]\tlr: 2.500e-07, eta: 0:53:04, time: 0.501, data_time: 0.114, memory: 3114, loss_rpn_cls: 0.0682, loss_rpn_bbox: 0.0954, loss_cls: 0.5127, acc: 81.9922, loss_bbox: 0.4946, loss_mask: 0.3038, loss: 1.4747\n",
      "2022-05-08 21:45:58,700 - mmdet - INFO - Epoch [30][900/1016]\tlr: 2.500e-07, eta: 0:52:39, time: 0.490, data_time: 0.108, memory: 3114, loss_rpn_cls: 0.0778, loss_rpn_bbox: 0.0992, loss_cls: 0.5207, acc: 81.6191, loss_bbox: 0.5030, loss_mask: 0.3160, loss: 1.5167\n",
      "2022-05-08 21:46:24,893 - mmdet - INFO - Epoch [30][950/1016]\tlr: 2.500e-07, eta: 0:52:14, time: 0.524, data_time: 0.133, memory: 3114, loss_rpn_cls: 0.0733, loss_rpn_bbox: 0.1017, loss_cls: 0.5193, acc: 81.5352, loss_bbox: 0.4882, loss_mask: 0.3030, loss: 1.4855\n",
      "2022-05-08 21:46:49,826 - mmdet - INFO - Epoch [30][1000/1016]\tlr: 2.500e-07, eta: 0:51:48, time: 0.499, data_time: 0.109, memory: 3114, loss_rpn_cls: 0.0761, loss_rpn_bbox: 0.1029, loss_cls: 0.5440, acc: 81.1797, loss_bbox: 0.5078, loss_mask: 0.3057, loss: 1.5365\n"
     ]
    },
    {
     "name": "stdout",
     "output_type": "stream",
     "text": [
      "[>>>>>>>>>>>>>>>>>>>>>>>>>>>>>>] 508/508, 9.3 task/s, elapsed: 55s, ETA:     0s"
     ]
    },
    {
     "name": "stderr",
     "output_type": "stream",
     "text": [
      "2022-05-08 21:47:57,532 - mmdet - INFO - Evaluating bbox...\n"
     ]
    },
    {
     "name": "stdout",
     "output_type": "stream",
     "text": [
      "Loading and preparing results...\n",
      "DONE (t=0.38s)\n",
      "creating index...\n",
      "index created!\n",
      "Running per image evaluation...\n",
      "Evaluate annotation type *bbox*\n",
      "DONE (t=33.62s).\n",
      "Accumulating evaluation results...\n"
     ]
    },
    {
     "name": "stderr",
     "output_type": "stream",
     "text": [
      "2022-05-08 21:48:33,082 - mmdet - INFO - \n",
      " Average Precision  (AP) @[ IoU=0.50:0.95 | area=   all | maxDets=100 ] = 0.163\n",
      " Average Precision  (AP) @[ IoU=0.50      | area=   all | maxDets=1000 ] = 0.313\n",
      " Average Precision  (AP) @[ IoU=0.75      | area=   all | maxDets=1000 ] = 0.155\n",
      " Average Precision  (AP) @[ IoU=0.50:0.95 | area= small | maxDets=1000 ] = 0.171\n",
      " Average Precision  (AP) @[ IoU=0.50:0.95 | area=medium | maxDets=1000 ] = 0.197\n",
      " Average Precision  (AP) @[ IoU=0.50:0.95 | area= large | maxDets=1000 ] = -1.000\n",
      " Average Recall     (AR) @[ IoU=0.50:0.95 | area=   all | maxDets=100 ] = 0.323\n",
      " Average Recall     (AR) @[ IoU=0.50:0.95 | area=   all | maxDets=300 ] = 0.323\n",
      " Average Recall     (AR) @[ IoU=0.50:0.95 | area=   all | maxDets=1000 ] = 0.323\n",
      " Average Recall     (AR) @[ IoU=0.50:0.95 | area= small | maxDets=1000 ] = 0.315\n",
      " Average Recall     (AR) @[ IoU=0.50:0.95 | area=medium | maxDets=1000 ] = 0.516\n",
      " Average Recall     (AR) @[ IoU=0.50:0.95 | area= large | maxDets=1000 ] = -1.000\n",
      "\n",
      "2022-05-08 21:48:33,084 - mmdet - INFO - Evaluating segm...\n"
     ]
    },
    {
     "name": "stdout",
     "output_type": "stream",
     "text": [
      "DONE (t=1.32s).\n"
     ]
    },
    {
     "name": "stderr",
     "output_type": "stream",
     "text": [
      "/kaggle/working/mmdetection/mmdet/datasets/coco.py:474: UserWarning: The key \"bbox\" is deleted for more accurate mask AP of small/medium/large instances since v2.12.0. This does not change the overall mAP calculation.\n",
      "  UserWarning)\n"
     ]
    },
    {
     "name": "stdout",
     "output_type": "stream",
     "text": [
      "Loading and preparing results...\n",
      "DONE (t=0.66s)\n",
      "creating index...\n",
      "index created!\n",
      "Running per image evaluation...\n",
      "Evaluate annotation type *segm*\n",
      "DONE (t=34.65s).\n",
      "Accumulating evaluation results...\n"
     ]
    },
    {
     "name": "stderr",
     "output_type": "stream",
     "text": [
      "2022-05-08 21:49:11,251 - mmdet - INFO - \n",
      " Average Precision  (AP) @[ IoU=0.50:0.95 | area=   all | maxDets=100 ] = 0.151\n",
      " Average Precision  (AP) @[ IoU=0.50      | area=   all | maxDets=1000 ] = 0.304\n",
      " Average Precision  (AP) @[ IoU=0.75      | area=   all | maxDets=1000 ] = 0.134\n",
      " Average Precision  (AP) @[ IoU=0.50:0.95 | area= small | maxDets=1000 ] = 0.143\n",
      " Average Precision  (AP) @[ IoU=0.50:0.95 | area=medium | maxDets=1000 ] = 0.300\n",
      " Average Precision  (AP) @[ IoU=0.50:0.95 | area= large | maxDets=1000 ] = -1.000\n",
      " Average Recall     (AR) @[ IoU=0.50:0.95 | area=   all | maxDets=100 ] = 0.299\n",
      " Average Recall     (AR) @[ IoU=0.50:0.95 | area=   all | maxDets=300 ] = 0.299\n",
      " Average Recall     (AR) @[ IoU=0.50:0.95 | area=   all | maxDets=1000 ] = 0.299\n",
      " Average Recall     (AR) @[ IoU=0.50:0.95 | area= small | maxDets=1000 ] = 0.290\n",
      " Average Recall     (AR) @[ IoU=0.50:0.95 | area=medium | maxDets=1000 ] = 0.491\n",
      " Average Recall     (AR) @[ IoU=0.50:0.95 | area= large | maxDets=1000 ] = -1.000\n",
      "\n",
      "2022-05-08 21:49:11,436 - mmdet - INFO - Epoch(val) [30][508]\tbbox_mAP: 0.1630, bbox_mAP_50: 0.3130, bbox_mAP_75: 0.1550, bbox_mAP_s: 0.1710, bbox_mAP_m: 0.1970, bbox_mAP_l: -1.0000, bbox_mAP_copypaste: 0.163 0.313 0.155 0.171 0.197 -1.000, segm_mAP: 0.1510, segm_mAP_50: 0.3040, segm_mAP_75: 0.1340, segm_mAP_s: 0.1430, segm_mAP_m: 0.3000, segm_mAP_l: -1.0000, segm_mAP_copypaste: 0.151 0.304 0.134 0.143 0.300 -1.000\n"
     ]
    },
    {
     "name": "stdout",
     "output_type": "stream",
     "text": [
      "DONE (t=2.44s).\n"
     ]
    },
    {
     "name": "stderr",
     "output_type": "stream",
     "text": [
      "2022-05-08 21:49:40,868 - mmdet - INFO - Epoch [31][50/1016]\tlr: 2.500e-07, eta: 0:51:14, time: 0.587, data_time: 0.183, memory: 3114, loss_rpn_cls: 0.0768, loss_rpn_bbox: 0.0975, loss_cls: 0.5360, acc: 81.2910, loss_bbox: 0.4840, loss_mask: 0.3115, loss: 1.5058\n",
      "2022-05-08 21:50:06,725 - mmdet - INFO - Epoch [31][100/1016]\tlr: 2.500e-07, eta: 0:50:48, time: 0.517, data_time: 0.128, memory: 3114, loss_rpn_cls: 0.0832, loss_rpn_bbox: 0.0970, loss_cls: 0.5144, acc: 82.0391, loss_bbox: 0.4877, loss_mask: 0.3034, loss: 1.4856\n",
      "2022-05-08 21:50:31,723 - mmdet - INFO - Epoch [31][150/1016]\tlr: 2.500e-07, eta: 0:50:23, time: 0.500, data_time: 0.116, memory: 3114, loss_rpn_cls: 0.0809, loss_rpn_bbox: 0.1066, loss_cls: 0.5051, acc: 81.8945, loss_bbox: 0.5111, loss_mask: 0.3158, loss: 1.5196\n",
      "2022-05-08 21:50:55,720 - mmdet - INFO - Epoch [31][200/1016]\tlr: 2.500e-07, eta: 0:49:57, time: 0.480, data_time: 0.096, memory: 3114, loss_rpn_cls: 0.0764, loss_rpn_bbox: 0.1017, loss_cls: 0.5176, acc: 82.0430, loss_bbox: 0.4900, loss_mask: 0.3118, loss: 1.4975\n",
      "2022-05-08 21:51:20,139 - mmdet - INFO - Epoch [31][250/1016]\tlr: 2.500e-07, eta: 0:49:31, time: 0.488, data_time: 0.103, memory: 3114, loss_rpn_cls: 0.0670, loss_rpn_bbox: 0.0929, loss_cls: 0.5104, acc: 82.0938, loss_bbox: 0.4899, loss_mask: 0.3045, loss: 1.4647\n",
      "2022-05-08 21:51:47,582 - mmdet - INFO - Epoch [31][300/1016]\tlr: 2.500e-07, eta: 0:49:06, time: 0.549, data_time: 0.119, memory: 3114, loss_rpn_cls: 0.0692, loss_rpn_bbox: 0.0955, loss_cls: 0.4778, acc: 82.9609, loss_bbox: 0.4910, loss_mask: 0.3003, loss: 1.4337\n",
      "2022-05-08 21:52:12,683 - mmdet - INFO - Epoch [31][350/1016]\tlr: 2.500e-07, eta: 0:48:41, time: 0.502, data_time: 0.110, memory: 3114, loss_rpn_cls: 0.0799, loss_rpn_bbox: 0.1053, loss_cls: 0.5411, acc: 81.3418, loss_bbox: 0.5162, loss_mask: 0.3232, loss: 1.5657\n",
      "2022-05-08 21:52:36,729 - mmdet - INFO - Epoch [31][400/1016]\tlr: 2.500e-07, eta: 0:48:15, time: 0.481, data_time: 0.101, memory: 3114, loss_rpn_cls: 0.0765, loss_rpn_bbox: 0.1008, loss_cls: 0.5291, acc: 81.4863, loss_bbox: 0.5174, loss_mask: 0.3162, loss: 1.5401\n",
      "2022-05-08 21:53:00,841 - mmdet - INFO - Epoch [31][450/1016]\tlr: 2.500e-07, eta: 0:47:50, time: 0.482, data_time: 0.096, memory: 3114, loss_rpn_cls: 0.0709, loss_rpn_bbox: 0.0943, loss_cls: 0.4997, acc: 82.6387, loss_bbox: 0.4743, loss_mask: 0.3117, loss: 1.4510\n",
      "2022-05-08 21:53:25,227 - mmdet - INFO - Epoch [31][500/1016]\tlr: 2.500e-07, eta: 0:47:24, time: 0.488, data_time: 0.099, memory: 3114, loss_rpn_cls: 0.0748, loss_rpn_bbox: 0.1027, loss_cls: 0.5222, acc: 81.7441, loss_bbox: 0.5127, loss_mask: 0.3186, loss: 1.5310\n",
      "2022-05-08 21:53:50,128 - mmdet - INFO - Epoch [31][550/1016]\tlr: 2.500e-07, eta: 0:46:58, time: 0.498, data_time: 0.113, memory: 3114, loss_rpn_cls: 0.0733, loss_rpn_bbox: 0.1004, loss_cls: 0.5182, acc: 81.5684, loss_bbox: 0.5170, loss_mask: 0.3092, loss: 1.5181\n",
      "2022-05-08 21:54:17,066 - mmdet - INFO - Epoch [31][600/1016]\tlr: 2.500e-07, eta: 0:46:33, time: 0.539, data_time: 0.123, memory: 3114, loss_rpn_cls: 0.0771, loss_rpn_bbox: 0.0987, loss_cls: 0.5221, acc: 81.6973, loss_bbox: 0.4902, loss_mask: 0.3054, loss: 1.4935\n",
      "2022-05-08 21:54:42,430 - mmdet - INFO - Epoch [31][650/1016]\tlr: 2.500e-07, eta: 0:46:08, time: 0.507, data_time: 0.102, memory: 3114, loss_rpn_cls: 0.0699, loss_rpn_bbox: 0.0922, loss_cls: 0.5016, acc: 82.4062, loss_bbox: 0.4786, loss_mask: 0.2968, loss: 1.4390\n",
      "2022-05-08 21:55:08,414 - mmdet - INFO - Epoch [31][700/1016]\tlr: 2.500e-07, eta: 0:45:43, time: 0.520, data_time: 0.121, memory: 3114, loss_rpn_cls: 0.0781, loss_rpn_bbox: 0.0955, loss_cls: 0.5366, acc: 81.3242, loss_bbox: 0.4983, loss_mask: 0.3082, loss: 1.5168\n",
      "2022-05-08 21:55:35,229 - mmdet - INFO - Epoch [31][750/1016]\tlr: 2.500e-07, eta: 0:45:17, time: 0.536, data_time: 0.130, memory: 3114, loss_rpn_cls: 0.0783, loss_rpn_bbox: 0.1031, loss_cls: 0.5405, acc: 80.9062, loss_bbox: 0.5049, loss_mask: 0.3108, loss: 1.5376\n",
      "2022-05-08 21:56:00,262 - mmdet - INFO - Epoch [31][800/1016]\tlr: 2.500e-07, eta: 0:44:52, time: 0.501, data_time: 0.109, memory: 3114, loss_rpn_cls: 0.0847, loss_rpn_bbox: 0.1075, loss_cls: 0.5341, acc: 81.0430, loss_bbox: 0.5220, loss_mask: 0.3124, loss: 1.5608\n",
      "2022-05-08 21:56:25,374 - mmdet - INFO - Epoch [31][850/1016]\tlr: 2.500e-07, eta: 0:44:26, time: 0.502, data_time: 0.108, memory: 3114, loss_rpn_cls: 0.0730, loss_rpn_bbox: 0.1070, loss_cls: 0.5475, acc: 80.8359, loss_bbox: 0.5074, loss_mask: 0.3154, loss: 1.5503\n",
      "2022-05-08 21:56:52,956 - mmdet - INFO - Epoch [31][900/1016]\tlr: 2.500e-07, eta: 0:44:01, time: 0.552, data_time: 0.116, memory: 3114, loss_rpn_cls: 0.0647, loss_rpn_bbox: 0.0988, loss_cls: 0.5320, acc: 81.2402, loss_bbox: 0.5004, loss_mask: 0.3078, loss: 1.5036\n",
      "2022-05-08 21:57:18,738 - mmdet - INFO - Epoch [31][950/1016]\tlr: 2.500e-07, eta: 0:43:36, time: 0.516, data_time: 0.119, memory: 3114, loss_rpn_cls: 0.0795, loss_rpn_bbox: 0.0992, loss_cls: 0.5431, acc: 80.8750, loss_bbox: 0.5207, loss_mask: 0.3177, loss: 1.5602\n",
      "2022-05-08 21:57:43,786 - mmdet - INFO - Epoch [31][1000/1016]\tlr: 2.500e-07, eta: 0:43:11, time: 0.501, data_time: 0.115, memory: 3114, loss_rpn_cls: 0.0747, loss_rpn_bbox: 0.0942, loss_cls: 0.5086, acc: 82.2383, loss_bbox: 0.4924, loss_mask: 0.3030, loss: 1.4729\n"
     ]
    },
    {
     "name": "stdout",
     "output_type": "stream",
     "text": [
      "[>>>>>>>>>>>>>>>>>>>>>>>>>>>>>>] 508/508, 9.2 task/s, elapsed: 55s, ETA:     0s"
     ]
    },
    {
     "name": "stderr",
     "output_type": "stream",
     "text": [
      "2022-05-08 21:58:52,742 - mmdet - INFO - Evaluating bbox...\n"
     ]
    },
    {
     "name": "stdout",
     "output_type": "stream",
     "text": [
      "Loading and preparing results...\n",
      "DONE (t=0.08s)\n",
      "creating index...\n",
      "index created!\n",
      "Running per image evaluation...\n",
      "Evaluate annotation type *bbox*\n",
      "DONE (t=33.96s).\n",
      "Accumulating evaluation results...\n"
     ]
    },
    {
     "name": "stderr",
     "output_type": "stream",
     "text": [
      "2022-05-08 21:59:28,428 - mmdet - INFO - \n",
      " Average Precision  (AP) @[ IoU=0.50:0.95 | area=   all | maxDets=100 ] = 0.163\n",
      " Average Precision  (AP) @[ IoU=0.50      | area=   all | maxDets=1000 ] = 0.313\n",
      " Average Precision  (AP) @[ IoU=0.75      | area=   all | maxDets=1000 ] = 0.155\n",
      " Average Precision  (AP) @[ IoU=0.50:0.95 | area= small | maxDets=1000 ] = 0.171\n",
      " Average Precision  (AP) @[ IoU=0.50:0.95 | area=medium | maxDets=1000 ] = 0.197\n",
      " Average Precision  (AP) @[ IoU=0.50:0.95 | area= large | maxDets=1000 ] = -1.000\n",
      " Average Recall     (AR) @[ IoU=0.50:0.95 | area=   all | maxDets=100 ] = 0.323\n",
      " Average Recall     (AR) @[ IoU=0.50:0.95 | area=   all | maxDets=300 ] = 0.323\n",
      " Average Recall     (AR) @[ IoU=0.50:0.95 | area=   all | maxDets=1000 ] = 0.323\n",
      " Average Recall     (AR) @[ IoU=0.50:0.95 | area= small | maxDets=1000 ] = 0.315\n",
      " Average Recall     (AR) @[ IoU=0.50:0.95 | area=medium | maxDets=1000 ] = 0.517\n",
      " Average Recall     (AR) @[ IoU=0.50:0.95 | area= large | maxDets=1000 ] = -1.000\n",
      "\n",
      "2022-05-08 21:59:28,429 - mmdet - INFO - Evaluating segm...\n"
     ]
    },
    {
     "name": "stdout",
     "output_type": "stream",
     "text": [
      "DONE (t=1.33s).\n"
     ]
    },
    {
     "name": "stderr",
     "output_type": "stream",
     "text": [
      "/kaggle/working/mmdetection/mmdet/datasets/coco.py:474: UserWarning: The key \"bbox\" is deleted for more accurate mask AP of small/medium/large instances since v2.12.0. This does not change the overall mAP calculation.\n",
      "  UserWarning)\n"
     ]
    },
    {
     "name": "stdout",
     "output_type": "stream",
     "text": [
      "Loading and preparing results...\n",
      "DONE (t=0.67s)\n",
      "creating index...\n",
      "index created!\n",
      "Running per image evaluation...\n",
      "Evaluate annotation type *segm*\n",
      "DONE (t=34.55s).\n",
      "Accumulating evaluation results...\n"
     ]
    },
    {
     "name": "stderr",
     "output_type": "stream",
     "text": [
      "2022-05-08 22:00:05,380 - mmdet - INFO - \n",
      " Average Precision  (AP) @[ IoU=0.50:0.95 | area=   all | maxDets=100 ] = 0.150\n",
      " Average Precision  (AP) @[ IoU=0.50      | area=   all | maxDets=1000 ] = 0.304\n",
      " Average Precision  (AP) @[ IoU=0.75      | area=   all | maxDets=1000 ] = 0.134\n",
      " Average Precision  (AP) @[ IoU=0.50:0.95 | area= small | maxDets=1000 ] = 0.142\n",
      " Average Precision  (AP) @[ IoU=0.50:0.95 | area=medium | maxDets=1000 ] = 0.300\n",
      " Average Precision  (AP) @[ IoU=0.50:0.95 | area= large | maxDets=1000 ] = -1.000\n",
      " Average Recall     (AR) @[ IoU=0.50:0.95 | area=   all | maxDets=100 ] = 0.299\n",
      " Average Recall     (AR) @[ IoU=0.50:0.95 | area=   all | maxDets=300 ] = 0.299\n",
      " Average Recall     (AR) @[ IoU=0.50:0.95 | area=   all | maxDets=1000 ] = 0.299\n",
      " Average Recall     (AR) @[ IoU=0.50:0.95 | area= small | maxDets=1000 ] = 0.290\n",
      " Average Recall     (AR) @[ IoU=0.50:0.95 | area=medium | maxDets=1000 ] = 0.491\n",
      " Average Recall     (AR) @[ IoU=0.50:0.95 | area= large | maxDets=1000 ] = -1.000\n",
      "\n",
      "2022-05-08 22:00:05,497 - mmdet - INFO - Epoch(val) [31][508]\tbbox_mAP: 0.1630, bbox_mAP_50: 0.3130, bbox_mAP_75: 0.1550, bbox_mAP_s: 0.1710, bbox_mAP_m: 0.1970, bbox_mAP_l: -1.0000, bbox_mAP_copypaste: 0.163 0.313 0.155 0.171 0.197 -1.000, segm_mAP: 0.1500, segm_mAP_50: 0.3040, segm_mAP_75: 0.1340, segm_mAP_s: 0.1420, segm_mAP_m: 0.3000, segm_mAP_l: -1.0000, segm_mAP_copypaste: 0.150 0.304 0.134 0.142 0.300 -1.000\n"
     ]
    },
    {
     "name": "stdout",
     "output_type": "stream",
     "text": [
      "DONE (t=1.32s).\n"
     ]
    },
    {
     "name": "stderr",
     "output_type": "stream",
     "text": [
      "2022-05-08 22:00:33,808 - mmdet - INFO - Epoch [32][50/1016]\tlr: 2.500e-07, eta: 0:42:36, time: 0.565, data_time: 0.161, memory: 3114, loss_rpn_cls: 0.0705, loss_rpn_bbox: 0.1005, loss_cls: 0.5228, acc: 81.6094, loss_bbox: 0.5047, loss_mask: 0.3045, loss: 1.5031\n",
      "2022-05-08 22:00:57,933 - mmdet - INFO - Epoch [32][100/1016]\tlr: 2.500e-07, eta: 0:42:11, time: 0.482, data_time: 0.099, memory: 3114, loss_rpn_cls: 0.0771, loss_rpn_bbox: 0.0950, loss_cls: 0.5083, acc: 81.9551, loss_bbox: 0.5016, loss_mask: 0.3106, loss: 1.4926\n",
      "2022-05-08 22:01:26,110 - mmdet - INFO - Epoch [32][150/1016]\tlr: 2.500e-07, eta: 0:41:46, time: 0.564, data_time: 0.128, memory: 3114, loss_rpn_cls: 0.0822, loss_rpn_bbox: 0.1084, loss_cls: 0.5452, acc: 81.1074, loss_bbox: 0.5307, loss_mask: 0.3231, loss: 1.5896\n",
      "2022-05-08 22:01:51,341 - mmdet - INFO - Epoch [32][200/1016]\tlr: 2.500e-07, eta: 0:41:20, time: 0.505, data_time: 0.114, memory: 3114, loss_rpn_cls: 0.0759, loss_rpn_bbox: 0.1053, loss_cls: 0.5498, acc: 80.7500, loss_bbox: 0.5074, loss_mask: 0.3011, loss: 1.5395\n",
      "2022-05-08 22:02:16,042 - mmdet - INFO - Epoch [32][250/1016]\tlr: 2.500e-07, eta: 0:40:55, time: 0.494, data_time: 0.107, memory: 3114, loss_rpn_cls: 0.0798, loss_rpn_bbox: 0.1085, loss_cls: 0.5313, acc: 80.7539, loss_bbox: 0.5306, loss_mask: 0.3282, loss: 1.5784\n",
      "2022-05-08 22:02:41,167 - mmdet - INFO - Epoch [32][300/1016]\tlr: 2.500e-07, eta: 0:40:29, time: 0.503, data_time: 0.116, memory: 3114, loss_rpn_cls: 0.0731, loss_rpn_bbox: 0.0939, loss_cls: 0.5128, acc: 82.0977, loss_bbox: 0.4818, loss_mask: 0.3033, loss: 1.4650\n",
      "2022-05-08 22:03:06,119 - mmdet - INFO - Epoch [32][350/1016]\tlr: 2.500e-07, eta: 0:40:04, time: 0.499, data_time: 0.108, memory: 3114, loss_rpn_cls: 0.0671, loss_rpn_bbox: 0.0964, loss_cls: 0.5148, acc: 81.8887, loss_bbox: 0.4893, loss_mask: 0.3057, loss: 1.4733\n",
      "2022-05-08 22:03:29,979 - mmdet - INFO - Epoch [32][400/1016]\tlr: 2.500e-07, eta: 0:39:38, time: 0.477, data_time: 0.097, memory: 3114, loss_rpn_cls: 0.0737, loss_rpn_bbox: 0.0928, loss_cls: 0.5193, acc: 81.4062, loss_bbox: 0.5192, loss_mask: 0.3175, loss: 1.5224\n",
      "2022-05-08 22:03:57,570 - mmdet - INFO - Epoch [32][450/1016]\tlr: 2.500e-07, eta: 0:39:13, time: 0.552, data_time: 0.125, memory: 3114, loss_rpn_cls: 0.0709, loss_rpn_bbox: 0.0909, loss_cls: 0.5111, acc: 82.3340, loss_bbox: 0.4862, loss_mask: 0.3113, loss: 1.4704\n",
      "2022-05-08 22:04:23,986 - mmdet - INFO - Epoch [32][500/1016]\tlr: 2.500e-07, eta: 0:38:48, time: 0.528, data_time: 0.135, memory: 3114, loss_rpn_cls: 0.0753, loss_rpn_bbox: 0.0965, loss_cls: 0.5245, acc: 81.6504, loss_bbox: 0.4986, loss_mask: 0.3114, loss: 1.5064\n",
      "2022-05-08 22:04:48,349 - mmdet - INFO - Epoch [32][550/1016]\tlr: 2.500e-07, eta: 0:38:22, time: 0.487, data_time: 0.105, memory: 3114, loss_rpn_cls: 0.0693, loss_rpn_bbox: 0.0992, loss_cls: 0.5261, acc: 81.4648, loss_bbox: 0.4902, loss_mask: 0.3046, loss: 1.4894\n",
      "2022-05-08 22:05:14,317 - mmdet - INFO - Epoch [32][600/1016]\tlr: 2.500e-07, eta: 0:37:57, time: 0.519, data_time: 0.128, memory: 3114, loss_rpn_cls: 0.0829, loss_rpn_bbox: 0.1063, loss_cls: 0.5300, acc: 81.6719, loss_bbox: 0.4882, loss_mask: 0.3180, loss: 1.5255\n",
      "2022-05-08 22:05:38,859 - mmdet - INFO - Epoch [32][650/1016]\tlr: 2.500e-07, eta: 0:37:31, time: 0.491, data_time: 0.108, memory: 3114, loss_rpn_cls: 0.0696, loss_rpn_bbox: 0.0916, loss_cls: 0.5109, acc: 82.1152, loss_bbox: 0.4842, loss_mask: 0.3049, loss: 1.4612\n",
      "2022-05-08 22:06:06,438 - mmdet - INFO - Epoch [32][700/1016]\tlr: 2.500e-07, eta: 0:37:06, time: 0.552, data_time: 0.150, memory: 3114, loss_rpn_cls: 0.0837, loss_rpn_bbox: 0.1123, loss_cls: 0.5487, acc: 80.9160, loss_bbox: 0.4981, loss_mask: 0.3062, loss: 1.5490\n",
      "2022-05-08 22:06:34,363 - mmdet - INFO - Epoch [32][750/1016]\tlr: 2.500e-07, eta: 0:36:41, time: 0.558, data_time: 0.128, memory: 3114, loss_rpn_cls: 0.0678, loss_rpn_bbox: 0.1006, loss_cls: 0.5105, acc: 81.8223, loss_bbox: 0.5146, loss_mask: 0.3091, loss: 1.5026\n",
      "2022-05-08 22:07:01,107 - mmdet - INFO - Epoch [32][800/1016]\tlr: 2.500e-07, eta: 0:36:16, time: 0.535, data_time: 0.145, memory: 3114, loss_rpn_cls: 0.0859, loss_rpn_bbox: 0.1046, loss_cls: 0.5262, acc: 81.4375, loss_bbox: 0.5014, loss_mask: 0.3170, loss: 1.5351\n",
      "2022-05-08 22:07:25,560 - mmdet - INFO - Epoch [32][850/1016]\tlr: 2.500e-07, eta: 0:35:50, time: 0.489, data_time: 0.104, memory: 3114, loss_rpn_cls: 0.0677, loss_rpn_bbox: 0.0958, loss_cls: 0.5223, acc: 81.8652, loss_bbox: 0.4900, loss_mask: 0.3072, loss: 1.4831\n",
      "2022-05-08 22:07:50,453 - mmdet - INFO - Epoch [32][900/1016]\tlr: 2.500e-07, eta: 0:35:25, time: 0.498, data_time: 0.116, memory: 3114, loss_rpn_cls: 0.0791, loss_rpn_bbox: 0.0905, loss_cls: 0.5124, acc: 82.0547, loss_bbox: 0.4928, loss_mask: 0.3151, loss: 1.4899\n",
      "2022-05-08 22:08:15,440 - mmdet - INFO - Epoch [32][950/1016]\tlr: 2.500e-07, eta: 0:34:59, time: 0.500, data_time: 0.110, memory: 3114, loss_rpn_cls: 0.0810, loss_rpn_bbox: 0.0978, loss_cls: 0.5115, acc: 82.0215, loss_bbox: 0.5093, loss_mask: 0.3134, loss: 1.5130\n",
      "2022-05-08 22:08:40,145 - mmdet - INFO - Epoch [32][1000/1016]\tlr: 2.500e-07, eta: 0:34:34, time: 0.494, data_time: 0.110, memory: 3114, loss_rpn_cls: 0.0654, loss_rpn_bbox: 0.0984, loss_cls: 0.5113, acc: 81.7109, loss_bbox: 0.4918, loss_mask: 0.3032, loss: 1.4701\n"
     ]
    },
    {
     "name": "stdout",
     "output_type": "stream",
     "text": [
      "[>>>>>>>>>>>>>>>>>>>>>>>>>>>>>>] 508/508, 9.3 task/s, elapsed: 54s, ETA:     0s"
     ]
    },
    {
     "name": "stderr",
     "output_type": "stream",
     "text": [
      "2022-05-08 22:09:47,755 - mmdet - INFO - Evaluating bbox...\n"
     ]
    },
    {
     "name": "stdout",
     "output_type": "stream",
     "text": [
      "Loading and preparing results...\n",
      "DONE (t=0.08s)\n",
      "creating index...\n",
      "index created!\n",
      "Running per image evaluation...\n",
      "Evaluate annotation type *bbox*\n",
      "DONE (t=34.07s).\n",
      "Accumulating evaluation results...\n"
     ]
    },
    {
     "name": "stderr",
     "output_type": "stream",
     "text": [
      "2022-05-08 22:10:23,770 - mmdet - INFO - \n",
      " Average Precision  (AP) @[ IoU=0.50:0.95 | area=   all | maxDets=100 ] = 0.163\n",
      " Average Precision  (AP) @[ IoU=0.50      | area=   all | maxDets=1000 ] = 0.313\n",
      " Average Precision  (AP) @[ IoU=0.75      | area=   all | maxDets=1000 ] = 0.155\n",
      " Average Precision  (AP) @[ IoU=0.50:0.95 | area= small | maxDets=1000 ] = 0.171\n",
      " Average Precision  (AP) @[ IoU=0.50:0.95 | area=medium | maxDets=1000 ] = 0.197\n",
      " Average Precision  (AP) @[ IoU=0.50:0.95 | area= large | maxDets=1000 ] = -1.000\n",
      " Average Recall     (AR) @[ IoU=0.50:0.95 | area=   all | maxDets=100 ] = 0.323\n",
      " Average Recall     (AR) @[ IoU=0.50:0.95 | area=   all | maxDets=300 ] = 0.323\n",
      " Average Recall     (AR) @[ IoU=0.50:0.95 | area=   all | maxDets=1000 ] = 0.323\n",
      " Average Recall     (AR) @[ IoU=0.50:0.95 | area= small | maxDets=1000 ] = 0.315\n",
      " Average Recall     (AR) @[ IoU=0.50:0.95 | area=medium | maxDets=1000 ] = 0.517\n",
      " Average Recall     (AR) @[ IoU=0.50:0.95 | area= large | maxDets=1000 ] = -1.000\n",
      "\n",
      "2022-05-08 22:10:23,771 - mmdet - INFO - Evaluating segm...\n"
     ]
    },
    {
     "name": "stdout",
     "output_type": "stream",
     "text": [
      "DONE (t=1.59s).\n"
     ]
    },
    {
     "name": "stderr",
     "output_type": "stream",
     "text": [
      "/kaggle/working/mmdetection/mmdet/datasets/coco.py:474: UserWarning: The key \"bbox\" is deleted for more accurate mask AP of small/medium/large instances since v2.12.0. This does not change the overall mAP calculation.\n",
      "  UserWarning)\n"
     ]
    },
    {
     "name": "stdout",
     "output_type": "stream",
     "text": [
      "Loading and preparing results...\n",
      "DONE (t=0.66s)\n",
      "creating index...\n",
      "index created!\n",
      "Running per image evaluation...\n",
      "Evaluate annotation type *segm*\n",
      "DONE (t=34.58s).\n",
      "Accumulating evaluation results...\n"
     ]
    },
    {
     "name": "stderr",
     "output_type": "stream",
     "text": [
      "2022-05-08 22:11:01,873 - mmdet - INFO - \n",
      " Average Precision  (AP) @[ IoU=0.50:0.95 | area=   all | maxDets=100 ] = 0.150\n",
      " Average Precision  (AP) @[ IoU=0.50      | area=   all | maxDets=1000 ] = 0.304\n",
      " Average Precision  (AP) @[ IoU=0.75      | area=   all | maxDets=1000 ] = 0.134\n",
      " Average Precision  (AP) @[ IoU=0.50:0.95 | area= small | maxDets=1000 ] = 0.142\n",
      " Average Precision  (AP) @[ IoU=0.50:0.95 | area=medium | maxDets=1000 ] = 0.300\n",
      " Average Precision  (AP) @[ IoU=0.50:0.95 | area= large | maxDets=1000 ] = -1.000\n",
      " Average Recall     (AR) @[ IoU=0.50:0.95 | area=   all | maxDets=100 ] = 0.299\n",
      " Average Recall     (AR) @[ IoU=0.50:0.95 | area=   all | maxDets=300 ] = 0.299\n",
      " Average Recall     (AR) @[ IoU=0.50:0.95 | area=   all | maxDets=1000 ] = 0.299\n",
      " Average Recall     (AR) @[ IoU=0.50:0.95 | area= small | maxDets=1000 ] = 0.290\n",
      " Average Recall     (AR) @[ IoU=0.50:0.95 | area=medium | maxDets=1000 ] = 0.491\n",
      " Average Recall     (AR) @[ IoU=0.50:0.95 | area= large | maxDets=1000 ] = -1.000\n",
      "\n",
      "2022-05-08 22:11:02,064 - mmdet - INFO - Epoch(val) [32][508]\tbbox_mAP: 0.1630, bbox_mAP_50: 0.3130, bbox_mAP_75: 0.1550, bbox_mAP_s: 0.1710, bbox_mAP_m: 0.1970, bbox_mAP_l: -1.0000, bbox_mAP_copypaste: 0.163 0.313 0.155 0.171 0.197 -1.000, segm_mAP: 0.1500, segm_mAP_50: 0.3040, segm_mAP_75: 0.1340, segm_mAP_s: 0.1420, segm_mAP_m: 0.3000, segm_mAP_l: -1.0000, segm_mAP_copypaste: 0.150 0.304 0.134 0.142 0.300 -1.000\n"
     ]
    },
    {
     "name": "stdout",
     "output_type": "stream",
     "text": [
      "DONE (t=2.12s).\n"
     ]
    },
    {
     "name": "stderr",
     "output_type": "stream",
     "text": [
      "2022-05-08 22:11:32,073 - mmdet - INFO - Epoch [33][50/1016]\tlr: 2.500e-08, eta: 0:34:00, time: 0.599, data_time: 0.183, memory: 3114, loss_rpn_cls: 0.0670, loss_rpn_bbox: 0.1024, loss_cls: 0.5257, acc: 81.5586, loss_bbox: 0.4925, loss_mask: 0.3022, loss: 1.4898\n",
      "2022-05-08 22:11:56,706 - mmdet - INFO - Epoch [33][100/1016]\tlr: 2.500e-08, eta: 0:33:34, time: 0.493, data_time: 0.114, memory: 3114, loss_rpn_cls: 0.0687, loss_rpn_bbox: 0.0982, loss_cls: 0.5029, acc: 82.2031, loss_bbox: 0.4834, loss_mask: 0.3079, loss: 1.4611\n",
      "2022-05-08 22:12:21,133 - mmdet - INFO - Epoch [33][150/1016]\tlr: 2.500e-08, eta: 0:33:09, time: 0.489, data_time: 0.106, memory: 3114, loss_rpn_cls: 0.0750, loss_rpn_bbox: 0.0985, loss_cls: 0.5210, acc: 81.5781, loss_bbox: 0.4875, loss_mask: 0.3057, loss: 1.4878\n",
      "2022-05-08 22:12:45,430 - mmdet - INFO - Epoch [33][200/1016]\tlr: 2.500e-08, eta: 0:32:43, time: 0.486, data_time: 0.104, memory: 3114, loss_rpn_cls: 0.0763, loss_rpn_bbox: 0.0914, loss_cls: 0.4944, acc: 82.4062, loss_bbox: 0.4807, loss_mask: 0.3003, loss: 1.4431\n",
      "2022-05-08 22:13:10,446 - mmdet - INFO - Epoch [33][250/1016]\tlr: 2.500e-08, eta: 0:32:18, time: 0.500, data_time: 0.109, memory: 3114, loss_rpn_cls: 0.0713, loss_rpn_bbox: 0.1003, loss_cls: 0.5296, acc: 81.5273, loss_bbox: 0.5027, loss_mask: 0.3082, loss: 1.5120\n",
      "2022-05-08 22:13:34,987 - mmdet - INFO - Epoch [33][300/1016]\tlr: 2.500e-08, eta: 0:31:52, time: 0.491, data_time: 0.113, memory: 3114, loss_rpn_cls: 0.0672, loss_rpn_bbox: 0.0947, loss_cls: 0.5003, acc: 82.0293, loss_bbox: 0.4883, loss_mask: 0.3074, loss: 1.4579\n",
      "2022-05-08 22:14:02,351 - mmdet - INFO - Epoch [33][350/1016]\tlr: 2.500e-08, eta: 0:31:27, time: 0.547, data_time: 0.113, memory: 3114, loss_rpn_cls: 0.0773, loss_rpn_bbox: 0.0970, loss_cls: 0.5400, acc: 80.9102, loss_bbox: 0.5130, loss_mask: 0.3223, loss: 1.5497\n",
      "2022-05-08 22:14:27,453 - mmdet - INFO - Epoch [33][400/1016]\tlr: 2.500e-08, eta: 0:31:02, time: 0.502, data_time: 0.109, memory: 3114, loss_rpn_cls: 0.0731, loss_rpn_bbox: 0.1022, loss_cls: 0.5390, acc: 81.0684, loss_bbox: 0.5085, loss_mask: 0.3099, loss: 1.5327\n",
      "2022-05-08 22:14:54,263 - mmdet - INFO - Epoch [33][450/1016]\tlr: 2.500e-08, eta: 0:30:36, time: 0.536, data_time: 0.139, memory: 3114, loss_rpn_cls: 0.0826, loss_rpn_bbox: 0.1064, loss_cls: 0.5666, acc: 80.7559, loss_bbox: 0.4996, loss_mask: 0.3126, loss: 1.5678\n",
      "2022-05-08 22:15:18,071 - mmdet - INFO - Epoch [33][500/1016]\tlr: 2.500e-08, eta: 0:30:11, time: 0.476, data_time: 0.098, memory: 3114, loss_rpn_cls: 0.0728, loss_rpn_bbox: 0.0961, loss_cls: 0.5170, acc: 82.2500, loss_bbox: 0.5074, loss_mask: 0.3126, loss: 1.5059\n",
      "2022-05-08 22:15:43,322 - mmdet - INFO - Epoch [33][550/1016]\tlr: 2.500e-08, eta: 0:29:45, time: 0.505, data_time: 0.114, memory: 3114, loss_rpn_cls: 0.0783, loss_rpn_bbox: 0.1026, loss_cls: 0.5168, acc: 81.8066, loss_bbox: 0.5013, loss_mask: 0.3074, loss: 1.5064\n",
      "2022-05-08 22:16:08,587 - mmdet - INFO - Epoch [33][600/1016]\tlr: 2.500e-08, eta: 0:29:20, time: 0.505, data_time: 0.112, memory: 3114, loss_rpn_cls: 0.0761, loss_rpn_bbox: 0.1021, loss_cls: 0.5132, acc: 81.9297, loss_bbox: 0.5125, loss_mask: 0.3139, loss: 1.5179\n",
      "2022-05-08 22:16:35,330 - mmdet - INFO - Epoch [33][650/1016]\tlr: 2.500e-08, eta: 0:28:55, time: 0.535, data_time: 0.119, memory: 3114, loss_rpn_cls: 0.0693, loss_rpn_bbox: 0.0984, loss_cls: 0.5301, acc: 81.5898, loss_bbox: 0.4964, loss_mask: 0.3191, loss: 1.5133\n",
      "2022-05-08 22:16:59,874 - mmdet - INFO - Epoch [33][700/1016]\tlr: 2.500e-08, eta: 0:28:29, time: 0.491, data_time: 0.104, memory: 3114, loss_rpn_cls: 0.0758, loss_rpn_bbox: 0.0956, loss_cls: 0.5048, acc: 82.3066, loss_bbox: 0.4935, loss_mask: 0.3165, loss: 1.4863\n",
      "2022-05-08 22:17:25,158 - mmdet - INFO - Epoch [33][750/1016]\tlr: 2.500e-08, eta: 0:28:04, time: 0.506, data_time: 0.120, memory: 3114, loss_rpn_cls: 0.0770, loss_rpn_bbox: 0.0970, loss_cls: 0.5481, acc: 81.2656, loss_bbox: 0.4949, loss_mask: 0.3072, loss: 1.5243\n",
      "2022-05-08 22:17:49,910 - mmdet - INFO - Epoch [33][800/1016]\tlr: 2.500e-08, eta: 0:27:38, time: 0.495, data_time: 0.107, memory: 3114, loss_rpn_cls: 0.0736, loss_rpn_bbox: 0.0997, loss_cls: 0.4924, acc: 82.3379, loss_bbox: 0.5038, loss_mask: 0.3153, loss: 1.4849\n",
      "2022-05-08 22:18:14,760 - mmdet - INFO - Epoch [33][850/1016]\tlr: 2.500e-08, eta: 0:27:13, time: 0.497, data_time: 0.107, memory: 3114, loss_rpn_cls: 0.0730, loss_rpn_bbox: 0.0988, loss_cls: 0.5355, acc: 81.1230, loss_bbox: 0.5044, loss_mask: 0.3068, loss: 1.5186\n",
      "2022-05-08 22:18:39,584 - mmdet - INFO - Epoch [33][900/1016]\tlr: 2.500e-08, eta: 0:26:47, time: 0.496, data_time: 0.107, memory: 3114, loss_rpn_cls: 0.0750, loss_rpn_bbox: 0.0989, loss_cls: 0.4994, acc: 82.2148, loss_bbox: 0.4962, loss_mask: 0.3051, loss: 1.4747\n",
      "2022-05-08 22:19:08,782 - mmdet - INFO - Epoch [33][950/1016]\tlr: 2.500e-08, eta: 0:26:22, time: 0.584, data_time: 0.151, memory: 3114, loss_rpn_cls: 0.0785, loss_rpn_bbox: 0.1077, loss_cls: 0.5324, acc: 81.0645, loss_bbox: 0.5102, loss_mask: 0.3121, loss: 1.5409\n",
      "2022-05-08 22:19:33,699 - mmdet - INFO - Epoch [33][1000/1016]\tlr: 2.500e-08, eta: 0:25:57, time: 0.498, data_time: 0.109, memory: 3114, loss_rpn_cls: 0.0812, loss_rpn_bbox: 0.1023, loss_cls: 0.5322, acc: 81.2305, loss_bbox: 0.5212, loss_mask: 0.3123, loss: 1.5491\n"
     ]
    },
    {
     "name": "stdout",
     "output_type": "stream",
     "text": [
      "[>>>>>>>>>>>>>>>>>>>>>>>>>>>>>>] 508/508, 9.5 task/s, elapsed: 54s, ETA:     0s"
     ]
    },
    {
     "name": "stderr",
     "output_type": "stream",
     "text": [
      "2022-05-08 22:20:37,462 - mmdet - INFO - Evaluating bbox...\n"
     ]
    },
    {
     "name": "stdout",
     "output_type": "stream",
     "text": [
      "Loading and preparing results...\n",
      "DONE (t=0.07s)\n",
      "creating index...\n",
      "index created!\n",
      "Running per image evaluation...\n",
      "Evaluate annotation type *bbox*\n",
      "DONE (t=33.56s).\n",
      "Accumulating evaluation results...\n"
     ]
    },
    {
     "name": "stderr",
     "output_type": "stream",
     "text": [
      "2022-05-08 22:21:13,647 - mmdet - INFO - \n",
      " Average Precision  (AP) @[ IoU=0.50:0.95 | area=   all | maxDets=100 ] = 0.163\n",
      " Average Precision  (AP) @[ IoU=0.50      | area=   all | maxDets=1000 ] = 0.313\n",
      " Average Precision  (AP) @[ IoU=0.75      | area=   all | maxDets=1000 ] = 0.155\n",
      " Average Precision  (AP) @[ IoU=0.50:0.95 | area= small | maxDets=1000 ] = 0.171\n",
      " Average Precision  (AP) @[ IoU=0.50:0.95 | area=medium | maxDets=1000 ] = 0.197\n",
      " Average Precision  (AP) @[ IoU=0.50:0.95 | area= large | maxDets=1000 ] = -1.000\n",
      " Average Recall     (AR) @[ IoU=0.50:0.95 | area=   all | maxDets=100 ] = 0.323\n",
      " Average Recall     (AR) @[ IoU=0.50:0.95 | area=   all | maxDets=300 ] = 0.323\n",
      " Average Recall     (AR) @[ IoU=0.50:0.95 | area=   all | maxDets=1000 ] = 0.323\n",
      " Average Recall     (AR) @[ IoU=0.50:0.95 | area= small | maxDets=1000 ] = 0.315\n",
      " Average Recall     (AR) @[ IoU=0.50:0.95 | area=medium | maxDets=1000 ] = 0.517\n",
      " Average Recall     (AR) @[ IoU=0.50:0.95 | area= large | maxDets=1000 ] = -1.000\n",
      "\n",
      "2022-05-08 22:21:13,649 - mmdet - INFO - Evaluating segm...\n"
     ]
    },
    {
     "name": "stdout",
     "output_type": "stream",
     "text": [
      "DONE (t=2.06s).\n"
     ]
    },
    {
     "name": "stderr",
     "output_type": "stream",
     "text": [
      "/kaggle/working/mmdetection/mmdet/datasets/coco.py:474: UserWarning: The key \"bbox\" is deleted for more accurate mask AP of small/medium/large instances since v2.12.0. This does not change the overall mAP calculation.\n",
      "  UserWarning)\n"
     ]
    },
    {
     "name": "stdout",
     "output_type": "stream",
     "text": [
      "Loading and preparing results...\n",
      "DONE (t=1.17s)\n",
      "creating index...\n",
      "index created!\n",
      "Running per image evaluation...\n",
      "Evaluate annotation type *segm*\n",
      "DONE (t=36.63s).\n",
      "Accumulating evaluation results...\n"
     ]
    },
    {
     "name": "stderr",
     "output_type": "stream",
     "text": [
      "2022-05-08 22:21:54,321 - mmdet - INFO - \n",
      " Average Precision  (AP) @[ IoU=0.50:0.95 | area=   all | maxDets=100 ] = 0.150\n",
      " Average Precision  (AP) @[ IoU=0.50      | area=   all | maxDets=1000 ] = 0.304\n",
      " Average Precision  (AP) @[ IoU=0.75      | area=   all | maxDets=1000 ] = 0.134\n",
      " Average Precision  (AP) @[ IoU=0.50:0.95 | area= small | maxDets=1000 ] = 0.142\n",
      " Average Precision  (AP) @[ IoU=0.50:0.95 | area=medium | maxDets=1000 ] = 0.300\n",
      " Average Precision  (AP) @[ IoU=0.50:0.95 | area= large | maxDets=1000 ] = -1.000\n",
      " Average Recall     (AR) @[ IoU=0.50:0.95 | area=   all | maxDets=100 ] = 0.299\n",
      " Average Recall     (AR) @[ IoU=0.50:0.95 | area=   all | maxDets=300 ] = 0.299\n",
      " Average Recall     (AR) @[ IoU=0.50:0.95 | area=   all | maxDets=1000 ] = 0.299\n",
      " Average Recall     (AR) @[ IoU=0.50:0.95 | area= small | maxDets=1000 ] = 0.290\n",
      " Average Recall     (AR) @[ IoU=0.50:0.95 | area=medium | maxDets=1000 ] = 0.491\n",
      " Average Recall     (AR) @[ IoU=0.50:0.95 | area= large | maxDets=1000 ] = -1.000\n",
      "\n",
      "2022-05-08 22:21:54,498 - mmdet - INFO - Epoch(val) [33][508]\tbbox_mAP: 0.1630, bbox_mAP_50: 0.3130, bbox_mAP_75: 0.1550, bbox_mAP_s: 0.1710, bbox_mAP_m: 0.1970, bbox_mAP_l: -1.0000, bbox_mAP_copypaste: 0.163 0.313 0.155 0.171 0.197 -1.000, segm_mAP: 0.1500, segm_mAP_50: 0.3040, segm_mAP_75: 0.1340, segm_mAP_s: 0.1420, segm_mAP_m: 0.3000, segm_mAP_l: -1.0000, segm_mAP_copypaste: 0.150 0.304 0.134 0.142 0.300 -1.000\n"
     ]
    },
    {
     "name": "stdout",
     "output_type": "stream",
     "text": [
      "DONE (t=1.37s).\n"
     ]
    },
    {
     "name": "stderr",
     "output_type": "stream",
     "text": [
      "2022-05-08 22:22:22,696 - mmdet - INFO - Epoch [34][50/1016]\tlr: 2.500e-08, eta: 0:25:23, time: 0.563, data_time: 0.161, memory: 3114, loss_rpn_cls: 0.0771, loss_rpn_bbox: 0.1035, loss_cls: 0.5398, acc: 81.2656, loss_bbox: 0.5117, loss_mask: 0.3063, loss: 1.5384\n",
      "2022-05-08 22:22:48,138 - mmdet - INFO - Epoch [34][100/1016]\tlr: 2.500e-08, eta: 0:24:57, time: 0.509, data_time: 0.114, memory: 3114, loss_rpn_cls: 0.0773, loss_rpn_bbox: 0.0968, loss_cls: 0.4840, acc: 82.6914, loss_bbox: 0.4848, loss_mask: 0.3026, loss: 1.4454\n",
      "2022-05-08 22:23:14,344 - mmdet - INFO - Epoch [34][150/1016]\tlr: 2.500e-08, eta: 0:24:32, time: 0.524, data_time: 0.132, memory: 3114, loss_rpn_cls: 0.0793, loss_rpn_bbox: 0.0987, loss_cls: 0.5328, acc: 81.4668, loss_bbox: 0.5063, loss_mask: 0.3113, loss: 1.5284\n",
      "2022-05-08 22:23:38,929 - mmdet - INFO - Epoch [34][200/1016]\tlr: 2.500e-08, eta: 0:24:07, time: 0.492, data_time: 0.106, memory: 3114, loss_rpn_cls: 0.0702, loss_rpn_bbox: 0.0977, loss_cls: 0.5086, acc: 81.7227, loss_bbox: 0.4949, loss_mask: 0.3088, loss: 1.4802\n",
      "2022-05-08 22:24:07,231 - mmdet - INFO - Epoch [34][250/1016]\tlr: 2.500e-08, eta: 0:23:41, time: 0.566, data_time: 0.137, memory: 3114, loss_rpn_cls: 0.0700, loss_rpn_bbox: 0.1021, loss_cls: 0.5234, acc: 81.4551, loss_bbox: 0.5036, loss_mask: 0.3068, loss: 1.5059\n",
      "2022-05-08 22:24:32,068 - mmdet - INFO - Epoch [34][300/1016]\tlr: 2.500e-08, eta: 0:23:16, time: 0.496, data_time: 0.113, memory: 3114, loss_rpn_cls: 0.0690, loss_rpn_bbox: 0.0914, loss_cls: 0.5116, acc: 82.1250, loss_bbox: 0.4861, loss_mask: 0.3186, loss: 1.4767\n",
      "2022-05-08 22:24:58,128 - mmdet - INFO - Epoch [34][350/1016]\tlr: 2.500e-08, eta: 0:22:51, time: 0.521, data_time: 0.127, memory: 3114, loss_rpn_cls: 0.0832, loss_rpn_bbox: 0.1062, loss_cls: 0.5286, acc: 81.3477, loss_bbox: 0.4988, loss_mask: 0.3117, loss: 1.5285\n",
      "2022-05-08 22:25:22,264 - mmdet - INFO - Epoch [34][400/1016]\tlr: 2.500e-08, eta: 0:22:25, time: 0.483, data_time: 0.100, memory: 3114, loss_rpn_cls: 0.0630, loss_rpn_bbox: 0.0898, loss_cls: 0.5022, acc: 82.1758, loss_bbox: 0.4962, loss_mask: 0.3135, loss: 1.4646\n",
      "2022-05-08 22:25:48,008 - mmdet - INFO - Epoch [34][450/1016]\tlr: 2.500e-08, eta: 0:22:00, time: 0.515, data_time: 0.128, memory: 3114, loss_rpn_cls: 0.0735, loss_rpn_bbox: 0.1016, loss_cls: 0.5078, acc: 82.4824, loss_bbox: 0.4858, loss_mask: 0.3069, loss: 1.4756\n",
      "2022-05-08 22:26:11,895 - mmdet - INFO - Epoch [34][500/1016]\tlr: 2.500e-08, eta: 0:21:34, time: 0.478, data_time: 0.100, memory: 3114, loss_rpn_cls: 0.0652, loss_rpn_bbox: 0.0926, loss_cls: 0.4984, acc: 82.3633, loss_bbox: 0.4851, loss_mask: 0.3127, loss: 1.4539\n",
      "2022-05-08 22:26:40,737 - mmdet - INFO - Epoch [34][550/1016]\tlr: 2.500e-08, eta: 0:21:09, time: 0.577, data_time: 0.138, memory: 3114, loss_rpn_cls: 0.0858, loss_rpn_bbox: 0.1069, loss_cls: 0.5359, acc: 81.0137, loss_bbox: 0.5152, loss_mask: 0.3174, loss: 1.5612\n",
      "2022-05-08 22:27:06,174 - mmdet - INFO - Epoch [34][600/1016]\tlr: 2.500e-08, eta: 0:20:44, time: 0.509, data_time: 0.118, memory: 3114, loss_rpn_cls: 0.0732, loss_rpn_bbox: 0.0979, loss_cls: 0.5249, acc: 81.2812, loss_bbox: 0.5050, loss_mask: 0.3105, loss: 1.5114\n",
      "2022-05-08 22:27:31,293 - mmdet - INFO - Epoch [34][650/1016]\tlr: 2.500e-08, eta: 0:20:18, time: 0.502, data_time: 0.115, memory: 3114, loss_rpn_cls: 0.0741, loss_rpn_bbox: 0.0931, loss_cls: 0.5220, acc: 81.6641, loss_bbox: 0.4813, loss_mask: 0.3052, loss: 1.4757\n",
      "2022-05-08 22:27:56,458 - mmdet - INFO - Epoch [34][700/1016]\tlr: 2.500e-08, eta: 0:19:53, time: 0.503, data_time: 0.121, memory: 3114, loss_rpn_cls: 0.0866, loss_rpn_bbox: 0.1070, loss_cls: 0.5374, acc: 81.0898, loss_bbox: 0.5154, loss_mask: 0.3216, loss: 1.5680\n",
      "2022-05-08 22:28:21,020 - mmdet - INFO - Epoch [34][750/1016]\tlr: 2.500e-08, eta: 0:19:27, time: 0.491, data_time: 0.106, memory: 3114, loss_rpn_cls: 0.0642, loss_rpn_bbox: 0.0994, loss_cls: 0.5332, acc: 81.4805, loss_bbox: 0.5061, loss_mask: 0.3068, loss: 1.5097\n",
      "2022-05-08 22:28:46,651 - mmdet - INFO - Epoch [34][800/1016]\tlr: 2.500e-08, eta: 0:19:02, time: 0.513, data_time: 0.123, memory: 3114, loss_rpn_cls: 0.0811, loss_rpn_bbox: 0.1039, loss_cls: 0.5165, acc: 81.6133, loss_bbox: 0.5169, loss_mask: 0.3150, loss: 1.5334\n",
      "2022-05-08 22:29:15,290 - mmdet - INFO - Epoch [34][850/1016]\tlr: 2.500e-08, eta: 0:18:37, time: 0.573, data_time: 0.139, memory: 3114, loss_rpn_cls: 0.0673, loss_rpn_bbox: 0.0979, loss_cls: 0.5414, acc: 81.5117, loss_bbox: 0.4883, loss_mask: 0.2974, loss: 1.4922\n",
      "2022-05-08 22:29:40,220 - mmdet - INFO - Epoch [34][900/1016]\tlr: 2.500e-08, eta: 0:18:11, time: 0.499, data_time: 0.115, memory: 3114, loss_rpn_cls: 0.0720, loss_rpn_bbox: 0.0941, loss_cls: 0.5093, acc: 82.1602, loss_bbox: 0.4911, loss_mask: 0.3089, loss: 1.4753\n",
      "2022-05-08 22:30:06,234 - mmdet - INFO - Epoch [34][950/1016]\tlr: 2.500e-08, eta: 0:17:46, time: 0.520, data_time: 0.128, memory: 3114, loss_rpn_cls: 0.0890, loss_rpn_bbox: 0.1038, loss_cls: 0.5187, acc: 81.3145, loss_bbox: 0.5143, loss_mask: 0.3113, loss: 1.5370\n",
      "2022-05-08 22:30:31,677 - mmdet - INFO - Epoch [34][1000/1016]\tlr: 2.500e-08, eta: 0:17:20, time: 0.509, data_time: 0.120, memory: 3114, loss_rpn_cls: 0.0741, loss_rpn_bbox: 0.1026, loss_cls: 0.5294, acc: 81.5430, loss_bbox: 0.4986, loss_mask: 0.3084, loss: 1.5130\n"
     ]
    },
    {
     "name": "stdout",
     "output_type": "stream",
     "text": [
      "[>>>>>>>>>>>>>>>>>>>>>>>>>>>>>>] 508/508, 8.9 task/s, elapsed: 57s, ETA:     0s"
     ]
    },
    {
     "name": "stderr",
     "output_type": "stream",
     "text": [
      "2022-05-08 22:31:39,467 - mmdet - INFO - Evaluating bbox...\n"
     ]
    },
    {
     "name": "stdout",
     "output_type": "stream",
     "text": [
      "Loading and preparing results...\n",
      "DONE (t=0.07s)\n",
      "creating index...\n",
      "index created!\n",
      "Running per image evaluation...\n",
      "Evaluate annotation type *bbox*\n",
      "DONE (t=33.76s).\n",
      "Accumulating evaluation results...\n"
     ]
    },
    {
     "name": "stderr",
     "output_type": "stream",
     "text": [
      "2022-05-08 22:32:15,387 - mmdet - INFO - \n",
      " Average Precision  (AP) @[ IoU=0.50:0.95 | area=   all | maxDets=100 ] = 0.163\n",
      " Average Precision  (AP) @[ IoU=0.50      | area=   all | maxDets=1000 ] = 0.313\n",
      " Average Precision  (AP) @[ IoU=0.75      | area=   all | maxDets=1000 ] = 0.155\n",
      " Average Precision  (AP) @[ IoU=0.50:0.95 | area= small | maxDets=1000 ] = 0.171\n",
      " Average Precision  (AP) @[ IoU=0.50:0.95 | area=medium | maxDets=1000 ] = 0.197\n",
      " Average Precision  (AP) @[ IoU=0.50:0.95 | area= large | maxDets=1000 ] = -1.000\n",
      " Average Recall     (AR) @[ IoU=0.50:0.95 | area=   all | maxDets=100 ] = 0.323\n",
      " Average Recall     (AR) @[ IoU=0.50:0.95 | area=   all | maxDets=300 ] = 0.323\n",
      " Average Recall     (AR) @[ IoU=0.50:0.95 | area=   all | maxDets=1000 ] = 0.323\n",
      " Average Recall     (AR) @[ IoU=0.50:0.95 | area= small | maxDets=1000 ] = 0.315\n",
      " Average Recall     (AR) @[ IoU=0.50:0.95 | area=medium | maxDets=1000 ] = 0.517\n",
      " Average Recall     (AR) @[ IoU=0.50:0.95 | area= large | maxDets=1000 ] = -1.000\n",
      "\n",
      "2022-05-08 22:32:15,388 - mmdet - INFO - Evaluating segm...\n"
     ]
    },
    {
     "name": "stdout",
     "output_type": "stream",
     "text": [
      "DONE (t=1.58s).\n"
     ]
    },
    {
     "name": "stderr",
     "output_type": "stream",
     "text": [
      "/kaggle/working/mmdetection/mmdet/datasets/coco.py:474: UserWarning: The key \"bbox\" is deleted for more accurate mask AP of small/medium/large instances since v2.12.0. This does not change the overall mAP calculation.\n",
      "  UserWarning)\n"
     ]
    },
    {
     "name": "stdout",
     "output_type": "stream",
     "text": [
      "Loading and preparing results...\n",
      "DONE (t=0.67s)\n",
      "creating index...\n",
      "index created!\n",
      "Running per image evaluation...\n",
      "Evaluate annotation type *segm*\n",
      "DONE (t=34.13s).\n",
      "Accumulating evaluation results...\n"
     ]
    },
    {
     "name": "stderr",
     "output_type": "stream",
     "text": [
      "2022-05-08 22:32:52,244 - mmdet - INFO - \n",
      " Average Precision  (AP) @[ IoU=0.50:0.95 | area=   all | maxDets=100 ] = 0.150\n",
      " Average Precision  (AP) @[ IoU=0.50      | area=   all | maxDets=1000 ] = 0.304\n",
      " Average Precision  (AP) @[ IoU=0.75      | area=   all | maxDets=1000 ] = 0.134\n",
      " Average Precision  (AP) @[ IoU=0.50:0.95 | area= small | maxDets=1000 ] = 0.142\n",
      " Average Precision  (AP) @[ IoU=0.50:0.95 | area=medium | maxDets=1000 ] = 0.300\n",
      " Average Precision  (AP) @[ IoU=0.50:0.95 | area= large | maxDets=1000 ] = -1.000\n",
      " Average Recall     (AR) @[ IoU=0.50:0.95 | area=   all | maxDets=100 ] = 0.299\n",
      " Average Recall     (AR) @[ IoU=0.50:0.95 | area=   all | maxDets=300 ] = 0.299\n",
      " Average Recall     (AR) @[ IoU=0.50:0.95 | area=   all | maxDets=1000 ] = 0.299\n",
      " Average Recall     (AR) @[ IoU=0.50:0.95 | area= small | maxDets=1000 ] = 0.290\n",
      " Average Recall     (AR) @[ IoU=0.50:0.95 | area=medium | maxDets=1000 ] = 0.491\n",
      " Average Recall     (AR) @[ IoU=0.50:0.95 | area= large | maxDets=1000 ] = -1.000\n",
      "\n",
      "2022-05-08 22:32:52,359 - mmdet - INFO - Epoch(val) [34][508]\tbbox_mAP: 0.1630, bbox_mAP_50: 0.3130, bbox_mAP_75: 0.1550, bbox_mAP_s: 0.1710, bbox_mAP_m: 0.1970, bbox_mAP_l: -1.0000, bbox_mAP_copypaste: 0.163 0.313 0.155 0.171 0.197 -1.000, segm_mAP: 0.1500, segm_mAP_50: 0.3040, segm_mAP_75: 0.1340, segm_mAP_s: 0.1420, segm_mAP_m: 0.3000, segm_mAP_l: -1.0000, segm_mAP_copypaste: 0.150 0.304 0.134 0.142 0.300 -1.000\n"
     ]
    },
    {
     "name": "stdout",
     "output_type": "stream",
     "text": [
      "DONE (t=1.31s).\n"
     ]
    },
    {
     "name": "stderr",
     "output_type": "stream",
     "text": [
      "2022-05-08 22:33:21,005 - mmdet - INFO - Epoch [35][50/1016]\tlr: 2.500e-08, eta: 0:16:47, time: 0.572, data_time: 0.178, memory: 3114, loss_rpn_cls: 0.0926, loss_rpn_bbox: 0.1073, loss_cls: 0.5263, acc: 81.6738, loss_bbox: 0.4928, loss_mask: 0.3178, loss: 1.5369\n",
      "2022-05-08 22:33:48,476 - mmdet - INFO - Epoch [35][100/1016]\tlr: 2.500e-08, eta: 0:16:21, time: 0.549, data_time: 0.120, memory: 3114, loss_rpn_cls: 0.0797, loss_rpn_bbox: 0.0969, loss_cls: 0.5212, acc: 81.9141, loss_bbox: 0.4920, loss_mask: 0.3119, loss: 1.5017\n",
      "2022-05-08 22:34:14,347 - mmdet - INFO - Epoch [35][150/1016]\tlr: 2.500e-08, eta: 0:15:56, time: 0.517, data_time: 0.129, memory: 3114, loss_rpn_cls: 0.0758, loss_rpn_bbox: 0.0959, loss_cls: 0.5234, acc: 81.4609, loss_bbox: 0.5002, loss_mask: 0.3178, loss: 1.5131\n",
      "2022-05-08 22:34:39,020 - mmdet - INFO - Epoch [35][200/1016]\tlr: 2.500e-08, eta: 0:15:30, time: 0.493, data_time: 0.105, memory: 3114, loss_rpn_cls: 0.0806, loss_rpn_bbox: 0.0999, loss_cls: 0.5330, acc: 81.1426, loss_bbox: 0.5081, loss_mask: 0.3111, loss: 1.5326\n",
      "2022-05-08 22:35:03,636 - mmdet - INFO - Epoch [35][250/1016]\tlr: 2.500e-08, eta: 0:15:05, time: 0.492, data_time: 0.112, memory: 3114, loss_rpn_cls: 0.0715, loss_rpn_bbox: 0.1025, loss_cls: 0.5298, acc: 81.8340, loss_bbox: 0.5043, loss_mask: 0.3132, loss: 1.5213\n",
      "2022-05-08 22:35:28,559 - mmdet - INFO - Epoch [35][300/1016]\tlr: 2.500e-08, eta: 0:14:40, time: 0.498, data_time: 0.113, memory: 3114, loss_rpn_cls: 0.0800, loss_rpn_bbox: 0.0981, loss_cls: 0.5072, acc: 82.1055, loss_bbox: 0.4915, loss_mask: 0.3127, loss: 1.4896\n",
      "2022-05-08 22:35:55,581 - mmdet - INFO - Epoch [35][350/1016]\tlr: 2.500e-08, eta: 0:14:14, time: 0.540, data_time: 0.142, memory: 3114, loss_rpn_cls: 0.0739, loss_rpn_bbox: 0.0996, loss_cls: 0.5414, acc: 81.3691, loss_bbox: 0.4884, loss_mask: 0.3073, loss: 1.5106\n",
      "2022-05-08 22:36:22,067 - mmdet - INFO - Epoch [35][400/1016]\tlr: 2.500e-08, eta: 0:13:49, time: 0.530, data_time: 0.105, memory: 3114, loss_rpn_cls: 0.0689, loss_rpn_bbox: 0.0973, loss_cls: 0.5089, acc: 81.6582, loss_bbox: 0.5101, loss_mask: 0.3181, loss: 1.5034\n",
      "2022-05-08 22:36:48,491 - mmdet - INFO - Epoch [35][450/1016]\tlr: 2.500e-08, eta: 0:13:24, time: 0.528, data_time: 0.129, memory: 3114, loss_rpn_cls: 0.0785, loss_rpn_bbox: 0.0981, loss_cls: 0.5244, acc: 81.6797, loss_bbox: 0.4969, loss_mask: 0.3077, loss: 1.5057\n",
      "2022-05-08 22:37:14,544 - mmdet - INFO - Epoch [35][500/1016]\tlr: 2.500e-08, eta: 0:12:58, time: 0.521, data_time: 0.123, memory: 3114, loss_rpn_cls: 0.0826, loss_rpn_bbox: 0.1085, loss_cls: 0.5364, acc: 80.7520, loss_bbox: 0.5155, loss_mask: 0.3173, loss: 1.5603\n",
      "2022-05-08 22:37:39,968 - mmdet - INFO - Epoch [35][550/1016]\tlr: 2.500e-08, eta: 0:12:33, time: 0.508, data_time: 0.117, memory: 3114, loss_rpn_cls: 0.0837, loss_rpn_bbox: 0.1072, loss_cls: 0.5346, acc: 81.4219, loss_bbox: 0.5189, loss_mask: 0.3183, loss: 1.5627\n",
      "2022-05-08 22:38:06,383 - mmdet - INFO - Epoch [35][600/1016]\tlr: 2.500e-08, eta: 0:12:07, time: 0.528, data_time: 0.136, memory: 3114, loss_rpn_cls: 0.0750, loss_rpn_bbox: 0.0999, loss_cls: 0.5532, acc: 80.6523, loss_bbox: 0.5102, loss_mask: 0.3068, loss: 1.5452\n",
      "2022-05-08 22:38:31,190 - mmdet - INFO - Epoch [35][650/1016]\tlr: 2.500e-08, eta: 0:11:42, time: 0.496, data_time: 0.110, memory: 3114, loss_rpn_cls: 0.0722, loss_rpn_bbox: 0.0952, loss_cls: 0.5327, acc: 81.1074, loss_bbox: 0.5053, loss_mask: 0.3055, loss: 1.5108\n",
      "2022-05-08 22:38:58,933 - mmdet - INFO - Epoch [35][700/1016]\tlr: 2.500e-08, eta: 0:11:17, time: 0.555, data_time: 0.127, memory: 3114, loss_rpn_cls: 0.0692, loss_rpn_bbox: 0.0961, loss_cls: 0.5305, acc: 81.1543, loss_bbox: 0.5116, loss_mask: 0.3052, loss: 1.5125\n",
      "2022-05-08 22:39:24,403 - mmdet - INFO - Epoch [35][750/1016]\tlr: 2.500e-08, eta: 0:10:51, time: 0.509, data_time: 0.122, memory: 3114, loss_rpn_cls: 0.0691, loss_rpn_bbox: 0.1046, loss_cls: 0.5108, acc: 81.7969, loss_bbox: 0.5122, loss_mask: 0.3257, loss: 1.5225\n",
      "2022-05-08 22:39:48,700 - mmdet - INFO - Epoch [35][800/1016]\tlr: 2.500e-08, eta: 0:10:26, time: 0.486, data_time: 0.103, memory: 3114, loss_rpn_cls: 0.0740, loss_rpn_bbox: 0.0934, loss_cls: 0.5120, acc: 81.9512, loss_bbox: 0.5033, loss_mask: 0.3100, loss: 1.4927\n",
      "2022-05-08 22:40:13,083 - mmdet - INFO - Epoch [35][850/1016]\tlr: 2.500e-08, eta: 0:10:00, time: 0.488, data_time: 0.102, memory: 3114, loss_rpn_cls: 0.0729, loss_rpn_bbox: 0.0997, loss_cls: 0.4999, acc: 82.0996, loss_bbox: 0.5118, loss_mask: 0.3105, loss: 1.4947\n",
      "2022-05-08 22:40:39,198 - mmdet - INFO - Epoch [35][900/1016]\tlr: 2.500e-08, eta: 0:09:35, time: 0.522, data_time: 0.132, memory: 3114, loss_rpn_cls: 0.0708, loss_rpn_bbox: 0.0944, loss_cls: 0.5173, acc: 82.0840, loss_bbox: 0.4867, loss_mask: 0.3023, loss: 1.4715\n",
      "2022-05-08 22:41:03,960 - mmdet - INFO - Epoch [35][950/1016]\tlr: 2.500e-08, eta: 0:09:09, time: 0.495, data_time: 0.111, memory: 3114, loss_rpn_cls: 0.0658, loss_rpn_bbox: 0.1007, loss_cls: 0.5179, acc: 81.9277, loss_bbox: 0.4873, loss_mask: 0.3023, loss: 1.4741\n",
      "2022-05-08 22:41:30,558 - mmdet - INFO - Epoch [35][1000/1016]\tlr: 2.500e-08, eta: 0:08:44, time: 0.532, data_time: 0.109, memory: 3114, loss_rpn_cls: 0.0608, loss_rpn_bbox: 0.0898, loss_cls: 0.4911, acc: 82.8066, loss_bbox: 0.4718, loss_mask: 0.2988, loss: 1.4124\n"
     ]
    },
    {
     "name": "stdout",
     "output_type": "stream",
     "text": [
      "[>>>>>>>>>>>>>>>>>>>>>>>>>>>>>>] 508/508, 9.4 task/s, elapsed: 54s, ETA:     0s"
     ]
    },
    {
     "name": "stderr",
     "output_type": "stream",
     "text": [
      "2022-05-08 22:42:35,588 - mmdet - INFO - Evaluating bbox...\n"
     ]
    },
    {
     "name": "stdout",
     "output_type": "stream",
     "text": [
      "Loading and preparing results...\n",
      "DONE (t=0.37s)\n",
      "creating index...\n",
      "index created!\n",
      "Running per image evaluation...\n",
      "Evaluate annotation type *bbox*\n",
      "DONE (t=35.68s).\n",
      "Accumulating evaluation results...\n"
     ]
    },
    {
     "name": "stderr",
     "output_type": "stream",
     "text": [
      "2022-05-08 22:43:13,231 - mmdet - INFO - \n",
      " Average Precision  (AP) @[ IoU=0.50:0.95 | area=   all | maxDets=100 ] = 0.163\n",
      " Average Precision  (AP) @[ IoU=0.50      | area=   all | maxDets=1000 ] = 0.313\n",
      " Average Precision  (AP) @[ IoU=0.75      | area=   all | maxDets=1000 ] = 0.155\n",
      " Average Precision  (AP) @[ IoU=0.50:0.95 | area= small | maxDets=1000 ] = 0.171\n",
      " Average Precision  (AP) @[ IoU=0.50:0.95 | area=medium | maxDets=1000 ] = 0.197\n",
      " Average Precision  (AP) @[ IoU=0.50:0.95 | area= large | maxDets=1000 ] = -1.000\n",
      " Average Recall     (AR) @[ IoU=0.50:0.95 | area=   all | maxDets=100 ] = 0.323\n",
      " Average Recall     (AR) @[ IoU=0.50:0.95 | area=   all | maxDets=300 ] = 0.323\n",
      " Average Recall     (AR) @[ IoU=0.50:0.95 | area=   all | maxDets=1000 ] = 0.323\n",
      " Average Recall     (AR) @[ IoU=0.50:0.95 | area= small | maxDets=1000 ] = 0.315\n",
      " Average Recall     (AR) @[ IoU=0.50:0.95 | area=medium | maxDets=1000 ] = 0.517\n",
      " Average Recall     (AR) @[ IoU=0.50:0.95 | area= large | maxDets=1000 ] = -1.000\n",
      "\n",
      "2022-05-08 22:43:13,232 - mmdet - INFO - Evaluating segm...\n"
     ]
    },
    {
     "name": "stdout",
     "output_type": "stream",
     "text": [
      "DONE (t=1.35s).\n"
     ]
    },
    {
     "name": "stderr",
     "output_type": "stream",
     "text": [
      "/kaggle/working/mmdetection/mmdet/datasets/coco.py:474: UserWarning: The key \"bbox\" is deleted for more accurate mask AP of small/medium/large instances since v2.12.0. This does not change the overall mAP calculation.\n",
      "  UserWarning)\n"
     ]
    },
    {
     "name": "stdout",
     "output_type": "stream",
     "text": [
      "Loading and preparing results...\n",
      "DONE (t=0.95s)\n",
      "creating index...\n",
      "index created!\n",
      "Running per image evaluation...\n",
      "Evaluate annotation type *segm*\n",
      "DONE (t=34.75s).\n",
      "Accumulating evaluation results...\n"
     ]
    },
    {
     "name": "stderr",
     "output_type": "stream",
     "text": [
      "2022-05-08 22:43:51,773 - mmdet - INFO - \n",
      " Average Precision  (AP) @[ IoU=0.50:0.95 | area=   all | maxDets=100 ] = 0.150\n",
      " Average Precision  (AP) @[ IoU=0.50      | area=   all | maxDets=1000 ] = 0.304\n",
      " Average Precision  (AP) @[ IoU=0.75      | area=   all | maxDets=1000 ] = 0.134\n",
      " Average Precision  (AP) @[ IoU=0.50:0.95 | area= small | maxDets=1000 ] = 0.142\n",
      " Average Precision  (AP) @[ IoU=0.50:0.95 | area=medium | maxDets=1000 ] = 0.300\n",
      " Average Precision  (AP) @[ IoU=0.50:0.95 | area= large | maxDets=1000 ] = -1.000\n",
      " Average Recall     (AR) @[ IoU=0.50:0.95 | area=   all | maxDets=100 ] = 0.299\n",
      " Average Recall     (AR) @[ IoU=0.50:0.95 | area=   all | maxDets=300 ] = 0.299\n",
      " Average Recall     (AR) @[ IoU=0.50:0.95 | area=   all | maxDets=1000 ] = 0.299\n",
      " Average Recall     (AR) @[ IoU=0.50:0.95 | area= small | maxDets=1000 ] = 0.290\n",
      " Average Recall     (AR) @[ IoU=0.50:0.95 | area=medium | maxDets=1000 ] = 0.491\n",
      " Average Recall     (AR) @[ IoU=0.50:0.95 | area= large | maxDets=1000 ] = -1.000\n",
      "\n",
      "2022-05-08 22:43:51,960 - mmdet - INFO - Epoch(val) [35][508]\tbbox_mAP: 0.1630, bbox_mAP_50: 0.3130, bbox_mAP_75: 0.1550, bbox_mAP_s: 0.1710, bbox_mAP_m: 0.1970, bbox_mAP_l: -1.0000, bbox_mAP_copypaste: 0.163 0.313 0.155 0.171 0.197 -1.000, segm_mAP: 0.1500, segm_mAP_50: 0.3040, segm_mAP_75: 0.1340, segm_mAP_s: 0.1420, segm_mAP_m: 0.3000, segm_mAP_l: -1.0000, segm_mAP_copypaste: 0.150 0.304 0.134 0.142 0.300 -1.000\n"
     ]
    },
    {
     "name": "stdout",
     "output_type": "stream",
     "text": [
      "DONE (t=2.08s).\n"
     ]
    },
    {
     "name": "stderr",
     "output_type": "stream",
     "text": [
      "2022-05-08 22:44:23,767 - mmdet - INFO - Epoch [36][50/1016]\tlr: 2.500e-09, eta: 0:08:10, time: 0.635, data_time: 0.209, memory: 3114, loss_rpn_cls: 0.0731, loss_rpn_bbox: 0.1025, loss_cls: 0.5482, acc: 80.8008, loss_bbox: 0.5146, loss_mask: 0.3199, loss: 1.5582\n",
      "2022-05-08 22:44:50,938 - mmdet - INFO - Epoch [36][100/1016]\tlr: 2.500e-09, eta: 0:07:45, time: 0.543, data_time: 0.132, memory: 3114, loss_rpn_cls: 0.0696, loss_rpn_bbox: 0.1065, loss_cls: 0.5505, acc: 80.8398, loss_bbox: 0.4977, loss_mask: 0.2977, loss: 1.5220\n",
      "2022-05-08 22:45:16,210 - mmdet - INFO - Epoch [36][150/1016]\tlr: 2.500e-09, eta: 0:07:20, time: 0.505, data_time: 0.107, memory: 3114, loss_rpn_cls: 0.0752, loss_rpn_bbox: 0.0992, loss_cls: 0.5331, acc: 81.2773, loss_bbox: 0.5008, loss_mask: 0.3175, loss: 1.5258\n",
      "2022-05-08 22:45:42,049 - mmdet - INFO - Epoch [36][200/1016]\tlr: 2.500e-09, eta: 0:06:54, time: 0.517, data_time: 0.112, memory: 3114, loss_rpn_cls: 0.0813, loss_rpn_bbox: 0.1014, loss_cls: 0.5141, acc: 82.2148, loss_bbox: 0.5029, loss_mask: 0.3203, loss: 1.5199\n",
      "2022-05-08 22:46:05,814 - mmdet - INFO - Epoch [36][250/1016]\tlr: 2.500e-09, eta: 0:06:29, time: 0.475, data_time: 0.087, memory: 3114, loss_rpn_cls: 0.0714, loss_rpn_bbox: 0.0934, loss_cls: 0.5042, acc: 82.1016, loss_bbox: 0.5013, loss_mask: 0.3047, loss: 1.4749\n",
      "2022-05-08 22:46:34,791 - mmdet - INFO - Epoch [36][300/1016]\tlr: 2.500e-09, eta: 0:06:03, time: 0.580, data_time: 0.135, memory: 3114, loss_rpn_cls: 0.0762, loss_rpn_bbox: 0.1005, loss_cls: 0.5174, acc: 81.6699, loss_bbox: 0.4988, loss_mask: 0.3141, loss: 1.5071\n",
      "2022-05-08 22:47:01,298 - mmdet - INFO - Epoch [36][350/1016]\tlr: 2.500e-09, eta: 0:05:38, time: 0.530, data_time: 0.125, memory: 3114, loss_rpn_cls: 0.0836, loss_rpn_bbox: 0.1058, loss_cls: 0.5462, acc: 80.8008, loss_bbox: 0.5021, loss_mask: 0.3101, loss: 1.5477\n",
      "2022-05-08 22:47:25,677 - mmdet - INFO - Epoch [36][400/1016]\tlr: 2.500e-09, eta: 0:05:13, time: 0.488, data_time: 0.095, memory: 3114, loss_rpn_cls: 0.0715, loss_rpn_bbox: 0.0938, loss_cls: 0.5260, acc: 81.5898, loss_bbox: 0.4899, loss_mask: 0.3009, loss: 1.4822\n",
      "2022-05-08 22:47:51,251 - mmdet - INFO - Epoch [36][450/1016]\tlr: 2.500e-09, eta: 0:04:47, time: 0.511, data_time: 0.119, memory: 3114, loss_rpn_cls: 0.0745, loss_rpn_bbox: 0.1012, loss_cls: 0.4917, acc: 82.4160, loss_bbox: 0.4790, loss_mask: 0.3126, loss: 1.4589\n",
      "2022-05-08 22:48:16,732 - mmdet - INFO - Epoch [36][500/1016]\tlr: 2.500e-09, eta: 0:04:22, time: 0.510, data_time: 0.117, memory: 3114, loss_rpn_cls: 0.0770, loss_rpn_bbox: 0.1002, loss_cls: 0.5344, acc: 81.4629, loss_bbox: 0.5137, loss_mask: 0.3080, loss: 1.5331\n",
      "2022-05-08 22:48:40,746 - mmdet - INFO - Epoch [36][550/1016]\tlr: 2.500e-09, eta: 0:03:56, time: 0.480, data_time: 0.097, memory: 3114, loss_rpn_cls: 0.0718, loss_rpn_bbox: 0.0953, loss_cls: 0.5154, acc: 81.8887, loss_bbox: 0.5086, loss_mask: 0.3141, loss: 1.5052\n",
      "2022-05-08 22:49:08,930 - mmdet - INFO - Epoch [36][600/1016]\tlr: 2.500e-09, eta: 0:03:31, time: 0.564, data_time: 0.126, memory: 3114, loss_rpn_cls: 0.0748, loss_rpn_bbox: 0.0996, loss_cls: 0.5215, acc: 81.4297, loss_bbox: 0.5067, loss_mask: 0.3148, loss: 1.5174\n",
      "2022-05-08 22:49:33,584 - mmdet - INFO - Epoch [36][650/1016]\tlr: 2.500e-09, eta: 0:03:06, time: 0.493, data_time: 0.105, memory: 3114, loss_rpn_cls: 0.0786, loss_rpn_bbox: 0.0974, loss_cls: 0.5289, acc: 81.5645, loss_bbox: 0.4980, loss_mask: 0.3125, loss: 1.5154\n",
      "2022-05-08 22:49:58,527 - mmdet - INFO - Epoch [36][700/1016]\tlr: 2.500e-09, eta: 0:02:40, time: 0.499, data_time: 0.110, memory: 3114, loss_rpn_cls: 0.0774, loss_rpn_bbox: 0.0970, loss_cls: 0.4975, acc: 82.4629, loss_bbox: 0.4928, loss_mask: 0.3081, loss: 1.4729\n",
      "2022-05-08 22:50:24,282 - mmdet - INFO - Epoch [36][750/1016]\tlr: 2.500e-09, eta: 0:02:15, time: 0.515, data_time: 0.122, memory: 3114, loss_rpn_cls: 0.0803, loss_rpn_bbox: 0.1119, loss_cls: 0.5634, acc: 80.5039, loss_bbox: 0.5246, loss_mask: 0.3123, loss: 1.5925\n",
      "2022-05-08 22:50:47,538 - mmdet - INFO - Epoch [36][800/1016]\tlr: 2.500e-09, eta: 0:01:49, time: 0.465, data_time: 0.083, memory: 3114, loss_rpn_cls: 0.0745, loss_rpn_bbox: 0.0931, loss_cls: 0.5085, acc: 82.1777, loss_bbox: 0.4880, loss_mask: 0.3010, loss: 1.4652\n",
      "2022-05-08 22:51:10,580 - mmdet - INFO - Epoch [36][850/1016]\tlr: 2.500e-09, eta: 0:01:24, time: 0.461, data_time: 0.084, memory: 3114, loss_rpn_cls: 0.0689, loss_rpn_bbox: 0.0869, loss_cls: 0.5055, acc: 82.1816, loss_bbox: 0.4744, loss_mask: 0.3019, loss: 1.4376\n",
      "2022-05-08 22:51:38,354 - mmdet - INFO - Epoch [36][900/1016]\tlr: 2.500e-09, eta: 0:00:58, time: 0.555, data_time: 0.121, memory: 3114, loss_rpn_cls: 0.0756, loss_rpn_bbox: 0.1011, loss_cls: 0.5187, acc: 81.7910, loss_bbox: 0.5119, loss_mask: 0.3140, loss: 1.5213\n",
      "2022-05-08 22:52:03,585 - mmdet - INFO - Epoch [36][950/1016]\tlr: 2.500e-09, eta: 0:00:33, time: 0.505, data_time: 0.119, memory: 3114, loss_rpn_cls: 0.0709, loss_rpn_bbox: 0.0969, loss_cls: 0.5067, acc: 82.3535, loss_bbox: 0.4932, loss_mask: 0.3144, loss: 1.4821\n",
      "2022-05-08 22:52:28,374 - mmdet - INFO - Epoch [36][1000/1016]\tlr: 2.500e-09, eta: 0:00:08, time: 0.496, data_time: 0.103, memory: 3114, loss_rpn_cls: 0.0745, loss_rpn_bbox: 0.1012, loss_cls: 0.5231, acc: 81.4492, loss_bbox: 0.5096, loss_mask: 0.3181, loss: 1.5265\n",
      "2022-05-08 22:52:36,180 - mmdet - INFO - Saving checkpoint at 36 epochs\n"
     ]
    },
    {
     "name": "stdout",
     "output_type": "stream",
     "text": [
      "[>>>>>>>>>>>>>>>>>>>>>>>>>>>>>>] 508/508, 9.2 task/s, elapsed: 55s, ETA:     0s"
     ]
    },
    {
     "name": "stderr",
     "output_type": "stream",
     "text": [
      "2022-05-08 22:53:37,849 - mmdet - INFO - Evaluating bbox...\n"
     ]
    },
    {
     "name": "stdout",
     "output_type": "stream",
     "text": [
      "Loading and preparing results...\n",
      "DONE (t=0.15s)\n",
      "creating index...\n",
      "index created!\n",
      "Running per image evaluation...\n",
      "Evaluate annotation type *bbox*\n",
      "DONE (t=34.97s).\n",
      "Accumulating evaluation results...\n"
     ]
    },
    {
     "name": "stderr",
     "output_type": "stream",
     "text": [
      "2022-05-08 22:54:15,020 - mmdet - INFO - \n",
      " Average Precision  (AP) @[ IoU=0.50:0.95 | area=   all | maxDets=100 ] = 0.163\n",
      " Average Precision  (AP) @[ IoU=0.50      | area=   all | maxDets=1000 ] = 0.313\n",
      " Average Precision  (AP) @[ IoU=0.75      | area=   all | maxDets=1000 ] = 0.155\n",
      " Average Precision  (AP) @[ IoU=0.50:0.95 | area= small | maxDets=1000 ] = 0.171\n",
      " Average Precision  (AP) @[ IoU=0.50:0.95 | area=medium | maxDets=1000 ] = 0.197\n",
      " Average Precision  (AP) @[ IoU=0.50:0.95 | area= large | maxDets=1000 ] = -1.000\n",
      " Average Recall     (AR) @[ IoU=0.50:0.95 | area=   all | maxDets=100 ] = 0.323\n",
      " Average Recall     (AR) @[ IoU=0.50:0.95 | area=   all | maxDets=300 ] = 0.323\n",
      " Average Recall     (AR) @[ IoU=0.50:0.95 | area=   all | maxDets=1000 ] = 0.323\n",
      " Average Recall     (AR) @[ IoU=0.50:0.95 | area= small | maxDets=1000 ] = 0.315\n",
      " Average Recall     (AR) @[ IoU=0.50:0.95 | area=medium | maxDets=1000 ] = 0.517\n",
      " Average Recall     (AR) @[ IoU=0.50:0.95 | area= large | maxDets=1000 ] = -1.000\n",
      "\n",
      "2022-05-08 22:54:15,022 - mmdet - INFO - Evaluating segm...\n"
     ]
    },
    {
     "name": "stdout",
     "output_type": "stream",
     "text": [
      "DONE (t=1.66s).\n"
     ]
    },
    {
     "name": "stderr",
     "output_type": "stream",
     "text": [
      "/kaggle/working/mmdetection/mmdet/datasets/coco.py:474: UserWarning: The key \"bbox\" is deleted for more accurate mask AP of small/medium/large instances since v2.12.0. This does not change the overall mAP calculation.\n",
      "  UserWarning)\n"
     ]
    },
    {
     "name": "stdout",
     "output_type": "stream",
     "text": [
      "Loading and preparing results...\n",
      "DONE (t=0.67s)\n",
      "creating index...\n",
      "index created!\n",
      "Running per image evaluation...\n",
      "Evaluate annotation type *segm*\n",
      "DONE (t=34.71s).\n",
      "Accumulating evaluation results...\n"
     ]
    },
    {
     "name": "stderr",
     "output_type": "stream",
     "text": [
      "2022-05-08 22:54:52,456 - mmdet - INFO - \n",
      " Average Precision  (AP) @[ IoU=0.50:0.95 | area=   all | maxDets=100 ] = 0.150\n",
      " Average Precision  (AP) @[ IoU=0.50      | area=   all | maxDets=1000 ] = 0.304\n",
      " Average Precision  (AP) @[ IoU=0.75      | area=   all | maxDets=1000 ] = 0.134\n",
      " Average Precision  (AP) @[ IoU=0.50:0.95 | area= small | maxDets=1000 ] = 0.142\n",
      " Average Precision  (AP) @[ IoU=0.50:0.95 | area=medium | maxDets=1000 ] = 0.300\n",
      " Average Precision  (AP) @[ IoU=0.50:0.95 | area= large | maxDets=1000 ] = -1.000\n",
      " Average Recall     (AR) @[ IoU=0.50:0.95 | area=   all | maxDets=100 ] = 0.299\n",
      " Average Recall     (AR) @[ IoU=0.50:0.95 | area=   all | maxDets=300 ] = 0.299\n",
      " Average Recall     (AR) @[ IoU=0.50:0.95 | area=   all | maxDets=1000 ] = 0.299\n",
      " Average Recall     (AR) @[ IoU=0.50:0.95 | area= small | maxDets=1000 ] = 0.290\n",
      " Average Recall     (AR) @[ IoU=0.50:0.95 | area=medium | maxDets=1000 ] = 0.491\n",
      " Average Recall     (AR) @[ IoU=0.50:0.95 | area= large | maxDets=1000 ] = -1.000\n",
      "\n",
      "2022-05-08 22:54:52,580 - mmdet - INFO - Epoch(val) [36][508]\tbbox_mAP: 0.1630, bbox_mAP_50: 0.3130, bbox_mAP_75: 0.1550, bbox_mAP_s: 0.1710, bbox_mAP_m: 0.1970, bbox_mAP_l: -1.0000, bbox_mAP_copypaste: 0.163 0.313 0.155 0.171 0.197 -1.000, segm_mAP: 0.1500, segm_mAP_50: 0.3040, segm_mAP_75: 0.1340, segm_mAP_s: 0.1420, segm_mAP_m: 0.3000, segm_mAP_l: -1.0000, segm_mAP_copypaste: 0.150 0.304 0.134 0.142 0.300 -1.000\n"
     ]
    },
    {
     "name": "stdout",
     "output_type": "stream",
     "text": [
      "DONE (t=1.32s).\n"
     ]
    }
   ],
   "source": [
    "import mmcv\n",
    "import os.path as osp\n",
    "from mmdet.datasets import build_dataset\n",
    "from mmdet.models import build_detector\n",
    "from mmdet.apis import train_detector\n",
    "\n",
    "# Build dataset\n",
    "datasets = [build_dataset(cfg_train.data.train)]\n",
    "\n",
    "# Build the detector\n",
    "model = build_detector(cfg_train.model)\n",
    "\n",
    "# Add an attribute for visualization convenience\n",
    "model.CLASSES = datasets[0].CLASSES\n",
    "\n",
    "# Create work_dir\n",
    "mmcv.mkdir_or_exist(osp.abspath(cfg_train.work_dir))\n",
    "\n",
    "#train\n",
    "train_detector(model, datasets, cfg_train, distributed=False, validate=True)"
   ]
  },
  {
   "cell_type": "markdown",
   "metadata": {
    "papermill": {
     "duration": 6.717311,
     "end_time": "2022-05-08T22:55:07.332135",
     "exception": false,
     "start_time": "2022-05-08T22:55:00.614824",
     "status": "completed"
    },
    "tags": []
   },
   "source": [
    "# Inference demo"
   ]
  },
  {
   "cell_type": "code",
   "execution_count": 12,
   "metadata": {
    "execution": {
     "iopub.execute_input": "2022-05-08T22:55:21.200738Z",
     "iopub.status.busy": "2022-05-08T22:55:21.199970Z",
     "iopub.status.idle": "2022-05-08T22:55:21.622757Z",
     "shell.execute_reply": "2022-05-08T22:55:21.623340Z",
     "shell.execute_reply.started": "2022-05-08T16:14:43.227106Z"
    },
    "papermill": {
     "duration": 7.411541,
     "end_time": "2022-05-08T22:55:21.623563",
     "exception": false,
     "start_time": "2022-05-08T22:55:14.212022",
     "status": "completed"
    },
    "tags": []
   },
   "outputs": [
    {
     "name": "stderr",
     "output_type": "stream",
     "text": [
      "/kaggle/working/mmdetection/mmdet/datasets/utils.py:70: UserWarning: \"ImageToTensor\" pipeline is replaced by \"DefaultFormatBundle\" for batch inference. It is recommended to manually replace it in the test data pipeline in your config file.\n",
      "  'data pipeline in your config file.', UserWarning)\n"
     ]
    },
    {
     "data": {
      "image/png": "[encoded data removed]",
      "text/plain": [
       "<Figure size 256.01x256.01 with 1 Axes>"
      ]
     },
     "metadata": {
      "needs_background": "light"
     },
     "output_type": "display_data"
    }
   ],
   "source": [
    "from mmdet.apis import init_detector, inference_detector, show_result_pyplot\n",
    "import mmcv\n",
    "\n",
    "img = mmcv.imread('../../input/pannuke-coco/val/image_100.jpg')\n",
    "\n",
    "model.cfg = cfg_inference\n",
    "result = inference_detector(model, img)\n",
    "show_result_pyplot(model, img, result)"
   ]
  },
  {
   "cell_type": "code",
   "execution_count": null,
   "metadata": {
    "papermill": {
     "duration": 6.971946,
     "end_time": "2022-05-08T22:55:35.897041",
     "exception": false,
     "start_time": "2022-05-08T22:55:28.925095",
     "status": "completed"
    },
    "tags": []
   },
   "outputs": [],
   "source": []
  }
 ],
 "metadata": {
  "kernelspec": {
   "display_name": "Python 3",
   "language": "python",
   "name": "python3"
  },
  "language_info": {
   "codemirror_mode": {
    "name": "ipython",
    "version": 3
   },
   "file_extension": ".py",
   "mimetype": "text/x-python",
   "name": "python",
   "nbconvert_exporter": "python",
   "pygments_lexer": "ipython3",
   "version": "3.7.6"
  },
  "papermill": {
   "duration": 24023.092102,
   "end_time": "2022-05-08T22:55:43.034594",
   "environment_variables": {},
   "exception": null,
   "input_path": "__notebook__.ipynb",
   "output_path": "__notebook__.ipynb",
   "parameters": {},
   "start_time": "2022-05-08T16:15:19.942492",
   "version": "2.1.0"
  }
 },
 "nbformat": 4,
 "nbformat_minor": 4
}
